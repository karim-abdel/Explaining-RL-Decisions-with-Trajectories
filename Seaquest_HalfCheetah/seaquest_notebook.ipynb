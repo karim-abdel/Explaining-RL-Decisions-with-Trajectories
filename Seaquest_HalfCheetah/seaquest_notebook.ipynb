{
 "cells": [
  {
   "cell_type": "code",
   "execution_count": 1,
   "metadata": {},
   "outputs": [],
   "source": [
    "import numpy as np\n",
    "import torch\n",
    "import numpy as np\n",
    "import pandas as pd\n",
    "import seaborn as sns\n",
    "from matplotlib import pyplot as plt\n",
    "from sklearn.decomposition import PCA\n",
    "from pyclustering.cluster.xmeans import xmeans\n",
    "from pyclustering.cluster.center_initializer import kmeans_plusplus_initializer\n",
    "from tqdm import tqdm\n",
    "from scipy.stats import wasserstein_distance\n",
    "from model import get_data_embedding\n",
    "from torch.cuda.amp import autocast, GradScaler  # For mixed precision\n",
    "import logging\n",
    "import random"
   ]
  },
  {
   "cell_type": "code",
   "execution_count": 2,
   "metadata": {},
   "outputs": [],
   "source": [
    "def get_trajectory_embedding(model, observations, actions, rewards, is_seaquest=False, device='cpu'):\n",
    "    \"\"\"\n",
    "    Calculates the trajectory embedding for a given model, observations, actions, and rewards.\n",
    "\n",
    "    Args:\n",
    "        model (torch.nn.Module): The model used to calculate the embedding.\n",
    "        observations (list): List of observations.\n",
    "        actions (list): List of actions.\n",
    "        rewards (list): List of rewards.\n",
    "        stack_frames_fn (function, optional): Function to stack frames for Seaquest environment. Defaults to None.\n",
    "        is_seaquest (bool, optional): Flag indicating if the environment is Seaquest. Defaults to False.\n",
    "\n",
    "    Returns:\n",
    "        list: List of trajectory embeddings.\n",
    "    \"\"\"\n",
    "    def reshape_input(observations, actions, rewards, device='cpu'):\n",
    "        input_obs = observations.view(1, -1, 4*84*84).to(device)\n",
    "        input_act = actions.view(1, -1, 1).to(device)\n",
    "        input_rew = rewards.view(1, -1, 1).to(device)\n",
    "        timesteps = torch.as_tensor([[[1]]], dtype=torch.long).to(device)  # Adjust as needed\n",
    "        return input_obs, input_act, input_rew, timesteps\n",
    "\n",
    "    model = model.to(device)\n",
    "    scaler = GradScaler()\n",
    "    if is_seaquest:\n",
    "        input_obs, input_act, input_rew, timesteps = reshape_input(observations[0], actions[0], rewards[0], device=device)\n",
    "        embedding = model(input_obs, input_act, rtgs=input_rew, timesteps=timesteps).detach()\n",
    "        MAX_SIZE = torch.mean(embedding, dim=1).flatten().shape[0]\n",
    "    else:\n",
    "        combined_input = torch.cat([observations[0], actions[0], rewards[0].unsqueeze(1)], dim=1).type(torch.long)\n",
    "        combined_input = combined_input.to(device)\n",
    "        MAX_SIZE = model(combined_input).detach().flatten().shape[0]\n",
    "\n",
    "    filename = 'seaquest_trajectory_embedding.dat' if is_seaquest else 'halfcheetah_trajectory_embedding.dat'\n",
    "\n",
    "    trajectory_embedding = torch.zeros((len(observations), MAX_SIZE), dtype=torch.float16, device=device)\n",
    "\n",
    "    for ind, (obs, act, rew) in enumerate(tqdm(zip(observations, actions, rewards), total=len(observations), desc=\"Processing trajectories\")):\n",
    "        with autocast():\n",
    "            if is_seaquest:\n",
    "                input_obs, input_act, input_rew, timesteps = reshape_input(obs, act, rew, device=device)\n",
    "                embedding = model(input_obs, input_act, rtgs=input_rew, timesteps=timesteps).detach()\n",
    "                embedding = torch.mean(embedding, dim=1).flatten()\n",
    "            else:\n",
    "                combined_input = torch.cat([obs, act, rew.unsqueeze(1)], dim=1).type(torch.long)\n",
    "                combined_input = combined_input.to(device)\n",
    "                embedding = model(combined_input).detach()\n",
    "                embedding = torch.mean(embedding, dim=1).flatten()\n",
    "            \n",
    "\n",
    "        embedding_size = min(len(embedding), MAX_SIZE)\n",
    "        trajectory_embedding[ind, :embedding_size] = embedding[:embedding_size].cpu()\n",
    "\n",
    "    return trajectory_embedding"
   ]
  },
  {
   "cell_type": "code",
   "execution_count": 3,
   "metadata": {},
   "outputs": [],
   "source": [
    "def perform_clustering_and_plot(traj_embeddings, amount_initial_centers, max_clusters, plot=True):\n",
    "    \"\"\"\n",
    "    Performs clustering on prepared trajectory embeddings using X-Means and plots the results.\n",
    "\n",
    "    :param traj_embeddings: Prepared trajectory embeddings.\n",
    "    :param amount_initial_centers: Initial number of centers for clustering.\n",
    "    :param max_clusters: Maximum number of clusters.\n",
    "    :return: None\n",
    "    \"\"\"\n",
    "    # Create a basic logger\n",
    "    logger = logging.getLogger(__name__)\n",
    "    logging.basicConfig(level=logging.INFO)\n",
    "\n",
    "    logger.info('Starting clustering process.')\n",
    "\n",
    "    # Initialize centers using kmeans_plusplus_initializer\n",
    "    initial_centers = kmeans_plusplus_initializer(traj_embeddings, amount_initial_centers).initialize()\n",
    "\n",
    "    logger.info('Initial centers initialized.')\n",
    "\n",
    "    # Create and process X-Means instance\n",
    "    xmeans_instance = xmeans(traj_embeddings, initial_centers, max_clusters)\n",
    "    xmeans_instance.process()\n",
    "\n",
    "    logger.info('X-Means instance processed.')\n",
    "    \n",
    "    # Extract clustering results: clusters and their centers\n",
    "    clusters = xmeans_instance.get_clusters()\n",
    "\n",
    "    logger.info('Clustering results extracted.')\n",
    "    \n",
    "    # Assign cluster labels to each trajectory\n",
    "    traj_cluster_labels = np.zeros(len(traj_embeddings), dtype=int)\n",
    "    for cluster_id, cluster in enumerate(clusters):\n",
    "        for traj_id in cluster:\n",
    "            traj_cluster_labels[traj_id] = cluster_id\n",
    "\n",
    "    logger.info('Cluster labels assigned to each trajectory.')\n",
    "\n",
    "    # Perform PCA for visualization\n",
    "    pca_traj = PCA(n_components=2)\n",
    "    pca_traj_embeds = pca_traj.fit_transform(traj_embeddings)\n",
    "    plotting_data = {\n",
    "        'feature 1': pca_traj_embeds[:, 0],\n",
    "        'feature 2': pca_traj_embeds[:, 1],\n",
    "        'cluster id': traj_cluster_labels\n",
    "    }\n",
    "    df = pd.DataFrame(plotting_data)\n",
    "\n",
    "    logger.info('PCA performed for visualization.')\n",
    "\n",
    "    if plot:\n",
    "        # Plotting\n",
    "        plt.figure(figsize=(4,3))\n",
    "        palette = sns.color_palette('husl', len(clusters) + 1)\n",
    "        sns.scatterplot(\n",
    "            x='feature 1',\n",
    "            y='feature 2',\n",
    "            hue='cluster id',\n",
    "            palette=palette[:len(clusters)],\n",
    "            data=df,\n",
    "            legend=True\n",
    "        )\n",
    "        plt.title('Trajectory Embeddings for ' + str(amount_initial_centers) + ' initial centers')\n",
    "        plt.legend(title = '$c_{j}$', loc='lower center', bbox_to_anchor=(0.5, 1.05), ncol=5)\n",
    "        plt.tight_layout()\n",
    "        plt.show()\n",
    "\n",
    "        logger.info('Plot created.')\n",
    "\n",
    "    return clusters"
   ]
  },
  {
   "cell_type": "code",
   "execution_count": 4,
   "metadata": {},
   "outputs": [],
   "source": [
    "import torch\n",
    "from tqdm import tqdm\n",
    "\n",
    "def create_trajectories(observations, actions, rewards, terminals, trajectory_length):\n",
    "    \"\"\"\n",
    "    Create trajectories from the given observations, actions, rewards, and terminals.\n",
    "    Parameters:\n",
    "        observations (torch.Tensor): Tensor of shape [num_frames, height, width].\n",
    "        stack_size (int): Number of frames to stack for each observation.\n",
    "    Returns:\n",
    "        torch.Tensor: Stacked observations of shape [(num_frames-stack_size+1), stack_size, height, width].\n",
    "    \"\"\"\n",
    "    # Efficiently compute the number of trajectories\n",
    "    terminal_indices = [i for i, x in enumerate(terminals) if x]\n",
    "    #print(\"DEBUG: terminal_indices\", terminal_indices)\n",
    "    padded_length = sum(trajectory_length - (i % trajectory_length) for i in terminal_indices)\n",
    "    total_length = len(observations) + padded_length\n",
    "    num_trajectories = total_length // trajectory_length\n",
    "\n",
    "    # Tensor shapes\n",
    "    obs_shape = observations[0].shape\n",
    "    act_shape = actions[0].shape\n",
    "    rew_shape = rewards[0].shape\n",
    "    term_shape = terminals[0].shape\n",
    "\n",
    "    # Pre-allocate tensors\n",
    "    final_obs = torch.zeros((num_trajectories, trajectory_length, *obs_shape), dtype=torch.uint8)\n",
    "    final_act = torch.zeros((num_trajectories, trajectory_length, *act_shape))\n",
    "    final_rew = torch.zeros((num_trajectories, trajectory_length, *rew_shape))\n",
    "    final_ter = torch.zeros((num_trajectories, trajectory_length, *term_shape))\n",
    "\n",
    "    # Populate tensors\n",
    "    trajectory_idx = 0\n",
    "    step_idx = 0\n",
    "    for i in tqdm(range(len(observations)), desc=\"Processing sub'trajectories\"):\n",
    "        final_obs[trajectory_idx, step_idx] = torch.from_numpy(observations[i])\n",
    "        final_act[trajectory_idx, step_idx] = torch.as_tensor(actions[i])\n",
    "        final_rew[trajectory_idx, step_idx] = torch.as_tensor(rewards[i])\n",
    "        final_ter[trajectory_idx, step_idx] = torch.as_tensor(terminals[i])\n",
    "        step_idx += 1\n",
    "\n",
    "        if terminals[i] or step_idx == trajectory_length:\n",
    "            trajectory_idx += 1\n",
    "            step_idx = 0\n",
    "            if trajectory_idx >= num_trajectories:\n",
    "                break\n",
    "\n",
    "\n",
    "    return final_obs, final_act, final_rew, final_ter\n"
   ]
  },
  {
   "cell_type": "code",
   "execution_count": 5,
   "metadata": {},
   "outputs": [
    {
     "ename": "ModuleNotFoundError",
     "evalue": "No module named 'decision_transformer_atari'",
     "output_type": "error",
     "traceback": [
      "\u001b[0;31m---------------------------------------------------------------------------\u001b[0m",
      "\u001b[0;31mModuleNotFoundError\u001b[0m                       Traceback (most recent call last)",
      "Cell \u001b[0;32mIn[5], line 1\u001b[0m\n\u001b[0;32m----> 1\u001b[0m \u001b[38;5;28;01mfrom\u001b[39;00m \u001b[38;5;21;01mdecision_transformer_atari\u001b[39;00m\u001b[38;5;21;01m.\u001b[39;00m\u001b[38;5;21;01matari\u001b[39;00m\u001b[38;5;21;01m.\u001b[39;00m\u001b[38;5;21;01mmingpt\u001b[39;00m\u001b[38;5;21;01m.\u001b[39;00m\u001b[38;5;21;01mmodel_atari\u001b[39;00m \u001b[38;5;28;01mimport\u001b[39;00m GPTConfig, GPT\n\u001b[1;32m      2\u001b[0m \u001b[38;5;28;01mimport\u001b[39;00m \u001b[38;5;21;01msys\u001b[39;00m\n\u001b[1;32m      3\u001b[0m sys\u001b[38;5;241m.\u001b[39mpath\u001b[38;5;241m.\u001b[39minsert(\u001b[38;5;241m0\u001b[39m, \u001b[38;5;124m'\u001b[39m\u001b[38;5;124mtrajectory_transformer\u001b[39m\u001b[38;5;124m'\u001b[39m)\n",
      "\u001b[0;31mModuleNotFoundError\u001b[0m: No module named 'decision_transformer_atari'"
     ]
    }
   ],
   "source": [
    "from decision_transformer_atari.atari.mingpt.model_atari import GPTConfig, GPT\n",
    "import sys\n",
    "sys.path.insert(0, 'trajectory_transformer')\n",
    "from trajectory_transformer.trajectory.models.transformers import GPT as TrajectoryGPT\n",
    "import torch\n",
    "import pickle\n",
    "\n",
    "\n",
    "def load_seaquest_model(checkpoint_path=\"decision_transformer_atari\\checkpoints\\Seaquest_123.pth\"):\n",
    "    \"\"\"\n",
    "    Load the Seaquest model from a checkpoint file.\n",
    "\n",
    "    Args:\n",
    "        checkpoint_path (str): Path to the checkpoint file. Default is \"decision_transformer_atari\\checkpoints\\Seaquest_123.pth\".\n",
    "\n",
    "    Returns:\n",
    "        model (GPT): Loaded Seaquest model.\n",
    "    \"\"\"\n",
    "    vocab_size = 18\n",
    "    block_size = 90\n",
    "    model_type = \"reward_conditioned\"\n",
    "    timesteps = 2719\n",
    "\n",
    "    mconf = GPTConfig(\n",
    "        vocab_size,\n",
    "        block_size,\n",
    "        n_layer=6,\n",
    "        n_head=8,\n",
    "        n_embd=128,\n",
    "        model_type=model_type,\n",
    "        max_timestep=timesteps,\n",
    "    )\n",
    "    model = GPT(mconf)\n",
    "\n",
    "    if torch.cuda.is_available():\n",
    "        checkpoint = torch.load(checkpoint_path)\n",
    "    else:\n",
    "        checkpoint = torch.load(checkpoint_path, map_location=torch.device('cpu'))\n",
    "    model.load_state_dict(checkpoint)\n",
    "\n",
    "    return model\n",
    "\n",
    "def load_halfcheetah_model(model_path):\n",
    "    \"\"\"\n",
    "    Loads a pre-trained transformer model from the given path.\n",
    "\n",
    "    Args:\n",
    "        model_path (str): The path to the directory containing the model files.\n",
    "\n",
    "    Returns:\n",
    "        The loaded transformer model.\n",
    "    \"\"\"\n",
    "    model_config_path = model_path + '/model_config.pkl'\n",
    "    with open(model_config_path, 'rb') as config_file:\n",
    "        model_config = pickle.load(config_file)\n",
    "    model = TrajectoryGPT(model_config)\n",
    "\n",
    "    # Load the pre-trained weights\n",
    "    # Choose the specific state file you want to load, e.g., state_0.pt, state_16.pt, etc.\n",
    "    state_dict_path = model_path + '/state_48.pt'\n",
    "    model.load_state_dict(torch.load(state_dict_path, map_location=torch.device('cpu')))\n",
    "\n",
    "    # If you're using a GPU, you can move the model to GPU\n",
    "    # model = model.to('cuda')\n",
    "    return model"
   ]
  },
  {
   "cell_type": "code",
   "execution_count": 6,
   "metadata": {},
   "outputs": [],
   "source": [
    "import gym\n",
    "import numpy as np\n",
    "import gzip\n",
    "from gym import wrappers\n",
    "from eorl import OfflineDataset\n",
    "\n",
    "def stack_frames(dataset, stack_size=4):\n",
    "    \"\"\"\n",
    "    Stack consecutive frames in the dataset with padding for initial frames.\n",
    "    \n",
    "    :param dataset: A numpy array of shape [num_frames, width, height]\n",
    "    :param stack_size: Number of frames to stack\n",
    "    :return: A numpy array of shape [num_frames, stack_size, width, height]\n",
    "    \"\"\"\n",
    "    \n",
    "    # Padding the dataset with zeros at the beginning\n",
    "    padded_dataset = np.pad(dataset, ((stack_size-1, 0), (0, 0), (0, 0)), mode='constant')\n",
    "\n",
    "    # Stacking frames\n",
    "    num_frames = len(dataset)\n",
    "    indices = np.arange(stack_size) + np.arange(num_frames)[:, None]\n",
    "    stacked_dataset = padded_dataset[indices]\n",
    "\n",
    "    return stacked_dataset\n",
    "\n",
    "def load_seaquest_dataset(env_name, size = 717):\n",
    "\n",
    "\n",
    "    # Load the dataset\n",
    "    ds = OfflineDataset(\n",
    "    env = env_name,            # pass name in supported environments below\n",
    "    dataset_size = 1e6,   # [0, 1e6) frames of atari\n",
    "    train_split = 0.9,       # 90% training, 10% held out for testing\n",
    "    obs_only = False,        # only get observations (no actions, rewards, dones)\n",
    "    framestack = 1,          # number of frames per sample\n",
    "    shuffle = False,         # chronological samples if False, randomly sampled if true\n",
    "    stride = 1,               # return every stride`th chunk (where chunk size == `framestack)\n",
    "    verbose = 1,              # 0 = silent, >0 for reporting\n",
    "    )\n",
    "\n",
    "    # Extract the dataset\n",
    "    datasets = {\n",
    "        'observations': ds.dataset['observation'],\n",
    "        'actions': ds.dataset['action'],\n",
    "        'rewards': ds.dataset['reward'],\n",
    "        'terminals': ds.dataset['terminal']\n",
    "    }\n",
    "\n",
    "    \n",
    "    \n",
    "    print(\"Dataset loaded\")\n",
    "    seaquest_length = np.where(np.cumsum(datasets[\"terminals\"]) == size)[0][0]  # Note if terminals are not binary this will not work.\n",
    "    datasets['observations'] = stack_frames(datasets['observations'][:seaquest_length])\n",
    "\n",
    "    datasets['observations'] = datasets['observations'][:seaquest_length]\n",
    "    datasets['actions'] = datasets['actions'][:seaquest_length]\n",
    "    datasets['rewards'] = datasets['rewards'][:seaquest_length]\n",
    "    datasets['terminals'] = datasets['terminals'][:seaquest_length]\n",
    "\n",
    "    # Initialize the Gym environment\n",
    "    env_name = 'ALE/' + env_name + '-ram-v5'\n",
    "    env = gym.make(env_name)\n",
    "\n",
    "    env = gym.wrappers.ResizeObservation(env, (84, 84))\n",
    "\n",
    "    # Print logging information\n",
    "    print(f\"Dataset extracted with {len(datasets['observations'])} samples.\")\n",
    "    print(\"Information about the dataset:\")\n",
    "    print(\"Observation shape: \",datasets['observations'].shape)\n",
    "    print(\"Action shape: \",datasets['actions'].shape)\n",
    "    print(\"Reward shape: \",datasets['rewards'].shape)\n",
    "    print(\"Terminal shape: \",datasets['terminals'].shape)\n",
    "    # Action space is discrete, so we can just print the number of actions\n",
    "    print(\"Action space: \",env.action_space.n)\n",
    "    print(\"Observation space: \",env.observation_space.shape)\n",
    "    print(\"Number of terminal states is...\", datasets['terminals'].sum())\n",
    "    print(f\"Environment '{env_name}' initialized.\")\n",
    "\n",
    "    return datasets, env"
   ]
  },
  {
   "cell_type": "code",
   "execution_count": 14,
   "metadata": {},
   "outputs": [
    {
     "ename": "ModuleNotFoundError",
     "evalue": "No module named 'trajectory_transformer'",
     "output_type": "error",
     "traceback": [
      "\u001b[0;31m---------------------------------------------------------------------------\u001b[0m",
      "\u001b[0;31mModuleNotFoundError\u001b[0m                       Traceback (most recent call last)",
      "Cell \u001b[0;32mIn[14], line 4\u001b[0m\n\u001b[1;32m      1\u001b[0m \u001b[38;5;28;01mfrom\u001b[39;00m \u001b[38;5;21;01mmk_patch_decision_transformer_atari\u001b[39;00m \u001b[38;5;28;01mimport\u001b[39;00m GPTConfig, GPT\n\u001b[1;32m      2\u001b[0m \u001b[38;5;66;03m#import sys\u001b[39;00m\n\u001b[1;32m      3\u001b[0m \u001b[38;5;66;03m#sys.path.insert(0, 'trajectory_transformer')\u001b[39;00m\n\u001b[0;32m----> 4\u001b[0m \u001b[38;5;28;01mfrom\u001b[39;00m \u001b[38;5;21;01mmk_patch_trajectory_transformer\u001b[39;00m \u001b[38;5;28;01mimport\u001b[39;00m GPT \u001b[38;5;28;01mas\u001b[39;00m TrajectoryGPT\n\u001b[1;32m      5\u001b[0m \u001b[38;5;28;01mimport\u001b[39;00m \u001b[38;5;21;01mtorch\u001b[39;00m\n\u001b[1;32m      6\u001b[0m \u001b[38;5;28;01mimport\u001b[39;00m \u001b[38;5;21;01mpickle\u001b[39;00m\n",
      "File \u001b[0;32m~/Documents/GitHub/FACT/Seaquest_HalfCheetah/mk_patch_trajectory_transformer.py:9\u001b[0m\n\u001b[1;32m      6\u001b[0m \u001b[38;5;28;01mimport\u001b[39;00m \u001b[38;5;21;01mtorch\u001b[39;00m\u001b[38;5;21;01m.\u001b[39;00m\u001b[38;5;21;01mnn\u001b[39;00m \u001b[38;5;28;01mas\u001b[39;00m \u001b[38;5;21;01mnn\u001b[39;00m\n\u001b[1;32m      7\u001b[0m \u001b[38;5;28;01mfrom\u001b[39;00m \u001b[38;5;21;01mtorch\u001b[39;00m\u001b[38;5;21;01m.\u001b[39;00m\u001b[38;5;21;01mnn\u001b[39;00m \u001b[38;5;28;01mimport\u001b[39;00m functional \u001b[38;5;28;01mas\u001b[39;00m F\n\u001b[0;32m----> 9\u001b[0m \u001b[38;5;28;01mfrom\u001b[39;00m \u001b[38;5;21;01mtrajectory_transformer\u001b[39;00m\u001b[38;5;21;01m.\u001b[39;00m\u001b[38;5;21;01mtrajectory\u001b[39;00m\u001b[38;5;21;01m.\u001b[39;00m\u001b[38;5;21;01mmodels\u001b[39;00m\u001b[38;5;21;01m.\u001b[39;00m\u001b[38;5;21;01mein\u001b[39;00m \u001b[38;5;28;01mimport\u001b[39;00m EinLinear\n\u001b[1;32m     11\u001b[0m \u001b[38;5;28;01mclass\u001b[39;00m \u001b[38;5;21;01mCausalSelfAttention\u001b[39;00m(nn\u001b[38;5;241m.\u001b[39mModule):\n\u001b[1;32m     13\u001b[0m     \u001b[38;5;28;01mdef\u001b[39;00m \u001b[38;5;21m__init__\u001b[39m(\u001b[38;5;28mself\u001b[39m, config):\n",
      "\u001b[0;31mModuleNotFoundError\u001b[0m: No module named 'trajectory_transformer'"
     ]
    }
   ],
   "source": [
    "from mk_patch_decision_transformer_atari import GPTConfig, GPT\n",
    "#import sys\n",
    "#sys.path.insert(0, 'trajectory_transformer')\n",
    "from mk_patch_trajectory_transformer import GPT as TrajectoryGPT\n",
    "import torch\n",
    "import pickle\n",
    "\n",
    "def load_seaquest_model(checkpoint_path=\"decision_transformer_atari\\checkpoints\\Seaquest_123.pth\"):\n",
    "    \"\"\"\n",
    "    Load the Seaquest model from a checkpoint file.\n",
    "\n",
    "    Args:\n",
    "        checkpoint_path (str): Path to the checkpoint file. Default is \"decision_transformer_atari\\checkpoints\\Seaquest_123.pth\".\n",
    "\n",
    "    Returns:\n",
    "        model (GPT): Loaded Seaquest model.\n",
    "    \"\"\"\n",
    "    vocab_size = 18 # 18 for Seaquest\n",
    "    block_size = 90\n",
    "    model_type = \"reward_conditioned\"\n",
    "    timesteps = 2719 # 2719 for Seaquest\n",
    "\n",
    "    mconf = GPTConfig(\n",
    "        vocab_size,\n",
    "        block_size,\n",
    "        n_layer=6,\n",
    "        n_head=8,\n",
    "        n_embd=128,\n",
    "        model_type=model_type,\n",
    "        max_timestep=timesteps,\n",
    "    )\n",
    "    model = GPT(mconf)\n",
    "\n",
    "    if torch.cuda.is_available():\n",
    "        checkpoint = torch.load(checkpoint_path)\n",
    "    else:\n",
    "        checkpoint = torch.load(checkpoint_path, map_location=torch.device('cpu'))\n",
    "    model.load_state_dict(checkpoint)\n",
    "\n",
    "    return model"
   ]
  },
  {
   "cell_type": "code",
   "execution_count": 9,
   "metadata": {},
   "outputs": [
    {
     "name": "stdout",
     "output_type": "stream",
     "text": [
      "decompressing data...\n",
      "Dataset loaded\n",
      "Dataset extracted with 96636 samples.\n",
      "Information about the dataset:\n",
      "Observation shape:  (96636, 4, 84, 84)\n",
      "Action shape:  (96636,)\n",
      "Reward shape:  (96636,)\n",
      "Terminal shape:  (96636,)\n",
      "Action space:  18\n",
      "Observation space:  (84, 84)\n",
      "Number of terminal states is... 54\n",
      "Environment 'ALE/Seaquest-ram-v5' initialized.\n"
     ]
    },
    {
     "name": "stderr",
     "output_type": "stream",
     "text": [
      "A.L.E: Arcade Learning Environment (version 0.8.1+53f58b7)\n",
      "[Powered by Stella]\n"
     ]
    }
   ],
   "source": [
    "data_size = 50\n",
    "test_size = 5\n",
    "seaquestdata, sq_env = load_seaquest_dataset(env_name='Seaquest', size=data_size+test_size)"
   ]
  },
  {
   "cell_type": "code",
   "execution_count": 10,
   "metadata": {},
   "outputs": [],
   "source": [
    "terminal_indexes = np.where(seaquestdata['terminals'] == True)[0]\n",
    "trunc = terminal_indexes[-test_size]\n",
    "terminal_indexes = terminal_indexes[data_size:] # Get index of first trajectory that we want to draw\n",
    "\n",
    "test_observations = []\n",
    "test_actions = []\n",
    "for i in range(len(terminal_indexes)):\n",
    "    ind = [i + np.random.randint(200, 300)]\n",
    "    test_observations.append(seaquestdata['observations'][ind])\n",
    "    test_actions.append(seaquestdata['actions'][ind][0])"
   ]
  },
  {
   "cell_type": "code",
   "execution_count": 11,
   "metadata": {},
   "outputs": [],
   "source": [
    "import copy"
   ]
  },
  {
   "cell_type": "code",
   "execution_count": 12,
   "metadata": {},
   "outputs": [
    {
     "name": "stdout",
     "output_type": "stream",
     "text": [
      "Observation Shape: (4, 84, 84)\n",
      "Test observation shape:  (1, 4, 84, 84)\n"
     ]
    }
   ],
   "source": [
    "observation = copy.deepcopy(test_observations[0])\n",
    "\n",
    "# Observation has shape (1, 4, 84, 84)\n",
    "# We need to remove the first dimension\n",
    "# and plot each channel separately\n",
    "observation = observation.squeeze()\n",
    "print(\"Observation Shape:\", observation.shape)\n",
    "print('Test observation shape: ', test_observations[0].shape)\n",
    "\n",
    "# assert test_observations[0].shape == (1, 4, 84, 84)\n",
    "# if not, drop the first dimension\n",
    "if test_observations[0].shape != (1, 4, 84, 84):\n",
    "    test_observations[0] = test_observations[0].squeeze()\n",
    "    print('Test observation shape after squeezing: ', test_observations[0].shape)\n",
    "\n",
    "\n",
    "# Remove all the previous observations, actions, rewards and terminals\n",
    "seaquestdata[\"observations\"] = seaquestdata[\"observations\"][:trunc]\n",
    "seaquestdata[\"actions\"] = seaquestdata[\"actions\"][:trunc]\n",
    "seaquestdata[\"rewards\"] = seaquestdata[\"rewards\"][:trunc]\n",
    "seaquestdata[\"terminals\"] = seaquestdata[\"terminals\"][:trunc]"
   ]
  },
  {
   "cell_type": "code",
   "execution_count": 13,
   "metadata": {},
   "outputs": [
    {
     "ename": "NameError",
     "evalue": "name 'GPTConfig' is not defined",
     "output_type": "error",
     "traceback": [
      "\u001b[0;31m---------------------------------------------------------------------------\u001b[0m",
      "\u001b[0;31mNameError\u001b[0m                                 Traceback (most recent call last)",
      "Cell \u001b[0;32mIn[13], line 1\u001b[0m\n\u001b[0;32m----> 1\u001b[0m pre_trained_encoder_seaquest \u001b[38;5;241m=\u001b[39m \u001b[43mload_seaquest_model\u001b[49m\u001b[43m(\u001b[49m\u001b[38;5;124;43m\"\u001b[39;49m\u001b[38;5;124;43mdecision_transformer_atari/checkpoints/Seaquest_123.pth\u001b[39;49m\u001b[38;5;124;43m\"\u001b[39;49m\u001b[43m)\u001b[49m\n",
      "Cell \u001b[0;32mIn[8], line 23\u001b[0m, in \u001b[0;36mload_seaquest_model\u001b[0;34m(checkpoint_path)\u001b[0m\n\u001b[1;32m     20\u001b[0m model_type \u001b[38;5;241m=\u001b[39m \u001b[38;5;124m\"\u001b[39m\u001b[38;5;124mreward_conditioned\u001b[39m\u001b[38;5;124m\"\u001b[39m\n\u001b[1;32m     21\u001b[0m timesteps \u001b[38;5;241m=\u001b[39m \u001b[38;5;241m2719\u001b[39m \u001b[38;5;66;03m# 2719 for Seaquest\u001b[39;00m\n\u001b[0;32m---> 23\u001b[0m mconf \u001b[38;5;241m=\u001b[39m \u001b[43mGPTConfig\u001b[49m(\n\u001b[1;32m     24\u001b[0m     vocab_size,\n\u001b[1;32m     25\u001b[0m     block_size,\n\u001b[1;32m     26\u001b[0m     n_layer\u001b[38;5;241m=\u001b[39m\u001b[38;5;241m6\u001b[39m,\n\u001b[1;32m     27\u001b[0m     n_head\u001b[38;5;241m=\u001b[39m\u001b[38;5;241m8\u001b[39m,\n\u001b[1;32m     28\u001b[0m     n_embd\u001b[38;5;241m=\u001b[39m\u001b[38;5;241m128\u001b[39m,\n\u001b[1;32m     29\u001b[0m     model_type\u001b[38;5;241m=\u001b[39mmodel_type,\n\u001b[1;32m     30\u001b[0m     max_timestep\u001b[38;5;241m=\u001b[39mtimesteps,\n\u001b[1;32m     31\u001b[0m )\n\u001b[1;32m     32\u001b[0m model \u001b[38;5;241m=\u001b[39m GPT(mconf)\n\u001b[1;32m     34\u001b[0m \u001b[38;5;28;01mif\u001b[39;00m torch\u001b[38;5;241m.\u001b[39mcuda\u001b[38;5;241m.\u001b[39mis_available():\n",
      "\u001b[0;31mNameError\u001b[0m: name 'GPTConfig' is not defined"
     ]
    }
   ],
   "source": [
    "pre_trained_encoder_seaquest = load_seaquest_model(\"decision_transformer_atari/checkpoints/Seaquest_123.pth\")"
   ]
  },
  {
   "cell_type": "code",
   "execution_count": 13,
   "metadata": {},
   "outputs": [
    {
     "name": "stderr",
     "output_type": "stream",
     "text": [
      "Processing sub'trajectories: 100%|██████████| 49614/49614 [00:01<00:00, 41952.86it/s]\n"
     ]
    }
   ],
   "source": [
    "final_obs_sq, final_act_sq, final_rew_sq, _ = create_trajectories(\n",
    "        seaquestdata[\"observations\"], seaquestdata[\"actions\"], \n",
    "        seaquestdata[\"rewards\"], seaquestdata[\"terminals\"], trajectory_length=30\n",
    "    )"
   ]
  },
  {
   "cell_type": "code",
   "execution_count": 14,
   "metadata": {},
   "outputs": [
    {
     "data": {
      "text/plain": [
       "torch.Size([1677, 30, 4, 84, 84])"
      ]
     },
     "execution_count": 14,
     "metadata": {},
     "output_type": "execute_result"
    }
   ],
   "source": [
    "final_obs_sq.shape"
   ]
  },
  {
   "cell_type": "code",
   "execution_count": 15,
   "metadata": {},
   "outputs": [
    {
     "data": {
      "text/plain": [
       "(torch.Size([30, 4, 84, 84]),\n",
       " tensor([15.,  7., 15.,  7., 15., 15., 15., 15., 15., 15., 15.,  3.,  7.,  3.,\n",
       "          3., 15., 15.,  7.,  7.,  7.,  7.,  7.,  3., 15., 15., 15.,  3., 15.,\n",
       "         15., 15.]),\n",
       " tensor([0., 0., 0., 0., 0., 0., 0., 0., 0., 0., 0., 0., 0., 0., 0., 0., 0., 0., 0., 0., 0., 0., 0., 0.,\n",
       "         0., 0., 0., 0., 0., 0.]))"
      ]
     },
     "execution_count": 15,
     "metadata": {},
     "output_type": "execute_result"
    }
   ],
   "source": [
    "final_obs_sq[0].shape, final_act_sq[0], final_rew_sq[0]"
   ]
  },
  {
   "cell_type": "code",
   "execution_count": 16,
   "metadata": {},
   "outputs": [],
   "source": [
    "device = 'cpu'"
   ]
  },
  {
   "cell_type": "code",
   "execution_count": null,
   "metadata": {},
   "outputs": [],
   "source": [
    "trajectory_embedding_seaquest = get_trajectory_embedding(\n",
    "        pre_trained_encoder_seaquest, final_obs_sq, final_act_sq, final_rew_sq, \n",
    "        is_seaquest=True, device= device\n",
    "    )"
   ]
  },
  {
   "cell_type": "code",
   "execution_count": 18,
   "metadata": {},
   "outputs": [],
   "source": [
    "clusters_seaquest = perform_clustering_and_plot(trajectory_embedding_seaquest.detach().cpu(), 2, 8, plot=False)\n"
   ]
  },
  {
   "cell_type": "code",
   "execution_count": 19,
   "metadata": {},
   "outputs": [],
   "source": [
    "from d3rlpy.dataset import Episode \n",
    "import d3rlpy\n",
    "from encoder import CustomCNNFactory\n",
    "import torch\n",
    "import numpy as np\n",
    "\n",
    "def make_episodes(final_obs, final_act, final_rew, max_action_values):\n",
    "    list_episodes = []\n",
    "    for i in range(len(final_obs)):\n",
    "        list_episodes.append(Episode(final_obs[i].numpy().shape[1:], max_action_values, final_obs[i].numpy(), final_act[i].numpy(), final_rew[i].numpy()))\n",
    "    return list_episodes"
   ]
  },
  {
   "cell_type": "code",
   "execution_count": 20,
   "metadata": {},
   "outputs": [],
   "source": [
    "list_episodes_sq = make_episodes(final_obs_sq, final_act_sq, final_rew_sq, 18)"
   ]
  },
  {
   "cell_type": "code",
   "execution_count": 21,
   "metadata": {},
   "outputs": [],
   "source": [
    "def fit_discrete_sac(list_episodes, n_steps=1000, n_steps_per_epoch=100, device='cpu'):\n",
    "    cuda_check = True if device == 'cuda' else False\n",
    "    feature_size = 128\n",
    "    custom_encoder_actor = CustomCNNFactory(feature_size)\n",
    "    custom_encoder_critic = CustomCNNFactory(feature_size)\n",
    "\n",
    "    # Train an agent on the new data\n",
    "    sac_sq = d3rlpy.algos.DiscreteSAC(\n",
    "            actor_learning_rate=3e-4,\n",
    "            critic_learning_rate=3e-4,\n",
    "            temp_learning_rate=3e-4,\n",
    "            batch_size=256,\n",
    "            actor_encoder_factory= custom_encoder_actor,\n",
    "            critic_encoder_factory= custom_encoder_critic,\n",
    "            scaler='pixel',\n",
    "            target_update_interval=2500,\n",
    "            use_gpu=cuda_check)\n",
    "    \n",
    "    sac_sq.fit(list_episodes, n_steps=n_steps, n_steps_per_epoch=n_steps_per_epoch)\n",
    "\n",
    "    return sac_sq"
   ]
  },
  {
   "cell_type": "code",
   "execution_count": 22,
   "metadata": {},
   "outputs": [
    {
     "name": "stdout",
     "output_type": "stream",
     "text": [
      "2024-02-01 21:12.51 [debug    ] RandomIterator is selected.\n",
      "2024-02-01 21:12.51 [info     ] Directory is created at d3rlpy_logs/DiscreteSAC_20240201211251\n",
      "2024-02-01 21:12.51 [debug    ] Fitting scaler...              scaler=pixel\n",
      "2024-02-01 21:12.51 [debug    ] Building models...\n",
      "2024-02-01 21:12.51 [debug    ] Models have been built.\n",
      "2024-02-01 21:12.51 [info     ] Parameters are saved to d3rlpy_logs/DiscreteSAC_20240201211251/params.json params={'action_scaler': None, 'actor_encoder_factory': {'type': 'custom', 'params': {'feature_size': 128}}, 'actor_learning_rate': 0.0003, 'actor_optim_factory': {'optim_cls': 'Adam', 'betas': (0.9, 0.999), 'eps': 0.0001, 'weight_decay': 0, 'amsgrad': False}, 'batch_size': 256, 'critic_encoder_factory': {'type': 'custom', 'params': {'feature_size': 128}}, 'critic_learning_rate': 0.0003, 'critic_optim_factory': {'optim_cls': 'Adam', 'betas': (0.9, 0.999), 'eps': 0.0001, 'weight_decay': 0, 'amsgrad': False}, 'gamma': 0.99, 'generated_maxlen': 100000, 'initial_temperature': 1.0, 'n_critics': 2, 'n_frames': 1, 'n_steps': 1, 'q_func_factory': {'type': 'mean', 'params': {'share_encoder': False}}, 'real_ratio': 1.0, 'reward_scaler': None, 'scaler': {'type': 'pixel', 'params': {}}, 'target_update_interval': 2500, 'temp_learning_rate': 0.0003, 'temp_optim_factory': {'optim_cls': 'Adam', 'betas': (0.9, 0.999), 'eps': 0.0001, 'weight_decay': 0, 'amsgrad': False}, 'use_gpu': None, 'algorithm': 'DiscreteSAC', 'observation_shape': (4, 84, 84), 'action_size': 18}\n"
     ]
    },
    {
     "name": "stderr",
     "output_type": "stream",
     "text": [
      "Epoch 1/10: 100%|██████████| 1/1 [00:02<00:00,  2.03s/it, temp_loss=0.0569, temp=1, critic_loss=4.52, actor_loss=-2.86]"
     ]
    },
    {
     "name": "stdout",
     "output_type": "stream",
     "text": [
      "2024-02-01 21:12.53 [info     ] DiscreteSAC_20240201211251: epoch=1 step=1 epoch=1 metrics={'time_sample_batch': 0.002602100372314453, 'time_algorithm_update': 2.027575969696045, 'temp_loss': 0.056895941495895386, 'temp': 0.9997005462646484, 'critic_loss': 4.521823883056641, 'actor_loss': -2.863555908203125, 'time_step': 2.0307559967041016} step=1\n",
      "2024-02-01 21:12.53 [info     ] Model parameters are saved to d3rlpy_logs/DiscreteSAC_20240201211251/model_1.pt\n"
     ]
    },
    {
     "name": "stderr",
     "output_type": "stream",
     "text": [
      "\n",
      "Epoch 2/10: 100%|██████████| 1/1 [00:01<00:00,  1.97s/it, temp_loss=0.0569, temp=0.999, critic_loss=4.46, actor_loss=-2.87]"
     ]
    },
    {
     "name": "stdout",
     "output_type": "stream",
     "text": [
      "2024-02-01 21:12.55 [info     ] DiscreteSAC_20240201211251: epoch=2 step=2 epoch=2 metrics={'time_sample_batch': 0.002863168716430664, 'time_algorithm_update': 1.9616129398345947, 'temp_loss': 0.0569131076335907, 'temp': 0.9994012117385864, 'critic_loss': 4.455878734588623, 'actor_loss': -2.8722164630889893, 'time_step': 1.965097188949585} step=2\n",
      "2024-02-01 21:12.55 [info     ] Model parameters are saved to d3rlpy_logs/DiscreteSAC_20240201211251/model_2.pt\n"
     ]
    },
    {
     "name": "stderr",
     "output_type": "stream",
     "text": [
      "\n",
      "Epoch 3/10: 100%|██████████| 1/1 [00:01<00:00,  1.96s/it, temp_loss=0.0569, temp=0.999, critic_loss=4.59, actor_loss=-2.88]"
     ]
    },
    {
     "name": "stdout",
     "output_type": "stream",
     "text": [
      "2024-02-01 21:12.57 [info     ] DiscreteSAC_20240201211251: epoch=3 step=3 epoch=3 metrics={'time_sample_batch': 0.002264738082885742, 'time_algorithm_update': 1.9589459896087646, 'temp_loss': 0.05692661181092262, 'temp': 0.999101996421814, 'critic_loss': 4.586240291595459, 'actor_loss': -2.8832783699035645, 'time_step': 1.961709976196289} step=3\n",
      "2024-02-01 21:12.57 [info     ] Model parameters are saved to d3rlpy_logs/DiscreteSAC_20240201211251/model_3.pt\n"
     ]
    },
    {
     "name": "stderr",
     "output_type": "stream",
     "text": [
      "\n",
      "Epoch 4/10: 100%|██████████| 1/1 [00:01<00:00,  1.99s/it, temp_loss=0.0569, temp=0.999, critic_loss=4.51, actor_loss=-2.9]"
     ]
    },
    {
     "name": "stdout",
     "output_type": "stream",
     "text": [
      "2024-02-01 21:12.59 [info     ] DiscreteSAC_20240201211251: epoch=4 step=4 epoch=4 metrics={'time_sample_batch': 0.00234222412109375, 'time_algorithm_update': 1.9823486804962158, 'temp_loss': 0.05693720653653145, 'temp': 0.9988027811050415, 'critic_loss': 4.51205587387085, 'actor_loss': -2.8992857933044434, 'time_step': 1.985243797302246} step=4\n",
      "2024-02-01 21:12.59 [info     ] Model parameters are saved to d3rlpy_logs/DiscreteSAC_20240201211251/model_4.pt\n"
     ]
    },
    {
     "name": "stderr",
     "output_type": "stream",
     "text": [
      "\n",
      "Epoch 5/10: 100%|██████████| 1/1 [00:01<00:00,  1.99s/it, temp_loss=0.0569, temp=0.999, critic_loss=4.43, actor_loss=-2.92]"
     ]
    },
    {
     "name": "stdout",
     "output_type": "stream",
     "text": [
      "2024-02-01 21:13.01 [info     ] DiscreteSAC_20240201211251: epoch=5 step=5 epoch=5 metrics={'time_sample_batch': 0.0020639896392822266, 'time_algorithm_update': 1.9855680465698242, 'temp_loss': 0.05694347992539406, 'temp': 0.9985037446022034, 'critic_loss': 4.434284210205078, 'actor_loss': -2.9180233478546143, 'time_step': 1.9881951808929443} step=5\n",
      "2024-02-01 21:13.01 [info     ] Model parameters are saved to d3rlpy_logs/DiscreteSAC_20240201211251/model_5.pt\n"
     ]
    },
    {
     "name": "stderr",
     "output_type": "stream",
     "text": [
      "\n",
      "Epoch 6/10: 100%|██████████| 1/1 [00:01<00:00,  1.99s/it, temp_loss=0.0569, temp=0.998, critic_loss=4.29, actor_loss=-2.94]"
     ]
    },
    {
     "name": "stdout",
     "output_type": "stream",
     "text": [
      "2024-02-01 21:13.03 [info     ] DiscreteSAC_20240201211251: epoch=6 step=6 epoch=6 metrics={'time_sample_batch': 0.0020780563354492188, 'time_algorithm_update': 1.9866900444030762, 'temp_loss': 0.056949228048324585, 'temp': 0.9982047080993652, 'critic_loss': 4.289266586303711, 'actor_loss': -2.9423670768737793, 'time_step': 1.9892737865447998} step=6\n",
      "2024-02-01 21:13.03 [info     ] Model parameters are saved to d3rlpy_logs/DiscreteSAC_20240201211251/model_6.pt\n"
     ]
    },
    {
     "name": "stderr",
     "output_type": "stream",
     "text": [
      "\n",
      "Epoch 7/10: 100%|██████████| 1/1 [00:01<00:00,  1.98s/it, temp_loss=0.057, temp=0.998, critic_loss=4.25, actor_loss=-2.97]"
     ]
    },
    {
     "name": "stdout",
     "output_type": "stream",
     "text": [
      "2024-02-01 21:13.05 [info     ] DiscreteSAC_20240201211251: epoch=7 step=7 epoch=7 metrics={'time_sample_batch': 0.0024099349975585938, 'time_algorithm_update': 1.9738390445709229, 'temp_loss': 0.056953947991132736, 'temp': 0.9979057908058167, 'critic_loss': 4.252654552459717, 'actor_loss': -2.9749579429626465, 'time_step': 1.9769108295440674} step=7\n",
      "2024-02-01 21:13.05 [info     ] Model parameters are saved to d3rlpy_logs/DiscreteSAC_20240201211251/model_7.pt\n"
     ]
    },
    {
     "name": "stderr",
     "output_type": "stream",
     "text": [
      "\n",
      "Epoch 8/10: 100%|██████████| 1/1 [00:01<00:00,  1.99s/it, temp_loss=0.057, temp=0.998, critic_loss=4.2, actor_loss=-3.02]"
     ]
    },
    {
     "name": "stdout",
     "output_type": "stream",
     "text": [
      "2024-02-01 21:13.07 [info     ] DiscreteSAC_20240201211251: epoch=8 step=8 epoch=8 metrics={'time_sample_batch': 0.002330780029296875, 'time_algorithm_update': 1.9868278503417969, 'temp_loss': 0.056957535445690155, 'temp': 0.9976069927215576, 'critic_loss': 4.203243732452393, 'actor_loss': -3.016062021255493, 'time_step': 1.9896800518035889} step=8\n",
      "2024-02-01 21:13.07 [info     ] Model parameters are saved to d3rlpy_logs/DiscreteSAC_20240201211251/model_8.pt\n"
     ]
    },
    {
     "name": "stderr",
     "output_type": "stream",
     "text": [
      "\n",
      "Epoch 9/10: 100%|██████████| 1/1 [00:01<00:00,  1.98s/it, temp_loss=0.057, temp=0.997, critic_loss=4, actor_loss=-3.07]"
     ]
    },
    {
     "name": "stdout",
     "output_type": "stream",
     "text": [
      "2024-02-01 21:13.09 [info     ] DiscreteSAC_20240201211251: epoch=9 step=9 epoch=9 metrics={'time_sample_batch': 0.0021491050720214844, 'time_algorithm_update': 1.9741220474243164, 'temp_loss': 0.056959401816129684, 'temp': 0.9973082542419434, 'critic_loss': 3.999593734741211, 'actor_loss': -3.071657180786133, 'time_step': 1.9768297672271729} step=9\n",
      "2024-02-01 21:13.09 [info     ] Model parameters are saved to d3rlpy_logs/DiscreteSAC_20240201211251/model_9.pt\n"
     ]
    },
    {
     "name": "stderr",
     "output_type": "stream",
     "text": [
      "\n",
      "Epoch 10/10: 100%|██████████| 1/1 [00:02<00:00,  2.01s/it, temp_loss=0.057, temp=0.997, critic_loss=3.99, actor_loss=-3.14]"
     ]
    },
    {
     "name": "stdout",
     "output_type": "stream",
     "text": [
      "2024-02-01 21:13.11 [info     ] DiscreteSAC_20240201211251: epoch=10 step=10 epoch=10 metrics={'time_sample_batch': 0.0022840499877929688, 'time_algorithm_update': 2.006650924682617, 'temp_loss': 0.05695614963769913, 'temp': 0.9970095753669739, 'critic_loss': 3.985459804534912, 'actor_loss': -3.1388988494873047, 'time_step': 2.00954008102417} step=10\n",
      "2024-02-01 21:13.11 [info     ] Model parameters are saved to d3rlpy_logs/DiscreteSAC_20240201211251/model_10.pt\n"
     ]
    },
    {
     "name": "stderr",
     "output_type": "stream",
     "text": [
      "\n"
     ]
    }
   ],
   "source": [
    "sac_sq = fit_discrete_sac(list_episodes_sq, n_steps=10, n_steps_per_epoch=1, device=device)"
   ]
  },
  {
   "cell_type": "code",
   "execution_count": 23,
   "metadata": {},
   "outputs": [],
   "source": [
    "action_dict = {0: 'NOOP', 1: 'FIRE', 2: 'UP', 3: 'RIGHT', 4: 'LEFT', 5: 'DOWN', 6: 'UPRIGHT', 7: 'UPLEFT', 8: 'DOWNRIGHT', 9: 'DOWNLEFT', 10: 'UPFIRE', 11: 'RIGHTFIRE', 12: 'LEFTFIRE', 13: 'DOWNFIRE', 14: 'UPRIGHTFIRE', 15: 'UPLEFTFIRE', 16: 'DOWNRIGHTFIRE', 17: 'DOWNLEFTFIRE'}"
   ]
  },
  {
   "cell_type": "code",
   "execution_count": 24,
   "metadata": {},
   "outputs": [
    {
     "data": {
      "image/png": "[encoded data removed]",
      "text/plain": [
       "<Figure size 1000x1200 with 4 Axes>"
      ]
     },
     "metadata": {},
     "output_type": "display_data"
    }
   ],
   "source": [
    "plt.figure(figsize=(10, 12))  # Adjust the figure size\n",
    "for i in range(4):\n",
    "    plt.subplot(4, 1, i + 1)\n",
    "    plt.imshow(observation[i], cmap='gray')\n",
    "    plt.axis('off')\n",
    "    plt.tight_layout()\n",
    "\n",
    "    if i == 3:\n",
    "        action = sac_sq.predict(np.expand_dims(observation, axis=0))\n",
    "        plt.title(action_dict[action[0]])\n",
    "\n",
    "plt.subplots_adjust(hspace=0.4)  # Adjust the vertical spacing\n",
    "plt.savefig('test_observation_stack.png')"
   ]
  },
  {
   "cell_type": "code",
   "execution_count": 25,
   "metadata": {},
   "outputs": [],
   "source": [
    "feature_size = 128\n",
    "custom_encoder_actor = CustomCNNFactory(feature_size)\n",
    "custom_encoder_critic = CustomCNNFactory(feature_size)\n",
    "\n",
    "model_params_sq = {\n",
    "'actor_learning_rate': 3e-4,\n",
    "'critic_learning_rate': 3e-4,\n",
    "'temp_learning_rate': 3e-4,\n",
    "'batch_size': 256,\n",
    "'actor_encoder_factory': custom_encoder_actor,\n",
    "'critic_encoder_factory': custom_encoder_critic,\n",
    "'scaler': 'pixel',\n",
    "'use_gpu': True if device == 'cuda' else False\n",
    "}"
   ]
  },
  {
   "cell_type": "code",
   "execution_count": 26,
   "metadata": {},
   "outputs": [],
   "source": [
    "def fit_per_cluster(model, \n",
    "                    model_class, \n",
    "                    model_params, \n",
    "                    data_embedding, \n",
    "                    list_episodes, \n",
    "                    clusters, \n",
    "                    trajectory_embedding, \n",
    "                    test_observations):\n",
    "    \n",
    "    original_actions = []\n",
    "    original_action_values = []\n",
    "    for t in test_observations:\n",
    "        action = model.predict(t)\n",
    "        print(\"Original model action: \", action)\n",
    "        action_value = model.predict_value(t, action = action)\n",
    "        print(\"Original model action value: \", action_value)\n",
    "        print(\"Passing: \", action[0], action_value[0])\n",
    "        original_actions.append(action[0])\n",
    "        original_action_values.append(action_value[0])\n",
    "\n",
    "    result_data_combinations = {0:(original_actions, original_action_values, get_data_embedding(data_embedding))} # Original dataset policy\n",
    "    models = {0:(model, get_data_embedding(data_embedding))}\n",
    "    \n",
    "    for cluster_id, cluster in enumerate(clusters):\n",
    "        model = model_class(**model_params)\n",
    "        count_in_clusters = 0\n",
    "        count_not_in_clusters = 0\n",
    "        temp_data = []\n",
    "        temp_traj_embeds = []\n",
    "        temp_cluster_traj_embeds = []\n",
    "        for traj_id, traj in enumerate(list_episodes):\n",
    "            if traj_id not in cluster:\n",
    "                temp_data.append(list_episodes[traj_id])\n",
    "                temp_traj_embeds.append(trajectory_embedding[traj_id])\n",
    "                count_not_in_clusters += 1\n",
    "            else:\n",
    "                temp_cluster_traj_embeds.append(trajectory_embedding[traj_id])\n",
    "                count_in_clusters += 1\n",
    "        print('-'*100)\n",
    "        print(f'Cluster {cluster_id + 1} has {count_in_clusters} trajectories out of {count_not_in_clusters + count_in_clusters}')\n",
    "        print('-'*100)\n",
    "        \n",
    "        # Generate the data embedding\n",
    "        data_embedding_new = get_data_embedding(temp_traj_embeds)\n",
    "        # Train an agent on the new data\n",
    "        model.fit(temp_data, n_steps=10, n_steps_per_epoch=1)\n",
    "\n",
    "        models[cluster_id + 1] = (model, data_embedding_new)\n",
    "\n",
    "        new_actions = []\n",
    "        new_action_values = []\n",
    "        for t in test_observations:\n",
    "            action = model.predict(t)\n",
    "            print(\"New model action: \", action)\n",
    "            action_value = model.predict_value(t, action = action)\n",
    "            print(\"New model action value: \", action_value)\n",
    "            print(\"Passing: \", action[0], action_value[0])\n",
    "\n",
    "            new_actions.append(action[0])\n",
    "            new_action_values.append(action_value[0])\n",
    "        \n",
    "        result_data_combinations[cluster_id + 1] = (new_actions, new_action_values, data_embedding_new) # Clustered dataset policy (cluster_id + 1 because 0 is the original dataset)\n",
    "                                                                                    # so each value is the model trained on original data - cluster 1, original data - cluster 2, etc.\n",
    "        \n",
    "    return models, result_data_combinations"
   ]
  },
  {
   "cell_type": "code",
   "execution_count": 27,
   "metadata": {},
   "outputs": [],
   "source": [
    "def get_data_embedding(traj_embeddings):\n",
    "    # Convert to numpy arrays if the embeddings are PyTorch tensors\n",
    "    if isinstance(traj_embeddings[0], torch.Tensor):\n",
    "        #traj_embeddings = traj_embeddings\n",
    "        traj_embeddings = [te.cpu().numpy() for te in traj_embeddings]\n",
    "\n",
    "    # Compute the sum of the embeddings, dividing by 10\n",
    "    summed_embeddings = np.array(traj_embeddings).sum(axis=0) / 10.0\n",
    "\n",
    "    # Apply softmax to the summed embeddings\n",
    "    max_embeddings = np.max(summed_embeddings)\n",
    "    exp_embeddings = np.exp(summed_embeddings - max_embeddings)\n",
    "    softmax_embeddings = exp_embeddings / np.sum(exp_embeddings, axis=0)\n",
    "\n",
    "    return softmax_embeddings"
   ]
  },
  {
   "cell_type": "code",
   "execution_count": 28,
   "metadata": {},
   "outputs": [
    {
     "name": "stdout",
     "output_type": "stream",
     "text": [
      "Original model action:  [1]\n",
      "Original model action value:  [0.32215434]\n",
      "Passing:  1 0.32215434\n",
      "Original model action:  [1]\n",
      "Original model action value:  [0.3204304]\n",
      "Passing:  1 0.3204304\n",
      "Original model action:  [1]\n",
      "Original model action value:  [0.31940165]\n",
      "Passing:  1 0.31940165\n",
      "Original model action:  [1]\n",
      "Original model action value:  [0.322946]\n",
      "Passing:  1 0.322946\n",
      "----------------------------------------------------------------------------------------------------\n",
      "Cluster 1 has 21 trajectories out of 1677\n",
      "----------------------------------------------------------------------------------------------------\n",
      "2024-02-01 21:13.12 [debug    ] RandomIterator is selected.\n",
      "2024-02-01 21:13.12 [info     ] Directory is created at d3rlpy_logs/DiscreteSAC_20240201211312\n",
      "2024-02-01 21:13.12 [debug    ] Fitting scaler...              scaler=pixel\n",
      "2024-02-01 21:13.12 [debug    ] Building models...\n",
      "2024-02-01 21:13.12 [debug    ] Models have been built.\n",
      "2024-02-01 21:13.12 [info     ] Parameters are saved to d3rlpy_logs/DiscreteSAC_20240201211312/params.json params={'action_scaler': None, 'actor_encoder_factory': {'type': 'custom', 'params': {'feature_size': 128}}, 'actor_learning_rate': 0.0003, 'actor_optim_factory': {'optim_cls': 'Adam', 'betas': (0.9, 0.999), 'eps': 0.0001, 'weight_decay': 0, 'amsgrad': False}, 'batch_size': 256, 'critic_encoder_factory': {'type': 'custom', 'params': {'feature_size': 128}}, 'critic_learning_rate': 0.0003, 'critic_optim_factory': {'optim_cls': 'Adam', 'betas': (0.9, 0.999), 'eps': 0.0001, 'weight_decay': 0, 'amsgrad': False}, 'gamma': 0.99, 'generated_maxlen': 100000, 'initial_temperature': 1.0, 'n_critics': 2, 'n_frames': 1, 'n_steps': 1, 'q_func_factory': {'type': 'mean', 'params': {'share_encoder': False}}, 'real_ratio': 1.0, 'reward_scaler': None, 'scaler': {'type': 'pixel', 'params': {}}, 'target_update_interval': 8000, 'temp_learning_rate': 0.0003, 'temp_optim_factory': {'optim_cls': 'Adam', 'betas': (0.9, 0.999), 'eps': 0.0001, 'weight_decay': 0, 'amsgrad': False}, 'use_gpu': None, 'algorithm': 'DiscreteSAC', 'observation_shape': (4, 84, 84), 'action_size': 18}\n"
     ]
    },
    {
     "name": "stderr",
     "output_type": "stream",
     "text": [
      "Epoch 1/10: 100%|██████████| 1/1 [00:02<00:00,  2.04s/it, temp_loss=0.0566, temp=1, critic_loss=4.52, actor_loss=-2.87]"
     ]
    },
    {
     "name": "stdout",
     "output_type": "stream",
     "text": [
      "2024-02-01 21:13.14 [info     ] DiscreteSAC_20240201211312: epoch=1 step=1 epoch=1 metrics={'time_sample_batch': 0.002476930618286133, 'time_algorithm_update': 2.0375912189483643, 'temp_loss': 0.056597039103507996, 'temp': 0.9997005462646484, 'critic_loss': 4.5199737548828125, 'actor_loss': -2.8688533306121826, 'time_step': 2.0407092571258545} step=1\n",
      "2024-02-01 21:13.14 [info     ] Model parameters are saved to d3rlpy_logs/DiscreteSAC_20240201211312/model_1.pt\n"
     ]
    },
    {
     "name": "stderr",
     "output_type": "stream",
     "text": [
      "\n",
      "Epoch 2/10: 100%|██████████| 1/1 [00:02<00:00,  2.07s/it, temp_loss=0.0567, temp=0.999, critic_loss=4.65, actor_loss=-2.88]"
     ]
    },
    {
     "name": "stdout",
     "output_type": "stream",
     "text": [
      "2024-02-01 21:13.16 [info     ] DiscreteSAC_20240201211312: epoch=2 step=2 epoch=2 metrics={'time_sample_batch': 0.002113819122314453, 'time_algorithm_update': 2.0703392028808594, 'temp_loss': 0.05667811632156372, 'temp': 0.9994012117385864, 'critic_loss': 4.648149490356445, 'actor_loss': -2.876819133758545, 'time_step': 2.0731570720672607} step=2\n",
      "2024-02-01 21:13.16 [info     ] Model parameters are saved to d3rlpy_logs/DiscreteSAC_20240201211312/model_2.pt\n"
     ]
    },
    {
     "name": "stderr",
     "output_type": "stream",
     "text": [
      "\n",
      "Epoch 3/10: 100%|██████████| 1/1 [00:02<00:00,  2.06s/it, temp_loss=0.0567, temp=0.999, critic_loss=4.46, actor_loss=-2.89]"
     ]
    },
    {
     "name": "stdout",
     "output_type": "stream",
     "text": [
      "2024-02-01 21:13.18 [info     ] DiscreteSAC_20240201211312: epoch=3 step=3 epoch=3 metrics={'time_sample_batch': 0.002660989761352539, 'time_algorithm_update': 2.059028148651123, 'temp_loss': 0.05673956125974655, 'temp': 0.9991019368171692, 'critic_loss': 4.46121883392334, 'actor_loss': -2.8865702152252197, 'time_step': 2.0622169971466064} step=3\n",
      "2024-02-01 21:13.18 [info     ] Model parameters are saved to d3rlpy_logs/DiscreteSAC_20240201211312/model_3.pt\n"
     ]
    },
    {
     "name": "stderr",
     "output_type": "stream",
     "text": [
      "\n",
      "Epoch 4/10: 100%|██████████| 1/1 [00:02<00:00,  2.06s/it, temp_loss=0.0568, temp=0.999, critic_loss=4.4, actor_loss=-2.9]"
     ]
    },
    {
     "name": "stdout",
     "output_type": "stream",
     "text": [
      "2024-02-01 21:13.20 [info     ] DiscreteSAC_20240201211312: epoch=4 step=4 epoch=4 metrics={'time_sample_batch': 0.002850055694580078, 'time_algorithm_update': 2.0593979358673096, 'temp_loss': 0.05678727477788925, 'temp': 0.9988027811050415, 'critic_loss': 4.4044904708862305, 'actor_loss': -2.8984386920928955, 'time_step': 2.0627689361572266} step=4\n",
      "2024-02-01 21:13.20 [info     ] Model parameters are saved to d3rlpy_logs/DiscreteSAC_20240201211312/model_4.pt\n"
     ]
    },
    {
     "name": "stderr",
     "output_type": "stream",
     "text": [
      "\n",
      "Epoch 5/10: 100%|██████████| 1/1 [00:02<00:00,  2.06s/it, temp_loss=0.0568, temp=0.999, critic_loss=4.25, actor_loss=-2.91]"
     ]
    },
    {
     "name": "stdout",
     "output_type": "stream",
     "text": [
      "2024-02-01 21:13.22 [info     ] DiscreteSAC_20240201211312: epoch=5 step=5 epoch=5 metrics={'time_sample_batch': 0.0026459693908691406, 'time_algorithm_update': 2.0585782527923584, 'temp_loss': 0.056827761232852936, 'temp': 0.9985036253929138, 'critic_loss': 4.248154163360596, 'actor_loss': -2.913200616836548, 'time_step': 2.061828136444092} step=5\n",
      "2024-02-01 21:13.22 [info     ] Model parameters are saved to d3rlpy_logs/DiscreteSAC_20240201211312/model_5.pt\n"
     ]
    },
    {
     "name": "stderr",
     "output_type": "stream",
     "text": [
      "\n",
      "Epoch 6/10: 100%|██████████| 1/1 [00:02<00:00,  2.13s/it, temp_loss=0.0569, temp=0.998, critic_loss=4.37, actor_loss=-2.93]"
     ]
    },
    {
     "name": "stdout",
     "output_type": "stream",
     "text": [
      "2024-02-01 21:13.24 [info     ] DiscreteSAC_20240201211312: epoch=6 step=6 epoch=6 metrics={'time_sample_batch': 0.0030210018157958984, 'time_algorithm_update': 2.1280550956726074, 'temp_loss': 0.056858502328395844, 'temp': 0.9982045888900757, 'critic_loss': 4.368603706359863, 'actor_loss': -2.9327635765075684, 'time_step': 2.1316442489624023} step=6\n",
      "2024-02-01 21:13.24 [info     ] Model parameters are saved to d3rlpy_logs/DiscreteSAC_20240201211312/model_6.pt\n"
     ]
    },
    {
     "name": "stderr",
     "output_type": "stream",
     "text": [
      "\n",
      "Epoch 7/10: 100%|██████████| 1/1 [00:02<00:00,  2.08s/it, temp_loss=0.0569, temp=0.998, critic_loss=4.38, actor_loss=-2.96]"
     ]
    },
    {
     "name": "stdout",
     "output_type": "stream",
     "text": [
      "2024-02-01 21:13.27 [info     ] DiscreteSAC_20240201211312: epoch=7 step=7 epoch=7 metrics={'time_sample_batch': 0.0034189224243164062, 'time_algorithm_update': 2.0779640674591064, 'temp_loss': 0.05688966065645218, 'temp': 0.9979055523872375, 'critic_loss': 4.383411407470703, 'actor_loss': -2.9603395462036133, 'time_step': 2.081925868988037} step=7\n",
      "2024-02-01 21:13.27 [info     ] Model parameters are saved to d3rlpy_logs/DiscreteSAC_20240201211312/model_7.pt\n"
     ]
    },
    {
     "name": "stderr",
     "output_type": "stream",
     "text": [
      "\n",
      "Epoch 8/10: 100%|██████████| 1/1 [00:02<00:00,  2.04s/it, temp_loss=0.0569, temp=0.998, critic_loss=4.31, actor_loss=-3]"
     ]
    },
    {
     "name": "stdout",
     "output_type": "stream",
     "text": [
      "2024-02-01 21:13.29 [info     ] DiscreteSAC_20240201211312: epoch=8 step=8 epoch=8 metrics={'time_sample_batch': 0.003058910369873047, 'time_algorithm_update': 2.040431022644043, 'temp_loss': 0.05691774934530258, 'temp': 0.997606635093689, 'critic_loss': 4.313006401062012, 'actor_loss': -2.9975247383117676, 'time_step': 2.044036865234375} step=8\n",
      "2024-02-01 21:13.29 [info     ] Model parameters are saved to d3rlpy_logs/DiscreteSAC_20240201211312/model_8.pt\n"
     ]
    },
    {
     "name": "stderr",
     "output_type": "stream",
     "text": [
      "\n",
      "Epoch 9/10: 100%|██████████| 1/1 [00:02<00:00,  2.01s/it, temp_loss=0.0569, temp=0.997, critic_loss=4.17, actor_loss=-3.05]"
     ]
    },
    {
     "name": "stdout",
     "output_type": "stream",
     "text": [
      "2024-02-01 21:13.31 [info     ] DiscreteSAC_20240201211312: epoch=9 step=9 epoch=9 metrics={'time_sample_batch': 0.003401041030883789, 'time_algorithm_update': 2.0105879306793213, 'temp_loss': 0.05694097280502319, 'temp': 0.9973077774047852, 'critic_loss': 4.167320251464844, 'actor_loss': -3.047321081161499, 'time_step': 2.01452898979187} step=9\n",
      "2024-02-01 21:13.31 [info     ] Model parameters are saved to d3rlpy_logs/DiscreteSAC_20240201211312/model_9.pt\n"
     ]
    },
    {
     "name": "stderr",
     "output_type": "stream",
     "text": [
      "\n",
      "Epoch 10/10: 100%|██████████| 1/1 [00:01<00:00,  1.99s/it, temp_loss=0.057, temp=0.997, critic_loss=4, actor_loss=-3.11]"
     ]
    },
    {
     "name": "stdout",
     "output_type": "stream",
     "text": [
      "2024-02-01 21:13.33 [info     ] DiscreteSAC_20240201211312: epoch=10 step=10 epoch=10 metrics={'time_sample_batch': 0.003434896469116211, 'time_algorithm_update': 1.9810740947723389, 'temp_loss': 0.05695587396621704, 'temp': 0.9970089793205261, 'critic_loss': 3.9961748123168945, 'actor_loss': -3.1145598888397217, 'time_step': 1.9850099086761475} step=10\n",
      "2024-02-01 21:13.33 [info     ] Model parameters are saved to d3rlpy_logs/DiscreteSAC_20240201211312/model_10.pt\n",
      "New model action:  [6]\n",
      "New model action value:  [0.3419367]\n",
      "Passing:  6 0.3419367\n",
      "New model action:  [6]\n",
      "New model action value:  [0.33837727]\n",
      "Passing:  6 0.33837727\n",
      "New model action:  [6]\n",
      "New model action value:  [0.33721173]\n",
      "Passing:  6 0.33721173\n",
      "New model action:  [6]\n",
      "New model action value:  [0.3399622]\n",
      "Passing:  6 0.3399622\n",
      "----------------------------------------------------------------------------------------------------\n",
      "Cluster 2 has 67 trajectories out of 1677\n",
      "----------------------------------------------------------------------------------------------------\n",
      "2024-02-01 21:13.33 [debug    ] RandomIterator is selected.\n",
      "2024-02-01 21:13.33 [info     ] Directory is created at d3rlpy_logs/DiscreteSAC_20240201211333\n",
      "2024-02-01 21:13.33 [debug    ] Fitting scaler...              scaler=pixel\n",
      "2024-02-01 21:13.33 [debug    ] Building models...\n",
      "2024-02-01 21:13.33 [debug    ] Models have been built.\n",
      "2024-02-01 21:13.33 [info     ] Parameters are saved to d3rlpy_logs/DiscreteSAC_20240201211333/params.json params={'action_scaler': None, 'actor_encoder_factory': {'type': 'custom', 'params': {'feature_size': 128}}, 'actor_learning_rate': 0.0003, 'actor_optim_factory': {'optim_cls': 'Adam', 'betas': (0.9, 0.999), 'eps': 0.0001, 'weight_decay': 0, 'amsgrad': False}, 'batch_size': 256, 'critic_encoder_factory': {'type': 'custom', 'params': {'feature_size': 128}}, 'critic_learning_rate': 0.0003, 'critic_optim_factory': {'optim_cls': 'Adam', 'betas': (0.9, 0.999), 'eps': 0.0001, 'weight_decay': 0, 'amsgrad': False}, 'gamma': 0.99, 'generated_maxlen': 100000, 'initial_temperature': 1.0, 'n_critics': 2, 'n_frames': 1, 'n_steps': 1, 'q_func_factory': {'type': 'mean', 'params': {'share_encoder': False}}, 'real_ratio': 1.0, 'reward_scaler': None, 'scaler': {'type': 'pixel', 'params': {}}, 'target_update_interval': 8000, 'temp_learning_rate': 0.0003, 'temp_optim_factory': {'optim_cls': 'Adam', 'betas': (0.9, 0.999), 'eps': 0.0001, 'weight_decay': 0, 'amsgrad': False}, 'use_gpu': None, 'algorithm': 'DiscreteSAC', 'observation_shape': (4, 84, 84), 'action_size': 18}\n"
     ]
    },
    {
     "name": "stderr",
     "output_type": "stream",
     "text": [
      "\n",
      "Epoch 1/10: 100%|██████████| 1/1 [00:01<00:00,  1.99s/it, temp_loss=0.0564, temp=1, critic_loss=4.52, actor_loss=-2.86]"
     ]
    },
    {
     "name": "stdout",
     "output_type": "stream",
     "text": [
      "2024-02-01 21:13.35 [info     ] DiscreteSAC_20240201211333: epoch=1 step=1 epoch=1 metrics={'time_sample_batch': 0.0032279491424560547, 'time_algorithm_update': 1.9837491512298584, 'temp_loss': 0.056367333978414536, 'temp': 0.9997006058692932, 'critic_loss': 4.519977569580078, 'actor_loss': -2.863523006439209, 'time_step': 1.987490177154541} step=1\n",
      "2024-02-01 21:13.35 [info     ] Model parameters are saved to d3rlpy_logs/DiscreteSAC_20240201211333/model_1.pt\n"
     ]
    },
    {
     "name": "stderr",
     "output_type": "stream",
     "text": [
      "\n",
      "Epoch 2/10: 100%|██████████| 1/1 [00:02<00:00,  2.02s/it, temp_loss=0.0565, temp=0.999, critic_loss=4.52, actor_loss=-2.87]"
     ]
    },
    {
     "name": "stdout",
     "output_type": "stream",
     "text": [
      "2024-02-01 21:13.37 [info     ] DiscreteSAC_20240201211333: epoch=2 step=2 epoch=2 metrics={'time_sample_batch': 0.0031731128692626953, 'time_algorithm_update': 2.0162858963012695, 'temp_loss': 0.05650261789560318, 'temp': 0.9994012117385864, 'critic_loss': 4.5190958976745605, 'actor_loss': -2.8685567378997803, 'time_step': 2.0202107429504395} step=2\n",
      "2024-02-01 21:13.37 [info     ] Model parameters are saved to d3rlpy_logs/DiscreteSAC_20240201211333/model_2.pt\n"
     ]
    },
    {
     "name": "stderr",
     "output_type": "stream",
     "text": [
      "\n",
      "Epoch 3/10: 100%|██████████| 1/1 [00:02<00:00,  2.04s/it, temp_loss=0.0566, temp=0.999, critic_loss=4.45, actor_loss=-2.87]"
     ]
    },
    {
     "name": "stdout",
     "output_type": "stream",
     "text": [
      "2024-02-01 21:13.39 [info     ] DiscreteSAC_20240201211333: epoch=3 step=3 epoch=3 metrics={'time_sample_batch': 0.003668069839477539, 'time_algorithm_update': 2.0307366847991943, 'temp_loss': 0.05659816786646843, 'temp': 0.9991019368171692, 'critic_loss': 4.448627471923828, 'actor_loss': -2.874162435531616, 'time_step': 2.0349161624908447} step=3\n",
      "2024-02-01 21:13.39 [info     ] Model parameters are saved to d3rlpy_logs/DiscreteSAC_20240201211333/model_3.pt\n"
     ]
    },
    {
     "name": "stderr",
     "output_type": "stream",
     "text": [
      "\n",
      "Epoch 4/10: 100%|██████████| 1/1 [00:02<00:00,  2.04s/it, temp_loss=0.0567, temp=0.999, critic_loss=4.45, actor_loss=-2.88]"
     ]
    },
    {
     "name": "stdout",
     "output_type": "stream",
     "text": [
      "2024-02-01 21:13.41 [info     ] DiscreteSAC_20240201211333: epoch=4 step=4 epoch=4 metrics={'time_sample_batch': 0.005146980285644531, 'time_algorithm_update': 2.029859781265259, 'temp_loss': 0.05667264014482498, 'temp': 0.9988027215003967, 'critic_loss': 4.454352378845215, 'actor_loss': -2.8810675144195557, 'time_step': 2.0355913639068604} step=4\n",
      "2024-02-01 21:13.41 [info     ] Model parameters are saved to d3rlpy_logs/DiscreteSAC_20240201211333/model_4.pt\n"
     ]
    },
    {
     "name": "stderr",
     "output_type": "stream",
     "text": [
      "\n",
      "Epoch 5/10: 100%|██████████| 1/1 [00:02<00:00,  2.08s/it, temp_loss=0.0567, temp=0.999, critic_loss=4.44, actor_loss=-2.89]"
     ]
    },
    {
     "name": "stdout",
     "output_type": "stream",
     "text": [
      "2024-02-01 21:13.43 [info     ] DiscreteSAC_20240201211333: epoch=5 step=5 epoch=5 metrics={'time_sample_batch': 0.003244161605834961, 'time_algorithm_update': 2.071505069732666, 'temp_loss': 0.05672910064458847, 'temp': 0.998503565788269, 'critic_loss': 4.4425740242004395, 'actor_loss': -2.890504837036133, 'time_step': 2.0754339694976807} step=5\n",
      "2024-02-01 21:13.43 [info     ] Model parameters are saved to d3rlpy_logs/DiscreteSAC_20240201211333/model_5.pt\n"
     ]
    },
    {
     "name": "stderr",
     "output_type": "stream",
     "text": [
      "\n",
      "Epoch 6/10: 100%|██████████| 1/1 [00:01<00:00,  1.99s/it, temp_loss=0.0568, temp=0.998, critic_loss=4.45, actor_loss=-2.9]"
     ]
    },
    {
     "name": "stdout",
     "output_type": "stream",
     "text": [
      "2024-02-01 21:13.45 [info     ] DiscreteSAC_20240201211333: epoch=6 step=6 epoch=6 metrics={'time_sample_batch': 0.0030090808868408203, 'time_algorithm_update': 1.9902737140655518, 'temp_loss': 0.05677219107747078, 'temp': 0.9982044696807861, 'critic_loss': 4.445353031158447, 'actor_loss': -2.9020562171936035, 'time_step': 1.993861198425293} step=6\n",
      "2024-02-01 21:13.45 [info     ] Model parameters are saved to d3rlpy_logs/DiscreteSAC_20240201211333/model_6.pt\n"
     ]
    },
    {
     "name": "stderr",
     "output_type": "stream",
     "text": [
      "\n",
      "Epoch 7/10: 100%|██████████| 1/1 [00:01<00:00,  1.99s/it, temp_loss=0.0568, temp=0.998, critic_loss=4.43, actor_loss=-2.92]"
     ]
    },
    {
     "name": "stdout",
     "output_type": "stream",
     "text": [
      "2024-02-01 21:13.47 [info     ] DiscreteSAC_20240201211333: epoch=7 step=7 epoch=7 metrics={'time_sample_batch': 0.003492116928100586, 'time_algorithm_update': 1.9844138622283936, 'temp_loss': 0.05680602788925171, 'temp': 0.997905433177948, 'critic_loss': 4.425166130065918, 'actor_loss': -2.9182016849517822, 'time_step': 1.9884488582611084} step=7\n",
      "2024-02-01 21:13.47 [info     ] Model parameters are saved to d3rlpy_logs/DiscreteSAC_20240201211333/model_7.pt\n"
     ]
    },
    {
     "name": "stderr",
     "output_type": "stream",
     "text": [
      "\n",
      "Epoch 8/10: 100%|██████████| 1/1 [00:02<00:00,  2.00s/it, temp_loss=0.0568, temp=0.998, critic_loss=4.35, actor_loss=-2.94]"
     ]
    },
    {
     "name": "stdout",
     "output_type": "stream",
     "text": [
      "2024-02-01 21:13.49 [info     ] DiscreteSAC_20240201211333: epoch=8 step=8 epoch=8 metrics={'time_sample_batch': 0.0037088394165039062, 'time_algorithm_update': 1.9967408180236816, 'temp_loss': 0.05683453753590584, 'temp': 0.9976064562797546, 'critic_loss': 4.34909725189209, 'actor_loss': -2.941591262817383, 'time_step': 2.000966787338257} step=8\n",
      "2024-02-01 21:13.49 [info     ] Model parameters are saved to d3rlpy_logs/DiscreteSAC_20240201211333/model_8.pt\n"
     ]
    },
    {
     "name": "stderr",
     "output_type": "stream",
     "text": [
      "\n",
      "Epoch 9/10: 100%|██████████| 1/1 [00:02<00:00,  2.00s/it, temp_loss=0.0569, temp=0.997, critic_loss=4.24, actor_loss=-2.97]"
     ]
    },
    {
     "name": "stdout",
     "output_type": "stream",
     "text": [
      "2024-02-01 21:13.51 [info     ] DiscreteSAC_20240201211333: epoch=9 step=9 epoch=9 metrics={'time_sample_batch': 0.003173828125, 'time_algorithm_update': 2.0005319118499756, 'temp_loss': 0.056862518191337585, 'temp': 0.997307538986206, 'critic_loss': 4.241878509521484, 'actor_loss': -2.973501443862915, 'time_step': 2.0042192935943604} step=9\n",
      "2024-02-01 21:13.51 [info     ] Model parameters are saved to d3rlpy_logs/DiscreteSAC_20240201211333/model_9.pt\n"
     ]
    },
    {
     "name": "stderr",
     "output_type": "stream",
     "text": [
      "\n",
      "Epoch 10/10: 100%|██████████| 1/1 [00:02<00:00,  2.06s/it, temp_loss=0.0569, temp=0.997, critic_loss=4.15, actor_loss=-3.01]"
     ]
    },
    {
     "name": "stdout",
     "output_type": "stream",
     "text": [
      "2024-02-01 21:13.53 [info     ] DiscreteSAC_20240201211333: epoch=10 step=10 epoch=10 metrics={'time_sample_batch': 0.003072977066040039, 'time_algorithm_update': 2.059161901473999, 'temp_loss': 0.05688212811946869, 'temp': 0.9970086812973022, 'critic_loss': 4.148664951324463, 'actor_loss': -3.0129520893096924, 'time_step': 2.062775135040283} step=10\n",
      "2024-02-01 21:13.53 [info     ] Model parameters are saved to d3rlpy_logs/DiscreteSAC_20240201211333/model_10.pt\n",
      "New model action:  [15]\n",
      "New model action value:  [0.38293064]\n",
      "Passing:  15 0.38293064\n",
      "New model action:  [15]\n",
      "New model action value:  [0.38008213]\n",
      "Passing:  15 0.38008213\n",
      "New model action:  [15]\n",
      "New model action value:  [0.37989616]\n",
      "Passing:  15 0.37989616\n",
      "New model action:  [15]\n",
      "New model action value:  [0.38358974]\n",
      "Passing:  15 0.38358974\n",
      "----------------------------------------------------------------------------------------------------\n",
      "Cluster 3 has 333 trajectories out of 1677\n",
      "----------------------------------------------------------------------------------------------------\n",
      "2024-02-01 21:13.53 [debug    ] RandomIterator is selected.\n",
      "2024-02-01 21:13.53 [info     ] Directory is created at d3rlpy_logs/DiscreteSAC_20240201211353\n",
      "2024-02-01 21:13.53 [debug    ] Fitting scaler...              scaler=pixel\n",
      "2024-02-01 21:13.53 [debug    ] Building models...\n",
      "2024-02-01 21:13.53 [debug    ] Models have been built.\n",
      "2024-02-01 21:13.53 [info     ] Parameters are saved to d3rlpy_logs/DiscreteSAC_20240201211353/params.json params={'action_scaler': None, 'actor_encoder_factory': {'type': 'custom', 'params': {'feature_size': 128}}, 'actor_learning_rate': 0.0003, 'actor_optim_factory': {'optim_cls': 'Adam', 'betas': (0.9, 0.999), 'eps': 0.0001, 'weight_decay': 0, 'amsgrad': False}, 'batch_size': 256, 'critic_encoder_factory': {'type': 'custom', 'params': {'feature_size': 128}}, 'critic_learning_rate': 0.0003, 'critic_optim_factory': {'optim_cls': 'Adam', 'betas': (0.9, 0.999), 'eps': 0.0001, 'weight_decay': 0, 'amsgrad': False}, 'gamma': 0.99, 'generated_maxlen': 100000, 'initial_temperature': 1.0, 'n_critics': 2, 'n_frames': 1, 'n_steps': 1, 'q_func_factory': {'type': 'mean', 'params': {'share_encoder': False}}, 'real_ratio': 1.0, 'reward_scaler': None, 'scaler': {'type': 'pixel', 'params': {}}, 'target_update_interval': 8000, 'temp_learning_rate': 0.0003, 'temp_optim_factory': {'optim_cls': 'Adam', 'betas': (0.9, 0.999), 'eps': 0.0001, 'weight_decay': 0, 'amsgrad': False}, 'use_gpu': None, 'algorithm': 'DiscreteSAC', 'observation_shape': (4, 84, 84), 'action_size': 18}\n"
     ]
    },
    {
     "name": "stderr",
     "output_type": "stream",
     "text": [
      "\n",
      "Epoch 1/10: 100%|██████████| 1/1 [00:02<00:00,  2.13s/it, temp_loss=0.0563, temp=1, critic_loss=4.63, actor_loss=-2.87]"
     ]
    },
    {
     "name": "stdout",
     "output_type": "stream",
     "text": [
      "2024-02-01 21:13.56 [info     ] DiscreteSAC_20240201211353: epoch=1 step=1 epoch=1 metrics={'time_sample_batch': 0.008391857147216797, 'time_algorithm_update': 2.1213738918304443, 'temp_loss': 0.05631740018725395, 'temp': 0.9997006058692932, 'critic_loss': 4.633253574371338, 'actor_loss': -2.8719890117645264, 'time_step': 2.1303412914276123} step=1\n",
      "2024-02-01 21:13.56 [info     ] Model parameters are saved to d3rlpy_logs/DiscreteSAC_20240201211353/model_1.pt\n"
     ]
    },
    {
     "name": "stderr",
     "output_type": "stream",
     "text": [
      "\n",
      "Epoch 2/10: 100%|██████████| 1/1 [00:02<00:00,  2.03s/it, temp_loss=0.0564, temp=0.999, critic_loss=4.53, actor_loss=-2.88]"
     ]
    },
    {
     "name": "stdout",
     "output_type": "stream",
     "text": [
      "2024-02-01 21:13.58 [info     ] DiscreteSAC_20240201211353: epoch=2 step=2 epoch=2 metrics={'time_sample_batch': 0.003117084503173828, 'time_algorithm_update': 2.022458076477051, 'temp_loss': 0.056427061557769775, 'temp': 0.9994012117385864, 'critic_loss': 4.528501987457275, 'actor_loss': -2.878662586212158, 'time_step': 2.02608323097229} step=2\n",
      "2024-02-01 21:13.58 [info     ] Model parameters are saved to d3rlpy_logs/DiscreteSAC_20240201211353/model_2.pt\n"
     ]
    },
    {
     "name": "stderr",
     "output_type": "stream",
     "text": [
      "\n",
      "Epoch 3/10: 100%|██████████| 1/1 [00:01<00:00,  1.99s/it, temp_loss=0.0565, temp=0.999, critic_loss=4.53, actor_loss=-2.89]"
     ]
    },
    {
     "name": "stdout",
     "output_type": "stream",
     "text": [
      "2024-02-01 21:14.00 [info     ] DiscreteSAC_20240201211353: epoch=3 step=3 epoch=3 metrics={'time_sample_batch': 0.0034482479095458984, 'time_algorithm_update': 1.9904320240020752, 'temp_loss': 0.05648644268512726, 'temp': 0.9991019368171692, 'critic_loss': 4.533123016357422, 'actor_loss': -2.8857154846191406, 'time_step': 1.9944639205932617} step=3\n",
      "2024-02-01 21:14.00 [info     ] Model parameters are saved to d3rlpy_logs/DiscreteSAC_20240201211353/model_3.pt\n"
     ]
    },
    {
     "name": "stderr",
     "output_type": "stream",
     "text": [
      "\n",
      "Epoch 4/10: 100%|██████████| 1/1 [00:01<00:00,  1.99s/it, temp_loss=0.0565, temp=0.999, critic_loss=4.49, actor_loss=-2.89]"
     ]
    },
    {
     "name": "stdout",
     "output_type": "stream",
     "text": [
      "2024-02-01 21:14.02 [info     ] DiscreteSAC_20240201211353: epoch=4 step=4 epoch=4 metrics={'time_sample_batch': 0.003582000732421875, 'time_algorithm_update': 1.9809107780456543, 'temp_loss': 0.056516170501708984, 'temp': 0.9988027811050415, 'critic_loss': 4.493155479431152, 'actor_loss': -2.8925344944000244, 'time_step': 1.9850432872772217} step=4\n",
      "2024-02-01 21:14.02 [info     ] Model parameters are saved to d3rlpy_logs/DiscreteSAC_20240201211353/model_4.pt\n"
     ]
    },
    {
     "name": "stderr",
     "output_type": "stream",
     "text": [
      "\n",
      "Epoch 5/10: 100%|██████████| 1/1 [00:02<00:00,  2.03s/it, temp_loss=0.0565, temp=0.999, critic_loss=4.48, actor_loss=-2.9]"
     ]
    },
    {
     "name": "stdout",
     "output_type": "stream",
     "text": [
      "2024-02-01 21:14.04 [info     ] DiscreteSAC_20240201211353: epoch=5 step=5 epoch=5 metrics={'time_sample_batch': 0.0034079551696777344, 'time_algorithm_update': 2.0243990421295166, 'temp_loss': 0.05653713643550873, 'temp': 0.9985036253929138, 'critic_loss': 4.4813079833984375, 'actor_loss': -2.900700569152832, 'time_step': 2.028386116027832} step=5\n",
      "2024-02-01 21:14.04 [info     ] Model parameters are saved to d3rlpy_logs/DiscreteSAC_20240201211353/model_5.pt\n"
     ]
    },
    {
     "name": "stderr",
     "output_type": "stream",
     "text": [
      "\n",
      "Epoch 6/10: 100%|██████████| 1/1 [00:02<00:00,  2.11s/it, temp_loss=0.0565, temp=0.998, critic_loss=4.45, actor_loss=-2.91]"
     ]
    },
    {
     "name": "stdout",
     "output_type": "stream",
     "text": [
      "2024-02-01 21:14.06 [info     ] DiscreteSAC_20240201211353: epoch=6 step=6 epoch=6 metrics={'time_sample_batch': 0.003940105438232422, 'time_algorithm_update': 2.1052019596099854, 'temp_loss': 0.05654934048652649, 'temp': 0.9982045888900757, 'critic_loss': 4.448138236999512, 'actor_loss': -2.9106597900390625, 'time_step': 2.109769821166992} step=6\n",
      "2024-02-01 21:14.06 [info     ] Model parameters are saved to d3rlpy_logs/DiscreteSAC_20240201211353/model_6.pt\n"
     ]
    },
    {
     "name": "stderr",
     "output_type": "stream",
     "text": [
      "\n",
      "Epoch 7/10: 100%|██████████| 1/1 [00:02<00:00,  2.00s/it, temp_loss=0.0566, temp=0.998, critic_loss=4.43, actor_loss=-2.92]"
     ]
    },
    {
     "name": "stdout",
     "output_type": "stream",
     "text": [
      "2024-02-01 21:14.08 [info     ] DiscreteSAC_20240201211353: epoch=7 step=7 epoch=7 metrics={'time_sample_batch': 0.003267049789428711, 'time_algorithm_update': 1.999140739440918, 'temp_loss': 0.05655278265476227, 'temp': 0.9979056119918823, 'critic_loss': 4.432936191558838, 'actor_loss': -2.921802043914795, 'time_step': 2.0029349327087402} step=7\n",
      "2024-02-01 21:14.08 [info     ] Model parameters are saved to d3rlpy_logs/DiscreteSAC_20240201211353/model_7.pt\n"
     ]
    },
    {
     "name": "stderr",
     "output_type": "stream",
     "text": [
      "\n",
      "Epoch 8/10: 100%|██████████| 1/1 [00:02<00:00,  2.02s/it, temp_loss=0.0565, temp=0.998, critic_loss=4.33, actor_loss=-2.94]"
     ]
    },
    {
     "name": "stdout",
     "output_type": "stream",
     "text": [
      "2024-02-01 21:14.10 [info     ] DiscreteSAC_20240201211353: epoch=8 step=8 epoch=8 metrics={'time_sample_batch': 0.003657817840576172, 'time_algorithm_update': 2.0148119926452637, 'temp_loss': 0.05654650554060936, 'temp': 0.9976067543029785, 'critic_loss': 4.325827598571777, 'actor_loss': -2.936957359313965, 'time_step': 2.0189828872680664} step=8\n",
      "2024-02-01 21:14.10 [info     ] Model parameters are saved to d3rlpy_logs/DiscreteSAC_20240201211353/model_8.pt\n"
     ]
    },
    {
     "name": "stderr",
     "output_type": "stream",
     "text": [
      "\n",
      "Epoch 9/10: 100%|██████████| 1/1 [00:01<00:00,  1.97s/it, temp_loss=0.0565, temp=0.997, critic_loss=4.26, actor_loss=-2.96]"
     ]
    },
    {
     "name": "stdout",
     "output_type": "stream",
     "text": [
      "2024-02-01 21:14.12 [info     ] DiscreteSAC_20240201211353: epoch=9 step=9 epoch=9 metrics={'time_sample_batch': 0.0038068294525146484, 'time_algorithm_update': 1.9684500694274902, 'temp_loss': 0.056521326303482056, 'temp': 0.9973079562187195, 'critic_loss': 4.2636942863464355, 'actor_loss': -2.9570937156677246, 'time_step': 1.9728047847747803} step=9\n",
      "2024-02-01 21:14.12 [info     ] Model parameters are saved to d3rlpy_logs/DiscreteSAC_20240201211353/model_9.pt\n"
     ]
    },
    {
     "name": "stderr",
     "output_type": "stream",
     "text": [
      "\n",
      "Epoch 10/10: 100%|██████████| 1/1 [00:01<00:00,  1.99s/it, temp_loss=0.0565, temp=0.997, critic_loss=4.13, actor_loss=-2.99]"
     ]
    },
    {
     "name": "stdout",
     "output_type": "stream",
     "text": [
      "2024-02-01 21:14.14 [info     ] DiscreteSAC_20240201211353: epoch=10 step=10 epoch=10 metrics={'time_sample_batch': 0.0036568641662597656, 'time_algorithm_update': 1.9895639419555664, 'temp_loss': 0.05647263303399086, 'temp': 0.99700927734375, 'critic_loss': 4.131525993347168, 'actor_loss': -2.985175609588623, 'time_step': 1.9937341213226318} step=10\n",
      "2024-02-01 21:14.14 [info     ] Model parameters are saved to d3rlpy_logs/DiscreteSAC_20240201211353/model_10.pt\n",
      "New model action:  [16]\n",
      "New model action value:  [0.5381601]\n",
      "Passing:  16 0.5381601\n",
      "New model action:  [16]\n",
      "New model action value:  [0.5331303]\n",
      "Passing:  16 0.5331303\n",
      "New model action:  [16]\n",
      "New model action value:  [0.5320007]\n",
      "Passing:  16 0.5320007\n",
      "New model action:  [16]\n",
      "New model action value:  [0.5362641]\n",
      "Passing:  16 0.5362641\n",
      "----------------------------------------------------------------------------------------------------\n",
      "Cluster 4 has 116 trajectories out of 1677\n",
      "----------------------------------------------------------------------------------------------------\n",
      "2024-02-01 21:14.14 [debug    ] RandomIterator is selected.\n",
      "2024-02-01 21:14.14 [info     ] Directory is created at d3rlpy_logs/DiscreteSAC_20240201211414\n",
      "2024-02-01 21:14.14 [debug    ] Fitting scaler...              scaler=pixel\n",
      "2024-02-01 21:14.14 [debug    ] Building models...\n",
      "2024-02-01 21:14.14 [debug    ] Models have been built.\n",
      "2024-02-01 21:14.14 [info     ] Parameters are saved to d3rlpy_logs/DiscreteSAC_20240201211414/params.json params={'action_scaler': None, 'actor_encoder_factory': {'type': 'custom', 'params': {'feature_size': 128}}, 'actor_learning_rate': 0.0003, 'actor_optim_factory': {'optim_cls': 'Adam', 'betas': (0.9, 0.999), 'eps': 0.0001, 'weight_decay': 0, 'amsgrad': False}, 'batch_size': 256, 'critic_encoder_factory': {'type': 'custom', 'params': {'feature_size': 128}}, 'critic_learning_rate': 0.0003, 'critic_optim_factory': {'optim_cls': 'Adam', 'betas': (0.9, 0.999), 'eps': 0.0001, 'weight_decay': 0, 'amsgrad': False}, 'gamma': 0.99, 'generated_maxlen': 100000, 'initial_temperature': 1.0, 'n_critics': 2, 'n_frames': 1, 'n_steps': 1, 'q_func_factory': {'type': 'mean', 'params': {'share_encoder': False}}, 'real_ratio': 1.0, 'reward_scaler': None, 'scaler': {'type': 'pixel', 'params': {}}, 'target_update_interval': 8000, 'temp_learning_rate': 0.0003, 'temp_optim_factory': {'optim_cls': 'Adam', 'betas': (0.9, 0.999), 'eps': 0.0001, 'weight_decay': 0, 'amsgrad': False}, 'use_gpu': None, 'algorithm': 'DiscreteSAC', 'observation_shape': (4, 84, 84), 'action_size': 18}\n"
     ]
    },
    {
     "name": "stderr",
     "output_type": "stream",
     "text": [
      "\n",
      "Epoch 1/10: 100%|██████████| 1/1 [00:01<00:00,  1.98s/it, temp_loss=0.0563, temp=1, critic_loss=4.63, actor_loss=-2.87]"
     ]
    },
    {
     "name": "stdout",
     "output_type": "stream",
     "text": [
      "2024-02-01 21:14.16 [info     ] DiscreteSAC_20240201211414: epoch=1 step=1 epoch=1 metrics={'time_sample_batch': 0.003286123275756836, 'time_algorithm_update': 1.97324800491333, 'temp_loss': 0.05632904917001724, 'temp': 0.9997006058692932, 'critic_loss': 4.633204460144043, 'actor_loss': -2.8675575256347656, 'time_step': 1.9770941734313965} step=1\n",
      "2024-02-01 21:14.16 [info     ] Model parameters are saved to d3rlpy_logs/DiscreteSAC_20240201211414/model_1.pt\n"
     ]
    },
    {
     "name": "stderr",
     "output_type": "stream",
     "text": [
      "\n",
      "Epoch 2/10: 100%|██████████| 1/1 [00:01<00:00,  1.99s/it, temp_loss=0.0565, temp=0.999, critic_loss=4.51, actor_loss=-2.87]"
     ]
    },
    {
     "name": "stdout",
     "output_type": "stream",
     "text": [
      "2024-02-01 21:14.18 [info     ] DiscreteSAC_20240201211414: epoch=2 step=2 epoch=2 metrics={'time_sample_batch': 0.00403904914855957, 'time_algorithm_update': 1.980565071105957, 'temp_loss': 0.05647134780883789, 'temp': 0.9994012117385864, 'critic_loss': 4.505704402923584, 'actor_loss': -2.8714101314544678, 'time_step': 1.985158920288086} step=2\n",
      "2024-02-01 21:14.18 [info     ] Model parameters are saved to d3rlpy_logs/DiscreteSAC_20240201211414/model_2.pt\n"
     ]
    },
    {
     "name": "stderr",
     "output_type": "stream",
     "text": [
      "\n",
      "Epoch 3/10: 100%|██████████| 1/1 [00:01<00:00,  1.98s/it, temp_loss=0.0566, temp=0.999, critic_loss=4.54, actor_loss=-2.88]"
     ]
    },
    {
     "name": "stdout",
     "output_type": "stream",
     "text": [
      "2024-02-01 21:14.20 [info     ] DiscreteSAC_20240201211414: epoch=3 step=3 epoch=3 metrics={'time_sample_batch': 0.0031239986419677734, 'time_algorithm_update': 1.9735357761383057, 'temp_loss': 0.056586503982543945, 'temp': 0.9991019368171692, 'critic_loss': 4.542080879211426, 'actor_loss': -2.8756003379821777, 'time_step': 1.9771912097930908} step=3\n",
      "2024-02-01 21:14.20 [info     ] Model parameters are saved to d3rlpy_logs/DiscreteSAC_20240201211414/model_3.pt\n"
     ]
    },
    {
     "name": "stderr",
     "output_type": "stream",
     "text": [
      "\n",
      "Epoch 4/10: 100%|██████████| 1/1 [00:01<00:00,  1.98s/it, temp_loss=0.0567, temp=0.999, critic_loss=4.5, actor_loss=-2.88]"
     ]
    },
    {
     "name": "stdout",
     "output_type": "stream",
     "text": [
      "2024-02-01 21:14.22 [info     ] DiscreteSAC_20240201211414: epoch=4 step=4 epoch=4 metrics={'time_sample_batch': 0.0030558109283447266, 'time_algorithm_update': 1.9798977375030518, 'temp_loss': 0.05668055638670921, 'temp': 0.9988027215003967, 'critic_loss': 4.499575614929199, 'actor_loss': -2.8824245929718018, 'time_step': 1.9834859371185303} step=4\n",
      "2024-02-01 21:14.22 [info     ] Model parameters are saved to d3rlpy_logs/DiscreteSAC_20240201211414/model_4.pt\n"
     ]
    },
    {
     "name": "stderr",
     "output_type": "stream",
     "text": [
      "\n",
      "Epoch 5/10: 100%|██████████| 1/1 [00:02<00:00,  2.03s/it, temp_loss=0.0568, temp=0.999, critic_loss=4.45, actor_loss=-2.89]"
     ]
    },
    {
     "name": "stdout",
     "output_type": "stream",
     "text": [
      "2024-02-01 21:14.24 [info     ] DiscreteSAC_20240201211414: epoch=5 step=5 epoch=5 metrics={'time_sample_batch': 0.0030760765075683594, 'time_algorithm_update': 2.0249898433685303, 'temp_loss': 0.056751083582639694, 'temp': 0.9985035061836243, 'critic_loss': 4.451028347015381, 'actor_loss': -2.8917953968048096, 'time_step': 2.028815984725952} step=5\n",
      "2024-02-01 21:14.24 [info     ] Model parameters are saved to d3rlpy_logs/DiscreteSAC_20240201211414/model_5.pt\n"
     ]
    },
    {
     "name": "stderr",
     "output_type": "stream",
     "text": [
      "\n",
      "Epoch 6/10: 100%|██████████| 1/1 [00:02<00:00,  2.03s/it, temp_loss=0.0568, temp=0.998, critic_loss=4.47, actor_loss=-2.9]"
     ]
    },
    {
     "name": "stdout",
     "output_type": "stream",
     "text": [
      "2024-02-01 21:14.26 [info     ] DiscreteSAC_20240201211414: epoch=6 step=6 epoch=6 metrics={'time_sample_batch': 0.003368854522705078, 'time_algorithm_update': 2.0259900093078613, 'temp_loss': 0.056810807436704636, 'temp': 0.9982044100761414, 'critic_loss': 4.469383716583252, 'actor_loss': -2.9044220447540283, 'time_step': 2.0299270153045654} step=6\n",
      "2024-02-01 21:14.27 [info     ] Model parameters are saved to d3rlpy_logs/DiscreteSAC_20240201211414/model_6.pt\n"
     ]
    },
    {
     "name": "stderr",
     "output_type": "stream",
     "text": [
      "\n",
      "Epoch 7/10: 100%|██████████| 1/1 [00:02<00:00,  2.07s/it, temp_loss=0.0569, temp=0.998, critic_loss=4.39, actor_loss=-2.92]"
     ]
    },
    {
     "name": "stdout",
     "output_type": "stream",
     "text": [
      "2024-02-01 21:14.29 [info     ] DiscreteSAC_20240201211414: epoch=7 step=7 epoch=7 metrics={'time_sample_batch': 0.0047149658203125, 'time_algorithm_update': 2.0606918334960938, 'temp_loss': 0.05686502158641815, 'temp': 0.9979053139686584, 'critic_loss': 4.3900322914123535, 'actor_loss': -2.921980142593384, 'time_step': 2.0660510063171387} step=7\n",
      "2024-02-01 21:14.29 [info     ] Model parameters are saved to d3rlpy_logs/DiscreteSAC_20240201211414/model_7.pt\n"
     ]
    },
    {
     "name": "stderr",
     "output_type": "stream",
     "text": [
      "\n",
      "Epoch 8/10: 100%|██████████| 1/1 [00:02<00:00,  2.04s/it, temp_loss=0.0569, temp=0.998, critic_loss=4.32, actor_loss=-2.95]"
     ]
    },
    {
     "name": "stdout",
     "output_type": "stream",
     "text": [
      "2024-02-01 21:14.31 [info     ] DiscreteSAC_20240201211414: epoch=8 step=8 epoch=8 metrics={'time_sample_batch': 0.002975940704345703, 'time_algorithm_update': 2.034745216369629, 'temp_loss': 0.05691186338663101, 'temp': 0.9976062774658203, 'critic_loss': 4.322895526885986, 'actor_loss': -2.9468212127685547, 'time_step': 2.038311243057251} step=8\n",
      "2024-02-01 21:14.31 [info     ] Model parameters are saved to d3rlpy_logs/DiscreteSAC_20240201211414/model_8.pt\n"
     ]
    },
    {
     "name": "stderr",
     "output_type": "stream",
     "text": [
      "\n",
      "Epoch 9/10: 100%|██████████| 1/1 [00:01<00:00,  2.00s/it, temp_loss=0.057, temp=0.997, critic_loss=4.21, actor_loss=-2.98]"
     ]
    },
    {
     "name": "stdout",
     "output_type": "stream",
     "text": [
      "2024-02-01 21:14.33 [info     ] DiscreteSAC_20240201211414: epoch=9 step=9 epoch=9 metrics={'time_sample_batch': 0.003297090530395508, 'time_algorithm_update': 1.993189811706543, 'temp_loss': 0.05695047229528427, 'temp': 0.997307300567627, 'critic_loss': 4.2052106857299805, 'actor_loss': -2.9796156883239746, 'time_step': 1.9970028400421143} step=9\n",
      "2024-02-01 21:14.33 [info     ] Model parameters are saved to d3rlpy_logs/DiscreteSAC_20240201211414/model_9.pt\n"
     ]
    },
    {
     "name": "stderr",
     "output_type": "stream",
     "text": [
      "\n",
      "Epoch 10/10: 100%|██████████| 1/1 [00:01<00:00,  1.98s/it, temp_loss=0.057, temp=0.997, critic_loss=4.15, actor_loss=-3.02]"
     ]
    },
    {
     "name": "stdout",
     "output_type": "stream",
     "text": [
      "2024-02-01 21:14.35 [info     ] DiscreteSAC_20240201211414: epoch=10 step=10 epoch=10 metrics={'time_sample_batch': 0.003255128860473633, 'time_algorithm_update': 1.97110915184021, 'temp_loss': 0.056975796818733215, 'temp': 0.9970083832740784, 'critic_loss': 4.15339994430542, 'actor_loss': -3.021998167037964, 'time_step': 1.9748690128326416} step=10\n",
      "2024-02-01 21:14.35 [info     ] Model parameters are saved to d3rlpy_logs/DiscreteSAC_20240201211414/model_10.pt\n",
      "New model action:  [6]\n",
      "New model action value:  [0.16324976]\n",
      "Passing:  6 0.16324976\n",
      "New model action:  [6]\n",
      "New model action value:  [0.16362911]\n",
      "Passing:  6 0.16362911\n",
      "New model action:  [6]\n",
      "New model action value:  [0.16285233]\n",
      "Passing:  6 0.16285233\n",
      "New model action:  [6]\n",
      "New model action value:  [0.16257349]\n",
      "Passing:  6 0.16257349\n",
      "----------------------------------------------------------------------------------------------------\n",
      "Cluster 5 has 387 trajectories out of 1677\n",
      "----------------------------------------------------------------------------------------------------\n",
      "2024-02-01 21:14.35 [debug    ] RandomIterator is selected.\n",
      "2024-02-01 21:14.35 [info     ] Directory is created at d3rlpy_logs/DiscreteSAC_20240201211435\n",
      "2024-02-01 21:14.35 [debug    ] Fitting scaler...              scaler=pixel\n",
      "2024-02-01 21:14.35 [debug    ] Building models...\n",
      "2024-02-01 21:14.35 [debug    ] Models have been built.\n",
      "2024-02-01 21:14.35 [info     ] Parameters are saved to d3rlpy_logs/DiscreteSAC_20240201211435/params.json params={'action_scaler': None, 'actor_encoder_factory': {'type': 'custom', 'params': {'feature_size': 128}}, 'actor_learning_rate': 0.0003, 'actor_optim_factory': {'optim_cls': 'Adam', 'betas': (0.9, 0.999), 'eps': 0.0001, 'weight_decay': 0, 'amsgrad': False}, 'batch_size': 256, 'critic_encoder_factory': {'type': 'custom', 'params': {'feature_size': 128}}, 'critic_learning_rate': 0.0003, 'critic_optim_factory': {'optim_cls': 'Adam', 'betas': (0.9, 0.999), 'eps': 0.0001, 'weight_decay': 0, 'amsgrad': False}, 'gamma': 0.99, 'generated_maxlen': 100000, 'initial_temperature': 1.0, 'n_critics': 2, 'n_frames': 1, 'n_steps': 1, 'q_func_factory': {'type': 'mean', 'params': {'share_encoder': False}}, 'real_ratio': 1.0, 'reward_scaler': None, 'scaler': {'type': 'pixel', 'params': {}}, 'target_update_interval': 8000, 'temp_learning_rate': 0.0003, 'temp_optim_factory': {'optim_cls': 'Adam', 'betas': (0.9, 0.999), 'eps': 0.0001, 'weight_decay': 0, 'amsgrad': False}, 'use_gpu': None, 'algorithm': 'DiscreteSAC', 'observation_shape': (4, 84, 84), 'action_size': 18}\n"
     ]
    },
    {
     "name": "stderr",
     "output_type": "stream",
     "text": [
      "\n",
      "Epoch 1/10: 100%|██████████| 1/1 [00:01<00:00,  1.98s/it, temp_loss=0.057, temp=1, critic_loss=4.62, actor_loss=-2.87]"
     ]
    },
    {
     "name": "stdout",
     "output_type": "stream",
     "text": [
      "2024-02-01 21:14.37 [info     ] DiscreteSAC_20240201211435: epoch=1 step=1 epoch=1 metrics={'time_sample_batch': 0.003245115280151367, 'time_algorithm_update': 1.975560188293457, 'temp_loss': 0.05699755996465683, 'temp': 0.9997005462646484, 'critic_loss': 4.623102188110352, 'actor_loss': -2.8667361736297607, 'time_step': 1.9793379306793213} step=1\n",
      "2024-02-01 21:14.37 [info     ] Model parameters are saved to d3rlpy_logs/DiscreteSAC_20240201211435/model_1.pt\n"
     ]
    },
    {
     "name": "stderr",
     "output_type": "stream",
     "text": [
      "\n",
      "Epoch 2/10: 100%|██████████| 1/1 [00:01<00:00,  1.98s/it, temp_loss=0.0571, temp=0.999, critic_loss=4.56, actor_loss=-2.87]"
     ]
    },
    {
     "name": "stdout",
     "output_type": "stream",
     "text": [
      "2024-02-01 21:14.39 [info     ] DiscreteSAC_20240201211435: epoch=2 step=2 epoch=2 metrics={'time_sample_batch': 0.003535032272338867, 'time_algorithm_update': 1.9763379096984863, 'temp_loss': 0.05707007646560669, 'temp': 0.9994012117385864, 'critic_loss': 4.5598578453063965, 'actor_loss': -2.872403383255005, 'time_step': 1.9803969860076904} step=2\n",
      "2024-02-01 21:14.39 [info     ] Model parameters are saved to d3rlpy_logs/DiscreteSAC_20240201211435/model_2.pt\n"
     ]
    },
    {
     "name": "stderr",
     "output_type": "stream",
     "text": [
      "\n",
      "Epoch 3/10: 100%|██████████| 1/1 [00:02<00:00,  2.03s/it, temp_loss=0.0571, temp=0.999, critic_loss=4.55, actor_loss=-2.88]"
     ]
    },
    {
     "name": "stdout",
     "output_type": "stream",
     "text": [
      "2024-02-01 21:14.41 [info     ] DiscreteSAC_20240201211435: epoch=3 step=3 epoch=3 metrics={'time_sample_batch': 0.0035169124603271484, 'time_algorithm_update': 2.022475004196167, 'temp_loss': 0.057116489857435226, 'temp': 0.9991019368171692, 'critic_loss': 4.5486555099487305, 'actor_loss': -2.87970232963562, 'time_step': 2.026543140411377} step=3\n",
      "2024-02-01 21:14.41 [info     ] Model parameters are saved to d3rlpy_logs/DiscreteSAC_20240201211435/model_3.pt\n"
     ]
    },
    {
     "name": "stderr",
     "output_type": "stream",
     "text": [
      "\n",
      "Epoch 4/10: 100%|██████████| 1/1 [00:02<00:00,  2.01s/it, temp_loss=0.0571, temp=0.999, critic_loss=4.51, actor_loss=-2.89]"
     ]
    },
    {
     "name": "stdout",
     "output_type": "stream",
     "text": [
      "2024-02-01 21:14.43 [info     ] DiscreteSAC_20240201211435: epoch=4 step=4 epoch=4 metrics={'time_sample_batch': 0.0027790069580078125, 'time_algorithm_update': 2.0013608932495117, 'temp_loss': 0.057149920612573624, 'temp': 0.9988027811050415, 'critic_loss': 4.505099296569824, 'actor_loss': -2.888707160949707, 'time_step': 2.0047709941864014} step=4\n",
      "2024-02-01 21:14.43 [info     ] Model parameters are saved to d3rlpy_logs/DiscreteSAC_20240201211435/model_4.pt\n"
     ]
    },
    {
     "name": "stderr",
     "output_type": "stream",
     "text": [
      "\n",
      "Epoch 5/10: 100%|██████████| 1/1 [00:02<00:00,  2.01s/it, temp_loss=0.0572, temp=0.999, critic_loss=4.35, actor_loss=-2.9]"
     ]
    },
    {
     "name": "stdout",
     "output_type": "stream",
     "text": [
      "2024-02-01 21:14.45 [info     ] DiscreteSAC_20240201211435: epoch=5 step=5 epoch=5 metrics={'time_sample_batch': 0.003131866455078125, 'time_algorithm_update': 2.0085160732269287, 'temp_loss': 0.057170748710632324, 'temp': 0.9985036253929138, 'critic_loss': 4.348759651184082, 'actor_loss': -2.899404525756836, 'time_step': 2.0122971534729004} step=5\n",
      "2024-02-01 21:14.45 [info     ] Model parameters are saved to d3rlpy_logs/DiscreteSAC_20240201211435/model_5.pt\n"
     ]
    },
    {
     "name": "stderr",
     "output_type": "stream",
     "text": [
      "\n",
      "Epoch 6/10: 100%|██████████| 1/1 [00:01<00:00,  1.97s/it, temp_loss=0.0572, temp=0.998, critic_loss=4.5, actor_loss=-2.91]"
     ]
    },
    {
     "name": "stdout",
     "output_type": "stream",
     "text": [
      "2024-02-01 21:14.47 [info     ] DiscreteSAC_20240201211435: epoch=6 step=6 epoch=6 metrics={'time_sample_batch': 0.0036461353302001953, 'time_algorithm_update': 1.9694299697875977, 'temp_loss': 0.05718354880809784, 'temp': 0.9982045888900757, 'critic_loss': 4.5016374588012695, 'actor_loss': -2.912444591522217, 'time_step': 1.9736378192901611} step=6\n",
      "2024-02-01 21:14.47 [info     ] Model parameters are saved to d3rlpy_logs/DiscreteSAC_20240201211435/model_6.pt\n"
     ]
    },
    {
     "name": "stderr",
     "output_type": "stream",
     "text": [
      "\n",
      "Epoch 7/10: 100%|██████████| 1/1 [00:01<00:00,  1.96s/it, temp_loss=0.0572, temp=0.998, critic_loss=4.41, actor_loss=-2.93]"
     ]
    },
    {
     "name": "stdout",
     "output_type": "stream",
     "text": [
      "2024-02-01 21:14.49 [info     ] DiscreteSAC_20240201211435: epoch=7 step=7 epoch=7 metrics={'time_sample_batch': 0.003490924835205078, 'time_algorithm_update': 1.9588899612426758, 'temp_loss': 0.05718472599983215, 'temp': 0.9979056119918823, 'critic_loss': 4.407726287841797, 'actor_loss': -2.927964448928833, 'time_step': 1.962942123413086} step=7\n",
      "2024-02-01 21:14.49 [info     ] Model parameters are saved to d3rlpy_logs/DiscreteSAC_20240201211435/model_7.pt\n"
     ]
    },
    {
     "name": "stderr",
     "output_type": "stream",
     "text": [
      "\n",
      "Epoch 8/10: 100%|██████████| 1/1 [00:01<00:00,  1.98s/it, temp_loss=0.0572, temp=0.998, critic_loss=4.3, actor_loss=-2.95]"
     ]
    },
    {
     "name": "stdout",
     "output_type": "stream",
     "text": [
      "2024-02-01 21:14.51 [info     ] DiscreteSAC_20240201211435: epoch=8 step=8 epoch=8 metrics={'time_sample_batch': 0.0037517547607421875, 'time_algorithm_update': 1.9782519340515137, 'temp_loss': 0.05717314034700394, 'temp': 0.9976067543029785, 'critic_loss': 4.301102638244629, 'actor_loss': -2.9510421752929688, 'time_step': 1.9825291633605957} step=8\n",
      "2024-02-01 21:14.51 [info     ] Model parameters are saved to d3rlpy_logs/DiscreteSAC_20240201211435/model_8.pt\n"
     ]
    },
    {
     "name": "stderr",
     "output_type": "stream",
     "text": [
      "\n",
      "Epoch 9/10: 100%|██████████| 1/1 [00:01<00:00,  1.98s/it, temp_loss=0.0571, temp=0.997, critic_loss=4.2, actor_loss=-2.98]"
     ]
    },
    {
     "name": "stdout",
     "output_type": "stream",
     "text": [
      "2024-02-01 21:14.53 [info     ] DiscreteSAC_20240201211435: epoch=9 step=9 epoch=9 metrics={'time_sample_batch': 0.003076791763305664, 'time_algorithm_update': 1.9774739742279053, 'temp_loss': 0.057141296565532684, 'temp': 0.9973080158233643, 'critic_loss': 4.20357608795166, 'actor_loss': -2.9831244945526123, 'time_step': 1.981092929840088} step=9\n",
      "2024-02-01 21:14.53 [info     ] Model parameters are saved to d3rlpy_logs/DiscreteSAC_20240201211435/model_9.pt\n"
     ]
    },
    {
     "name": "stderr",
     "output_type": "stream",
     "text": [
      "\n",
      "Epoch 10/10: 100%|██████████| 1/1 [00:01<00:00,  1.99s/it, temp_loss=0.0571, temp=0.997, critic_loss=4.06, actor_loss=-3.03]"
     ]
    },
    {
     "name": "stdout",
     "output_type": "stream",
     "text": [
      "2024-02-01 21:14.55 [info     ] DiscreteSAC_20240201211435: epoch=10 step=10 epoch=10 metrics={'time_sample_batch': 0.002753019332885742, 'time_algorithm_update': 1.987152099609375, 'temp_loss': 0.05707784369587898, 'temp': 0.9970093369483948, 'critic_loss': 4.055904388427734, 'actor_loss': -3.0276341438293457, 'time_step': 1.9904470443725586} step=10\n",
      "2024-02-01 21:14.55 [info     ] Model parameters are saved to d3rlpy_logs/DiscreteSAC_20240201211435/model_10.pt\n",
      "New model action:  [14]\n",
      "New model action value:  [0.5588027]\n",
      "Passing:  14 0.5588027\n",
      "New model action:  [14]\n",
      "New model action value:  [0.5513799]\n",
      "Passing:  14 0.5513799\n",
      "New model action:  [14]\n",
      "New model action value:  [0.5494319]\n",
      "Passing:  14 0.5494319\n",
      "New model action:  [14]\n",
      "New model action value:  [0.55736095]\n",
      "Passing:  14 0.55736095\n",
      "----------------------------------------------------------------------------------------------------\n",
      "Cluster 6 has 207 trajectories out of 1677\n",
      "----------------------------------------------------------------------------------------------------\n",
      "2024-02-01 21:14.55 [debug    ] RandomIterator is selected.\n",
      "2024-02-01 21:14.55 [info     ] Directory is created at d3rlpy_logs/DiscreteSAC_20240201211455\n",
      "2024-02-01 21:14.55 [debug    ] Fitting scaler...              scaler=pixel\n",
      "2024-02-01 21:14.55 [debug    ] Building models...\n",
      "2024-02-01 21:14.55 [debug    ] Models have been built.\n",
      "2024-02-01 21:14.55 [info     ] Parameters are saved to d3rlpy_logs/DiscreteSAC_20240201211455/params.json params={'action_scaler': None, 'actor_encoder_factory': {'type': 'custom', 'params': {'feature_size': 128}}, 'actor_learning_rate': 0.0003, 'actor_optim_factory': {'optim_cls': 'Adam', 'betas': (0.9, 0.999), 'eps': 0.0001, 'weight_decay': 0, 'amsgrad': False}, 'batch_size': 256, 'critic_encoder_factory': {'type': 'custom', 'params': {'feature_size': 128}}, 'critic_learning_rate': 0.0003, 'critic_optim_factory': {'optim_cls': 'Adam', 'betas': (0.9, 0.999), 'eps': 0.0001, 'weight_decay': 0, 'amsgrad': False}, 'gamma': 0.99, 'generated_maxlen': 100000, 'initial_temperature': 1.0, 'n_critics': 2, 'n_frames': 1, 'n_steps': 1, 'q_func_factory': {'type': 'mean', 'params': {'share_encoder': False}}, 'real_ratio': 1.0, 'reward_scaler': None, 'scaler': {'type': 'pixel', 'params': {}}, 'target_update_interval': 8000, 'temp_learning_rate': 0.0003, 'temp_optim_factory': {'optim_cls': 'Adam', 'betas': (0.9, 0.999), 'eps': 0.0001, 'weight_decay': 0, 'amsgrad': False}, 'use_gpu': None, 'algorithm': 'DiscreteSAC', 'observation_shape': (4, 84, 84), 'action_size': 18}\n"
     ]
    },
    {
     "name": "stderr",
     "output_type": "stream",
     "text": [
      "\n",
      "Epoch 1/10: 100%|██████████| 1/1 [00:01<00:00,  2.00s/it, temp_loss=0.0564, temp=1, critic_loss=4.58, actor_loss=-2.85]"
     ]
    },
    {
     "name": "stdout",
     "output_type": "stream",
     "text": [
      "2024-02-01 21:14.57 [info     ] DiscreteSAC_20240201211455: epoch=1 step=1 epoch=1 metrics={'time_sample_batch': 0.002552032470703125, 'time_algorithm_update': 1.9944109916687012, 'temp_loss': 0.056416500359773636, 'temp': 0.9997005462646484, 'critic_loss': 4.578276634216309, 'actor_loss': -2.8536455631256104, 'time_step': 1.9974958896636963} step=1\n",
      "2024-02-01 21:14.57 [info     ] Model parameters are saved to d3rlpy_logs/DiscreteSAC_20240201211455/model_1.pt\n"
     ]
    },
    {
     "name": "stderr",
     "output_type": "stream",
     "text": [
      "\n",
      "Epoch 2/10: 100%|██████████| 1/1 [00:02<00:00,  2.01s/it, temp_loss=0.0566, temp=0.999, critic_loss=4.54, actor_loss=-2.86]"
     ]
    },
    {
     "name": "stdout",
     "output_type": "stream",
     "text": [
      "2024-02-01 21:14.59 [info     ] DiscreteSAC_20240201211455: epoch=2 step=2 epoch=2 metrics={'time_sample_batch': 0.0037419795989990234, 'time_algorithm_update': 2.000420093536377, 'temp_loss': 0.05657003074884415, 'temp': 0.9994012117385864, 'critic_loss': 4.536737442016602, 'actor_loss': -2.86214542388916, 'time_step': 2.0047249794006348} step=2\n",
      "2024-02-01 21:14.59 [info     ] Model parameters are saved to d3rlpy_logs/DiscreteSAC_20240201211455/model_2.pt\n"
     ]
    },
    {
     "name": "stderr",
     "output_type": "stream",
     "text": [
      "\n",
      "Epoch 3/10: 100%|██████████| 1/1 [00:02<00:00,  2.04s/it, temp_loss=0.0567, temp=0.999, critic_loss=4.53, actor_loss=-2.87]"
     ]
    },
    {
     "name": "stdout",
     "output_type": "stream",
     "text": [
      "2024-02-01 21:15.01 [info     ] DiscreteSAC_20240201211455: epoch=3 step=3 epoch=3 metrics={'time_sample_batch': 0.003276824951171875, 'time_algorithm_update': 2.0324881076812744, 'temp_loss': 0.05669310316443443, 'temp': 0.9991019368171692, 'critic_loss': 4.533144474029541, 'actor_loss': -2.8728232383728027, 'time_step': 2.0364882946014404} step=3\n",
      "2024-02-01 21:15.02 [info     ] Model parameters are saved to d3rlpy_logs/DiscreteSAC_20240201211455/model_3.pt\n"
     ]
    },
    {
     "name": "stderr",
     "output_type": "stream",
     "text": [
      "\n",
      "Epoch 4/10: 100%|██████████| 1/1 [00:02<00:00,  2.02s/it, temp_loss=0.0568, temp=0.999, critic_loss=4.4, actor_loss=-2.89]"
     ]
    },
    {
     "name": "stdout",
     "output_type": "stream",
     "text": [
      "2024-02-01 21:15.04 [info     ] DiscreteSAC_20240201211455: epoch=4 step=4 epoch=4 metrics={'time_sample_batch': 0.003985166549682617, 'time_algorithm_update': 2.0109810829162598, 'temp_loss': 0.05678773671388626, 'temp': 0.998802661895752, 'critic_loss': 4.3972344398498535, 'actor_loss': -2.886784315109253, 'time_step': 2.015483856201172} step=4\n",
      "2024-02-01 21:15.04 [info     ] Model parameters are saved to d3rlpy_logs/DiscreteSAC_20240201211455/model_4.pt\n"
     ]
    },
    {
     "name": "stderr",
     "output_type": "stream",
     "text": [
      "\n",
      "Epoch 5/10: 100%|██████████| 1/1 [00:01<00:00,  1.98s/it, temp_loss=0.0569, temp=0.999, critic_loss=4.46, actor_loss=-2.9]"
     ]
    },
    {
     "name": "stdout",
     "output_type": "stream",
     "text": [
      "2024-02-01 21:15.06 [info     ] DiscreteSAC_20240201211455: epoch=5 step=5 epoch=5 metrics={'time_sample_batch': 0.0030968189239501953, 'time_algorithm_update': 1.9796957969665527, 'temp_loss': 0.05685241520404816, 'temp': 0.9985035061836243, 'critic_loss': 4.458629608154297, 'actor_loss': -2.90478253364563, 'time_step': 1.983341932296753} step=5\n",
      "2024-02-01 21:15.06 [info     ] Model parameters are saved to d3rlpy_logs/DiscreteSAC_20240201211455/model_5.pt\n"
     ]
    },
    {
     "name": "stderr",
     "output_type": "stream",
     "text": [
      "\n",
      "Epoch 6/10: 100%|██████████| 1/1 [00:01<00:00,  1.99s/it, temp_loss=0.0569, temp=0.998, critic_loss=4.26, actor_loss=-2.92]"
     ]
    },
    {
     "name": "stdout",
     "output_type": "stream",
     "text": [
      "2024-02-01 21:15.08 [info     ] DiscreteSAC_20240201211455: epoch=6 step=6 epoch=6 metrics={'time_sample_batch': 0.0029020309448242188, 'time_algorithm_update': 1.9863450527191162, 'temp_loss': 0.05690537020564079, 'temp': 0.9982043504714966, 'critic_loss': 4.255867004394531, 'actor_loss': -2.9244513511657715, 'time_step': 1.9898149967193604} step=6\n",
      "2024-02-01 21:15.08 [info     ] Model parameters are saved to d3rlpy_logs/DiscreteSAC_20240201211455/model_6.pt\n"
     ]
    },
    {
     "name": "stderr",
     "output_type": "stream",
     "text": [
      "\n",
      "Epoch 7/10: 100%|██████████| 1/1 [00:01<00:00,  1.97s/it, temp_loss=0.0569, temp=0.998, critic_loss=4.39, actor_loss=-2.95]"
     ]
    },
    {
     "name": "stdout",
     "output_type": "stream",
     "text": [
      "2024-02-01 21:15.10 [info     ] DiscreteSAC_20240201211455: epoch=7 step=7 epoch=7 metrics={'time_sample_batch': 0.0030367374420166016, 'time_algorithm_update': 1.9689741134643555, 'temp_loss': 0.05694590508937836, 'temp': 0.9979053139686584, 'critic_loss': 4.390008449554443, 'actor_loss': -2.9463069438934326, 'time_step': 1.9725539684295654} step=7\n",
      "2024-02-01 21:15.10 [info     ] Model parameters are saved to d3rlpy_logs/DiscreteSAC_20240201211455/model_7.pt\n"
     ]
    },
    {
     "name": "stderr",
     "output_type": "stream",
     "text": [
      "\n",
      "Epoch 8/10: 100%|██████████| 1/1 [00:02<00:00,  2.00s/it, temp_loss=0.057, temp=0.998, critic_loss=4.32, actor_loss=-2.98]"
     ]
    },
    {
     "name": "stdout",
     "output_type": "stream",
     "text": [
      "2024-02-01 21:15.12 [info     ] DiscreteSAC_20240201211455: epoch=8 step=8 epoch=8 metrics={'time_sample_batch': 0.0032579898834228516, 'time_algorithm_update': 2.0005199909210205, 'temp_loss': 0.05697782337665558, 'temp': 0.9976062774658203, 'critic_loss': 4.323641777038574, 'actor_loss': -2.9767112731933594, 'time_step': 2.0045299530029297} step=8\n",
      "2024-02-01 21:15.12 [info     ] Model parameters are saved to d3rlpy_logs/DiscreteSAC_20240201211455/model_8.pt\n"
     ]
    },
    {
     "name": "stderr",
     "output_type": "stream",
     "text": [
      "\n",
      "Epoch 9/10: 100%|██████████| 1/1 [00:01<00:00,  1.99s/it, temp_loss=0.057, temp=0.997, critic_loss=4.09, actor_loss=-3.02]"
     ]
    },
    {
     "name": "stdout",
     "output_type": "stream",
     "text": [
      "2024-02-01 21:15.14 [info     ] DiscreteSAC_20240201211455: epoch=9 step=9 epoch=9 metrics={'time_sample_batch': 0.002457141876220703, 'time_algorithm_update': 1.991227149963379, 'temp_loss': 0.056999027729034424, 'temp': 0.997307300567627, 'critic_loss': 4.09193229675293, 'actor_loss': -3.0184264183044434, 'time_step': 1.9943480491638184} step=9\n",
      "2024-02-01 21:15.14 [info     ] Model parameters are saved to d3rlpy_logs/DiscreteSAC_20240201211455/model_9.pt\n"
     ]
    },
    {
     "name": "stderr",
     "output_type": "stream",
     "text": [
      "\n",
      "Epoch 10/10: 100%|██████████| 1/1 [00:02<00:00,  2.05s/it, temp_loss=0.057, temp=0.997, critic_loss=4.08, actor_loss=-3.07]"
     ]
    },
    {
     "name": "stdout",
     "output_type": "stream",
     "text": [
      "2024-02-01 21:15.16 [info     ] DiscreteSAC_20240201211455: epoch=10 step=10 epoch=10 metrics={'time_sample_batch': 0.002803325653076172, 'time_algorithm_update': 2.044977903366089, 'temp_loss': 0.05699126794934273, 'temp': 0.9970084428787231, 'critic_loss': 4.0755615234375, 'actor_loss': -3.0672428607940674, 'time_step': 2.048443078994751} step=10\n",
      "2024-02-01 21:15.16 [info     ] Model parameters are saved to d3rlpy_logs/DiscreteSAC_20240201211455/model_10.pt\n",
      "New model action:  [17]\n",
      "New model action value:  [0.42683256]\n",
      "Passing:  17 0.42683256\n",
      "New model action:  [17]\n",
      "New model action value:  [0.4240774]\n",
      "Passing:  17 0.4240774\n",
      "New model action:  [17]\n",
      "New model action value:  [0.42313105]\n",
      "Passing:  17 0.42313105\n",
      "New model action:  [17]\n",
      "New model action value:  [0.4299667]\n",
      "Passing:  17 0.4299667\n",
      "----------------------------------------------------------------------------------------------------\n",
      "Cluster 7 has 355 trajectories out of 1677\n",
      "----------------------------------------------------------------------------------------------------\n",
      "2024-02-01 21:15.16 [debug    ] RandomIterator is selected.\n",
      "2024-02-01 21:15.16 [info     ] Directory is created at d3rlpy_logs/DiscreteSAC_20240201211516\n",
      "2024-02-01 21:15.16 [debug    ] Fitting scaler...              scaler=pixel\n",
      "2024-02-01 21:15.16 [debug    ] Building models...\n",
      "2024-02-01 21:15.16 [debug    ] Models have been built.\n",
      "2024-02-01 21:15.16 [info     ] Parameters are saved to d3rlpy_logs/DiscreteSAC_20240201211516/params.json params={'action_scaler': None, 'actor_encoder_factory': {'type': 'custom', 'params': {'feature_size': 128}}, 'actor_learning_rate': 0.0003, 'actor_optim_factory': {'optim_cls': 'Adam', 'betas': (0.9, 0.999), 'eps': 0.0001, 'weight_decay': 0, 'amsgrad': False}, 'batch_size': 256, 'critic_encoder_factory': {'type': 'custom', 'params': {'feature_size': 128}}, 'critic_learning_rate': 0.0003, 'critic_optim_factory': {'optim_cls': 'Adam', 'betas': (0.9, 0.999), 'eps': 0.0001, 'weight_decay': 0, 'amsgrad': False}, 'gamma': 0.99, 'generated_maxlen': 100000, 'initial_temperature': 1.0, 'n_critics': 2, 'n_frames': 1, 'n_steps': 1, 'q_func_factory': {'type': 'mean', 'params': {'share_encoder': False}}, 'real_ratio': 1.0, 'reward_scaler': None, 'scaler': {'type': 'pixel', 'params': {}}, 'target_update_interval': 8000, 'temp_learning_rate': 0.0003, 'temp_optim_factory': {'optim_cls': 'Adam', 'betas': (0.9, 0.999), 'eps': 0.0001, 'weight_decay': 0, 'amsgrad': False}, 'use_gpu': None, 'algorithm': 'DiscreteSAC', 'observation_shape': (4, 84, 84), 'action_size': 18}\n"
     ]
    },
    {
     "name": "stderr",
     "output_type": "stream",
     "text": [
      "\n",
      "Epoch 1/10: 100%|██████████| 1/1 [00:01<00:00,  1.99s/it, temp_loss=0.0564, temp=1, critic_loss=4.6, actor_loss=-2.85]"
     ]
    },
    {
     "name": "stdout",
     "output_type": "stream",
     "text": [
      "2024-02-01 21:15.18 [info     ] DiscreteSAC_20240201211516: epoch=1 step=1 epoch=1 metrics={'time_sample_batch': 0.0030257701873779297, 'time_algorithm_update': 1.984184741973877, 'temp_loss': 0.05637064576148987, 'temp': 0.9997006058692932, 'critic_loss': 4.600635051727295, 'actor_loss': -2.847942352294922, 'time_step': 1.9877979755401611} step=1\n",
      "2024-02-01 21:15.18 [info     ] Model parameters are saved to d3rlpy_logs/DiscreteSAC_20240201211516/model_1.pt\n"
     ]
    },
    {
     "name": "stderr",
     "output_type": "stream",
     "text": [
      "\n",
      "Epoch 2/10: 100%|██████████| 1/1 [00:02<00:00,  2.01s/it, temp_loss=0.0565, temp=0.999, critic_loss=4.47, actor_loss=-2.85]"
     ]
    },
    {
     "name": "stdout",
     "output_type": "stream",
     "text": [
      "2024-02-01 21:15.20 [info     ] DiscreteSAC_20240201211516: epoch=2 step=2 epoch=2 metrics={'time_sample_batch': 0.003190755844116211, 'time_algorithm_update': 2.0016660690307617, 'temp_loss': 0.056528929620981216, 'temp': 0.9994012117385864, 'critic_loss': 4.471138954162598, 'actor_loss': -2.853292942047119, 'time_step': 2.005466938018799} step=2\n",
      "2024-02-01 21:15.20 [info     ] Model parameters are saved to d3rlpy_logs/DiscreteSAC_20240201211516/model_2.pt\n"
     ]
    },
    {
     "name": "stderr",
     "output_type": "stream",
     "text": [
      "\n",
      "Epoch 3/10: 100%|██████████| 1/1 [00:01<00:00,  1.99s/it, temp_loss=0.0566, temp=0.999, critic_loss=4.54, actor_loss=-2.86]"
     ]
    },
    {
     "name": "stdout",
     "output_type": "stream",
     "text": [
      "2024-02-01 21:15.22 [info     ] DiscreteSAC_20240201211516: epoch=3 step=3 epoch=3 metrics={'time_sample_batch': 0.003283977508544922, 'time_algorithm_update': 1.9837710857391357, 'temp_loss': 0.05664918199181557, 'temp': 0.9991019368171692, 'critic_loss': 4.544235706329346, 'actor_loss': -2.859880208969116, 'time_step': 1.9875750541687012} step=3\n",
      "2024-02-01 21:15.22 [info     ] Model parameters are saved to d3rlpy_logs/DiscreteSAC_20240201211516/model_3.pt\n"
     ]
    },
    {
     "name": "stderr",
     "output_type": "stream",
     "text": [
      "\n",
      "Epoch 4/10: 100%|██████████| 1/1 [00:01<00:00,  1.98s/it, temp_loss=0.0567, temp=0.999, critic_loss=4.51, actor_loss=-2.87]"
     ]
    },
    {
     "name": "stdout",
     "output_type": "stream",
     "text": [
      "2024-02-01 21:15.24 [info     ] DiscreteSAC_20240201211516: epoch=4 step=4 epoch=4 metrics={'time_sample_batch': 0.003206968307495117, 'time_algorithm_update': 1.9739279747009277, 'temp_loss': 0.056745726615190506, 'temp': 0.998802661895752, 'critic_loss': 4.513242721557617, 'actor_loss': -2.868495464324951, 'time_step': 1.9776759147644043} step=4\n",
      "2024-02-01 21:15.24 [info     ] Model parameters are saved to d3rlpy_logs/DiscreteSAC_20240201211516/model_4.pt\n"
     ]
    },
    {
     "name": "stderr",
     "output_type": "stream",
     "text": [
      "\n",
      "Epoch 5/10: 100%|██████████| 1/1 [00:01<00:00,  2.00s/it, temp_loss=0.0568, temp=0.999, critic_loss=4.41, actor_loss=-2.88]"
     ]
    },
    {
     "name": "stdout",
     "output_type": "stream",
     "text": [
      "2024-02-01 21:15.26 [info     ] DiscreteSAC_20240201211516: epoch=5 step=5 epoch=5 metrics={'time_sample_batch': 0.0029611587524414062, 'time_algorithm_update': 1.9924430847167969, 'temp_loss': 0.05683133006095886, 'temp': 0.9985035061836243, 'critic_loss': 4.409127235412598, 'actor_loss': -2.8798909187316895, 'time_step': 1.9959301948547363} step=5\n",
      "2024-02-01 21:15.26 [info     ] Model parameters are saved to d3rlpy_logs/DiscreteSAC_20240201211516/model_5.pt\n"
     ]
    },
    {
     "name": "stderr",
     "output_type": "stream",
     "text": [
      "\n",
      "Epoch 6/10: 100%|██████████| 1/1 [00:02<00:00,  2.05s/it, temp_loss=0.0569, temp=0.998, critic_loss=4.42, actor_loss=-2.89]"
     ]
    },
    {
     "name": "stdout",
     "output_type": "stream",
     "text": [
      "2024-02-01 21:15.28 [info     ] DiscreteSAC_20240201211516: epoch=6 step=6 epoch=6 metrics={'time_sample_batch': 0.003248929977416992, 'time_algorithm_update': 2.0500099658966064, 'temp_loss': 0.056908413767814636, 'temp': 0.9982043504714966, 'critic_loss': 4.41892147064209, 'actor_loss': -2.893791675567627, 'time_step': 2.053936004638672} step=6\n",
      "2024-02-01 21:15.28 [info     ] Model parameters are saved to d3rlpy_logs/DiscreteSAC_20240201211516/model_6.pt\n"
     ]
    },
    {
     "name": "stderr",
     "output_type": "stream",
     "text": [
      "\n",
      "Epoch 7/10: 100%|██████████| 1/1 [00:02<00:00,  2.11s/it, temp_loss=0.057, temp=0.998, critic_loss=4.48, actor_loss=-2.91]"
     ]
    },
    {
     "name": "stdout",
     "output_type": "stream",
     "text": [
      "2024-02-01 21:15.30 [info     ] DiscreteSAC_20240201211516: epoch=7 step=7 epoch=7 metrics={'time_sample_batch': 0.003246307373046875, 'time_algorithm_update': 2.101945161819458, 'temp_loss': 0.05697086080908775, 'temp': 0.9979052543640137, 'critic_loss': 4.483152866363525, 'actor_loss': -2.9095304012298584, 'time_step': 2.1057240962982178} step=7\n",
      "2024-02-01 21:15.31 [info     ] Model parameters are saved to d3rlpy_logs/DiscreteSAC_20240201211516/model_7.pt\n"
     ]
    },
    {
     "name": "stderr",
     "output_type": "stream",
     "text": [
      "\n",
      "Epoch 8/10: 100%|██████████| 1/1 [00:02<00:00,  2.01s/it, temp_loss=0.057, temp=0.998, critic_loss=4.22, actor_loss=-2.93]"
     ]
    },
    {
     "name": "stdout",
     "output_type": "stream",
     "text": [
      "2024-02-01 21:15.33 [info     ] DiscreteSAC_20240201211516: epoch=8 step=8 epoch=8 metrics={'time_sample_batch': 0.0031728744506835938, 'time_algorithm_update': 2.006937026977539, 'temp_loss': 0.05700985714793205, 'temp': 0.9976062178611755, 'critic_loss': 4.222870826721191, 'actor_loss': -2.928131103515625, 'time_step': 2.0106208324432373} step=8\n",
      "2024-02-01 21:15.33 [info     ] Model parameters are saved to d3rlpy_logs/DiscreteSAC_20240201211516/model_8.pt\n"
     ]
    },
    {
     "name": "stderr",
     "output_type": "stream",
     "text": [
      "\n",
      "Epoch 9/10: 100%|██████████| 1/1 [00:02<00:00,  2.02s/it, temp_loss=0.057, temp=0.997, critic_loss=4.26, actor_loss=-2.96]"
     ]
    },
    {
     "name": "stdout",
     "output_type": "stream",
     "text": [
      "2024-02-01 21:15.35 [info     ] DiscreteSAC_20240201211516: epoch=9 step=9 epoch=9 metrics={'time_sample_batch': 0.0033600330352783203, 'time_algorithm_update': 2.017241954803467, 'temp_loss': 0.05702492594718933, 'temp': 0.9973071813583374, 'critic_loss': 4.260093688964844, 'actor_loss': -2.95615291595459, 'time_step': 2.0211870670318604} step=9\n",
      "2024-02-01 21:15.35 [info     ] Model parameters are saved to d3rlpy_logs/DiscreteSAC_20240201211516/model_9.pt\n"
     ]
    },
    {
     "name": "stderr",
     "output_type": "stream",
     "text": [
      "\n",
      "Epoch 10/10: 100%|██████████| 1/1 [00:02<00:00,  2.05s/it, temp_loss=0.057, temp=0.997, critic_loss=4.15, actor_loss=-2.99]"
     ]
    },
    {
     "name": "stdout",
     "output_type": "stream",
     "text": [
      "2024-02-01 21:15.37 [info     ] DiscreteSAC_20240201211516: epoch=10 step=10 epoch=10 metrics={'time_sample_batch': 0.0025777816772460938, 'time_algorithm_update': 2.0492870807647705, 'temp_loss': 0.05697012320160866, 'temp': 0.9970083236694336, 'critic_loss': 4.1494646072387695, 'actor_loss': -2.992384195327759, 'time_step': 2.052562952041626} step=10\n",
      "2024-02-01 21:15.37 [info     ] Model parameters are saved to d3rlpy_logs/DiscreteSAC_20240201211516/model_10.pt\n",
      "New model action:  [11]\n",
      "New model action value:  [0.37452382]\n",
      "Passing:  11 0.37452382\n",
      "New model action:  [11]\n",
      "New model action value:  [0.37423462]\n",
      "Passing:  11 0.37423462\n",
      "New model action:  [11]\n",
      "New model action value:  [0.3712205]\n",
      "Passing:  11 0.3712205\n",
      "New model action:  [11]\n",
      "New model action value:  [0.3745811]\n",
      "Passing:  11 0.3745811\n",
      "----------------------------------------------------------------------------------------------------\n",
      "Cluster 8 has 191 trajectories out of 1677\n",
      "----------------------------------------------------------------------------------------------------\n",
      "2024-02-01 21:15.37 [debug    ] RandomIterator is selected.\n",
      "2024-02-01 21:15.37 [info     ] Directory is created at d3rlpy_logs/DiscreteSAC_20240201211537\n",
      "2024-02-01 21:15.37 [debug    ] Fitting scaler...              scaler=pixel\n",
      "2024-02-01 21:15.37 [debug    ] Building models...\n",
      "2024-02-01 21:15.37 [debug    ] Models have been built.\n",
      "2024-02-01 21:15.37 [info     ] Parameters are saved to d3rlpy_logs/DiscreteSAC_20240201211537/params.json params={'action_scaler': None, 'actor_encoder_factory': {'type': 'custom', 'params': {'feature_size': 128}}, 'actor_learning_rate': 0.0003, 'actor_optim_factory': {'optim_cls': 'Adam', 'betas': (0.9, 0.999), 'eps': 0.0001, 'weight_decay': 0, 'amsgrad': False}, 'batch_size': 256, 'critic_encoder_factory': {'type': 'custom', 'params': {'feature_size': 128}}, 'critic_learning_rate': 0.0003, 'critic_optim_factory': {'optim_cls': 'Adam', 'betas': (0.9, 0.999), 'eps': 0.0001, 'weight_decay': 0, 'amsgrad': False}, 'gamma': 0.99, 'generated_maxlen': 100000, 'initial_temperature': 1.0, 'n_critics': 2, 'n_frames': 1, 'n_steps': 1, 'q_func_factory': {'type': 'mean', 'params': {'share_encoder': False}}, 'real_ratio': 1.0, 'reward_scaler': None, 'scaler': {'type': 'pixel', 'params': {}}, 'target_update_interval': 8000, 'temp_learning_rate': 0.0003, 'temp_optim_factory': {'optim_cls': 'Adam', 'betas': (0.9, 0.999), 'eps': 0.0001, 'weight_decay': 0, 'amsgrad': False}, 'use_gpu': None, 'algorithm': 'DiscreteSAC', 'observation_shape': (4, 84, 84), 'action_size': 18}\n"
     ]
    },
    {
     "name": "stderr",
     "output_type": "stream",
     "text": [
      "\n",
      "Epoch 1/10: 100%|██████████| 1/1 [00:01<00:00,  1.99s/it, temp_loss=0.0566, temp=1, critic_loss=4.52, actor_loss=-2.88]"
     ]
    },
    {
     "name": "stdout",
     "output_type": "stream",
     "text": [
      "2024-02-01 21:15.39 [info     ] DiscreteSAC_20240201211537: epoch=1 step=1 epoch=1 metrics={'time_sample_batch': 0.0028429031372070312, 'time_algorithm_update': 1.9825680255889893, 'temp_loss': 0.056649282574653625, 'temp': 0.9997005462646484, 'critic_loss': 4.518222808837891, 'actor_loss': -2.8789267539978027, 'time_step': 1.9860060214996338} step=1\n",
      "2024-02-01 21:15.39 [info     ] Model parameters are saved to d3rlpy_logs/DiscreteSAC_20240201211537/model_1.pt\n"
     ]
    },
    {
     "name": "stderr",
     "output_type": "stream",
     "text": [
      "\n",
      "Epoch 2/10: 100%|██████████| 1/1 [00:01<00:00,  1.99s/it, temp_loss=0.0567, temp=0.999, critic_loss=4.59, actor_loss=-2.88]"
     ]
    },
    {
     "name": "stdout",
     "output_type": "stream",
     "text": [
      "2024-02-01 21:15.41 [info     ] DiscreteSAC_20240201211537: epoch=2 step=2 epoch=2 metrics={'time_sample_batch': 0.0028710365295410156, 'time_algorithm_update': 1.9837710857391357, 'temp_loss': 0.05671852082014084, 'temp': 0.9994012117385864, 'critic_loss': 4.587435722351074, 'actor_loss': -2.8830347061157227, 'time_step': 1.9871740341186523} step=2\n",
      "2024-02-01 21:15.41 [info     ] Model parameters are saved to d3rlpy_logs/DiscreteSAC_20240201211537/model_2.pt\n"
     ]
    },
    {
     "name": "stderr",
     "output_type": "stream",
     "text": [
      "\n",
      "Epoch 3/10: 100%|██████████| 1/1 [00:02<00:00,  2.06s/it, temp_loss=0.0568, temp=0.999, critic_loss=4.58, actor_loss=-2.89]"
     ]
    },
    {
     "name": "stdout",
     "output_type": "stream",
     "text": [
      "2024-02-01 21:15.43 [info     ] DiscreteSAC_20240201211537: epoch=3 step=3 epoch=3 metrics={'time_sample_batch': 0.0025742053985595703, 'time_algorithm_update': 2.0546653270721436, 'temp_loss': 0.056778937578201294, 'temp': 0.9991019368171692, 'critic_loss': 4.581206321716309, 'actor_loss': -2.8879127502441406, 'time_step': 2.057828903198242} step=3\n",
      "2024-02-01 21:15.43 [info     ] Model parameters are saved to d3rlpy_logs/DiscreteSAC_20240201211537/model_3.pt\n"
     ]
    },
    {
     "name": "stderr",
     "output_type": "stream",
     "text": [
      "\n",
      "Epoch 4/10: 100%|██████████| 1/1 [00:02<00:00,  2.01s/it, temp_loss=0.0568, temp=0.999, critic_loss=4.52, actor_loss=-2.89]"
     ]
    },
    {
     "name": "stdout",
     "output_type": "stream",
     "text": [
      "2024-02-01 21:15.45 [info     ] DiscreteSAC_20240201211537: epoch=4 step=4 epoch=4 metrics={'time_sample_batch': 0.0033228397369384766, 'time_algorithm_update': 2.0029549598693848, 'temp_loss': 0.05682545155286789, 'temp': 0.9988027811050415, 'critic_loss': 4.5166730880737305, 'actor_loss': -2.894308090209961, 'time_step': 2.006824016571045} step=4\n",
      "2024-02-01 21:15.45 [info     ] Model parameters are saved to d3rlpy_logs/DiscreteSAC_20240201211537/model_4.pt\n"
     ]
    },
    {
     "name": "stderr",
     "output_type": "stream",
     "text": [
      "\n",
      "Epoch 5/10: 100%|██████████| 1/1 [00:02<00:00,  2.01s/it, temp_loss=0.0569, temp=0.999, critic_loss=4.43, actor_loss=-2.9]"
     ]
    },
    {
     "name": "stdout",
     "output_type": "stream",
     "text": [
      "2024-02-01 21:15.47 [info     ] DiscreteSAC_20240201211537: epoch=5 step=5 epoch=5 metrics={'time_sample_batch': 0.004012107849121094, 'time_algorithm_update': 2.004570722579956, 'temp_loss': 0.05686303600668907, 'temp': 0.9985036253929138, 'critic_loss': 4.425753593444824, 'actor_loss': -2.90315842628479, 'time_step': 2.0092849731445312} step=5\n",
      "2024-02-01 21:15.47 [info     ] Model parameters are saved to d3rlpy_logs/DiscreteSAC_20240201211537/model_5.pt\n"
     ]
    },
    {
     "name": "stderr",
     "output_type": "stream",
     "text": [
      "\n",
      "Epoch 6/10: 100%|██████████| 1/1 [00:01<00:00,  1.99s/it, temp_loss=0.0569, temp=0.998, critic_loss=4.46, actor_loss=-2.91]"
     ]
    },
    {
     "name": "stdout",
     "output_type": "stream",
     "text": [
      "2024-02-01 21:15.49 [info     ] DiscreteSAC_20240201211537: epoch=6 step=6 epoch=6 metrics={'time_sample_batch': 0.0030918121337890625, 'time_algorithm_update': 1.9877328872680664, 'temp_loss': 0.05688629671931267, 'temp': 0.9982045888900757, 'critic_loss': 4.45601749420166, 'actor_loss': -2.914369583129883, 'time_step': 1.9913930892944336} step=6\n",
      "2024-02-01 21:15.49 [info     ] Model parameters are saved to d3rlpy_logs/DiscreteSAC_20240201211537/model_6.pt\n"
     ]
    },
    {
     "name": "stderr",
     "output_type": "stream",
     "text": [
      "\n",
      "Epoch 7/10: 100%|██████████| 1/1 [00:02<00:00,  2.03s/it, temp_loss=0.0569, temp=0.998, critic_loss=4.46, actor_loss=-2.93]"
     ]
    },
    {
     "name": "stdout",
     "output_type": "stream",
     "text": [
      "2024-02-01 21:15.51 [info     ] DiscreteSAC_20240201211537: epoch=7 step=7 epoch=7 metrics={'time_sample_batch': 0.0032341480255126953, 'time_algorithm_update': 2.0213098526000977, 'temp_loss': 0.056892894208431244, 'temp': 0.9979056119918823, 'critic_loss': 4.458274841308594, 'actor_loss': -2.9293410778045654, 'time_step': 2.025301218032837} step=7\n",
      "2024-02-01 21:15.51 [info     ] Model parameters are saved to d3rlpy_logs/DiscreteSAC_20240201211537/model_7.pt\n"
     ]
    },
    {
     "name": "stderr",
     "output_type": "stream",
     "text": [
      "\n",
      "Epoch 8/10: 100%|██████████| 1/1 [00:02<00:00,  2.03s/it, temp_loss=0.0569, temp=0.998, critic_loss=4.31, actor_loss=-2.95]"
     ]
    },
    {
     "name": "stdout",
     "output_type": "stream",
     "text": [
      "2024-02-01 21:15.53 [info     ] DiscreteSAC_20240201211537: epoch=8 step=8 epoch=8 metrics={'time_sample_batch': 0.0025396347045898438, 'time_algorithm_update': 2.0220580101013184, 'temp_loss': 0.05688066408038139, 'temp': 0.9976066946983337, 'critic_loss': 4.308380126953125, 'actor_loss': -2.9480531215667725, 'time_step': 2.02531099319458} step=8\n",
      "2024-02-01 21:15.53 [info     ] Model parameters are saved to d3rlpy_logs/DiscreteSAC_20240201211537/model_8.pt\n"
     ]
    },
    {
     "name": "stderr",
     "output_type": "stream",
     "text": [
      "\n",
      "Epoch 9/10: 100%|██████████| 1/1 [00:01<00:00,  1.97s/it, temp_loss=0.0568, temp=0.997, critic_loss=4.29, actor_loss=-2.97]"
     ]
    },
    {
     "name": "stdout",
     "output_type": "stream",
     "text": [
      "2024-02-01 21:15.55 [info     ] DiscreteSAC_20240201211537: epoch=9 step=9 epoch=9 metrics={'time_sample_batch': 0.0027751922607421875, 'time_algorithm_update': 1.967560052871704, 'temp_loss': 0.05684971809387207, 'temp': 0.9973078966140747, 'critic_loss': 4.287954330444336, 'actor_loss': -2.9738714694976807, 'time_step': 1.9708850383758545} step=9\n",
      "2024-02-01 21:15.55 [info     ] Model parameters are saved to d3rlpy_logs/DiscreteSAC_20240201211537/model_9.pt\n"
     ]
    },
    {
     "name": "stderr",
     "output_type": "stream",
     "text": [
      "\n",
      "Epoch 10/10: 100%|██████████| 1/1 [00:02<00:00,  2.03s/it, temp_loss=0.0568, temp=0.997, critic_loss=4.26, actor_loss=-3]"
     ]
    },
    {
     "name": "stdout",
     "output_type": "stream",
     "text": [
      "2024-02-01 21:15.57 [info     ] DiscreteSAC_20240201211537: epoch=10 step=10 epoch=10 metrics={'time_sample_batch': 0.0029478073120117188, 'time_algorithm_update': 2.028027057647705, 'temp_loss': 0.056795939803123474, 'temp': 0.9970092177391052, 'critic_loss': 4.258206367492676, 'actor_loss': -3.0024547576904297, 'time_step': 2.0314888954162598} step=10\n",
      "2024-02-01 21:15.58 [info     ] Model parameters are saved to d3rlpy_logs/DiscreteSAC_20240201211537/model_10.pt\n",
      "New model action:  [16]\n",
      "New model action value:  [0.34367856]\n",
      "Passing:  16 0.34367856\n",
      "New model action:  [16]\n",
      "New model action value:  [0.34149146]\n",
      "Passing:  16 0.34149146\n",
      "New model action:  [16]\n",
      "New model action value:  [0.3400364]\n",
      "Passing:  16 0.3400364\n",
      "New model action:  [16]\n",
      "New model action value:  [0.3437826]\n",
      "Passing:  16 0.3437826\n"
     ]
    },
    {
     "name": "stderr",
     "output_type": "stream",
     "text": [
      "\n"
     ]
    }
   ],
   "source": [
    "models_sq, result_data_combinations_sq = fit_per_cluster(\n",
    "        model= sac_sq, \n",
    "        model_class = d3rlpy.algos.DiscreteSAC,\n",
    "        model_params=model_params_sq,\n",
    "        data_embedding=trajectory_embedding_seaquest,\n",
    "        list_episodes=list_episodes_sq,\n",
    "        clusters=clusters_seaquest,\n",
    "        trajectory_embedding=trajectory_embedding_seaquest,\n",
    "        test_observations=test_observations)"
   ]
  },
  {
   "cell_type": "code",
   "execution_count": null,
   "metadata": {},
   "outputs": [],
   "source": []
  },
  {
   "cell_type": "code",
   "execution_count": 47,
   "metadata": {},
   "outputs": [],
   "source": [
    "def trajectory_attributions(test_observations, models, traj_embeddings, clusters):\n",
    "    attributions = []\n",
    "    data_embedding = get_data_embedding(traj_embeddings)\n",
    "    # First model is trained on full dataset\n",
    "    # Second model is trained on cluster 1\n",
    "    # Third model is trained on cluster 2 ...\n",
    "    original_model = models[0][0]\n",
    "    original_data_embedding = models[0][1]\n",
    "    for i in range (len(test_observations)):\n",
    "        print('#' * 100, f'Observation {i + 1}', '#' * 100)\n",
    "        print\n",
    "        t = test_observations[i]\n",
    "        print(t.shape)\n",
    "        plt.imshow(t[0][0], cmap='gray')\n",
    "        plt.savefig(f'test_observation_{i + 1}.png')\n",
    "        original_action = original_model.predict(t)\n",
    "        sub_dist = []\n",
    "        for k in models:\n",
    "            #v[0] # model\n",
    "            #v[1] # data_embedding\n",
    "            model = models[k][0]\n",
    "            data_embedding = models[k][1]\n",
    "\n",
    "            action = model.predict(t)\n",
    "            print(f\"{k}-th model predicted action:\", action)\n",
    "            print(\"Original model's action\", original_action)\n",
    "\n",
    "            if action != original_action:\n",
    "                w_d = wasserstein_distance(original_data_embedding, data_embedding)\n",
    "                print(\"Wasserstein distance: \", w_d)\n",
    "            else:\n",
    "                w_d = 1e9\n",
    "            \n",
    "            sub_dist.append(w_d)\n",
    "        \n",
    "        print(\"DEBUG: len(sub_dist)\", len(sub_dist))\n",
    "        print(\"DEBUG: sub_dist\", sub_dist)\n",
    "        print(\"DEBUG: np.argsort(sub_dist)\", np.argsort(sub_dist))\n",
    "        responsible_data_combination = np.argsort(sub_dist)[0] - 1\n",
    "        print(\"Responsible data combination: \", responsible_data_combination)\n",
    "\n",
    "        if sub_dist[responsible_data_combination] == 1e9 or sub_dist[responsible_data_combination] == 0:\n",
    "            print(\"No attribution found\")\n",
    "            continue\n",
    "    \n",
    "        attributions.append({\n",
    "                    'models': [v[0] for v in models.values()],\n",
    "                    'orig_act': original_action,\n",
    "                    'new_act': action,\n",
    "                    'attributed_trajs': clusters[responsible_data_combination],\n",
    "                    'responsible_cluster': responsible_data_combination\n",
    "                })\n",
    "    \n",
    "    return attributions"
   ]
  },
  {
   "cell_type": "code",
   "execution_count": 30,
   "metadata": {},
   "outputs": [
    {
     "name": "stdout",
     "output_type": "stream",
     "text": [
      "#################################################################################################### Observation 1 ####################################################################################################\n",
      "0-th model predicted action: [1]\n",
      "Original model's action [1]\n",
      "1-th model predicted action: [6]\n",
      "Original model's action [1]\n",
      "Wasserstein distance:  9.313225746154785e-10\n",
      "2-th model predicted action: [15]\n",
      "Original model's action [1]\n",
      "Wasserstein distance:  4.656612873077393e-10\n",
      "3-th model predicted action: [16]\n",
      "Original model's action [1]\n",
      "Wasserstein distance:  0.0025711171329021454\n",
      "4-th model predicted action: [6]\n",
      "Original model's action [1]\n",
      "Wasserstein distance:  6.05359673500061e-09\n",
      "5-th model predicted action: [14]\n",
      "Original model's action [1]\n",
      "Wasserstein distance:  2.8542708605527878e-05\n",
      "6-th model predicted action: [17]\n",
      "Original model's action [1]\n",
      "Wasserstein distance:  3.632158041000366e-08\n",
      "7-th model predicted action: [11]\n",
      "Original model's action [1]\n",
      "Wasserstein distance:  1.0710209608078003e-08\n",
      "8-th model predicted action: [16]\n",
      "Original model's action [1]\n",
      "Wasserstein distance:  1.3969838619232178e-09\n",
      "DEBUG: len(sub_dist) 9\n",
      "DEBUG: sub_dist [1000000000.0, 9.313225746154785e-10, 4.656612873077393e-10, 0.0025711171329021454, 6.05359673500061e-09, 2.8542708605527878e-05, 3.632158041000366e-08, 1.0710209608078003e-08, 1.3969838619232178e-09]\n",
      "DEBUG: np.argsort(sub_dist) [2 1 8 4 7 6 5 3 0]\n",
      "Responsible data combination:  1\n",
      "#################################################################################################### Observation 2 ####################################################################################################\n",
      "0-th model predicted action: [1]\n",
      "Original model's action [1]\n",
      "1-th model predicted action: [6]\n",
      "Original model's action [1]\n",
      "Wasserstein distance:  9.313225746154785e-10\n",
      "2-th model predicted action: [15]\n",
      "Original model's action [1]\n",
      "Wasserstein distance:  4.656612873077393e-10\n",
      "3-th model predicted action: [16]\n",
      "Original model's action [1]\n",
      "Wasserstein distance:  0.0025711171329021454\n",
      "4-th model predicted action: [6]\n",
      "Original model's action [1]\n",
      "Wasserstein distance:  6.05359673500061e-09\n",
      "5-th model predicted action: [14]\n",
      "Original model's action [1]\n",
      "Wasserstein distance:  2.8542708605527878e-05\n",
      "6-th model predicted action: [17]\n",
      "Original model's action [1]\n",
      "Wasserstein distance:  3.632158041000366e-08\n",
      "7-th model predicted action: [11]\n",
      "Original model's action [1]\n",
      "Wasserstein distance:  1.0710209608078003e-08\n",
      "8-th model predicted action: [16]\n",
      "Original model's action [1]\n",
      "Wasserstein distance:  1.3969838619232178e-09\n",
      "DEBUG: len(sub_dist) 9\n",
      "DEBUG: sub_dist [1000000000.0, 9.313225746154785e-10, 4.656612873077393e-10, 0.0025711171329021454, 6.05359673500061e-09, 2.8542708605527878e-05, 3.632158041000366e-08, 1.0710209608078003e-08, 1.3969838619232178e-09]\n",
      "DEBUG: np.argsort(sub_dist) [2 1 8 4 7 6 5 3 0]\n",
      "Responsible data combination:  1\n",
      "#################################################################################################### Observation 3 ####################################################################################################\n",
      "0-th model predicted action: [1]\n",
      "Original model's action [1]\n",
      "1-th model predicted action: [6]\n",
      "Original model's action [1]\n",
      "Wasserstein distance:  9.313225746154785e-10\n",
      "2-th model predicted action: [15]\n",
      "Original model's action [1]\n",
      "Wasserstein distance:  4.656612873077393e-10\n",
      "3-th model predicted action: [16]\n",
      "Original model's action [1]\n",
      "Wasserstein distance:  0.0025711171329021454\n",
      "4-th model predicted action: [6]\n",
      "Original model's action [1]\n",
      "Wasserstein distance:  6.05359673500061e-09\n",
      "5-th model predicted action: [14]\n",
      "Original model's action [1]\n",
      "Wasserstein distance:  2.8542708605527878e-05\n",
      "6-th model predicted action: [17]\n",
      "Original model's action [1]\n",
      "Wasserstein distance:  3.632158041000366e-08\n",
      "7-th model predicted action: [11]\n",
      "Original model's action [1]\n",
      "Wasserstein distance:  1.0710209608078003e-08\n",
      "8-th model predicted action: [16]\n",
      "Original model's action [1]\n",
      "Wasserstein distance:  1.3969838619232178e-09\n",
      "DEBUG: len(sub_dist) 9\n",
      "DEBUG: sub_dist [1000000000.0, 9.313225746154785e-10, 4.656612873077393e-10, 0.0025711171329021454, 6.05359673500061e-09, 2.8542708605527878e-05, 3.632158041000366e-08, 1.0710209608078003e-08, 1.3969838619232178e-09]\n",
      "DEBUG: np.argsort(sub_dist) [2 1 8 4 7 6 5 3 0]\n",
      "Responsible data combination:  1\n",
      "#################################################################################################### Observation 4 ####################################################################################################\n",
      "0-th model predicted action: [1]\n",
      "Original model's action [1]\n",
      "1-th model predicted action: [6]\n",
      "Original model's action [1]\n",
      "Wasserstein distance:  9.313225746154785e-10\n",
      "2-th model predicted action: [15]\n",
      "Original model's action [1]\n",
      "Wasserstein distance:  4.656612873077393e-10\n",
      "3-th model predicted action: [16]\n",
      "Original model's action [1]\n",
      "Wasserstein distance:  0.0025711171329021454\n",
      "4-th model predicted action: [6]\n",
      "Original model's action [1]\n",
      "Wasserstein distance:  6.05359673500061e-09\n",
      "5-th model predicted action: [14]\n",
      "Original model's action [1]\n",
      "Wasserstein distance:  2.8542708605527878e-05\n",
      "6-th model predicted action: [17]\n",
      "Original model's action [1]\n",
      "Wasserstein distance:  3.632158041000366e-08\n",
      "7-th model predicted action: [11]\n",
      "Original model's action [1]\n",
      "Wasserstein distance:  1.0710209608078003e-08\n",
      "8-th model predicted action: [16]\n",
      "Original model's action [1]\n",
      "Wasserstein distance:  1.3969838619232178e-09\n",
      "DEBUG: len(sub_dist) 9\n",
      "DEBUG: sub_dist [1000000000.0, 9.313225746154785e-10, 4.656612873077393e-10, 0.0025711171329021454, 6.05359673500061e-09, 2.8542708605527878e-05, 3.632158041000366e-08, 1.0710209608078003e-08, 1.3969838619232178e-09]\n",
      "DEBUG: np.argsort(sub_dist) [2 1 8 4 7 6 5 3 0]\n",
      "Responsible data combination:  1\n"
     ]
    }
   ],
   "source": [
    "attributions_sq = trajectory_attributions(test_observations, models_sq, trajectory_embedding_seaquest, clusters_seaquest)"
   ]
  },
  {
   "cell_type": "code",
   "execution_count": 35,
   "metadata": {},
   "outputs": [
    {
     "data": {
      "text/plain": [
       "[{'models': [d3rlpy.algos.sac.DiscreteSAC(action_scaler=None, actor_encoder_factory=encoder.CustomCNNFactory(feature_size=128), actor_learning_rate=0.0003, actor_optim_factory=d3rlpy.models.optimizers.AdamFactory(optim_cls='Adam', betas=(0.9, 0.999), eps=0.0001, weight_decay=0, amsgrad=False), batch_size=256, critic_encoder_factory=encoder.CustomCNNFactory(feature_size=128), critic_learning_rate=0.0003, critic_optim_factory=d3rlpy.models.optimizers.AdamFactory(optim_cls='Adam', betas=(0.9, 0.999), eps=0.0001, weight_decay=0, amsgrad=False), gamma=0.99, generated_maxlen=100000, impl=<d3rlpy.algos.torch.sac_impl.DiscreteSACImpl object at 0x2ad310c10>, initial_temperature=1.0, n_critics=2, n_frames=1, n_steps=1, q_func_factory=d3rlpy.models.q_functions.MeanQFunctionFactory(share_encoder=False), real_ratio=1.0, reward_scaler=None, scaler=d3rlpy.preprocessing.scalers.PixelScaler(), target_update_interval=2500, temp_learning_rate=0.0003, temp_optim_factory=d3rlpy.models.optimizers.AdamFactory(optim_cls='Adam', betas=(0.9, 0.999), eps=0.0001, weight_decay=0, amsgrad=False), use_gpu=None),\n",
       "   d3rlpy.algos.sac.DiscreteSAC(action_scaler=None, actor_encoder_factory=encoder.CustomCNNFactory(feature_size=128), actor_learning_rate=0.0003, actor_optim_factory=d3rlpy.models.optimizers.AdamFactory(optim_cls='Adam', betas=(0.9, 0.999), eps=0.0001, weight_decay=0, amsgrad=False), batch_size=256, critic_encoder_factory=encoder.CustomCNNFactory(feature_size=128), critic_learning_rate=0.0003, critic_optim_factory=d3rlpy.models.optimizers.AdamFactory(optim_cls='Adam', betas=(0.9, 0.999), eps=0.0001, weight_decay=0, amsgrad=False), gamma=0.99, generated_maxlen=100000, impl=<d3rlpy.algos.torch.sac_impl.DiscreteSACImpl object at 0x30c429af0>, initial_temperature=1.0, n_critics=2, n_frames=1, n_steps=1, q_func_factory=d3rlpy.models.q_functions.MeanQFunctionFactory(share_encoder=False), real_ratio=1.0, reward_scaler=None, scaler=d3rlpy.preprocessing.scalers.PixelScaler(), target_update_interval=8000, temp_learning_rate=0.0003, temp_optim_factory=d3rlpy.models.optimizers.AdamFactory(optim_cls='Adam', betas=(0.9, 0.999), eps=0.0001, weight_decay=0, amsgrad=False), use_gpu=None),\n",
       "   d3rlpy.algos.sac.DiscreteSAC(action_scaler=None, actor_encoder_factory=encoder.CustomCNNFactory(feature_size=128), actor_learning_rate=0.0003, actor_optim_factory=d3rlpy.models.optimizers.AdamFactory(optim_cls='Adam', betas=(0.9, 0.999), eps=0.0001, weight_decay=0, amsgrad=False), batch_size=256, critic_encoder_factory=encoder.CustomCNNFactory(feature_size=128), critic_learning_rate=0.0003, critic_optim_factory=d3rlpy.models.optimizers.AdamFactory(optim_cls='Adam', betas=(0.9, 0.999), eps=0.0001, weight_decay=0, amsgrad=False), gamma=0.99, generated_maxlen=100000, impl=<d3rlpy.algos.torch.sac_impl.DiscreteSACImpl object at 0x2ad310ca0>, initial_temperature=1.0, n_critics=2, n_frames=1, n_steps=1, q_func_factory=d3rlpy.models.q_functions.MeanQFunctionFactory(share_encoder=False), real_ratio=1.0, reward_scaler=None, scaler=d3rlpy.preprocessing.scalers.PixelScaler(), target_update_interval=8000, temp_learning_rate=0.0003, temp_optim_factory=d3rlpy.models.optimizers.AdamFactory(optim_cls='Adam', betas=(0.9, 0.999), eps=0.0001, weight_decay=0, amsgrad=False), use_gpu=None),\n",
       "   d3rlpy.algos.sac.DiscreteSAC(action_scaler=None, actor_encoder_factory=encoder.CustomCNNFactory(feature_size=128), actor_learning_rate=0.0003, actor_optim_factory=d3rlpy.models.optimizers.AdamFactory(optim_cls='Adam', betas=(0.9, 0.999), eps=0.0001, weight_decay=0, amsgrad=False), batch_size=256, critic_encoder_factory=encoder.CustomCNNFactory(feature_size=128), critic_learning_rate=0.0003, critic_optim_factory=d3rlpy.models.optimizers.AdamFactory(optim_cls='Adam', betas=(0.9, 0.999), eps=0.0001, weight_decay=0, amsgrad=False), gamma=0.99, generated_maxlen=100000, impl=<d3rlpy.algos.torch.sac_impl.DiscreteSACImpl object at 0x30c430ac0>, initial_temperature=1.0, n_critics=2, n_frames=1, n_steps=1, q_func_factory=d3rlpy.models.q_functions.MeanQFunctionFactory(share_encoder=False), real_ratio=1.0, reward_scaler=None, scaler=d3rlpy.preprocessing.scalers.PixelScaler(), target_update_interval=8000, temp_learning_rate=0.0003, temp_optim_factory=d3rlpy.models.optimizers.AdamFactory(optim_cls='Adam', betas=(0.9, 0.999), eps=0.0001, weight_decay=0, amsgrad=False), use_gpu=None),\n",
       "   d3rlpy.algos.sac.DiscreteSAC(action_scaler=None, actor_encoder_factory=encoder.CustomCNNFactory(feature_size=128), actor_learning_rate=0.0003, actor_optim_factory=d3rlpy.models.optimizers.AdamFactory(optim_cls='Adam', betas=(0.9, 0.999), eps=0.0001, weight_decay=0, amsgrad=False), batch_size=256, critic_encoder_factory=encoder.CustomCNNFactory(feature_size=128), critic_learning_rate=0.0003, critic_optim_factory=d3rlpy.models.optimizers.AdamFactory(optim_cls='Adam', betas=(0.9, 0.999), eps=0.0001, weight_decay=0, amsgrad=False), gamma=0.99, generated_maxlen=100000, impl=<d3rlpy.algos.torch.sac_impl.DiscreteSACImpl object at 0x30c39f8e0>, initial_temperature=1.0, n_critics=2, n_frames=1, n_steps=1, q_func_factory=d3rlpy.models.q_functions.MeanQFunctionFactory(share_encoder=False), real_ratio=1.0, reward_scaler=None, scaler=d3rlpy.preprocessing.scalers.PixelScaler(), target_update_interval=8000, temp_learning_rate=0.0003, temp_optim_factory=d3rlpy.models.optimizers.AdamFactory(optim_cls='Adam', betas=(0.9, 0.999), eps=0.0001, weight_decay=0, amsgrad=False), use_gpu=None),\n",
       "   d3rlpy.algos.sac.DiscreteSAC(action_scaler=None, actor_encoder_factory=encoder.CustomCNNFactory(feature_size=128), actor_learning_rate=0.0003, actor_optim_factory=d3rlpy.models.optimizers.AdamFactory(optim_cls='Adam', betas=(0.9, 0.999), eps=0.0001, weight_decay=0, amsgrad=False), batch_size=256, critic_encoder_factory=encoder.CustomCNNFactory(feature_size=128), critic_learning_rate=0.0003, critic_optim_factory=d3rlpy.models.optimizers.AdamFactory(optim_cls='Adam', betas=(0.9, 0.999), eps=0.0001, weight_decay=0, amsgrad=False), gamma=0.99, generated_maxlen=100000, impl=<d3rlpy.algos.torch.sac_impl.DiscreteSACImpl object at 0x30fba6b80>, initial_temperature=1.0, n_critics=2, n_frames=1, n_steps=1, q_func_factory=d3rlpy.models.q_functions.MeanQFunctionFactory(share_encoder=False), real_ratio=1.0, reward_scaler=None, scaler=d3rlpy.preprocessing.scalers.PixelScaler(), target_update_interval=8000, temp_learning_rate=0.0003, temp_optim_factory=d3rlpy.models.optimizers.AdamFactory(optim_cls='Adam', betas=(0.9, 0.999), eps=0.0001, weight_decay=0, amsgrad=False), use_gpu=None),\n",
       "   d3rlpy.algos.sac.DiscreteSAC(action_scaler=None, actor_encoder_factory=encoder.CustomCNNFactory(feature_size=128), actor_learning_rate=0.0003, actor_optim_factory=d3rlpy.models.optimizers.AdamFactory(optim_cls='Adam', betas=(0.9, 0.999), eps=0.0001, weight_decay=0, amsgrad=False), batch_size=256, critic_encoder_factory=encoder.CustomCNNFactory(feature_size=128), critic_learning_rate=0.0003, critic_optim_factory=d3rlpy.models.optimizers.AdamFactory(optim_cls='Adam', betas=(0.9, 0.999), eps=0.0001, weight_decay=0, amsgrad=False), gamma=0.99, generated_maxlen=100000, impl=<d3rlpy.algos.torch.sac_impl.DiscreteSACImpl object at 0x30fb640a0>, initial_temperature=1.0, n_critics=2, n_frames=1, n_steps=1, q_func_factory=d3rlpy.models.q_functions.MeanQFunctionFactory(share_encoder=False), real_ratio=1.0, reward_scaler=None, scaler=d3rlpy.preprocessing.scalers.PixelScaler(), target_update_interval=8000, temp_learning_rate=0.0003, temp_optim_factory=d3rlpy.models.optimizers.AdamFactory(optim_cls='Adam', betas=(0.9, 0.999), eps=0.0001, weight_decay=0, amsgrad=False), use_gpu=None),\n",
       "   d3rlpy.algos.sac.DiscreteSAC(action_scaler=None, actor_encoder_factory=encoder.CustomCNNFactory(feature_size=128), actor_learning_rate=0.0003, actor_optim_factory=d3rlpy.models.optimizers.AdamFactory(optim_cls='Adam', betas=(0.9, 0.999), eps=0.0001, weight_decay=0, amsgrad=False), batch_size=256, critic_encoder_factory=encoder.CustomCNNFactory(feature_size=128), critic_learning_rate=0.0003, critic_optim_factory=d3rlpy.models.optimizers.AdamFactory(optim_cls='Adam', betas=(0.9, 0.999), eps=0.0001, weight_decay=0, amsgrad=False), gamma=0.99, generated_maxlen=100000, impl=<d3rlpy.algos.torch.sac_impl.DiscreteSACImpl object at 0x31032aee0>, initial_temperature=1.0, n_critics=2, n_frames=1, n_steps=1, q_func_factory=d3rlpy.models.q_functions.MeanQFunctionFactory(share_encoder=False), real_ratio=1.0, reward_scaler=None, scaler=d3rlpy.preprocessing.scalers.PixelScaler(), target_update_interval=8000, temp_learning_rate=0.0003, temp_optim_factory=d3rlpy.models.optimizers.AdamFactory(optim_cls='Adam', betas=(0.9, 0.999), eps=0.0001, weight_decay=0, amsgrad=False), use_gpu=None),\n",
       "   d3rlpy.algos.sac.DiscreteSAC(action_scaler=None, actor_encoder_factory=encoder.CustomCNNFactory(feature_size=128), actor_learning_rate=0.0003, actor_optim_factory=d3rlpy.models.optimizers.AdamFactory(optim_cls='Adam', betas=(0.9, 0.999), eps=0.0001, weight_decay=0, amsgrad=False), batch_size=256, critic_encoder_factory=encoder.CustomCNNFactory(feature_size=128), critic_learning_rate=0.0003, critic_optim_factory=d3rlpy.models.optimizers.AdamFactory(optim_cls='Adam', betas=(0.9, 0.999), eps=0.0001, weight_decay=0, amsgrad=False), gamma=0.99, generated_maxlen=100000, impl=<d3rlpy.algos.torch.sac_impl.DiscreteSACImpl object at 0x31031e880>, initial_temperature=1.0, n_critics=2, n_frames=1, n_steps=1, q_func_factory=d3rlpy.models.q_functions.MeanQFunctionFactory(share_encoder=False), real_ratio=1.0, reward_scaler=None, scaler=d3rlpy.preprocessing.scalers.PixelScaler(), target_update_interval=8000, temp_learning_rate=0.0003, temp_optim_factory=d3rlpy.models.optimizers.AdamFactory(optim_cls='Adam', betas=(0.9, 0.999), eps=0.0001, weight_decay=0, amsgrad=False), use_gpu=None)],\n",
       "  'orig_act': array([1]),\n",
       "  'new_act': array([16]),\n",
       "  'attributed_trajs': [31,\n",
       "   151,\n",
       "   192,\n",
       "   202,\n",
       "   235,\n",
       "   241,\n",
       "   255,\n",
       "   257,\n",
       "   262,\n",
       "   263,\n",
       "   285,\n",
       "   316,\n",
       "   326,\n",
       "   327,\n",
       "   398,\n",
       "   461,\n",
       "   516,\n",
       "   551,\n",
       "   558,\n",
       "   559,\n",
       "   634,\n",
       "   671,\n",
       "   672,\n",
       "   675,\n",
       "   699,\n",
       "   700,\n",
       "   717,\n",
       "   751,\n",
       "   763,\n",
       "   764,\n",
       "   783,\n",
       "   795,\n",
       "   797,\n",
       "   800,\n",
       "   816,\n",
       "   859,\n",
       "   893,\n",
       "   894,\n",
       "   904,\n",
       "   934,\n",
       "   980,\n",
       "   981,\n",
       "   1034,\n",
       "   1056,\n",
       "   1063,\n",
       "   1106,\n",
       "   1154,\n",
       "   1155,\n",
       "   1156,\n",
       "   1175,\n",
       "   1204,\n",
       "   1207,\n",
       "   1220,\n",
       "   1243,\n",
       "   1288,\n",
       "   1326,\n",
       "   1333,\n",
       "   1376,\n",
       "   1506,\n",
       "   1566,\n",
       "   1567,\n",
       "   1568,\n",
       "   1582,\n",
       "   1583,\n",
       "   1589,\n",
       "   1640,\n",
       "   1675],\n",
       "  'responsible_cluster': 1},\n",
       " {'models': [d3rlpy.algos.sac.DiscreteSAC(action_scaler=None, actor_encoder_factory=encoder.CustomCNNFactory(feature_size=128), actor_learning_rate=0.0003, actor_optim_factory=d3rlpy.models.optimizers.AdamFactory(optim_cls='Adam', betas=(0.9, 0.999), eps=0.0001, weight_decay=0, amsgrad=False), batch_size=256, critic_encoder_factory=encoder.CustomCNNFactory(feature_size=128), critic_learning_rate=0.0003, critic_optim_factory=d3rlpy.models.optimizers.AdamFactory(optim_cls='Adam', betas=(0.9, 0.999), eps=0.0001, weight_decay=0, amsgrad=False), gamma=0.99, generated_maxlen=100000, impl=<d3rlpy.algos.torch.sac_impl.DiscreteSACImpl object at 0x2ad310c10>, initial_temperature=1.0, n_critics=2, n_frames=1, n_steps=1, q_func_factory=d3rlpy.models.q_functions.MeanQFunctionFactory(share_encoder=False), real_ratio=1.0, reward_scaler=None, scaler=d3rlpy.preprocessing.scalers.PixelScaler(), target_update_interval=2500, temp_learning_rate=0.0003, temp_optim_factory=d3rlpy.models.optimizers.AdamFactory(optim_cls='Adam', betas=(0.9, 0.999), eps=0.0001, weight_decay=0, amsgrad=False), use_gpu=None),\n",
       "   d3rlpy.algos.sac.DiscreteSAC(action_scaler=None, actor_encoder_factory=encoder.CustomCNNFactory(feature_size=128), actor_learning_rate=0.0003, actor_optim_factory=d3rlpy.models.optimizers.AdamFactory(optim_cls='Adam', betas=(0.9, 0.999), eps=0.0001, weight_decay=0, amsgrad=False), batch_size=256, critic_encoder_factory=encoder.CustomCNNFactory(feature_size=128), critic_learning_rate=0.0003, critic_optim_factory=d3rlpy.models.optimizers.AdamFactory(optim_cls='Adam', betas=(0.9, 0.999), eps=0.0001, weight_decay=0, amsgrad=False), gamma=0.99, generated_maxlen=100000, impl=<d3rlpy.algos.torch.sac_impl.DiscreteSACImpl object at 0x30c429af0>, initial_temperature=1.0, n_critics=2, n_frames=1, n_steps=1, q_func_factory=d3rlpy.models.q_functions.MeanQFunctionFactory(share_encoder=False), real_ratio=1.0, reward_scaler=None, scaler=d3rlpy.preprocessing.scalers.PixelScaler(), target_update_interval=8000, temp_learning_rate=0.0003, temp_optim_factory=d3rlpy.models.optimizers.AdamFactory(optim_cls='Adam', betas=(0.9, 0.999), eps=0.0001, weight_decay=0, amsgrad=False), use_gpu=None),\n",
       "   d3rlpy.algos.sac.DiscreteSAC(action_scaler=None, actor_encoder_factory=encoder.CustomCNNFactory(feature_size=128), actor_learning_rate=0.0003, actor_optim_factory=d3rlpy.models.optimizers.AdamFactory(optim_cls='Adam', betas=(0.9, 0.999), eps=0.0001, weight_decay=0, amsgrad=False), batch_size=256, critic_encoder_factory=encoder.CustomCNNFactory(feature_size=128), critic_learning_rate=0.0003, critic_optim_factory=d3rlpy.models.optimizers.AdamFactory(optim_cls='Adam', betas=(0.9, 0.999), eps=0.0001, weight_decay=0, amsgrad=False), gamma=0.99, generated_maxlen=100000, impl=<d3rlpy.algos.torch.sac_impl.DiscreteSACImpl object at 0x2ad310ca0>, initial_temperature=1.0, n_critics=2, n_frames=1, n_steps=1, q_func_factory=d3rlpy.models.q_functions.MeanQFunctionFactory(share_encoder=False), real_ratio=1.0, reward_scaler=None, scaler=d3rlpy.preprocessing.scalers.PixelScaler(), target_update_interval=8000, temp_learning_rate=0.0003, temp_optim_factory=d3rlpy.models.optimizers.AdamFactory(optim_cls='Adam', betas=(0.9, 0.999), eps=0.0001, weight_decay=0, amsgrad=False), use_gpu=None),\n",
       "   d3rlpy.algos.sac.DiscreteSAC(action_scaler=None, actor_encoder_factory=encoder.CustomCNNFactory(feature_size=128), actor_learning_rate=0.0003, actor_optim_factory=d3rlpy.models.optimizers.AdamFactory(optim_cls='Adam', betas=(0.9, 0.999), eps=0.0001, weight_decay=0, amsgrad=False), batch_size=256, critic_encoder_factory=encoder.CustomCNNFactory(feature_size=128), critic_learning_rate=0.0003, critic_optim_factory=d3rlpy.models.optimizers.AdamFactory(optim_cls='Adam', betas=(0.9, 0.999), eps=0.0001, weight_decay=0, amsgrad=False), gamma=0.99, generated_maxlen=100000, impl=<d3rlpy.algos.torch.sac_impl.DiscreteSACImpl object at 0x30c430ac0>, initial_temperature=1.0, n_critics=2, n_frames=1, n_steps=1, q_func_factory=d3rlpy.models.q_functions.MeanQFunctionFactory(share_encoder=False), real_ratio=1.0, reward_scaler=None, scaler=d3rlpy.preprocessing.scalers.PixelScaler(), target_update_interval=8000, temp_learning_rate=0.0003, temp_optim_factory=d3rlpy.models.optimizers.AdamFactory(optim_cls='Adam', betas=(0.9, 0.999), eps=0.0001, weight_decay=0, amsgrad=False), use_gpu=None),\n",
       "   d3rlpy.algos.sac.DiscreteSAC(action_scaler=None, actor_encoder_factory=encoder.CustomCNNFactory(feature_size=128), actor_learning_rate=0.0003, actor_optim_factory=d3rlpy.models.optimizers.AdamFactory(optim_cls='Adam', betas=(0.9, 0.999), eps=0.0001, weight_decay=0, amsgrad=False), batch_size=256, critic_encoder_factory=encoder.CustomCNNFactory(feature_size=128), critic_learning_rate=0.0003, critic_optim_factory=d3rlpy.models.optimizers.AdamFactory(optim_cls='Adam', betas=(0.9, 0.999), eps=0.0001, weight_decay=0, amsgrad=False), gamma=0.99, generated_maxlen=100000, impl=<d3rlpy.algos.torch.sac_impl.DiscreteSACImpl object at 0x30c39f8e0>, initial_temperature=1.0, n_critics=2, n_frames=1, n_steps=1, q_func_factory=d3rlpy.models.q_functions.MeanQFunctionFactory(share_encoder=False), real_ratio=1.0, reward_scaler=None, scaler=d3rlpy.preprocessing.scalers.PixelScaler(), target_update_interval=8000, temp_learning_rate=0.0003, temp_optim_factory=d3rlpy.models.optimizers.AdamFactory(optim_cls='Adam', betas=(0.9, 0.999), eps=0.0001, weight_decay=0, amsgrad=False), use_gpu=None),\n",
       "   d3rlpy.algos.sac.DiscreteSAC(action_scaler=None, actor_encoder_factory=encoder.CustomCNNFactory(feature_size=128), actor_learning_rate=0.0003, actor_optim_factory=d3rlpy.models.optimizers.AdamFactory(optim_cls='Adam', betas=(0.9, 0.999), eps=0.0001, weight_decay=0, amsgrad=False), batch_size=256, critic_encoder_factory=encoder.CustomCNNFactory(feature_size=128), critic_learning_rate=0.0003, critic_optim_factory=d3rlpy.models.optimizers.AdamFactory(optim_cls='Adam', betas=(0.9, 0.999), eps=0.0001, weight_decay=0, amsgrad=False), gamma=0.99, generated_maxlen=100000, impl=<d3rlpy.algos.torch.sac_impl.DiscreteSACImpl object at 0x30fba6b80>, initial_temperature=1.0, n_critics=2, n_frames=1, n_steps=1, q_func_factory=d3rlpy.models.q_functions.MeanQFunctionFactory(share_encoder=False), real_ratio=1.0, reward_scaler=None, scaler=d3rlpy.preprocessing.scalers.PixelScaler(), target_update_interval=8000, temp_learning_rate=0.0003, temp_optim_factory=d3rlpy.models.optimizers.AdamFactory(optim_cls='Adam', betas=(0.9, 0.999), eps=0.0001, weight_decay=0, amsgrad=False), use_gpu=None),\n",
       "   d3rlpy.algos.sac.DiscreteSAC(action_scaler=None, actor_encoder_factory=encoder.CustomCNNFactory(feature_size=128), actor_learning_rate=0.0003, actor_optim_factory=d3rlpy.models.optimizers.AdamFactory(optim_cls='Adam', betas=(0.9, 0.999), eps=0.0001, weight_decay=0, amsgrad=False), batch_size=256, critic_encoder_factory=encoder.CustomCNNFactory(feature_size=128), critic_learning_rate=0.0003, critic_optim_factory=d3rlpy.models.optimizers.AdamFactory(optim_cls='Adam', betas=(0.9, 0.999), eps=0.0001, weight_decay=0, amsgrad=False), gamma=0.99, generated_maxlen=100000, impl=<d3rlpy.algos.torch.sac_impl.DiscreteSACImpl object at 0x30fb640a0>, initial_temperature=1.0, n_critics=2, n_frames=1, n_steps=1, q_func_factory=d3rlpy.models.q_functions.MeanQFunctionFactory(share_encoder=False), real_ratio=1.0, reward_scaler=None, scaler=d3rlpy.preprocessing.scalers.PixelScaler(), target_update_interval=8000, temp_learning_rate=0.0003, temp_optim_factory=d3rlpy.models.optimizers.AdamFactory(optim_cls='Adam', betas=(0.9, 0.999), eps=0.0001, weight_decay=0, amsgrad=False), use_gpu=None),\n",
       "   d3rlpy.algos.sac.DiscreteSAC(action_scaler=None, actor_encoder_factory=encoder.CustomCNNFactory(feature_size=128), actor_learning_rate=0.0003, actor_optim_factory=d3rlpy.models.optimizers.AdamFactory(optim_cls='Adam', betas=(0.9, 0.999), eps=0.0001, weight_decay=0, amsgrad=False), batch_size=256, critic_encoder_factory=encoder.CustomCNNFactory(feature_size=128), critic_learning_rate=0.0003, critic_optim_factory=d3rlpy.models.optimizers.AdamFactory(optim_cls='Adam', betas=(0.9, 0.999), eps=0.0001, weight_decay=0, amsgrad=False), gamma=0.99, generated_maxlen=100000, impl=<d3rlpy.algos.torch.sac_impl.DiscreteSACImpl object at 0x31032aee0>, initial_temperature=1.0, n_critics=2, n_frames=1, n_steps=1, q_func_factory=d3rlpy.models.q_functions.MeanQFunctionFactory(share_encoder=False), real_ratio=1.0, reward_scaler=None, scaler=d3rlpy.preprocessing.scalers.PixelScaler(), target_update_interval=8000, temp_learning_rate=0.0003, temp_optim_factory=d3rlpy.models.optimizers.AdamFactory(optim_cls='Adam', betas=(0.9, 0.999), eps=0.0001, weight_decay=0, amsgrad=False), use_gpu=None),\n",
       "   d3rlpy.algos.sac.DiscreteSAC(action_scaler=None, actor_encoder_factory=encoder.CustomCNNFactory(feature_size=128), actor_learning_rate=0.0003, actor_optim_factory=d3rlpy.models.optimizers.AdamFactory(optim_cls='Adam', betas=(0.9, 0.999), eps=0.0001, weight_decay=0, amsgrad=False), batch_size=256, critic_encoder_factory=encoder.CustomCNNFactory(feature_size=128), critic_learning_rate=0.0003, critic_optim_factory=d3rlpy.models.optimizers.AdamFactory(optim_cls='Adam', betas=(0.9, 0.999), eps=0.0001, weight_decay=0, amsgrad=False), gamma=0.99, generated_maxlen=100000, impl=<d3rlpy.algos.torch.sac_impl.DiscreteSACImpl object at 0x31031e880>, initial_temperature=1.0, n_critics=2, n_frames=1, n_steps=1, q_func_factory=d3rlpy.models.q_functions.MeanQFunctionFactory(share_encoder=False), real_ratio=1.0, reward_scaler=None, scaler=d3rlpy.preprocessing.scalers.PixelScaler(), target_update_interval=8000, temp_learning_rate=0.0003, temp_optim_factory=d3rlpy.models.optimizers.AdamFactory(optim_cls='Adam', betas=(0.9, 0.999), eps=0.0001, weight_decay=0, amsgrad=False), use_gpu=None)],\n",
       "  'orig_act': array([1]),\n",
       "  'new_act': array([16]),\n",
       "  'attributed_trajs': [31,\n",
       "   151,\n",
       "   192,\n",
       "   202,\n",
       "   235,\n",
       "   241,\n",
       "   255,\n",
       "   257,\n",
       "   262,\n",
       "   263,\n",
       "   285,\n",
       "   316,\n",
       "   326,\n",
       "   327,\n",
       "   398,\n",
       "   461,\n",
       "   516,\n",
       "   551,\n",
       "   558,\n",
       "   559,\n",
       "   634,\n",
       "   671,\n",
       "   672,\n",
       "   675,\n",
       "   699,\n",
       "   700,\n",
       "   717,\n",
       "   751,\n",
       "   763,\n",
       "   764,\n",
       "   783,\n",
       "   795,\n",
       "   797,\n",
       "   800,\n",
       "   816,\n",
       "   859,\n",
       "   893,\n",
       "   894,\n",
       "   904,\n",
       "   934,\n",
       "   980,\n",
       "   981,\n",
       "   1034,\n",
       "   1056,\n",
       "   1063,\n",
       "   1106,\n",
       "   1154,\n",
       "   1155,\n",
       "   1156,\n",
       "   1175,\n",
       "   1204,\n",
       "   1207,\n",
       "   1220,\n",
       "   1243,\n",
       "   1288,\n",
       "   1326,\n",
       "   1333,\n",
       "   1376,\n",
       "   1506,\n",
       "   1566,\n",
       "   1567,\n",
       "   1568,\n",
       "   1582,\n",
       "   1583,\n",
       "   1589,\n",
       "   1640,\n",
       "   1675],\n",
       "  'responsible_cluster': 1},\n",
       " {'models': [d3rlpy.algos.sac.DiscreteSAC(action_scaler=None, actor_encoder_factory=encoder.CustomCNNFactory(feature_size=128), actor_learning_rate=0.0003, actor_optim_factory=d3rlpy.models.optimizers.AdamFactory(optim_cls='Adam', betas=(0.9, 0.999), eps=0.0001, weight_decay=0, amsgrad=False), batch_size=256, critic_encoder_factory=encoder.CustomCNNFactory(feature_size=128), critic_learning_rate=0.0003, critic_optim_factory=d3rlpy.models.optimizers.AdamFactory(optim_cls='Adam', betas=(0.9, 0.999), eps=0.0001, weight_decay=0, amsgrad=False), gamma=0.99, generated_maxlen=100000, impl=<d3rlpy.algos.torch.sac_impl.DiscreteSACImpl object at 0x2ad310c10>, initial_temperature=1.0, n_critics=2, n_frames=1, n_steps=1, q_func_factory=d3rlpy.models.q_functions.MeanQFunctionFactory(share_encoder=False), real_ratio=1.0, reward_scaler=None, scaler=d3rlpy.preprocessing.scalers.PixelScaler(), target_update_interval=2500, temp_learning_rate=0.0003, temp_optim_factory=d3rlpy.models.optimizers.AdamFactory(optim_cls='Adam', betas=(0.9, 0.999), eps=0.0001, weight_decay=0, amsgrad=False), use_gpu=None),\n",
       "   d3rlpy.algos.sac.DiscreteSAC(action_scaler=None, actor_encoder_factory=encoder.CustomCNNFactory(feature_size=128), actor_learning_rate=0.0003, actor_optim_factory=d3rlpy.models.optimizers.AdamFactory(optim_cls='Adam', betas=(0.9, 0.999), eps=0.0001, weight_decay=0, amsgrad=False), batch_size=256, critic_encoder_factory=encoder.CustomCNNFactory(feature_size=128), critic_learning_rate=0.0003, critic_optim_factory=d3rlpy.models.optimizers.AdamFactory(optim_cls='Adam', betas=(0.9, 0.999), eps=0.0001, weight_decay=0, amsgrad=False), gamma=0.99, generated_maxlen=100000, impl=<d3rlpy.algos.torch.sac_impl.DiscreteSACImpl object at 0x30c429af0>, initial_temperature=1.0, n_critics=2, n_frames=1, n_steps=1, q_func_factory=d3rlpy.models.q_functions.MeanQFunctionFactory(share_encoder=False), real_ratio=1.0, reward_scaler=None, scaler=d3rlpy.preprocessing.scalers.PixelScaler(), target_update_interval=8000, temp_learning_rate=0.0003, temp_optim_factory=d3rlpy.models.optimizers.AdamFactory(optim_cls='Adam', betas=(0.9, 0.999), eps=0.0001, weight_decay=0, amsgrad=False), use_gpu=None),\n",
       "   d3rlpy.algos.sac.DiscreteSAC(action_scaler=None, actor_encoder_factory=encoder.CustomCNNFactory(feature_size=128), actor_learning_rate=0.0003, actor_optim_factory=d3rlpy.models.optimizers.AdamFactory(optim_cls='Adam', betas=(0.9, 0.999), eps=0.0001, weight_decay=0, amsgrad=False), batch_size=256, critic_encoder_factory=encoder.CustomCNNFactory(feature_size=128), critic_learning_rate=0.0003, critic_optim_factory=d3rlpy.models.optimizers.AdamFactory(optim_cls='Adam', betas=(0.9, 0.999), eps=0.0001, weight_decay=0, amsgrad=False), gamma=0.99, generated_maxlen=100000, impl=<d3rlpy.algos.torch.sac_impl.DiscreteSACImpl object at 0x2ad310ca0>, initial_temperature=1.0, n_critics=2, n_frames=1, n_steps=1, q_func_factory=d3rlpy.models.q_functions.MeanQFunctionFactory(share_encoder=False), real_ratio=1.0, reward_scaler=None, scaler=d3rlpy.preprocessing.scalers.PixelScaler(), target_update_interval=8000, temp_learning_rate=0.0003, temp_optim_factory=d3rlpy.models.optimizers.AdamFactory(optim_cls='Adam', betas=(0.9, 0.999), eps=0.0001, weight_decay=0, amsgrad=False), use_gpu=None),\n",
       "   d3rlpy.algos.sac.DiscreteSAC(action_scaler=None, actor_encoder_factory=encoder.CustomCNNFactory(feature_size=128), actor_learning_rate=0.0003, actor_optim_factory=d3rlpy.models.optimizers.AdamFactory(optim_cls='Adam', betas=(0.9, 0.999), eps=0.0001, weight_decay=0, amsgrad=False), batch_size=256, critic_encoder_factory=encoder.CustomCNNFactory(feature_size=128), critic_learning_rate=0.0003, critic_optim_factory=d3rlpy.models.optimizers.AdamFactory(optim_cls='Adam', betas=(0.9, 0.999), eps=0.0001, weight_decay=0, amsgrad=False), gamma=0.99, generated_maxlen=100000, impl=<d3rlpy.algos.torch.sac_impl.DiscreteSACImpl object at 0x30c430ac0>, initial_temperature=1.0, n_critics=2, n_frames=1, n_steps=1, q_func_factory=d3rlpy.models.q_functions.MeanQFunctionFactory(share_encoder=False), real_ratio=1.0, reward_scaler=None, scaler=d3rlpy.preprocessing.scalers.PixelScaler(), target_update_interval=8000, temp_learning_rate=0.0003, temp_optim_factory=d3rlpy.models.optimizers.AdamFactory(optim_cls='Adam', betas=(0.9, 0.999), eps=0.0001, weight_decay=0, amsgrad=False), use_gpu=None),\n",
       "   d3rlpy.algos.sac.DiscreteSAC(action_scaler=None, actor_encoder_factory=encoder.CustomCNNFactory(feature_size=128), actor_learning_rate=0.0003, actor_optim_factory=d3rlpy.models.optimizers.AdamFactory(optim_cls='Adam', betas=(0.9, 0.999), eps=0.0001, weight_decay=0, amsgrad=False), batch_size=256, critic_encoder_factory=encoder.CustomCNNFactory(feature_size=128), critic_learning_rate=0.0003, critic_optim_factory=d3rlpy.models.optimizers.AdamFactory(optim_cls='Adam', betas=(0.9, 0.999), eps=0.0001, weight_decay=0, amsgrad=False), gamma=0.99, generated_maxlen=100000, impl=<d3rlpy.algos.torch.sac_impl.DiscreteSACImpl object at 0x30c39f8e0>, initial_temperature=1.0, n_critics=2, n_frames=1, n_steps=1, q_func_factory=d3rlpy.models.q_functions.MeanQFunctionFactory(share_encoder=False), real_ratio=1.0, reward_scaler=None, scaler=d3rlpy.preprocessing.scalers.PixelScaler(), target_update_interval=8000, temp_learning_rate=0.0003, temp_optim_factory=d3rlpy.models.optimizers.AdamFactory(optim_cls='Adam', betas=(0.9, 0.999), eps=0.0001, weight_decay=0, amsgrad=False), use_gpu=None),\n",
       "   d3rlpy.algos.sac.DiscreteSAC(action_scaler=None, actor_encoder_factory=encoder.CustomCNNFactory(feature_size=128), actor_learning_rate=0.0003, actor_optim_factory=d3rlpy.models.optimizers.AdamFactory(optim_cls='Adam', betas=(0.9, 0.999), eps=0.0001, weight_decay=0, amsgrad=False), batch_size=256, critic_encoder_factory=encoder.CustomCNNFactory(feature_size=128), critic_learning_rate=0.0003, critic_optim_factory=d3rlpy.models.optimizers.AdamFactory(optim_cls='Adam', betas=(0.9, 0.999), eps=0.0001, weight_decay=0, amsgrad=False), gamma=0.99, generated_maxlen=100000, impl=<d3rlpy.algos.torch.sac_impl.DiscreteSACImpl object at 0x30fba6b80>, initial_temperature=1.0, n_critics=2, n_frames=1, n_steps=1, q_func_factory=d3rlpy.models.q_functions.MeanQFunctionFactory(share_encoder=False), real_ratio=1.0, reward_scaler=None, scaler=d3rlpy.preprocessing.scalers.PixelScaler(), target_update_interval=8000, temp_learning_rate=0.0003, temp_optim_factory=d3rlpy.models.optimizers.AdamFactory(optim_cls='Adam', betas=(0.9, 0.999), eps=0.0001, weight_decay=0, amsgrad=False), use_gpu=None),\n",
       "   d3rlpy.algos.sac.DiscreteSAC(action_scaler=None, actor_encoder_factory=encoder.CustomCNNFactory(feature_size=128), actor_learning_rate=0.0003, actor_optim_factory=d3rlpy.models.optimizers.AdamFactory(optim_cls='Adam', betas=(0.9, 0.999), eps=0.0001, weight_decay=0, amsgrad=False), batch_size=256, critic_encoder_factory=encoder.CustomCNNFactory(feature_size=128), critic_learning_rate=0.0003, critic_optim_factory=d3rlpy.models.optimizers.AdamFactory(optim_cls='Adam', betas=(0.9, 0.999), eps=0.0001, weight_decay=0, amsgrad=False), gamma=0.99, generated_maxlen=100000, impl=<d3rlpy.algos.torch.sac_impl.DiscreteSACImpl object at 0x30fb640a0>, initial_temperature=1.0, n_critics=2, n_frames=1, n_steps=1, q_func_factory=d3rlpy.models.q_functions.MeanQFunctionFactory(share_encoder=False), real_ratio=1.0, reward_scaler=None, scaler=d3rlpy.preprocessing.scalers.PixelScaler(), target_update_interval=8000, temp_learning_rate=0.0003, temp_optim_factory=d3rlpy.models.optimizers.AdamFactory(optim_cls='Adam', betas=(0.9, 0.999), eps=0.0001, weight_decay=0, amsgrad=False), use_gpu=None),\n",
       "   d3rlpy.algos.sac.DiscreteSAC(action_scaler=None, actor_encoder_factory=encoder.CustomCNNFactory(feature_size=128), actor_learning_rate=0.0003, actor_optim_factory=d3rlpy.models.optimizers.AdamFactory(optim_cls='Adam', betas=(0.9, 0.999), eps=0.0001, weight_decay=0, amsgrad=False), batch_size=256, critic_encoder_factory=encoder.CustomCNNFactory(feature_size=128), critic_learning_rate=0.0003, critic_optim_factory=d3rlpy.models.optimizers.AdamFactory(optim_cls='Adam', betas=(0.9, 0.999), eps=0.0001, weight_decay=0, amsgrad=False), gamma=0.99, generated_maxlen=100000, impl=<d3rlpy.algos.torch.sac_impl.DiscreteSACImpl object at 0x31032aee0>, initial_temperature=1.0, n_critics=2, n_frames=1, n_steps=1, q_func_factory=d3rlpy.models.q_functions.MeanQFunctionFactory(share_encoder=False), real_ratio=1.0, reward_scaler=None, scaler=d3rlpy.preprocessing.scalers.PixelScaler(), target_update_interval=8000, temp_learning_rate=0.0003, temp_optim_factory=d3rlpy.models.optimizers.AdamFactory(optim_cls='Adam', betas=(0.9, 0.999), eps=0.0001, weight_decay=0, amsgrad=False), use_gpu=None),\n",
       "   d3rlpy.algos.sac.DiscreteSAC(action_scaler=None, actor_encoder_factory=encoder.CustomCNNFactory(feature_size=128), actor_learning_rate=0.0003, actor_optim_factory=d3rlpy.models.optimizers.AdamFactory(optim_cls='Adam', betas=(0.9, 0.999), eps=0.0001, weight_decay=0, amsgrad=False), batch_size=256, critic_encoder_factory=encoder.CustomCNNFactory(feature_size=128), critic_learning_rate=0.0003, critic_optim_factory=d3rlpy.models.optimizers.AdamFactory(optim_cls='Adam', betas=(0.9, 0.999), eps=0.0001, weight_decay=0, amsgrad=False), gamma=0.99, generated_maxlen=100000, impl=<d3rlpy.algos.torch.sac_impl.DiscreteSACImpl object at 0x31031e880>, initial_temperature=1.0, n_critics=2, n_frames=1, n_steps=1, q_func_factory=d3rlpy.models.q_functions.MeanQFunctionFactory(share_encoder=False), real_ratio=1.0, reward_scaler=None, scaler=d3rlpy.preprocessing.scalers.PixelScaler(), target_update_interval=8000, temp_learning_rate=0.0003, temp_optim_factory=d3rlpy.models.optimizers.AdamFactory(optim_cls='Adam', betas=(0.9, 0.999), eps=0.0001, weight_decay=0, amsgrad=False), use_gpu=None)],\n",
       "  'orig_act': array([1]),\n",
       "  'new_act': array([16]),\n",
       "  'attributed_trajs': [31,\n",
       "   151,\n",
       "   192,\n",
       "   202,\n",
       "   235,\n",
       "   241,\n",
       "   255,\n",
       "   257,\n",
       "   262,\n",
       "   263,\n",
       "   285,\n",
       "   316,\n",
       "   326,\n",
       "   327,\n",
       "   398,\n",
       "   461,\n",
       "   516,\n",
       "   551,\n",
       "   558,\n",
       "   559,\n",
       "   634,\n",
       "   671,\n",
       "   672,\n",
       "   675,\n",
       "   699,\n",
       "   700,\n",
       "   717,\n",
       "   751,\n",
       "   763,\n",
       "   764,\n",
       "   783,\n",
       "   795,\n",
       "   797,\n",
       "   800,\n",
       "   816,\n",
       "   859,\n",
       "   893,\n",
       "   894,\n",
       "   904,\n",
       "   934,\n",
       "   980,\n",
       "   981,\n",
       "   1034,\n",
       "   1056,\n",
       "   1063,\n",
       "   1106,\n",
       "   1154,\n",
       "   1155,\n",
       "   1156,\n",
       "   1175,\n",
       "   1204,\n",
       "   1207,\n",
       "   1220,\n",
       "   1243,\n",
       "   1288,\n",
       "   1326,\n",
       "   1333,\n",
       "   1376,\n",
       "   1506,\n",
       "   1566,\n",
       "   1567,\n",
       "   1568,\n",
       "   1582,\n",
       "   1583,\n",
       "   1589,\n",
       "   1640,\n",
       "   1675],\n",
       "  'responsible_cluster': 1},\n",
       " {'models': [d3rlpy.algos.sac.DiscreteSAC(action_scaler=None, actor_encoder_factory=encoder.CustomCNNFactory(feature_size=128), actor_learning_rate=0.0003, actor_optim_factory=d3rlpy.models.optimizers.AdamFactory(optim_cls='Adam', betas=(0.9, 0.999), eps=0.0001, weight_decay=0, amsgrad=False), batch_size=256, critic_encoder_factory=encoder.CustomCNNFactory(feature_size=128), critic_learning_rate=0.0003, critic_optim_factory=d3rlpy.models.optimizers.AdamFactory(optim_cls='Adam', betas=(0.9, 0.999), eps=0.0001, weight_decay=0, amsgrad=False), gamma=0.99, generated_maxlen=100000, impl=<d3rlpy.algos.torch.sac_impl.DiscreteSACImpl object at 0x2ad310c10>, initial_temperature=1.0, n_critics=2, n_frames=1, n_steps=1, q_func_factory=d3rlpy.models.q_functions.MeanQFunctionFactory(share_encoder=False), real_ratio=1.0, reward_scaler=None, scaler=d3rlpy.preprocessing.scalers.PixelScaler(), target_update_interval=2500, temp_learning_rate=0.0003, temp_optim_factory=d3rlpy.models.optimizers.AdamFactory(optim_cls='Adam', betas=(0.9, 0.999), eps=0.0001, weight_decay=0, amsgrad=False), use_gpu=None),\n",
       "   d3rlpy.algos.sac.DiscreteSAC(action_scaler=None, actor_encoder_factory=encoder.CustomCNNFactory(feature_size=128), actor_learning_rate=0.0003, actor_optim_factory=d3rlpy.models.optimizers.AdamFactory(optim_cls='Adam', betas=(0.9, 0.999), eps=0.0001, weight_decay=0, amsgrad=False), batch_size=256, critic_encoder_factory=encoder.CustomCNNFactory(feature_size=128), critic_learning_rate=0.0003, critic_optim_factory=d3rlpy.models.optimizers.AdamFactory(optim_cls='Adam', betas=(0.9, 0.999), eps=0.0001, weight_decay=0, amsgrad=False), gamma=0.99, generated_maxlen=100000, impl=<d3rlpy.algos.torch.sac_impl.DiscreteSACImpl object at 0x30c429af0>, initial_temperature=1.0, n_critics=2, n_frames=1, n_steps=1, q_func_factory=d3rlpy.models.q_functions.MeanQFunctionFactory(share_encoder=False), real_ratio=1.0, reward_scaler=None, scaler=d3rlpy.preprocessing.scalers.PixelScaler(), target_update_interval=8000, temp_learning_rate=0.0003, temp_optim_factory=d3rlpy.models.optimizers.AdamFactory(optim_cls='Adam', betas=(0.9, 0.999), eps=0.0001, weight_decay=0, amsgrad=False), use_gpu=None),\n",
       "   d3rlpy.algos.sac.DiscreteSAC(action_scaler=None, actor_encoder_factory=encoder.CustomCNNFactory(feature_size=128), actor_learning_rate=0.0003, actor_optim_factory=d3rlpy.models.optimizers.AdamFactory(optim_cls='Adam', betas=(0.9, 0.999), eps=0.0001, weight_decay=0, amsgrad=False), batch_size=256, critic_encoder_factory=encoder.CustomCNNFactory(feature_size=128), critic_learning_rate=0.0003, critic_optim_factory=d3rlpy.models.optimizers.AdamFactory(optim_cls='Adam', betas=(0.9, 0.999), eps=0.0001, weight_decay=0, amsgrad=False), gamma=0.99, generated_maxlen=100000, impl=<d3rlpy.algos.torch.sac_impl.DiscreteSACImpl object at 0x2ad310ca0>, initial_temperature=1.0, n_critics=2, n_frames=1, n_steps=1, q_func_factory=d3rlpy.models.q_functions.MeanQFunctionFactory(share_encoder=False), real_ratio=1.0, reward_scaler=None, scaler=d3rlpy.preprocessing.scalers.PixelScaler(), target_update_interval=8000, temp_learning_rate=0.0003, temp_optim_factory=d3rlpy.models.optimizers.AdamFactory(optim_cls='Adam', betas=(0.9, 0.999), eps=0.0001, weight_decay=0, amsgrad=False), use_gpu=None),\n",
       "   d3rlpy.algos.sac.DiscreteSAC(action_scaler=None, actor_encoder_factory=encoder.CustomCNNFactory(feature_size=128), actor_learning_rate=0.0003, actor_optim_factory=d3rlpy.models.optimizers.AdamFactory(optim_cls='Adam', betas=(0.9, 0.999), eps=0.0001, weight_decay=0, amsgrad=False), batch_size=256, critic_encoder_factory=encoder.CustomCNNFactory(feature_size=128), critic_learning_rate=0.0003, critic_optim_factory=d3rlpy.models.optimizers.AdamFactory(optim_cls='Adam', betas=(0.9, 0.999), eps=0.0001, weight_decay=0, amsgrad=False), gamma=0.99, generated_maxlen=100000, impl=<d3rlpy.algos.torch.sac_impl.DiscreteSACImpl object at 0x30c430ac0>, initial_temperature=1.0, n_critics=2, n_frames=1, n_steps=1, q_func_factory=d3rlpy.models.q_functions.MeanQFunctionFactory(share_encoder=False), real_ratio=1.0, reward_scaler=None, scaler=d3rlpy.preprocessing.scalers.PixelScaler(), target_update_interval=8000, temp_learning_rate=0.0003, temp_optim_factory=d3rlpy.models.optimizers.AdamFactory(optim_cls='Adam', betas=(0.9, 0.999), eps=0.0001, weight_decay=0, amsgrad=False), use_gpu=None),\n",
       "   d3rlpy.algos.sac.DiscreteSAC(action_scaler=None, actor_encoder_factory=encoder.CustomCNNFactory(feature_size=128), actor_learning_rate=0.0003, actor_optim_factory=d3rlpy.models.optimizers.AdamFactory(optim_cls='Adam', betas=(0.9, 0.999), eps=0.0001, weight_decay=0, amsgrad=False), batch_size=256, critic_encoder_factory=encoder.CustomCNNFactory(feature_size=128), critic_learning_rate=0.0003, critic_optim_factory=d3rlpy.models.optimizers.AdamFactory(optim_cls='Adam', betas=(0.9, 0.999), eps=0.0001, weight_decay=0, amsgrad=False), gamma=0.99, generated_maxlen=100000, impl=<d3rlpy.algos.torch.sac_impl.DiscreteSACImpl object at 0x30c39f8e0>, initial_temperature=1.0, n_critics=2, n_frames=1, n_steps=1, q_func_factory=d3rlpy.models.q_functions.MeanQFunctionFactory(share_encoder=False), real_ratio=1.0, reward_scaler=None, scaler=d3rlpy.preprocessing.scalers.PixelScaler(), target_update_interval=8000, temp_learning_rate=0.0003, temp_optim_factory=d3rlpy.models.optimizers.AdamFactory(optim_cls='Adam', betas=(0.9, 0.999), eps=0.0001, weight_decay=0, amsgrad=False), use_gpu=None),\n",
       "   d3rlpy.algos.sac.DiscreteSAC(action_scaler=None, actor_encoder_factory=encoder.CustomCNNFactory(feature_size=128), actor_learning_rate=0.0003, actor_optim_factory=d3rlpy.models.optimizers.AdamFactory(optim_cls='Adam', betas=(0.9, 0.999), eps=0.0001, weight_decay=0, amsgrad=False), batch_size=256, critic_encoder_factory=encoder.CustomCNNFactory(feature_size=128), critic_learning_rate=0.0003, critic_optim_factory=d3rlpy.models.optimizers.AdamFactory(optim_cls='Adam', betas=(0.9, 0.999), eps=0.0001, weight_decay=0, amsgrad=False), gamma=0.99, generated_maxlen=100000, impl=<d3rlpy.algos.torch.sac_impl.DiscreteSACImpl object at 0x30fba6b80>, initial_temperature=1.0, n_critics=2, n_frames=1, n_steps=1, q_func_factory=d3rlpy.models.q_functions.MeanQFunctionFactory(share_encoder=False), real_ratio=1.0, reward_scaler=None, scaler=d3rlpy.preprocessing.scalers.PixelScaler(), target_update_interval=8000, temp_learning_rate=0.0003, temp_optim_factory=d3rlpy.models.optimizers.AdamFactory(optim_cls='Adam', betas=(0.9, 0.999), eps=0.0001, weight_decay=0, amsgrad=False), use_gpu=None),\n",
       "   d3rlpy.algos.sac.DiscreteSAC(action_scaler=None, actor_encoder_factory=encoder.CustomCNNFactory(feature_size=128), actor_learning_rate=0.0003, actor_optim_factory=d3rlpy.models.optimizers.AdamFactory(optim_cls='Adam', betas=(0.9, 0.999), eps=0.0001, weight_decay=0, amsgrad=False), batch_size=256, critic_encoder_factory=encoder.CustomCNNFactory(feature_size=128), critic_learning_rate=0.0003, critic_optim_factory=d3rlpy.models.optimizers.AdamFactory(optim_cls='Adam', betas=(0.9, 0.999), eps=0.0001, weight_decay=0, amsgrad=False), gamma=0.99, generated_maxlen=100000, impl=<d3rlpy.algos.torch.sac_impl.DiscreteSACImpl object at 0x30fb640a0>, initial_temperature=1.0, n_critics=2, n_frames=1, n_steps=1, q_func_factory=d3rlpy.models.q_functions.MeanQFunctionFactory(share_encoder=False), real_ratio=1.0, reward_scaler=None, scaler=d3rlpy.preprocessing.scalers.PixelScaler(), target_update_interval=8000, temp_learning_rate=0.0003, temp_optim_factory=d3rlpy.models.optimizers.AdamFactory(optim_cls='Adam', betas=(0.9, 0.999), eps=0.0001, weight_decay=0, amsgrad=False), use_gpu=None),\n",
       "   d3rlpy.algos.sac.DiscreteSAC(action_scaler=None, actor_encoder_factory=encoder.CustomCNNFactory(feature_size=128), actor_learning_rate=0.0003, actor_optim_factory=d3rlpy.models.optimizers.AdamFactory(optim_cls='Adam', betas=(0.9, 0.999), eps=0.0001, weight_decay=0, amsgrad=False), batch_size=256, critic_encoder_factory=encoder.CustomCNNFactory(feature_size=128), critic_learning_rate=0.0003, critic_optim_factory=d3rlpy.models.optimizers.AdamFactory(optim_cls='Adam', betas=(0.9, 0.999), eps=0.0001, weight_decay=0, amsgrad=False), gamma=0.99, generated_maxlen=100000, impl=<d3rlpy.algos.torch.sac_impl.DiscreteSACImpl object at 0x31032aee0>, initial_temperature=1.0, n_critics=2, n_frames=1, n_steps=1, q_func_factory=d3rlpy.models.q_functions.MeanQFunctionFactory(share_encoder=False), real_ratio=1.0, reward_scaler=None, scaler=d3rlpy.preprocessing.scalers.PixelScaler(), target_update_interval=8000, temp_learning_rate=0.0003, temp_optim_factory=d3rlpy.models.optimizers.AdamFactory(optim_cls='Adam', betas=(0.9, 0.999), eps=0.0001, weight_decay=0, amsgrad=False), use_gpu=None),\n",
       "   d3rlpy.algos.sac.DiscreteSAC(action_scaler=None, actor_encoder_factory=encoder.CustomCNNFactory(feature_size=128), actor_learning_rate=0.0003, actor_optim_factory=d3rlpy.models.optimizers.AdamFactory(optim_cls='Adam', betas=(0.9, 0.999), eps=0.0001, weight_decay=0, amsgrad=False), batch_size=256, critic_encoder_factory=encoder.CustomCNNFactory(feature_size=128), critic_learning_rate=0.0003, critic_optim_factory=d3rlpy.models.optimizers.AdamFactory(optim_cls='Adam', betas=(0.9, 0.999), eps=0.0001, weight_decay=0, amsgrad=False), gamma=0.99, generated_maxlen=100000, impl=<d3rlpy.algos.torch.sac_impl.DiscreteSACImpl object at 0x31031e880>, initial_temperature=1.0, n_critics=2, n_frames=1, n_steps=1, q_func_factory=d3rlpy.models.q_functions.MeanQFunctionFactory(share_encoder=False), real_ratio=1.0, reward_scaler=None, scaler=d3rlpy.preprocessing.scalers.PixelScaler(), target_update_interval=8000, temp_learning_rate=0.0003, temp_optim_factory=d3rlpy.models.optimizers.AdamFactory(optim_cls='Adam', betas=(0.9, 0.999), eps=0.0001, weight_decay=0, amsgrad=False), use_gpu=None)],\n",
       "  'orig_act': array([1]),\n",
       "  'new_act': array([16]),\n",
       "  'attributed_trajs': [31,\n",
       "   151,\n",
       "   192,\n",
       "   202,\n",
       "   235,\n",
       "   241,\n",
       "   255,\n",
       "   257,\n",
       "   262,\n",
       "   263,\n",
       "   285,\n",
       "   316,\n",
       "   326,\n",
       "   327,\n",
       "   398,\n",
       "   461,\n",
       "   516,\n",
       "   551,\n",
       "   558,\n",
       "   559,\n",
       "   634,\n",
       "   671,\n",
       "   672,\n",
       "   675,\n",
       "   699,\n",
       "   700,\n",
       "   717,\n",
       "   751,\n",
       "   763,\n",
       "   764,\n",
       "   783,\n",
       "   795,\n",
       "   797,\n",
       "   800,\n",
       "   816,\n",
       "   859,\n",
       "   893,\n",
       "   894,\n",
       "   904,\n",
       "   934,\n",
       "   980,\n",
       "   981,\n",
       "   1034,\n",
       "   1056,\n",
       "   1063,\n",
       "   1106,\n",
       "   1154,\n",
       "   1155,\n",
       "   1156,\n",
       "   1175,\n",
       "   1204,\n",
       "   1207,\n",
       "   1220,\n",
       "   1243,\n",
       "   1288,\n",
       "   1326,\n",
       "   1333,\n",
       "   1376,\n",
       "   1506,\n",
       "   1566,\n",
       "   1567,\n",
       "   1568,\n",
       "   1582,\n",
       "   1583,\n",
       "   1589,\n",
       "   1640,\n",
       "   1675],\n",
       "  'responsible_cluster': 1}]"
      ]
     },
     "execution_count": 35,
     "metadata": {},
     "output_type": "execute_result"
    }
   ],
   "source": [
    "attributions_sq"
   ]
  },
  {
   "cell_type": "code",
   "execution_count": 32,
   "metadata": {},
   "outputs": [
    {
     "name": "stdout",
     "output_type": "stream",
     "text": [
      "Data combination 0 has 4 actions\n",
      "Data combination 1 has 4 actions\n",
      "Data combination 2 has 4 actions\n",
      "Data combination 3 has 4 actions\n",
      "Data combination 4 has 4 actions\n",
      "Data combination 5 has 4 actions\n",
      "Data combination 6 has 4 actions\n",
      "Data combination 7 has 4 actions\n",
      "Data combination 8 has 4 actions\n"
     ]
    }
   ],
   "source": [
    "for data_combination_id in result_data_combinations_sq:\n",
    "    print(f\"Data combination {data_combination_id} has {len(result_data_combinations_sq[data_combination_id][0])} actions\")"
   ]
  },
  {
   "cell_type": "code",
   "execution_count": 33,
   "metadata": {},
   "outputs": [],
   "source": [
    "trajectories = attributions_sq[0]['attributed_trajs']\n",
    "observation = test_observations[0]\n"
   ]
  },
  {
   "cell_type": "code",
   "execution_count": 37,
   "metadata": {},
   "outputs": [
    {
     "name": "stdout",
     "output_type": "stream",
     "text": [
      "[0.         0.00000036 0.00000018 1.         0.00000235 0.01110129\n",
      " 0.00001413 0.00000417 0.00000054]\n"
     ]
    }
   ],
   "source": [
    "data_embedding_original = models_sq[0][1]\n",
    "data_distances = np.zeros(len(result_data_combinations_sq))\n",
    "for data_combination_id, (_, action_values_new, data_embedding_new) in result_data_combinations_sq.items(): \n",
    "    data_distances[data_combination_id] = wasserstein_distance(data_embedding_original, data_embedding_new)\n",
    "\n",
    "with np.printoptions(precision=8, suppress=True):\n",
    "    print((data_distances - data_distances.min()) / (data_distances.max() - data_distances.min()))"
   ]
  },
  {
   "cell_type": "code",
   "execution_count": 38,
   "metadata": {},
   "outputs": [
    {
     "data": {
      "text/plain": [
       "[31,\n",
       " 151,\n",
       " 192,\n",
       " 202,\n",
       " 235,\n",
       " 241,\n",
       " 255,\n",
       " 257,\n",
       " 262,\n",
       " 263,\n",
       " 285,\n",
       " 316,\n",
       " 326,\n",
       " 327,\n",
       " 398,\n",
       " 461,\n",
       " 516,\n",
       " 551,\n",
       " 558,\n",
       " 559,\n",
       " 634,\n",
       " 671,\n",
       " 672,\n",
       " 675,\n",
       " 699,\n",
       " 700,\n",
       " 717,\n",
       " 751,\n",
       " 763,\n",
       " 764,\n",
       " 783,\n",
       " 795,\n",
       " 797,\n",
       " 800,\n",
       " 816,\n",
       " 859,\n",
       " 893,\n",
       " 894,\n",
       " 904,\n",
       " 934,\n",
       " 980,\n",
       " 981,\n",
       " 1034,\n",
       " 1056,\n",
       " 1063,\n",
       " 1106,\n",
       " 1154,\n",
       " 1155,\n",
       " 1156,\n",
       " 1175,\n",
       " 1204,\n",
       " 1207,\n",
       " 1220,\n",
       " 1243,\n",
       " 1288,\n",
       " 1326,\n",
       " 1333,\n",
       " 1376,\n",
       " 1506,\n",
       " 1566,\n",
       " 1567,\n",
       " 1568,\n",
       " 1582,\n",
       " 1583,\n",
       " 1589,\n",
       " 1640,\n",
       " 1675]"
      ]
     },
     "execution_count": 38,
     "metadata": {},
     "output_type": "execute_result"
    }
   ],
   "source": [
    "trajectories"
   ]
  },
  {
   "cell_type": "code",
   "execution_count": 54,
   "metadata": {},
   "outputs": [
    {
     "name": "stdout",
     "output_type": "stream",
     "text": [
      "Trajectory Shape: torch.Size([30, 4, 84, 84])\n",
      "Trajectory Shape: torch.Size([30, 4, 84, 84])\n",
      "Trajectory Shape: torch.Size([30, 4, 84, 84])\n"
     ]
    },
    {
     "data": {
      "image/png": "[encoded data removed]",
      "text/plain": [
       "<Figure size 1500x1000 with 18 Axes>"
      ]
     },
     "metadata": {},
     "output_type": "display_data"
    }
   ],
   "source": [
    "plt.figure(figsize=(15, 10))\n",
    "\n",
    "for i, traj in enumerate([0,\n",
    " 3,\n",
    " 4,]):\n",
    "    print(\"Trajectory Shape:\", final_obs_sq[traj].shape)\n",
    "    # We will plot only the first frame from each stack to avoid consecutive identical frames\n",
    "    # Assuming every 4th frame is the start of a new stack\n",
    "    for j in range(0, 30, 4):  # Skip every 4 frames to get to the start of the next stack\n",
    "        # Calculate the subplot index, but normalize j to reflect that we're skipping frames\n",
    "        subplot_index = i * (30 // 5) + (j // 5) + 1\n",
    "        plt.subplot(3, (30 // 5), subplot_index)  \n",
    "        \n",
    "        # Plot the first frame from the current stack\n",
    "        plt.imshow(final_obs_sq[traj][j][0], cmap='gray')\n",
    "\n",
    "        # Get tensor value as an integer and use it as a key to the action dictionary\n",
    "        corr_action = int(final_act_sq[traj][j].item())\n",
    "        # Print the action name on top of each sub-image\n",
    "        plt.title(action_dict[corr_action])\n",
    "        plt.axis('off')\n",
    "\n",
    "plt.tight_layout()\n",
    "plt.show()"
   ]
  }
 ],
 "metadata": {
  "kernelspec": {
   "display_name": "mujoco_env",
   "language": "python",
   "name": "python3"
  },
  "language_info": {
   "codemirror_mode": {
    "name": "ipython",
    "version": 3
   },
   "file_extension": ".py",
   "mimetype": "text/x-python",
   "name": "python",
   "nbconvert_exporter": "python",
   "pygments_lexer": "ipython3",
   "version": "3.9.18"
  }
 },
 "nbformat": 4,
 "nbformat_minor": 2
}
