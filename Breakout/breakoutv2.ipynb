{
 "cells": [
  {
   "cell_type": "code",
   "execution_count": 1,
   "metadata": {},
   "outputs": [
    {
     "name": "stdout",
     "output_type": "stream",
     "text": [
      "Collecting clip@ git+https://github.com/openai/CLIP.git@a1d071733d7111c9c014f024669f959182114e33\n",
      "  Using cached clip-1.0-py3-none-any.whl\n",
      "Collecting d4rl-atari@ git+https://github.com/takuseno/d4rl-atari@039d1a935ca932b916c544feaa63b9b6ae73e293\n",
      "  Using cached d4rl_atari-0.1-py3-none-any.whl\n",
      "Collecting eorl@ git+https://github.com/indrasweb/expert-offline-rl.git@d0e8b9dbd3bd409a8d591e63cd30b825323d3eda\n",
      "  Cloning https://github.com/indrasweb/expert-offline-rl.git (to revision d0e8b9dbd3bd409a8d591e63cd30b825323d3eda) to c:\\users\\jortv\\appdata\\local\\temp\\pip-install-mqby18_l\\eorl_1329074ff32b4d73ac87e4089394c59a\n",
      "  Resolved https://github.com/indrasweb/expert-offline-rl.git to commit d0e8b9dbd3bd409a8d591e63cd30b825323d3eda\n",
      "  Preparing metadata (setup.py): started\n",
      "  Preparing metadata (setup.py): finished with status 'done'\n",
      "Requirement already satisfied: absl-py==2.0.0 in c:\\users\\jortv\\anaconda3\\lib\\site-packages (from -r requirements.txt (line 1)) (2.0.0)\n",
      "Collecting aiohttp==3.9.1\n",
      "  Using cached aiohttp-3.9.1-cp39-cp39-win_amd64.whl (365 kB)\n",
      "Collecting aiosignal==1.3.1\n",
      "  Using cached aiosignal-1.3.1-py3-none-any.whl (7.6 kB)\n",
      "Requirement already satisfied: ale-py==0.8.1 in c:\\users\\jortv\\anaconda3\\lib\\site-packages (from -r requirements.txt (line 4)) (0.8.1)\n",
      "Requirement already satisfied: argcomplete==3.2.3 in c:\\users\\jortv\\anaconda3\\lib\\site-packages (from -r requirements.txt (line 5)) (3.2.3)\n",
      "Requirement already satisfied: async-timeout==4.0.3 in c:\\users\\jortv\\anaconda3\\lib\\site-packages (from -r requirements.txt (line 6)) (4.0.3)\n",
      "Requirement already satisfied: atari-py==0.2.9 in c:\\users\\jortv\\anaconda3\\lib\\site-packages (from -r requirements.txt (line 7)) (0.2.9)\n",
      "Requirement already satisfied: attrs==23.1.0 in c:\\users\\jortv\\anaconda3\\lib\\site-packages (from -r requirements.txt (line 8)) (23.1.0)\n",
      "Requirement already satisfied: AutoROM==0.4.2 in c:\\users\\jortv\\anaconda3\\lib\\site-packages (from -r requirements.txt (line 9)) (0.4.2)\n",
      "Requirement already satisfied: AutoROM.accept-rom-license==0.6.1 in c:\\users\\jortv\\anaconda3\\lib\\site-packages (from -r requirements.txt (line 10)) (0.6.1)\n",
      "Requirement already satisfied: bidict==0.21.2 in c:\\users\\jortv\\anaconda3\\lib\\site-packages (from -r requirements.txt (line 11)) (0.21.2)\n",
      "Requirement already satisfied: boto==2.49.0 in c:\\users\\jortv\\anaconda3\\lib\\site-packages (from -r requirements.txt (line 12)) (2.49.0)\n",
      "Requirement already satisfied: cachetools==5.3.2 in c:\\users\\jortv\\anaconda3\\lib\\site-packages (from -r requirements.txt (line 13)) (5.3.2)\n",
      "Requirement already satisfied: certifi==2022.12.7 in c:\\users\\jortv\\anaconda3\\lib\\site-packages (from -r requirements.txt (line 14)) (2022.12.7)\n",
      "Requirement already satisfied: cffi==1.15.1 in c:\\users\\jortv\\anaconda3\\lib\\site-packages (from -r requirements.txt (line 15)) (1.15.1)\n",
      "Requirement already satisfied: chardet==4.0.0 in c:\\users\\jortv\\anaconda3\\lib\\site-packages (from -r requirements.txt (line 16)) (4.0.0)\n",
      "Requirement already satisfied: charset-normalizer==2.1.1 in c:\\users\\jortv\\anaconda3\\lib\\site-packages (from -r requirements.txt (line 17)) (2.1.1)\n",
      "Requirement already satisfied: click==8.1.3 in c:\\users\\jortv\\anaconda3\\lib\\site-packages (from -r requirements.txt (line 18)) (8.1.3)\n",
      "Requirement already satisfied: cloudpickle==3.0.0 in c:\\users\\jortv\\anaconda3\\lib\\site-packages (from -r requirements.txt (line 20)) (3.0.0)\n",
      "Requirement already satisfied: colorama==0.4.6 in c:\\users\\jortv\\anaconda3\\lib\\site-packages (from -r requirements.txt (line 21)) (0.4.6)\n",
      "Requirement already satisfied: colour==0.1.5 in c:\\users\\jortv\\anaconda3\\lib\\site-packages (from -r requirements.txt (line 22)) (0.1.5)\n",
      "Requirement already satisfied: contourpy==1.1.1 in c:\\users\\jortv\\anaconda3\\lib\\site-packages (from -r requirements.txt (line 23)) (1.1.1)\n",
      "Requirement already satisfied: crcmod==1.7 in c:\\users\\jortv\\anaconda3\\lib\\site-packages (from -r requirements.txt (line 24)) (1.7)\n",
      "Collecting cryptography==38.0.4\n",
      "  Using cached cryptography-38.0.4-cp36-abi3-win_amd64.whl (2.4 MB)\n",
      "Requirement already satisfied: cycler==0.12.1 in c:\\users\\jortv\\anaconda3\\lib\\site-packages (from -r requirements.txt (line 26)) (0.12.1)\n",
      "Requirement already satisfied: d3rlpy==1.1.1 in c:\\users\\jortv\\anaconda3\\lib\\site-packages (from -r requirements.txt (line 27)) (1.1.1)\n",
      "Collecting dataclasses-json==0.6.4\n",
      "  Using cached dataclasses_json-0.6.4-py3-none-any.whl (28 kB)\n",
      "Requirement already satisfied: distlib==0.3.6 in c:\\users\\jortv\\anaconda3\\lib\\site-packages (from -r requirements.txt (line 30)) (0.3.6)\n",
      "Requirement already satisfied: docutils==0.16 in c:\\users\\jortv\\anaconda3\\lib\\site-packages (from -r requirements.txt (line 31)) (0.16)\n",
      "Requirement already satisfied: Farama-Notifications==0.0.4 in c:\\users\\jortv\\anaconda3\\lib\\site-packages (from -r requirements.txt (line 33)) (0.0.4)\n",
      "Requirement already satisfied: fasteners==0.19 in c:\\users\\jortv\\anaconda3\\lib\\site-packages (from -r requirements.txt (line 34)) (0.19)\n",
      "Requirement already satisfied: filelock==3.9.0 in c:\\users\\jortv\\anaconda3\\lib\\site-packages (from -r requirements.txt (line 35)) (3.9.0)\n",
      "Collecting Flask==2.1.3\n",
      "  Using cached Flask-2.1.3-py3-none-any.whl (95 kB)\n",
      "Collecting Flask-Cors==3.0.10\n",
      "  Using cached Flask_Cors-3.0.10-py2.py3-none-any.whl (14 kB)\n",
      "Collecting Flask-SocketIO==5.3.2\n",
      "  Using cached Flask_SocketIO-5.3.2-py3-none-any.whl (17 kB)\n",
      "Requirement already satisfied: fonttools==4.43.1 in c:\\users\\jortv\\anaconda3\\lib\\site-packages (from -r requirements.txt (line 39)) (4.43.1)\n",
      "Requirement already satisfied: frozenlist==1.4.0 in c:\\users\\jortv\\anaconda3\\lib\\site-packages (from -r requirements.txt (line 40)) (1.4.0)\n",
      "Requirement already satisfied: fsspec==2023.12.0 in c:\\users\\jortv\\anaconda3\\lib\\site-packages (from -r requirements.txt (line 41)) (2023.12.0)\n",
      "Requirement already satisfied: ftfy==6.1.3 in c:\\users\\jortv\\anaconda3\\lib\\site-packages (from -r requirements.txt (line 42)) (6.1.3)\n",
      "Requirement already satisfied: gcs-oauth2-boto-plugin==3.0 in c:\\users\\jortv\\anaconda3\\lib\\site-packages (from -r requirements.txt (line 43)) (3.0)\n",
      "Requirement already satisfied: geniusweb==1.2.1 in c:\\users\\jortv\\anaconda3\\lib\\site-packages (from -r requirements.txt (line 44)) (1.2.1)\n",
      "Collecting gevent==21.1.2\n",
      "  Using cached gevent-21.1.2-cp39-cp39-win_amd64.whl (1.6 MB)\n",
      "Requirement already satisfied: google-apitools==0.5.32 in c:\\users\\jortv\\anaconda3\\lib\\site-packages (from -r requirements.txt (line 46)) (0.5.32)\n",
      "Collecting google-auth==2.24.0\n",
      "  Using cached google_auth-2.24.0-py2.py3-none-any.whl (183 kB)\n",
      "Collecting google-auth-oauthlib==1.1.0\n",
      "  Using cached google_auth_oauthlib-1.1.0-py2.py3-none-any.whl (19 kB)\n",
      "Requirement already satisfied: google-reauth==0.1.1 in c:\\users\\jortv\\anaconda3\\lib\\site-packages (from -r requirements.txt (line 49)) (0.1.1)\n",
      "Requirement already satisfied: greenlet==1.0.0 in c:\\users\\jortv\\anaconda3\\lib\\site-packages (from -r requirements.txt (line 50)) (1.0.0)\n",
      "Requirement already satisfied: grpcio==1.59.3 in c:\\users\\jortv\\anaconda3\\lib\\site-packages (from -r requirements.txt (line 51)) (1.59.3)\n",
      "Requirement already satisfied: gsutil==5.27 in c:\\users\\jortv\\anaconda3\\lib\\site-packages (from -r requirements.txt (line 52)) (5.27)\n",
      "Requirement already satisfied: gym==0.26.2 in c:\\users\\jortv\\anaconda3\\lib\\site-packages (from -r requirements.txt (line 53)) (0.26.2)\n",
      "Requirement already satisfied: gym-notices==0.0.8 in c:\\users\\jortv\\anaconda3\\lib\\site-packages (from -r requirements.txt (line 54)) (0.0.8)\n",
      "Collecting gymnasium==0.29.1\n",
      "  Using cached gymnasium-0.29.1-py3-none-any.whl (953 kB)\n",
      "Requirement already satisfied: h5py==3.10.0 in c:\\users\\jortv\\anaconda3\\lib\\site-packages (from -r requirements.txt (line 56)) (3.10.0)\n",
      "Requirement already satisfied: httplib2==0.20.4 in c:\\users\\jortv\\anaconda3\\lib\\site-packages (from -r requirements.txt (line 57)) (0.20.4)\n",
      "Requirement already satisfied: idna==3.4 in c:\\users\\jortv\\anaconda3\\lib\\site-packages (from -r requirements.txt (line 58)) (3.4)\n",
      "Requirement already satisfied: importlib-metadata==6.0.0 in c:\\users\\jortv\\anaconda3\\lib\\site-packages (from -r requirements.txt (line 59)) (6.0.0)\n",
      "Requirement already satisfied: importlib-resources==6.1.0 in c:\\users\\jortv\\anaconda3\\lib\\site-packages (from -r requirements.txt (line 60)) (6.1.0)\n",
      "Requirement already satisfied: itsdangerous==2.1.2 in c:\\users\\jortv\\anaconda3\\lib\\site-packages (from -r requirements.txt (line 61)) (2.1.2)\n",
      "Collecting Jinja2==3.1.2\n",
      "  Using cached Jinja2-3.1.2-py3-none-any.whl (133 kB)\n",
      "Requirement already satisfied: joblib==1.2.0 in c:\\users\\jortv\\anaconda3\\lib\\site-packages (from -r requirements.txt (line 63)) (1.2.0)\n",
      "Requirement already satisfied: jsonpickle==1.5.1 in c:\\users\\jortv\\anaconda3\\lib\\site-packages (from -r requirements.txt (line 64)) (1.5.1)\n",
      "Requirement already satisfied: kaleido==0.2.1 in c:\\users\\jortv\\anaconda3\\lib\\site-packages (from -r requirements.txt (line 65)) (0.2.1)\n",
      "Requirement already satisfied: kiwisolver==1.4.5 in c:\\users\\jortv\\anaconda3\\lib\\site-packages (from -r requirements.txt (line 66)) (1.4.5)\n",
      "Requirement already satisfied: lightgbm==3.3.2 in c:\\users\\jortv\\anaconda3\\lib\\site-packages (from -r requirements.txt (line 67)) (3.3.2)\n",
      "Requirement already satisfied: lightning-utilities==0.10.0 in c:\\users\\jortv\\anaconda3\\lib\\site-packages (from -r requirements.txt (line 68)) (0.10.0)\n",
      "Requirement already satisfied: logging==1.0.0 in c:\\users\\jortv\\anaconda3\\lib\\site-packages (from -r requirements.txt (line 69)) (1.0.0)\n",
      "Collecting Markdown==3.5.1\n",
      "  Using cached Markdown-3.5.1-py3-none-any.whl (102 kB)\n",
      "Requirement already satisfied: MarkupSafe==2.1.3 in c:\\users\\jortv\\anaconda3\\lib\\site-packages (from -r requirements.txt (line 71)) (2.1.3)\n",
      "Requirement already satisfied: marshmallow==3.21.1 in c:\\users\\jortv\\anaconda3\\lib\\site-packages (from -r requirements.txt (line 72)) (3.21.1)\n",
      "Collecting matplotlib==3.8.0\n",
      "  Using cached matplotlib-3.8.0-cp39-cp39-win_amd64.whl (7.6 MB)\n",
      "Collecting matrx==2.2.0\n",
      "  Using cached matrx-2.2.0-py3-none-any.whl (7.4 MB)\n",
      "Requirement already satisfied: monotonic==1.6 in c:\\users\\jortv\\anaconda3\\lib\\site-packages (from -r requirements.txt (line 75)) (1.6)\n",
      "Requirement already satisfied: mpmath==1.3.0 in c:\\users\\jortv\\anaconda3\\lib\\site-packages (from -r requirements.txt (line 76)) (1.3.0)\n",
      "Requirement already satisfied: multidict==6.0.4 in c:\\users\\jortv\\anaconda3\\lib\\site-packages (from -r requirements.txt (line 77)) (6.0.4)\n",
      "Requirement already satisfied: mypy-extensions==1.0.0 in c:\\users\\jortv\\anaconda3\\lib\\site-packages (from -r requirements.txt (line 78)) (1.0.0)\n",
      "Requirement already satisfied: networkx==3.0 in c:\\users\\jortv\\anaconda3\\lib\\site-packages (from -r requirements.txt (line 79)) (3.0)\n",
      "Collecting nltk==3.8.1\n",
      "  Using cached nltk-3.8.1-py3-none-any.whl (1.5 MB)\n",
      "Requirement already satisfied: numpy==1.23.1 in c:\\users\\jortv\\anaconda3\\lib\\site-packages (from -r requirements.txt (line 81)) (1.23.1)\n",
      "Requirement already satisfied: oauth2client==4.1.3 in c:\\users\\jortv\\anaconda3\\lib\\site-packages (from -r requirements.txt (line 82)) (4.1.3)\n",
      "Requirement already satisfied: oauthlib==3.2.2 in c:\\users\\jortv\\anaconda3\\lib\\site-packages (from -r requirements.txt (line 83)) (3.2.2)\n",
      "Requirement already satisfied: opencv-contrib-python==4.8.1.78 in c:\\users\\jortv\\appdata\\roaming\\python\\python39\\site-packages (from -r requirements.txt (line 84)) (4.8.1.78)\n",
      "Requirement already satisfied: opencv-python==4.8.1.78 in c:\\users\\jortv\\anaconda3\\lib\\site-packages (from -r requirements.txt (line 85)) (4.8.1.78)\n",
      "Requirement already satisfied: openssl-python==0.1.1 in c:\\users\\jortv\\anaconda3\\lib\\site-packages (from -r requirements.txt (line 86)) (0.1.1)\n",
      "Requirement already satisfied: packaging==23.2 in c:\\users\\jortv\\anaconda3\\lib\\site-packages (from -r requirements.txt (line 87)) (23.2)\n",
      "Requirement already satisfied: pandas==1.4.1 in c:\\users\\jortv\\anaconda3\\lib\\site-packages (from -r requirements.txt (line 88)) (1.4.1)\n",
      "Requirement already satisfied: pbr==3.1.1 in c:\\users\\jortv\\appdata\\roaming\\python\\python39\\site-packages (from -r requirements.txt (line 89)) (3.1.1)\n",
      "Requirement already satisfied: Pillow==9.3.0 in c:\\users\\jortv\\anaconda3\\lib\\site-packages (from -r requirements.txt (line 90)) (9.3.0)\n",
      "Requirement already satisfied: platformdirs==3.2.0 in c:\\users\\jortv\\anaconda3\\lib\\site-packages (from -r requirements.txt (line 91)) (3.2.0)\n",
      "Requirement already satisfied: plotly==5.6.0 in c:\\users\\jortv\\anaconda3\\lib\\site-packages (from -r requirements.txt (line 92)) (5.6.0)\n",
      "Requirement already satisfied: protobuf==4.23.4 in c:\\users\\jortv\\anaconda3\\lib\\site-packages (from -r requirements.txt (line 93)) (4.23.4)\n",
      "Requirement already satisfied: pyasn1==0.5.1 in c:\\users\\jortv\\anaconda3\\lib\\site-packages (from -r requirements.txt (line 94)) (0.5.1)\n",
      "Requirement already satisfied: pyasn1-modules==0.3.0 in c:\\users\\jortv\\anaconda3\\lib\\site-packages (from -r requirements.txt (line 95)) (0.3.0)\n",
      "Requirement already satisfied: pyclustering==0.10.1.2 in c:\\users\\jortv\\anaconda3\\lib\\site-packages (from -r requirements.txt (line 96)) (0.10.1.2)\n",
      "Requirement already satisfied: pycparser==2.21 in c:\\users\\jortv\\anaconda3\\lib\\site-packages (from -r requirements.txt (line 97)) (2.21)\n",
      "Requirement already satisfied: Pygments==2.14.0 in c:\\users\\jortv\\anaconda3\\lib\\site-packages (from -r requirements.txt (line 98)) (2.14.0)\n",
      "Collecting pyOpenSSL==23.1.0\n",
      "  Using cached pyOpenSSL-23.1.0-py3-none-any.whl (57 kB)\n",
      "Requirement already satisfied: pyparsing==3.1.1 in c:\\users\\jortv\\anaconda3\\lib\\site-packages (from -r requirements.txt (line 100)) (3.1.1)\n",
      "Requirement already satisfied: PyQt5==5.15.6 in c:\\users\\jortv\\anaconda3\\lib\\site-packages (from -r requirements.txt (line 101)) (5.15.6)\n",
      "Requirement already satisfied: PyQt5-Qt5==5.15.2 in c:\\users\\jortv\\anaconda3\\lib\\site-packages (from -r requirements.txt (line 102)) (5.15.2)\n",
      "Requirement already satisfied: PyQt5-sip==12.11.1 in c:\\users\\jortv\\anaconda3\\lib\\site-packages (from -r requirements.txt (line 103)) (12.11.1)\n",
      "Requirement already satisfied: pyson==1.1.3 in c:\\users\\jortv\\anaconda3\\lib\\site-packages (from -r requirements.txt (line 104)) (1.1.3)\n",
      "Requirement already satisfied: python-dateutil==2.8.2 in c:\\users\\jortv\\anaconda3\\lib\\site-packages (from -r requirements.txt (line 105)) (2.8.2)\n",
      "Requirement already satisfied: python-engineio==4.3.4 in c:\\users\\jortv\\anaconda3\\lib\\site-packages (from -r requirements.txt (line 106)) (4.3.4)\n",
      "Collecting python-socketio==5.7.2\n",
      "  Using cached python_socketio-5.7.2-py3-none-any.whl (56 kB)\n",
      "Requirement already satisfied: pytorch-lightning==2.1.2 in c:\\users\\jortv\\anaconda3\\lib\\site-packages (from -r requirements.txt (line 108)) (2.1.2)\n",
      "Requirement already satisfied: pytz==2022.7.1 in c:\\users\\jortv\\anaconda3\\lib\\site-packages (from -r requirements.txt (line 109)) (2022.7.1)\n",
      "Requirement already satisfied: pyu2f==0.1.5 in c:\\users\\jortv\\anaconda3\\lib\\site-packages (from -r requirements.txt (line 110)) (0.1.5)\n",
      "Requirement already satisfied: PyYAML==6.0.1 in c:\\users\\jortv\\anaconda3\\lib\\site-packages (from -r requirements.txt (line 111)) (6.0.1)\n",
      "Requirement already satisfied: regex==2023.10.3 in c:\\users\\jortv\\anaconda3\\lib\\site-packages (from -r requirements.txt (line 112)) (2023.10.3)\n",
      "Collecting requests==2.28.1\n",
      "  Using cached requests-2.28.1-py3-none-any.whl (62 kB)\n",
      "Collecting requests-oauthlib==1.3.1\n",
      "  Using cached requests_oauthlib-1.3.1-py2.py3-none-any.whl (23 kB)\n",
      "Requirement already satisfied: retry-decorator==1.1.1 in c:\\users\\jortv\\anaconda3\\lib\\site-packages (from -r requirements.txt (line 115)) (1.1.1)\n",
      "Requirement already satisfied: rsa==4.7.2 in c:\\users\\jortv\\anaconda3\\lib\\site-packages (from -r requirements.txt (line 116)) (4.7.2)\n",
      "Requirement already satisfied: scikit-learn==1.3.1 in c:\\users\\jortv\\anaconda3\\lib\\site-packages (from -r requirements.txt (line 117)) (1.3.1)\n",
      "Requirement already satisfied: scipy==1.11.3 in c:\\users\\jortv\\anaconda3\\lib\\site-packages (from -r requirements.txt (line 118)) (1.11.3)\n",
      "Collecting seaborn==0.13.2\n",
      "  Using cached seaborn-0.13.2-py3-none-any.whl (294 kB)\n",
      "Requirement already satisfied: six==1.16.0 in c:\\users\\jortv\\anaconda3\\lib\\site-packages (from -r requirements.txt (line 120)) (1.16.0)\n",
      "Requirement already satisfied: structlog==24.1.0 in c:\\users\\jortv\\anaconda3\\lib\\site-packages (from -r requirements.txt (line 121)) (24.1.0)\n",
      "Requirement already satisfied: sympy==1.12 in c:\\users\\jortv\\anaconda3\\lib\\site-packages (from -r requirements.txt (line 122)) (1.12)\n",
      "Requirement already satisfied: tenacity==8.2.2 in c:\\users\\jortv\\anaconda3\\lib\\site-packages (from -r requirements.txt (line 123)) (8.2.2)\n",
      "Collecting tensorboard==2.15.1\n",
      "  Using cached tensorboard-2.15.1-py3-none-any.whl (5.5 MB)\n",
      "Requirement already satisfied: tensorboard-data-server==0.7.2 in c:\\users\\jortv\\anaconda3\\lib\\site-packages (from -r requirements.txt (line 125)) (0.7.2)\n",
      "Requirement already satisfied: tensorboardX==2.6.2.2 in c:\\users\\jortv\\anaconda3\\lib\\site-packages (from -r requirements.txt (line 126)) (2.6.2.2)\n",
      "Requirement already satisfied: threadpoolctl==3.1.0 in c:\\users\\jortv\\anaconda3\\lib\\site-packages (from -r requirements.txt (line 127)) (3.1.0)\n",
      "Collecting torch==2.1.1\n",
      "  Using cached torch-2.1.1-cp39-cp39-win_amd64.whl (192.2 MB)\n",
      "Collecting torchaudio==2.1.1\n",
      "  Using cached torchaudio-2.1.1-cp39-cp39-win_amd64.whl (2.3 MB)\n",
      "Requirement already satisfied: torchmetrics==1.2.1 in c:\\users\\jortv\\anaconda3\\lib\\site-packages (from -r requirements.txt (line 130)) (1.2.1)\n",
      "Collecting torchvision==0.16.1\n",
      "  Using cached torchvision-0.16.1-cp39-cp39-win_amd64.whl (1.1 MB)\n",
      "Requirement already satisfied: tqdm==4.66.1 in c:\\users\\jortv\\anaconda3\\lib\\site-packages (from -r requirements.txt (line 132)) (4.66.1)\n",
      "Requirement already satisfied: typing-inspect==0.9.0 in c:\\users\\jortv\\anaconda3\\lib\\site-packages (from -r requirements.txt (line 133)) (0.9.0)\n",
      "Requirement already satisfied: typing_extensions==4.4.0 in c:\\users\\jortv\\anaconda3\\lib\\site-packages (from -r requirements.txt (line 134)) (4.4.0)\n",
      "Requirement already satisfied: uri==2.0.0 in c:\\users\\jortv\\anaconda3\\lib\\site-packages (from -r requirements.txt (line 135)) (2.0.0)\n",
      "Requirement already satisfied: urllib3==1.26.13 in c:\\users\\jortv\\anaconda3\\lib\\site-packages (from -r requirements.txt (line 136)) (1.26.13)\n",
      "Requirement already satisfied: utilities==1.0.5 in c:\\users\\jortv\\anaconda3\\lib\\site-packages (from -r requirements.txt (line 137)) (1.0.5)\n",
      "Requirement already satisfied: virtualenv==20.21.0 in c:\\users\\jortv\\anaconda3\\lib\\site-packages (from -r requirements.txt (line 138)) (20.21.0)\n",
      "Requirement already satisfied: wcwidth==0.2.12 in c:\\users\\jortv\\anaconda3\\lib\\site-packages (from -r requirements.txt (line 139)) (0.2.12)\n",
      "Requirement already satisfied: websocket-client==1.0.1 in c:\\users\\jortv\\anaconda3\\lib\\site-packages (from -r requirements.txt (line 140)) (1.0.1)\n",
      "Requirement already satisfied: Werkzeug==2.0.0 in c:\\users\\jortv\\anaconda3\\lib\\site-packages (from -r requirements.txt (line 141)) (2.0.0)\n",
      "Requirement already satisfied: yarl==1.9.3 in c:\\users\\jortv\\anaconda3\\lib\\site-packages (from -r requirements.txt (line 142)) (1.9.3)\n",
      "Requirement already satisfied: zipp==3.14.0 in c:\\users\\jortv\\anaconda3\\lib\\site-packages (from -r requirements.txt (line 143)) (3.14.0)\n",
      "Requirement already satisfied: zope.event==4.6 in c:\\users\\jortv\\anaconda3\\lib\\site-packages (from -r requirements.txt (line 144)) (4.6)\n",
      "Requirement already satisfied: zope.interface==5.5.2 in c:\\users\\jortv\\anaconda3\\lib\\site-packages (from -r requirements.txt (line 145)) (5.5.2)\n",
      "Collecting utilities@ https://tracinsy.ewi.tudelft.nl/pubtrac/Utilities/export/314/utilitiespy/dist/utilities-1.0.5.tar.gz\n",
      "  Using cached utilities-1.0.5-py3-none-any.whl\n",
      "Collecting pyson@ https://tracinsy.ewi.tudelft.nl/pubtrac/Utilities/export/312/pyson/dist/pyson-1.1.3.tar.gz\n",
      "  Using cached pyson-1.1.3-py3-none-any.whl\n",
      "Collecting logging@ https://tracinsy.ewi.tudelft.nl/pubtrac/Utilities/export/226/loggingpy/dist/logging-1.0.0.tar.gz\n",
      "  Using cached logging-1.0.0-py3-none-any.whl\n",
      "Requirement already satisfied: setuptools in c:\\users\\jortv\\anaconda3\\lib\\site-packages (from gevent==21.1.2->-r requirements.txt (line 45)) (65.6.3)\n",
      "Requirement already satisfied: google-auth[aiohttp]>=2.5.0 in c:\\users\\jortv\\anaconda3\\lib\\site-packages (from gsutil==5.27->-r requirements.txt (line 52)) (2.29.0)\n",
      "Requirement already satisfied: wheel in c:\\users\\jortv\\anaconda3\\lib\\site-packages (from lightgbm==3.3.2->-r requirements.txt (line 67)) (0.38.4)\n",
      "Collecting uri@ https://tracinsy.ewi.tudelft.nl/pubtrac/Utilities/export/297/uri/dist/uri-2.0.0.tar.gz\n",
      "  Using cached uri-2.0.0-py3-none-any.whl\n",
      "Collecting google-auth[aiohttp]>=2.5.0\n",
      "  Using cached google_auth-2.28.2-py2.py3-none-any.whl (186 kB)\n",
      "  Using cached google_auth-2.28.1-py2.py3-none-any.whl (186 kB)\n",
      "  Using cached google_auth-2.28.0-py2.py3-none-any.whl (186 kB)\n",
      "  Using cached google_auth-2.27.0-py2.py3-none-any.whl (186 kB)\n",
      "  Using cached google_auth-2.26.2-py2.py3-none-any.whl (186 kB)\n",
      "  Using cached google_auth-2.26.1-py2.py3-none-any.whl (186 kB)\n",
      "  Using cached google_auth-2.26.0-py2.py3-none-any.whl (186 kB)\n",
      "  Using cached google_auth-2.25.2-py2.py3-none-any.whl (184 kB)\n",
      "  Using cached google_auth-2.25.1-py2.py3-none-any.whl (184 kB)\n",
      "  Using cached google_auth-2.25.0-py2.py3-none-any.whl (184 kB)\n",
      "Installing collected packages: requests, python-socketio, Jinja2, aiosignal, torch, requests-oauthlib, nltk, matplotlib, Markdown, gymnasium, google-auth, gevent, Flask, dataclasses-json, cryptography, aiohttp, torchvision, torchaudio, seaborn, pyOpenSSL, google-auth-oauthlib, Flask-SocketIO, Flask-Cors, tensorboard, matrx, clip, d4rl-atari\n",
      "  Attempting uninstall: requests\n",
      "    Found existing installation: requests 2.28.2\n",
      "    Uninstalling requests-2.28.2:\n",
      "      Successfully uninstalled requests-2.28.2\n",
      "  Attempting uninstall: Jinja2\n",
      "    Found existing installation: Jinja2 2.11.3\n",
      "    Uninstalling Jinja2-2.11.3:\n",
      "      Successfully uninstalled Jinja2-2.11.3\n",
      "  Attempting uninstall: aiosignal\n",
      "    Found existing installation: aiosignal 1.2.0\n",
      "    Uninstalling aiosignal-1.2.0:\n",
      "      Successfully uninstalled aiosignal-1.2.0\n",
      "  Attempting uninstall: torch\n",
      "    Found existing installation: torch 1.12.1\n",
      "    Uninstalling torch-1.12.1:\n",
      "      Successfully uninstalled torch-1.12.1\n",
      "Note: you may need to restart the kernel to use updated packages.\n"
     ]
    },
    {
     "name": "stderr",
     "output_type": "stream",
     "text": [
      "WARNING: Ignoring invalid distribution -rotobuf (c:\\users\\jortv\\anaconda3\\lib\\site-packages)\n",
      "WARNING: Ignoring invalid distribution -rotobuf (c:\\users\\jortv\\anaconda3\\lib\\site-packages)\n",
      "  Running command git clone --filter=blob:none --quiet https://github.com/indrasweb/expert-offline-rl.git 'C:\\Users\\jortv\\AppData\\Local\\Temp\\pip-install-mqby18_l\\eorl_1329074ff32b4d73ac87e4089394c59a'\n",
      "  Running command git rev-parse -q --verify 'sha^d0e8b9dbd3bd409a8d591e63cd30b825323d3eda'\n",
      "  Running command git fetch -q https://github.com/indrasweb/expert-offline-rl.git d0e8b9dbd3bd409a8d591e63cd30b825323d3eda\n",
      "WARNING: Ignoring invalid distribution -rotobuf (c:\\users\\jortv\\anaconda3\\lib\\site-packages)\n",
      "    WARNING: Ignoring invalid distribution -rotobuf (c:\\users\\jortv\\anaconda3\\lib\\site-packages)\n",
      "    WARNING: Ignoring invalid distribution -rotobuf (c:\\users\\jortv\\anaconda3\\lib\\site-packages)\n",
      "    WARNING: Ignoring invalid distribution -rotobuf (c:\\users\\jortv\\anaconda3\\lib\\site-packages)\n",
      "    WARNING: Ignoring invalid distribution -rotobuf (c:\\users\\jortv\\anaconda3\\lib\\site-packages)\n",
      "ERROR: Could not install packages due to an OSError: [WinError 5] Access is denied: 'C:\\\\Users\\\\jortv\\\\anaconda3\\\\Lib\\\\site-packages\\\\~orch\\\\lib\\\\asmjit.dll'\n",
      "Consider using the `--user` option or check the permissions.\n",
      "\n",
      "WARNING: Ignoring invalid distribution -rotobuf (c:\\users\\jortv\\anaconda3\\lib\\site-packages)\n",
      "WARNING: Ignoring invalid distribution -rotobuf (c:\\users\\jortv\\anaconda3\\lib\\site-packages)\n",
      "WARNING: Ignoring invalid distribution -rotobuf (c:\\users\\jortv\\anaconda3\\lib\\site-packages)\n",
      "\n",
      "[notice] A new release of pip available: 22.3.1 -> 24.0\n",
      "[notice] To update, run: python.exe -m pip install --upgrade pip\n"
     ]
    }
   ],
   "source": [
    "pip install -r requirements.txt"
   ]
  },
  {
   "cell_type": "code",
   "execution_count": 2,
   "metadata": {},
   "outputs": [],
   "source": [
    "import numpy as np\n",
    "import torch\n",
    "import numpy as np\n",
    "import pandas as pd\n",
    "import seaborn as sns\n",
    "from matplotlib import pyplot as plt\n",
    "from sklearn.decomposition import PCA\n",
    "from pyclustering.cluster.xmeans import xmeans\n",
    "from pyclustering.cluster.center_initializer import kmeans_plusplus_initializer\n",
    "from tqdm import tqdm\n",
    "from scipy.stats import wasserstein_distance\n",
    "from model import get_data_embedding\n",
    "from torch.cuda.amp import autocast, GradScaler  # For mixed precision\n",
    "import logging\n",
    "import random"
   ]
  },
  {
   "cell_type": "code",
   "execution_count": 3,
   "metadata": {},
   "outputs": [],
   "source": [
    "def get_trajectory_embedding(model, observations, actions, rewards, is_seaquest=False, device='cpu'):\n",
    "    \"\"\"\n",
    "    Calculates the trajectory embedding for a given model, observations, actions, and rewards.\n",
    "\n",
    "    Args:\n",
    "        model (torch.nn.Module): The model used to calculate the embedding.\n",
    "        observations (list): List of observations.\n",
    "        actions (list): List of actions.\n",
    "        rewards (list): List of rewards.\n",
    "        stack_frames_fn (function, optional): Function to stack frames for Seaquest environment. Defaults to None.\n",
    "        is_seaquest (bool, optional): Flag indicating if the environment is Seaquest. Defaults to False.\n",
    "\n",
    "    Returns:\n",
    "        list: List of trajectory embeddings.\n",
    "    \"\"\"\n",
    "    def reshape_input(observations, actions, rewards, device='cpu'):\n",
    "        input_obs = observations.view(1, -1, 4*84*84).to(device)\n",
    "        input_act = actions.view(1, -1, 1).to(device)\n",
    "        input_rew = rewards.view(1, -1, 1).to(device)\n",
    "        timesteps = torch.as_tensor([[[1]]], dtype=torch.long).to(device)  # Adjust as needed\n",
    "        return input_obs, input_act, input_rew, timesteps\n",
    "\n",
    "    model = model.to(device)\n",
    "    scaler = GradScaler()\n",
    "    if is_seaquest:\n",
    "        input_obs, input_act, input_rew, timesteps = reshape_input(observations[0], actions[0], rewards[0], device=device)\n",
    "        embedding = model(input_obs, input_act, rtgs=input_rew, timesteps=timesteps).detach()\n",
    "        MAX_SIZE = torch.mean(embedding, dim=1).flatten().shape[0]\n",
    "    else:\n",
    "        combined_input = torch.cat([observations[0], actions[0], rewards[0].unsqueeze(1)], dim=1).type(torch.long)\n",
    "        combined_input = combined_input.to(device)\n",
    "        MAX_SIZE = model(combined_input).detach().flatten().shape[0]\n",
    "\n",
    "    filename = 'seaquest_trajectory_embedding.dat' if is_seaquest else 'halfcheetah_trajectory_embedding.dat'\n",
    "\n",
    "    trajectory_embedding = torch.zeros((len(observations), MAX_SIZE), dtype=torch.float16, device=device)\n",
    "\n",
    "    for ind, (obs, act, rew) in enumerate(tqdm(zip(observations, actions, rewards), total=len(observations), desc=\"Processing trajectories\")):\n",
    "        with autocast():\n",
    "            if is_seaquest:\n",
    "                input_obs, input_act, input_rew, timesteps = reshape_input(obs, act, rew, device=device)\n",
    "                embedding = model(input_obs, input_act, rtgs=input_rew, timesteps=timesteps).detach()\n",
    "                embedding = torch.mean(embedding, dim=1).flatten()\n",
    "            else:\n",
    "                combined_input = torch.cat([obs, act, rew.unsqueeze(1)], dim=1).type(torch.long)\n",
    "                combined_input = combined_input.to(device)\n",
    "                embedding = model(combined_input).detach()\n",
    "                embedding = torch.mean(embedding, dim=1).flatten()\n",
    "            \n",
    "\n",
    "        embedding_size = min(len(embedding), MAX_SIZE)\n",
    "        trajectory_embedding[ind, :embedding_size] = embedding[:embedding_size].cpu()\n",
    "\n",
    "    return trajectory_embedding"
   ]
  },
  {
   "cell_type": "code",
   "execution_count": 4,
   "metadata": {},
   "outputs": [],
   "source": [
    "def perform_clustering_and_plot(traj_embeddings, amount_initial_centers, max_clusters, plot=True):\n",
    "    \"\"\"\n",
    "    Performs clustering on prepared trajectory embeddings using X-Means and plots the results.\n",
    "\n",
    "    :param traj_embeddings: Prepared trajectory embeddings.\n",
    "    :param amount_initial_centers: Initial number of centers for clustering.\n",
    "    :param max_clusters: Maximum number of clusters.\n",
    "    :return: None\n",
    "    \"\"\"\n",
    "    # Create a basic logger\n",
    "    logger = logging.getLogger(__name__)\n",
    "    logging.basicConfig(level=logging.INFO)\n",
    "\n",
    "    logger.info('Starting clustering process.')\n",
    "\n",
    "    # Initialize centers using kmeans_plusplus_initializer\n",
    "    initial_centers = kmeans_plusplus_initializer(traj_embeddings, amount_initial_centers).initialize()\n",
    "\n",
    "    logger.info('Initial centers initialized.')\n",
    "\n",
    "    # Create and process X-Means instance\n",
    "    xmeans_instance = xmeans(traj_embeddings, initial_centers, max_clusters)\n",
    "    xmeans_instance.process()\n",
    "\n",
    "    logger.info('X-Means instance processed.')\n",
    "    \n",
    "    # Extract clustering results: clusters and their centers\n",
    "    clusters = xmeans_instance.get_clusters()\n",
    "\n",
    "    logger.info('Clustering results extracted.')\n",
    "    \n",
    "    # Assign cluster labels to each trajectory\n",
    "    traj_cluster_labels = np.zeros(len(traj_embeddings), dtype=int)\n",
    "    for cluster_id, cluster in enumerate(clusters):\n",
    "        for traj_id in cluster:\n",
    "            traj_cluster_labels[traj_id] = cluster_id\n",
    "\n",
    "    logger.info('Cluster labels assigned to each trajectory.')\n",
    "\n",
    "    # Perform PCA for visualization\n",
    "    pca_traj = PCA(n_components=2)\n",
    "    pca_traj_embeds = pca_traj.fit_transform(traj_embeddings)\n",
    "    plotting_data = {\n",
    "        'feature 1': pca_traj_embeds[:, 0],\n",
    "        'feature 2': pca_traj_embeds[:, 1],\n",
    "        'cluster id': traj_cluster_labels\n",
    "    }\n",
    "    df = pd.DataFrame(plotting_data)\n",
    "\n",
    "    logger.info('PCA performed for visualization.')\n",
    "\n",
    "    if plot:\n",
    "        # Plotting\n",
    "        plt.figure(figsize=(4,3))\n",
    "        palette = sns.color_palette('husl', len(clusters) + 1)\n",
    "        sns.scatterplot(\n",
    "            x='feature 1',\n",
    "            y='feature 2',\n",
    "            hue='cluster id',\n",
    "            palette=palette[:len(clusters)],\n",
    "            data=df,\n",
    "            legend=True\n",
    "        )\n",
    "        plt.title('Trajectory Embeddings for ' + str(amount_initial_centers) + ' initial centers')\n",
    "        plt.legend(title = '$c_{j}$', loc='lower center', bbox_to_anchor=(0.5, 1.05), ncol=5)\n",
    "        plt.tight_layout()\n",
    "        plt.show()\n",
    "\n",
    "        logger.info('Plot created.')\n",
    "\n",
    "    return clusters"
   ]
  },
  {
   "cell_type": "code",
   "execution_count": 5,
   "metadata": {},
   "outputs": [],
   "source": [
    "import torch\n",
    "from tqdm import tqdm\n",
    "\n",
    "def create_trajectories(observations, actions, rewards, terminals, trajectory_length):\n",
    "    \"\"\"\n",
    "    Create trajectories from the given observations, actions, rewards, and terminals.\n",
    "    Parameters:\n",
    "        observations (torch.Tensor): Tensor of shape [num_frames, height, width].\n",
    "        stack_size (int): Number of frames to stack for each observation.\n",
    "    Returns:\n",
    "        torch.Tensor: Stacked observations of shape [(num_frames-stack_size+1), stack_size, height, width].\n",
    "    \"\"\"\n",
    "    # Efficiently compute the number of trajectories\n",
    "    terminal_indices = [i for i, x in enumerate(terminals) if x]\n",
    "    #print(\"DEBUG: terminal_indices\", terminal_indices)\n",
    "    padded_length = sum(trajectory_length - (i % trajectory_length) for i in terminal_indices)\n",
    "    total_length = len(observations) + padded_length\n",
    "    num_trajectories = total_length // trajectory_length\n",
    "\n",
    "    # Tensor shapes\n",
    "    obs_shape = observations[0].shape\n",
    "    act_shape = actions[0].shape\n",
    "    rew_shape = rewards[0].shape\n",
    "    term_shape = terminals[0].shape\n",
    "\n",
    "    # Pre-allocate tensors\n",
    "    final_obs = torch.zeros((num_trajectories, trajectory_length, *obs_shape), dtype=torch.uint8)\n",
    "    final_act = torch.zeros((num_trajectories, trajectory_length, *act_shape))\n",
    "    final_rew = torch.zeros((num_trajectories, trajectory_length, *rew_shape))\n",
    "    final_ter = torch.zeros((num_trajectories, trajectory_length, *term_shape))\n",
    "\n",
    "    # Populate tensors\n",
    "    trajectory_idx = 0\n",
    "    step_idx = 0\n",
    "    for i in tqdm(range(len(observations)), desc=\"Processing sub'trajectories\"):\n",
    "        final_obs[trajectory_idx, step_idx] = torch.from_numpy(observations[i])\n",
    "        final_act[trajectory_idx, step_idx] = torch.as_tensor(actions[i])\n",
    "        final_rew[trajectory_idx, step_idx] = torch.as_tensor(rewards[i])\n",
    "        final_ter[trajectory_idx, step_idx] = torch.as_tensor(terminals[i])\n",
    "        step_idx += 1\n",
    "\n",
    "        if terminals[i] or step_idx == trajectory_length:\n",
    "            trajectory_idx += 1\n",
    "            step_idx = 0\n",
    "            if trajectory_idx >= num_trajectories:\n",
    "                break\n",
    "\n",
    "\n",
    "    return final_obs, final_act, final_rew, final_ter\n"
   ]
  },
  {
   "cell_type": "code",
   "execution_count": 6,
   "metadata": {},
   "outputs": [
    {
     "name": "stdout",
     "output_type": "stream",
     "text": [
      "decompressing data...\n",
      "Dataset loaded\n",
      "261419\n",
      "Dataset extracted with 261419 samples.\n",
      "Information about the dataset:\n",
      "Observation shape:  (261419, 4, 84, 84)\n",
      "Action shape:  (261419,)\n",
      "Reward shape:  (261419,)\n",
      "Terminal shape:  (261419,)\n",
      "Action space:  4\n",
      "Observation space:  (84, 84)\n",
      "Number of terminal states is... 209\n",
      "Environment 'ALE/Breakout-ram-v5' initialized.\n"
     ]
    }
   ],
   "source": [
    "from makeSeaquestdata import load_seaquest_dataset\n",
    "\n",
    "data_size = 200\n",
    "test_size = 10\n",
    "seaquestdata, sq_env = load_seaquest_dataset(env_name='Breakout', size=data_size+test_size)"
   ]
  },
  {
   "cell_type": "code",
   "execution_count": 7,
   "metadata": {},
   "outputs": [],
   "source": [
    "terminal_indexes = np.where(seaquestdata['terminals'] == True)[0]\n",
    "trunc = terminal_indexes[-test_size]\n",
    "terminal_indexes = terminal_indexes[data_size:] # Get index of first trajectory that we want to draw\n",
    "\n",
    "test_observations = []\n",
    "test_actions = []\n",
    "for i in range(len(terminal_indexes)):\n",
    "    ind = [i + np.random.randint(200, 300)]\n",
    "    test_observations.append(seaquestdata['observations'][ind])\n",
    "    test_actions.append(seaquestdata['actions'][ind][0])"
   ]
  },
  {
   "cell_type": "code",
   "execution_count": 8,
   "metadata": {},
   "outputs": [],
   "source": [
    "import copy"
   ]
  },
  {
   "cell_type": "code",
   "execution_count": 9,
   "metadata": {},
   "outputs": [
    {
     "name": "stdout",
     "output_type": "stream",
     "text": [
      "Observation Shape: (4, 84, 84)\n",
      "Test observation shape:  (1, 4, 84, 84)\n"
     ]
    }
   ],
   "source": [
    "observation = copy.deepcopy(test_observations[0])\n",
    "\n",
    "# Observation has shape (1, 4, 84, 84)\n",
    "# We need to remove the first dimension\n",
    "# and plot each channel separately\n",
    "observation = observation.squeeze()\n",
    "print(\"Observation Shape:\", observation.shape)\n",
    "print('Test observation shape: ', test_observations[0].shape)\n",
    "\n",
    "# assert test_observations[0].shape == (1, 4, 84, 84)\n",
    "# if not, drop the first dimension\n",
    "if test_observations[0].shape != (1, 4, 84, 84):\n",
    "    test_observations[0] = test_observations[0].squeeze()\n",
    "    print('Test observation shape after squeezing: ', test_observations[0].shape)\n",
    "\n",
    "\n",
    "# Remove all the previous observations, actions, rewards and terminals\n",
    "seaquestdata[\"observations\"] = seaquestdata[\"observations\"][:trunc]\n",
    "seaquestdata[\"actions\"] = seaquestdata[\"actions\"][:trunc]\n",
    "seaquestdata[\"rewards\"] = seaquestdata[\"rewards\"][:trunc]\n",
    "seaquestdata[\"terminals\"] = seaquestdata[\"terminals\"][:trunc]"
   ]
  },
  {
   "cell_type": "code",
   "execution_count": 10,
   "metadata": {},
   "outputs": [],
   "source": [
    "from load_model import load_seaquest_model\n",
    "pre_trained_encoder_seaquest = load_seaquest_model(\"decision_transformer_atari/checkpoints/Breakout_123.pth\")"
   ]
  },
  {
   "cell_type": "code",
   "execution_count": 11,
   "metadata": {},
   "outputs": [
    {
     "name": "stderr",
     "output_type": "stream",
     "text": [
      "Processing sub'trajectories: 100%|█████████▉| 249926/249952 [00:08<00:00, 28162.63it/s]\n"
     ]
    }
   ],
   "source": [
    "final_obs_sq, final_act_sq, final_rew_sq, _ = create_trajectories(\n",
    "        seaquestdata[\"observations\"], seaquestdata[\"actions\"], \n",
    "        seaquestdata[\"rewards\"], seaquestdata[\"terminals\"], trajectory_length=30\n",
    "    )"
   ]
  },
  {
   "cell_type": "code",
   "execution_count": 12,
   "metadata": {},
   "outputs": [
    {
     "data": {
      "text/plain": [
       "torch.Size([8428, 30, 4, 84, 84])"
      ]
     },
     "execution_count": 12,
     "metadata": {},
     "output_type": "execute_result"
    }
   ],
   "source": [
    "final_obs_sq.shape"
   ]
  },
  {
   "cell_type": "code",
   "execution_count": 13,
   "metadata": {},
   "outputs": [
    {
     "data": {
      "text/plain": [
       "(torch.Size([30, 4, 84, 84]),\n",
       " tensor([1., 0., 1., 0., 0., 0., 0., 0., 0., 0., 2., 2., 2., 1., 1., 0., 0., 0.,\n",
       "         0., 0., 0., 0., 0., 0., 0., 0., 0., 1., 0., 0.]),\n",
       " tensor([0., 0., 0., 0., 0., 0., 0., 1., 0., 0., 0., 0., 0., 0., 0., 0., 0., 0.,\n",
       "         0., 0., 0., 1., 0., 0., 0., 0., 0., 0., 0., 0.]))"
      ]
     },
     "execution_count": 13,
     "metadata": {},
     "output_type": "execute_result"
    }
   ],
   "source": [
    "final_obs_sq[0].shape, final_act_sq[0], final_rew_sq[0]"
   ]
  },
  {
   "cell_type": "code",
   "execution_count": 14,
   "metadata": {},
   "outputs": [],
   "source": [
    "device = 'cpu'"
   ]
  },
  {
   "cell_type": "code",
   "execution_count": 15,
   "metadata": {},
   "outputs": [
    {
     "name": "stderr",
     "output_type": "stream",
     "text": [
      "c:\\Users\\jortv\\anaconda3\\lib\\site-packages\\torch\\cuda\\amp\\grad_scaler.py:125: UserWarning: torch.cuda.amp.GradScaler is enabled, but CUDA is not available.  Disabling.\n",
      "  warnings.warn(\n",
      "Processing trajectories:   0%|          | 0/8428 [00:00<?, ?it/s]c:\\Users\\jortv\\anaconda3\\lib\\site-packages\\torch\\amp\\autocast_mode.py:250: UserWarning: User provided device_type of 'cuda', but CUDA is not available. Disabling\n",
      "  warnings.warn(\n",
      "Processing trajectories: 100%|██████████| 8428/8428 [01:56<00:00, 72.49it/s]\n"
     ]
    }
   ],
   "source": [
    "trajectory_embedding_seaquest = get_trajectory_embedding(\n",
    "        pre_trained_encoder_seaquest, final_obs_sq, final_act_sq, final_rew_sq, \n",
    "        is_seaquest=True, device= device\n",
    "    )"
   ]
  },
  {
   "cell_type": "code",
   "execution_count": 16,
   "metadata": {},
   "outputs": [],
   "source": [
    "clusters_seaquest = perform_clustering_and_plot(trajectory_embedding_seaquest.detach().cpu(), 2, 8, plot=False)"
   ]
  },
  {
   "cell_type": "code",
   "execution_count": 17,
   "metadata": {},
   "outputs": [],
   "source": [
    "from d3rlpy.dataset import Episode \n",
    "import d3rlpy\n",
    "from encoder import CustomCNNFactory\n",
    "import torch\n",
    "import numpy as np\n",
    "\n",
    "def make_episodes(final_obs, final_act, final_rew, max_action_values):\n",
    "    list_episodes = []\n",
    "    for i in range(len(final_obs)):\n",
    "        list_episodes.append(Episode(final_obs[i].numpy().shape[1:], max_action_values, final_obs[i].numpy(), final_act[i].numpy(), final_rew[i].numpy()))\n",
    "    return list_episodes"
   ]
  },
  {
   "cell_type": "code",
   "execution_count": 18,
   "metadata": {},
   "outputs": [],
   "source": [
    "list_episodes_sq = make_episodes(final_obs_sq, final_act_sq, final_rew_sq, 4)"
   ]
  },
  {
   "cell_type": "code",
   "execution_count": 19,
   "metadata": {},
   "outputs": [],
   "source": [
    "def fit_discrete_sac(list_episodes, n_steps=1000, n_steps_per_epoch=100, device='cpu'):\n",
    "    cuda_check = True if device == 'cuda' else False\n",
    "    feature_size = 128\n",
    "    custom_encoder_actor = CustomCNNFactory(feature_size)\n",
    "    custom_encoder_critic = CustomCNNFactory(feature_size)\n",
    "\n",
    "    # Train an agent on the new data\n",
    "    sac_sq = d3rlpy.algos.DiscreteSAC(\n",
    "            actor_learning_rate=3e-4,\n",
    "            critic_learning_rate=3e-4,\n",
    "            temp_learning_rate=3e-4,\n",
    "            batch_size=256,\n",
    "            actor_encoder_factory= custom_encoder_actor,\n",
    "            critic_encoder_factory= custom_encoder_critic,\n",
    "            scaler='pixel',\n",
    "            target_update_interval=2500,\n",
    "            use_gpu=cuda_check)\n",
    "    \n",
    "    sac_sq.fit(list_episodes, n_steps=n_steps, n_steps_per_epoch=n_steps_per_epoch)\n",
    "\n",
    "    return sac_sq"
   ]
  },
  {
   "cell_type": "code",
   "execution_count": 20,
   "metadata": {},
   "outputs": [
    {
     "name": "stdout",
     "output_type": "stream",
     "text": [
      "2024-04-17 10:33:02 [debug    ] RandomIterator is selected.\n",
      "2024-04-17 10:33:02 [info     ] Directory is created at d3rlpy_logs\\DiscreteSAC_20240417103302\n",
      "2024-04-17 10:33:02 [debug    ] Fitting scaler...              scaler=pixel\n",
      "2024-04-17 10:33:02 [debug    ] Building models...\n",
      "2024-04-17 10:33:03 [debug    ] Models have been built.\n",
      "2024-04-17 10:33:03 [info     ] Parameters are saved to d3rlpy_logs\\DiscreteSAC_20240417103302\\params.json params={'action_scaler': None, 'actor_encoder_factory': {'type': 'custom', 'params': {'feature_size': 128}}, 'actor_learning_rate': 0.0003, 'actor_optim_factory': {'optim_cls': 'Adam', 'betas': (0.9, 0.999), 'eps': 0.0001, 'weight_decay': 0, 'amsgrad': False}, 'batch_size': 256, 'critic_encoder_factory': {'type': 'custom', 'params': {'feature_size': 128}}, 'critic_learning_rate': 0.0003, 'critic_optim_factory': {'optim_cls': 'Adam', 'betas': (0.9, 0.999), 'eps': 0.0001, 'weight_decay': 0, 'amsgrad': False}, 'gamma': 0.99, 'generated_maxlen': 100000, 'initial_temperature': 1.0, 'n_critics': 2, 'n_frames': 1, 'n_steps': 1, 'q_func_factory': {'type': 'mean', 'params': {'share_encoder': False}}, 'real_ratio': 1.0, 'reward_scaler': None, 'scaler': {'type': 'pixel', 'params': {}}, 'target_update_interval': 2500, 'temp_learning_rate': 0.0003, 'temp_optim_factory': {'optim_cls': 'Adam', 'betas': (0.9, 0.999), 'eps': 0.0001, 'weight_decay': 0, 'amsgrad': False}, 'use_gpu': None, 'algorithm': 'DiscreteSAC', 'observation_shape': (4, 84, 84), 'action_size': 4}\n"
     ]
    },
    {
     "data": {
      "application/vnd.jupyter.widget-view+json": {
       "model_id": "84fbc590cb5f4fe298feb59c27a4ea0e",
       "version_major": 2,
       "version_minor": 0
      },
      "text/plain": [
       "Epoch 1/10:   0%|          | 0/10 [00:00<?, ?it/s]"
      ]
     },
     "metadata": {},
     "output_type": "display_data"
    },
    {
     "name": "stdout",
     "output_type": "stream",
     "text": [
      "2024-04-17 10:33:05 [info     ] DiscreteSAC_20240417103302: epoch=1 step=10 epoch=1 metrics={'time_sample_batch': 0.006060934066772461, 'time_algorithm_update': 0.22770466804504394, 'temp_loss': 0.027397373132407664, 'temp': 0.9983582913875579, 'critic_loss': 1.5251835823059081, 'actor_loss': -1.558617615699768, 'time_step': 0.23386678695678711} step=10\n",
      "2024-04-17 10:33:05 [info     ] Model parameters are saved to d3rlpy_logs\\DiscreteSAC_20240417103302\\model_10.pt\n"
     ]
    },
    {
     "data": {
      "application/vnd.jupyter.widget-view+json": {
       "model_id": "08cbd63510ac4530ba8b700b1a8345e4",
       "version_major": 2,
       "version_minor": 0
      },
      "text/plain": [
       "Epoch 2/10:   0%|          | 0/10 [00:00<?, ?it/s]"
      ]
     },
     "metadata": {},
     "output_type": "display_data"
    },
    {
     "name": "stdout",
     "output_type": "stream",
     "text": [
      "2024-04-17 10:33:07 [info     ] DiscreteSAC_20240417103302: epoch=2 step=20 epoch=2 metrics={'time_sample_batch': 0.005866432189941406, 'time_algorithm_update': 0.21442170143127443, 'temp_loss': 0.0207118459045887, 'temp': 0.9954169034957886, 'critic_loss': 0.4407074302434921, 'actor_loss': -2.5702420473098755, 'time_step': 0.22043020725250245} step=20\n",
      "2024-04-17 10:33:07 [info     ] Model parameters are saved to d3rlpy_logs\\DiscreteSAC_20240417103302\\model_20.pt\n"
     ]
    },
    {
     "data": {
      "application/vnd.jupyter.widget-view+json": {
       "model_id": "785fd69b8c664004afafdcb7d4731323",
       "version_major": 2,
       "version_minor": 0
      },
      "text/plain": [
       "Epoch 3/10:   0%|          | 0/10 [00:00<?, ?it/s]"
      ]
     },
     "metadata": {},
     "output_type": "display_data"
    },
    {
     "name": "stdout",
     "output_type": "stream",
     "text": [
      "2024-04-17 10:33:10 [info     ] DiscreteSAC_20240417103302: epoch=3 step=30 epoch=3 metrics={'time_sample_batch': 0.00621645450592041, 'time_algorithm_update': 0.21366345882415771, 'temp_loss': 0.022455618530511857, 'temp': 0.9927663683891297, 'critic_loss': 0.17468545883893966, 'actor_loss': -2.4712260246276854, 'time_step': 0.2199880838394165} step=30\n",
      "2024-04-17 10:33:10 [info     ] Model parameters are saved to d3rlpy_logs\\DiscreteSAC_20240417103302\\model_30.pt\n"
     ]
    },
    {
     "data": {
      "application/vnd.jupyter.widget-view+json": {
       "model_id": "ee99e2ade97e4fa3809b899694dd9a86",
       "version_major": 2,
       "version_minor": 0
      },
      "text/plain": [
       "Epoch 4/10:   0%|          | 0/10 [00:00<?, ?it/s]"
      ]
     },
     "metadata": {},
     "output_type": "display_data"
    },
    {
     "name": "stdout",
     "output_type": "stream",
     "text": [
      "2024-04-17 10:33:12 [info     ] DiscreteSAC_20240417103302: epoch=4 step=40 epoch=4 metrics={'time_sample_batch': 0.005826330184936524, 'time_algorithm_update': 0.21544873714447021, 'temp_loss': 0.02735161781311035, 'temp': 0.9899348676204681, 'critic_loss': 0.1289918005466461, 'actor_loss': -2.763782501220703, 'time_step': 0.22137596607208251} step=40\n",
      "2024-04-17 10:33:12 [info     ] Model parameters are saved to d3rlpy_logs\\DiscreteSAC_20240417103302\\model_40.pt\n"
     ]
    },
    {
     "data": {
      "application/vnd.jupyter.widget-view+json": {
       "model_id": "6c32eec096c84a329cc9cf010c371fb2",
       "version_major": 2,
       "version_minor": 0
      },
      "text/plain": [
       "Epoch 5/10:   0%|          | 0/10 [00:00<?, ?it/s]"
      ]
     },
     "metadata": {},
     "output_type": "display_data"
    },
    {
     "name": "stdout",
     "output_type": "stream",
     "text": [
      "2024-04-17 10:33:14 [info     ] DiscreteSAC_20240417103302: epoch=5 step=50 epoch=5 metrics={'time_sample_batch': 0.006138825416564941, 'time_algorithm_update': 0.2201845169067383, 'temp_loss': 0.027350340224802493, 'temp': 0.986874794960022, 'critic_loss': 0.10017735213041305, 'actor_loss': -2.66777503490448, 'time_step': 0.22642407417297364} step=50\n",
      "2024-04-17 10:33:14 [info     ] Model parameters are saved to d3rlpy_logs\\DiscreteSAC_20240417103302\\model_50.pt\n"
     ]
    },
    {
     "data": {
      "application/vnd.jupyter.widget-view+json": {
       "model_id": "aa73a764841c4bf2944f499f5b79720e",
       "version_major": 2,
       "version_minor": 0
      },
      "text/plain": [
       "Epoch 6/10:   0%|          | 0/10 [00:00<?, ?it/s]"
      ]
     },
     "metadata": {},
     "output_type": "display_data"
    },
    {
     "name": "stdout",
     "output_type": "stream",
     "text": [
      "2024-04-17 10:33:16 [info     ] DiscreteSAC_20240417103302: epoch=6 step=60 epoch=6 metrics={'time_sample_batch': 0.005988788604736328, 'time_algorithm_update': 0.21206119060516357, 'temp_loss': 0.027276968210935594, 'temp': 0.9837717294692994, 'critic_loss': 0.10489687025547027, 'actor_loss': -2.7336156368255615, 'time_step': 0.21815221309661864} step=60\n",
      "2024-04-17 10:33:16 [info     ] Model parameters are saved to d3rlpy_logs\\DiscreteSAC_20240417103302\\model_60.pt\n"
     ]
    },
    {
     "data": {
      "application/vnd.jupyter.widget-view+json": {
       "model_id": "1e023b86013148ff860a66e0f9756600",
       "version_major": 2,
       "version_minor": 0
      },
      "text/plain": [
       "Epoch 7/10:   0%|          | 0/10 [00:00<?, ?it/s]"
      ]
     },
     "metadata": {},
     "output_type": "display_data"
    },
    {
     "name": "stdout",
     "output_type": "stream",
     "text": [
      "2024-04-17 10:33:19 [info     ] DiscreteSAC_20240417103302: epoch=7 step=70 epoch=7 metrics={'time_sample_batch': 0.005994057655334473, 'time_algorithm_update': 0.21380574703216554, 'temp_loss': 0.027194756641983987, 'temp': 0.9806840181350708, 'critic_loss': 0.10354412347078323, 'actor_loss': -2.7293471097946167, 'time_step': 0.2197998046875} step=70\n",
      "2024-04-17 10:33:19 [info     ] Model parameters are saved to d3rlpy_logs\\DiscreteSAC_20240417103302\\model_70.pt\n"
     ]
    },
    {
     "data": {
      "application/vnd.jupyter.widget-view+json": {
       "model_id": "760d702bc2294619b95801a99c2d0c54",
       "version_major": 2,
       "version_minor": 0
      },
      "text/plain": [
       "Epoch 8/10:   0%|          | 0/10 [00:00<?, ?it/s]"
      ]
     },
     "metadata": {},
     "output_type": "display_data"
    },
    {
     "name": "stdout",
     "output_type": "stream",
     "text": [
      "2024-04-17 10:33:21 [info     ] DiscreteSAC_20240417103302: epoch=8 step=80 epoch=8 metrics={'time_sample_batch': 0.006017947196960449, 'time_algorithm_update': 0.21819021701812744, 'temp_loss': 0.027109395153820513, 'temp': 0.9776259005069733, 'critic_loss': 0.10441152229905129, 'actor_loss': -2.716794753074646, 'time_step': 0.22430915832519532} step=80\n",
      "2024-04-17 10:33:21 [info     ] Model parameters are saved to d3rlpy_logs\\DiscreteSAC_20240417103302\\model_80.pt\n"
     ]
    },
    {
     "data": {
      "application/vnd.jupyter.widget-view+json": {
       "model_id": "a6f8d71e082a4b58aec2e96c92c4af01",
       "version_major": 2,
       "version_minor": 0
      },
      "text/plain": [
       "Epoch 9/10:   0%|          | 0/10 [00:00<?, ?it/s]"
      ]
     },
     "metadata": {},
     "output_type": "display_data"
    },
    {
     "name": "stdout",
     "output_type": "stream",
     "text": [
      "2024-04-17 10:33:23 [info     ] DiscreteSAC_20240417103302: epoch=9 step=90 epoch=9 metrics={'time_sample_batch': 0.0059200763702392575, 'time_algorithm_update': 0.21775565147399903, 'temp_loss': 0.0270247969776392, 'temp': 0.9745988070964813, 'critic_loss': 0.10852257758378983, 'actor_loss': -2.7228397369384765, 'time_step': 0.223876953125} step=90\n",
      "2024-04-17 10:33:23 [info     ] Model parameters are saved to d3rlpy_logs\\DiscreteSAC_20240417103302\\model_90.pt\n"
     ]
    },
    {
     "data": {
      "application/vnd.jupyter.widget-view+json": {
       "model_id": "aee26e03b2e340bd86b5c390a78a7afe",
       "version_major": 2,
       "version_minor": 0
      },
      "text/plain": [
       "Epoch 10/10:   0%|          | 0/10 [00:00<?, ?it/s]"
      ]
     },
     "metadata": {},
     "output_type": "display_data"
    },
    {
     "name": "stdout",
     "output_type": "stream",
     "text": [
      "2024-04-17 10:33:26 [info     ] DiscreteSAC_20240417103302: epoch=10 step=100 epoch=10 metrics={'time_sample_batch': 0.0061062097549438475, 'time_algorithm_update': 0.2271578311920166, 'temp_loss': 0.026944111846387387, 'temp': 0.9716005027294159, 'critic_loss': 0.08843926712870598, 'actor_loss': -2.7124982357025145, 'time_step': 0.23336405754089357} step=100\n",
      "2024-04-17 10:33:26 [info     ] Model parameters are saved to d3rlpy_logs\\DiscreteSAC_20240417103302\\model_100.pt\n"
     ]
    }
   ],
   "source": [
    "sac_sq = fit_discrete_sac(list_episodes_sq, n_steps=100, n_steps_per_epoch=10, device=device)"
   ]
  },
  {
   "cell_type": "code",
   "execution_count": 21,
   "metadata": {},
   "outputs": [],
   "source": [
    "action_dict = {0: 'NOOP', 1: 'FIRE', 2: 'RIGHT', 3: 'LEFT'}"
   ]
  },
  {
   "cell_type": "code",
   "execution_count": 22,
   "metadata": {},
   "outputs": [
    {
     "data": {
      "image/png": "[encoded data removed]",
      "text/plain": [
       "<Figure size 720x864 with 4 Axes>"
      ]
     },
     "metadata": {
      "needs_background": "light"
     },
     "output_type": "display_data"
    }
   ],
   "source": [
    "plt.figure(figsize=(10, 12))  # Adjust the figure size\n",
    "for i in range(4):\n",
    "    plt.subplot(4, 1, i + 1)\n",
    "    plt.imshow(observation[i], cmap='gray')\n",
    "    plt.axis('off')\n",
    "    plt.tight_layout()\n",
    "\n",
    "    if i == 3:\n",
    "        action = sac_sq.predict(np.expand_dims(observation, axis=0))\n",
    "        plt.title(action_dict[action[0]])\n",
    "\n",
    "plt.subplots_adjust(hspace=0.4)  # Adjust the vertical spacing\n",
    "plt.savefig('test_observation_stack.png')"
   ]
  },
  {
   "cell_type": "code",
   "execution_count": 23,
   "metadata": {},
   "outputs": [],
   "source": [
    "feature_size = 128\n",
    "custom_encoder_actor = CustomCNNFactory(feature_size)\n",
    "custom_encoder_critic = CustomCNNFactory(feature_size)\n",
    "\n",
    "model_params_sq = {\n",
    "'actor_learning_rate': 3e-4,\n",
    "'critic_learning_rate': 3e-4,\n",
    "'temp_learning_rate': 3e-4,\n",
    "'batch_size': 256,\n",
    "'actor_encoder_factory': custom_encoder_actor,\n",
    "'critic_encoder_factory': custom_encoder_critic,\n",
    "'scaler': 'pixel',\n",
    "'use_gpu': True if device == 'cuda' else False\n",
    "}"
   ]
  },
  {
   "cell_type": "code",
   "execution_count": 24,
   "metadata": {},
   "outputs": [],
   "source": [
    "def fit_per_cluster(model, \n",
    "                    model_class, \n",
    "                    model_params, \n",
    "                    data_embedding, \n",
    "                    list_episodes, \n",
    "                    clusters, \n",
    "                    trajectory_embedding, \n",
    "                    test_observations):\n",
    "    \n",
    "    original_actions = []\n",
    "    original_action_values = []\n",
    "    for t in test_observations:\n",
    "        action = model.predict(t)\n",
    "        print(\"Original model action: \", action)\n",
    "        action_value = model.predict_value(t, action = action)\n",
    "        print(\"Original model action value: \", action_value)\n",
    "        print(\"Passing: \", action[0], action_value[0])\n",
    "        original_actions.append(action[0])\n",
    "        original_action_values.append(action_value[0])\n",
    "\n",
    "    result_data_combinations = {0:(original_actions, original_action_values, get_data_embedding(data_embedding))} # Original dataset policy\n",
    "    models = {0:(model, get_data_embedding(data_embedding))}\n",
    "    \n",
    "    for cluster_id, cluster in enumerate(clusters):\n",
    "        model = model_class(**model_params)\n",
    "        count_in_clusters = 0\n",
    "        count_not_in_clusters = 0\n",
    "        temp_data = []\n",
    "        temp_traj_embeds = []\n",
    "        temp_cluster_traj_embeds = []\n",
    "        for traj_id, traj in enumerate(list_episodes):\n",
    "            if traj_id not in cluster:\n",
    "                temp_data.append(list_episodes[traj_id])\n",
    "                temp_traj_embeds.append(trajectory_embedding[traj_id])\n",
    "                count_not_in_clusters += 1\n",
    "            else:\n",
    "                temp_cluster_traj_embeds.append(trajectory_embedding[traj_id])\n",
    "                count_in_clusters += 1\n",
    "        print('-'*100)\n",
    "        print(f'Cluster {cluster_id + 1} has {count_in_clusters} trajectories out of {count_not_in_clusters + count_in_clusters}')\n",
    "        print('-'*100)\n",
    "        \n",
    "        # Generate the data embedding\n",
    "        data_embedding_new = get_data_embedding(temp_traj_embeds)\n",
    "        # Train an agent on the new data\n",
    "        model.fit(temp_data, n_steps=100, n_steps_per_epoch=10)\n",
    "\n",
    "        models[cluster_id + 1] = (model, data_embedding_new)\n",
    "\n",
    "        new_actions = []\n",
    "        new_action_values = []\n",
    "        for t in test_observations:\n",
    "            action = model.predict(t)\n",
    "            print(\"New model action: \", action)\n",
    "            action_value = model.predict_value(t, action = action)\n",
    "            print(\"New model action value: \", action_value)\n",
    "            print(\"Passing: \", action[0], action_value[0])\n",
    "\n",
    "            new_actions.append(action[0])\n",
    "            new_action_values.append(action_value[0])\n",
    "        \n",
    "        result_data_combinations[cluster_id + 1] = (new_actions, new_action_values, data_embedding_new) # Clustered dataset policy (cluster_id + 1 because 0 is the original dataset)\n",
    "                                                                                    # so each value is the model trained on original data - cluster 1, original data - cluster 2, etc.\n",
    "        \n",
    "    return models, result_data_combinations"
   ]
  },
  {
   "cell_type": "code",
   "execution_count": 25,
   "metadata": {},
   "outputs": [],
   "source": [
    "def get_data_embedding(traj_embeddings):\n",
    "    # Convert to numpy arrays if the embeddings are PyTorch tensors\n",
    "    if isinstance(traj_embeddings[0], torch.Tensor):\n",
    "        #traj_embeddings = traj_embeddings\n",
    "        traj_embeddings = [te.cpu().numpy() for te in traj_embeddings]\n",
    "\n",
    "    # Compute the sum of the embeddings, dividing by 10\n",
    "    summed_embeddings = np.array(traj_embeddings).sum(axis=0) / 10.0\n",
    "\n",
    "    # Apply softmax to the summed embeddings\n",
    "    max_embeddings = np.max(summed_embeddings)\n",
    "    exp_embeddings = np.exp(summed_embeddings - max_embeddings)\n",
    "    softmax_embeddings = exp_embeddings / np.sum(exp_embeddings, axis=0)\n",
    "\n",
    "    return softmax_embeddings"
   ]
  },
  {
   "cell_type": "code",
   "execution_count": 26,
   "metadata": {},
   "outputs": [
    {
     "name": "stdout",
     "output_type": "stream",
     "text": [
      "Original model action:  [0]\n",
      "Original model action value:  [1.3126738]\n",
      "Passing:  0 1.3126738\n",
      "Original model action:  [0]\n",
      "Original model action value:  [1.3230234]\n",
      "Passing:  0 1.3230234\n",
      "Original model action:  [0]\n",
      "Original model action value:  [1.3127649]\n",
      "Passing:  0 1.3127649\n",
      "Original model action:  [0]\n",
      "Original model action value:  [1.318299]\n",
      "Passing:  0 1.318299\n",
      "Original model action:  [0]\n",
      "Original model action value:  [1.3232656]\n",
      "Passing:  0 1.3232656\n",
      "Original model action:  [0]\n",
      "Original model action value:  [1.3178558]\n",
      "Passing:  0 1.3178558\n",
      "Original model action:  [0]\n",
      "Original model action value:  [1.3180344]\n",
      "Passing:  0 1.3180344\n",
      "Original model action:  [0]\n",
      "Original model action value:  [1.3241818]\n",
      "Passing:  0 1.3241818\n",
      "Original model action:  [0]\n",
      "Original model action value:  [1.3170295]\n",
      "Passing:  0 1.3170295\n",
      "----------------------------------------------------------------------------------------------------\n",
      "Cluster 1 has 1127 trajectories out of 8428\n",
      "----------------------------------------------------------------------------------------------------\n",
      "2024-04-17 10:33:26 [debug    ] RandomIterator is selected.\n",
      "2024-04-17 10:33:26 [info     ] Directory is created at d3rlpy_logs\\DiscreteSAC_20240417103326\n",
      "2024-04-17 10:33:26 [debug    ] Fitting scaler...              scaler=pixel\n",
      "2024-04-17 10:33:26 [debug    ] Building models...\n",
      "2024-04-17 10:33:26 [debug    ] Models have been built.\n",
      "2024-04-17 10:33:26 [info     ] Parameters are saved to d3rlpy_logs\\DiscreteSAC_20240417103326\\params.json params={'action_scaler': None, 'actor_encoder_factory': {'type': 'custom', 'params': {'feature_size': 128}}, 'actor_learning_rate': 0.0003, 'actor_optim_factory': {'optim_cls': 'Adam', 'betas': (0.9, 0.999), 'eps': 0.0001, 'weight_decay': 0, 'amsgrad': False}, 'batch_size': 256, 'critic_encoder_factory': {'type': 'custom', 'params': {'feature_size': 128}}, 'critic_learning_rate': 0.0003, 'critic_optim_factory': {'optim_cls': 'Adam', 'betas': (0.9, 0.999), 'eps': 0.0001, 'weight_decay': 0, 'amsgrad': False}, 'gamma': 0.99, 'generated_maxlen': 100000, 'initial_temperature': 1.0, 'n_critics': 2, 'n_frames': 1, 'n_steps': 1, 'q_func_factory': {'type': 'mean', 'params': {'share_encoder': False}}, 'real_ratio': 1.0, 'reward_scaler': None, 'scaler': {'type': 'pixel', 'params': {}}, 'target_update_interval': 8000, 'temp_learning_rate': 0.0003, 'temp_optim_factory': {'optim_cls': 'Adam', 'betas': (0.9, 0.999), 'eps': 0.0001, 'weight_decay': 0, 'amsgrad': False}, 'use_gpu': None, 'algorithm': 'DiscreteSAC', 'observation_shape': (4, 84, 84), 'action_size': 4}\n"
     ]
    },
    {
     "data": {
      "application/vnd.jupyter.widget-view+json": {
       "model_id": "7553640a209a4e2b8bae5901e37bf965",
       "version_major": 2,
       "version_minor": 0
      },
      "text/plain": [
       "Epoch 1/10:   0%|          | 0/10 [00:00<?, ?it/s]"
      ]
     },
     "metadata": {},
     "output_type": "display_data"
    },
    {
     "name": "stdout",
     "output_type": "stream",
     "text": [
      "2024-04-17 10:33:29 [info     ] DiscreteSAC_20240417103326: epoch=1 step=10 epoch=1 metrics={'time_sample_batch': 0.006104660034179687, 'time_algorithm_update': 0.2380064010620117, 'temp_loss': 0.027437980100512505, 'temp': 0.9983582615852356, 'critic_loss': 1.4349094748497009, 'actor_loss': -1.46812961101532, 'time_step': 0.24421195983886718} step=10\n",
      "2024-04-17 10:33:29 [info     ] Model parameters are saved to d3rlpy_logs\\DiscreteSAC_20240417103326\\model_10.pt\n"
     ]
    },
    {
     "data": {
      "application/vnd.jupyter.widget-view+json": {
       "model_id": "3efbb46f015247d196b7610bba836835",
       "version_major": 2,
       "version_minor": 0
      },
      "text/plain": [
       "Epoch 2/10:   0%|          | 0/10 [00:00<?, ?it/s]"
      ]
     },
     "metadata": {},
     "output_type": "display_data"
    },
    {
     "name": "stdout",
     "output_type": "stream",
     "text": [
      "2024-04-17 10:33:31 [info     ] DiscreteSAC_20240417103326: epoch=2 step=20 epoch=2 metrics={'time_sample_batch': 0.006387591361999512, 'time_algorithm_update': 0.23977987766265868, 'temp_loss': 0.018571887351572513, 'temp': 0.9954305827617645, 'critic_loss': 0.35090611800551413, 'actor_loss': -2.505407452583313, 'time_step': 0.24626920223236085} step=20\n",
      "2024-04-17 10:33:31 [info     ] Model parameters are saved to d3rlpy_logs\\DiscreteSAC_20240417103326\\model_20.pt\n"
     ]
    },
    {
     "data": {
      "application/vnd.jupyter.widget-view+json": {
       "model_id": "4dd24ada18e041459070b28aa41c764c",
       "version_major": 2,
       "version_minor": 0
      },
      "text/plain": [
       "Epoch 3/10:   0%|          | 0/10 [00:00<?, ?it/s]"
      ]
     },
     "metadata": {},
     "output_type": "display_data"
    },
    {
     "name": "stdout",
     "output_type": "stream",
     "text": [
      "2024-04-17 10:33:34 [info     ] DiscreteSAC_20240417103326: epoch=3 step=30 epoch=3 metrics={'time_sample_batch': 0.006345486640930176, 'time_algorithm_update': 0.2346583127975464, 'temp_loss': 0.02122346218675375, 'temp': 0.9929143011569976, 'critic_loss': 0.17229587435722352, 'actor_loss': -2.402968978881836, 'time_step': 0.24100379943847655} step=30\n",
      "2024-04-17 10:33:34 [info     ] Model parameters are saved to d3rlpy_logs\\DiscreteSAC_20240417103326\\model_30.pt\n"
     ]
    },
    {
     "data": {
      "application/vnd.jupyter.widget-view+json": {
       "model_id": "ebe730ed411b49f386cd0724a540ddb3",
       "version_major": 2,
       "version_minor": 0
      },
      "text/plain": [
       "Epoch 4/10:   0%|          | 0/10 [00:00<?, ?it/s]"
      ]
     },
     "metadata": {},
     "output_type": "display_data"
    },
    {
     "name": "stdout",
     "output_type": "stream",
     "text": [
      "2024-04-17 10:33:36 [info     ] DiscreteSAC_20240417103326: epoch=4 step=40 epoch=4 metrics={'time_sample_batch': 0.005945372581481934, 'time_algorithm_update': 0.22533056735992432, 'temp_loss': 0.027134357206523418, 'temp': 0.990156602859497, 'critic_loss': 0.11420271545648575, 'actor_loss': -2.660719561576843, 'time_step': 0.2313779354095459} step=40\n",
      "2024-04-17 10:33:36 [info     ] Model parameters are saved to d3rlpy_logs\\DiscreteSAC_20240417103326\\model_40.pt\n"
     ]
    },
    {
     "data": {
      "application/vnd.jupyter.widget-view+json": {
       "model_id": "bef9fdaf16544b3788ac17026a1c3131",
       "version_major": 2,
       "version_minor": 0
      },
      "text/plain": [
       "Epoch 5/10:   0%|          | 0/10 [00:00<?, ?it/s]"
      ]
     },
     "metadata": {},
     "output_type": "display_data"
    },
    {
     "name": "stdout",
     "output_type": "stream",
     "text": [
      "2024-04-17 10:33:38 [info     ] DiscreteSAC_20240417103326: epoch=5 step=50 epoch=5 metrics={'time_sample_batch': 0.006138110160827636, 'time_algorithm_update': 0.2233503580093384, 'temp_loss': 0.027259293384850024, 'temp': 0.9870917856693268, 'critic_loss': 0.09863273948431014, 'actor_loss': -2.581287693977356, 'time_step': 0.2296903371810913} step=50\n",
      "2024-04-17 10:33:38 [info     ] Model parameters are saved to d3rlpy_logs\\DiscreteSAC_20240417103326\\model_50.pt\n"
     ]
    },
    {
     "data": {
      "application/vnd.jupyter.widget-view+json": {
       "model_id": "1de2d3155a964843b56c482c2148c3bc",
       "version_major": 2,
       "version_minor": 0
      },
      "text/plain": [
       "Epoch 6/10:   0%|          | 0/10 [00:00<?, ?it/s]"
      ]
     },
     "metadata": {},
     "output_type": "display_data"
    },
    {
     "name": "stdout",
     "output_type": "stream",
     "text": [
      "2024-04-17 10:33:41 [info     ] DiscreteSAC_20240417103326: epoch=6 step=60 epoch=6 metrics={'time_sample_batch': 0.005951714515686035, 'time_algorithm_update': 0.22556209564208984, 'temp_loss': 0.02719543632119894, 'temp': 0.9839602828025817, 'critic_loss': 0.1013544663786888, 'actor_loss': -2.6140514373779298, 'time_step': 0.231614351272583} step=60\n",
      "2024-04-17 10:33:41 [info     ] Model parameters are saved to d3rlpy_logs\\DiscreteSAC_20240417103326\\model_60.pt\n"
     ]
    },
    {
     "data": {
      "application/vnd.jupyter.widget-view+json": {
       "model_id": "9b1f61a2687547688b78ee6d482dd226",
       "version_major": 2,
       "version_minor": 0
      },
      "text/plain": [
       "Epoch 7/10:   0%|          | 0/10 [00:00<?, ?it/s]"
      ]
     },
     "metadata": {},
     "output_type": "display_data"
    },
    {
     "name": "stdout",
     "output_type": "stream",
     "text": [
      "2024-04-17 10:33:43 [info     ] DiscreteSAC_20240417103326: epoch=7 step=70 epoch=7 metrics={'time_sample_batch': 0.005921578407287598, 'time_algorithm_update': 0.22506039142608641, 'temp_loss': 0.027138507552444936, 'temp': 0.9808399617671967, 'critic_loss': 0.0992078274488449, 'actor_loss': -2.6211325407028196, 'time_step': 0.23108282089233398} step=70\n",
      "2024-04-17 10:33:43 [info     ] Model parameters are saved to d3rlpy_logs\\DiscreteSAC_20240417103326\\model_70.pt\n"
     ]
    },
    {
     "data": {
      "application/vnd.jupyter.widget-view+json": {
       "model_id": "3776133cc20d4a09a2a89a67ce0aa113",
       "version_major": 2,
       "version_minor": 0
      },
      "text/plain": [
       "Epoch 8/10:   0%|          | 0/10 [00:00<?, ?it/s]"
      ]
     },
     "metadata": {},
     "output_type": "display_data"
    },
    {
     "name": "stdout",
     "output_type": "stream",
     "text": [
      "2024-04-17 10:33:46 [info     ] DiscreteSAC_20240417103326: epoch=8 step=80 epoch=8 metrics={'time_sample_batch': 0.006091260910034179, 'time_algorithm_update': 0.23689801692962648, 'temp_loss': 0.02706179078668356, 'temp': 0.9777502059936524, 'critic_loss': 0.08138315677642823, 'actor_loss': -2.6270041704177856, 'time_step': 0.24309020042419432} step=80\n",
      "2024-04-17 10:33:46 [info     ] Model parameters are saved to d3rlpy_logs\\DiscreteSAC_20240417103326\\model_80.pt\n"
     ]
    },
    {
     "data": {
      "application/vnd.jupyter.widget-view+json": {
       "model_id": "3d99b530d6cf47f68474056a8fa319e8",
       "version_major": 2,
       "version_minor": 0
      },
      "text/plain": [
       "Epoch 9/10:   0%|          | 0/10 [00:00<?, ?it/s]"
      ]
     },
     "metadata": {},
     "output_type": "display_data"
    },
    {
     "name": "stdout",
     "output_type": "stream",
     "text": [
      "2024-04-17 10:33:48 [info     ] DiscreteSAC_20240417103326: epoch=9 step=90 epoch=9 metrics={'time_sample_batch': 0.005951642990112305, 'time_algorithm_update': 0.22889652252197265, 'temp_loss': 0.02697045188397169, 'temp': 0.9746942698955536, 'critic_loss': 0.0998507633805275, 'actor_loss': -2.622985672950745, 'time_step': 0.23495173454284668} step=90\n",
      "2024-04-17 10:33:48 [info     ] Model parameters are saved to d3rlpy_logs\\DiscreteSAC_20240417103326\\model_90.pt\n"
     ]
    },
    {
     "data": {
      "application/vnd.jupyter.widget-view+json": {
       "model_id": "067230a8607e4d0a9533725bb624cd6f",
       "version_major": 2,
       "version_minor": 0
      },
      "text/plain": [
       "Epoch 10/10:   0%|          | 0/10 [00:00<?, ?it/s]"
      ]
     },
     "metadata": {},
     "output_type": "display_data"
    },
    {
     "name": "stdout",
     "output_type": "stream",
     "text": [
      "2024-04-17 10:33:50 [info     ] DiscreteSAC_20240417103326: epoch=10 step=100 epoch=10 metrics={'time_sample_batch': 0.005935835838317871, 'time_algorithm_update': 0.22701587677001953, 'temp_loss': 0.026883770152926444, 'temp': 0.9716706931591034, 'critic_loss': 0.08011746108531952, 'actor_loss': -2.6377694845199584, 'time_step': 0.23305258750915528} step=100\n",
      "2024-04-17 10:33:50 [info     ] Model parameters are saved to d3rlpy_logs\\DiscreteSAC_20240417103326\\model_100.pt\n",
      "New model action:  [0]\n",
      "New model action value:  [1.2170326]\n",
      "Passing:  0 1.2170326\n",
      "New model action:  [0]\n",
      "New model action value:  [1.2287663]\n",
      "Passing:  0 1.2287663\n",
      "New model action:  [0]\n",
      "New model action value:  [1.2185471]\n",
      "Passing:  0 1.2185471\n",
      "New model action:  [0]\n",
      "New model action value:  [1.2213306]\n",
      "Passing:  0 1.2213306\n",
      "New model action:  [0]\n",
      "New model action value:  [1.2303205]\n",
      "Passing:  0 1.2303205\n",
      "New model action:  [0]\n",
      "New model action value:  [1.2221825]\n",
      "Passing:  0 1.2221825\n",
      "New model action:  [0]\n",
      "New model action value:  [1.2188952]\n",
      "Passing:  0 1.2188952\n",
      "New model action:  [0]\n",
      "New model action value:  [1.2283496]\n",
      "Passing:  0 1.2283496\n",
      "New model action:  [0]\n",
      "New model action value:  [1.2199647]\n",
      "Passing:  0 1.2199647\n",
      "----------------------------------------------------------------------------------------------------\n",
      "Cluster 2 has 1130 trajectories out of 8428\n",
      "----------------------------------------------------------------------------------------------------\n",
      "2024-04-17 10:33:50 [debug    ] RandomIterator is selected.\n",
      "2024-04-17 10:33:50 [info     ] Directory is created at d3rlpy_logs\\DiscreteSAC_20240417103350\n",
      "2024-04-17 10:33:50 [debug    ] Fitting scaler...              scaler=pixel\n",
      "2024-04-17 10:33:50 [debug    ] Building models...\n",
      "2024-04-17 10:33:50 [debug    ] Models have been built.\n",
      "2024-04-17 10:33:50 [info     ] Parameters are saved to d3rlpy_logs\\DiscreteSAC_20240417103350\\params.json params={'action_scaler': None, 'actor_encoder_factory': {'type': 'custom', 'params': {'feature_size': 128}}, 'actor_learning_rate': 0.0003, 'actor_optim_factory': {'optim_cls': 'Adam', 'betas': (0.9, 0.999), 'eps': 0.0001, 'weight_decay': 0, 'amsgrad': False}, 'batch_size': 256, 'critic_encoder_factory': {'type': 'custom', 'params': {'feature_size': 128}}, 'critic_learning_rate': 0.0003, 'critic_optim_factory': {'optim_cls': 'Adam', 'betas': (0.9, 0.999), 'eps': 0.0001, 'weight_decay': 0, 'amsgrad': False}, 'gamma': 0.99, 'generated_maxlen': 100000, 'initial_temperature': 1.0, 'n_critics': 2, 'n_frames': 1, 'n_steps': 1, 'q_func_factory': {'type': 'mean', 'params': {'share_encoder': False}}, 'real_ratio': 1.0, 'reward_scaler': None, 'scaler': {'type': 'pixel', 'params': {}}, 'target_update_interval': 8000, 'temp_learning_rate': 0.0003, 'temp_optim_factory': {'optim_cls': 'Adam', 'betas': (0.9, 0.999), 'eps': 0.0001, 'weight_decay': 0, 'amsgrad': False}, 'use_gpu': None, 'algorithm': 'DiscreteSAC', 'observation_shape': (4, 84, 84), 'action_size': 4}\n"
     ]
    },
    {
     "data": {
      "application/vnd.jupyter.widget-view+json": {
       "model_id": "dc3e3b047a1743d0847f4fa293449c57",
       "version_major": 2,
       "version_minor": 0
      },
      "text/plain": [
       "Epoch 1/10:   0%|          | 0/10 [00:00<?, ?it/s]"
      ]
     },
     "metadata": {},
     "output_type": "display_data"
    },
    {
     "name": "stdout",
     "output_type": "stream",
     "text": [
      "2024-04-17 10:33:53 [info     ] DiscreteSAC_20240417103350: epoch=1 step=10 epoch=1 metrics={'time_sample_batch': 0.0058694124221801754, 'time_algorithm_update': 0.2317570209503174, 'temp_loss': 0.027142048813402653, 'temp': 0.9983571410179138, 'critic_loss': 1.384006142616272, 'actor_loss': -1.5404062509536742, 'time_step': 0.23762643337249756} step=10\n",
      "2024-04-17 10:33:53 [info     ] Model parameters are saved to d3rlpy_logs\\DiscreteSAC_20240417103350\\model_10.pt\n"
     ]
    },
    {
     "data": {
      "application/vnd.jupyter.widget-view+json": {
       "model_id": "ddb810cbc81a4621b1159bec53a152f1",
       "version_major": 2,
       "version_minor": 0
      },
      "text/plain": [
       "Epoch 2/10:   0%|          | 0/10 [00:00<?, ?it/s]"
      ]
     },
     "metadata": {},
     "output_type": "display_data"
    },
    {
     "name": "stdout",
     "output_type": "stream",
     "text": [
      "2024-04-17 10:33:55 [info     ] DiscreteSAC_20240417103350: epoch=2 step=20 epoch=2 metrics={'time_sample_batch': 0.0058770418167114254, 'time_algorithm_update': 0.22480523586273193, 'temp_loss': 0.02514750249683857, 'temp': 0.995399284362793, 'critic_loss': 0.2729321107268333, 'actor_loss': -2.6498748302459716, 'time_step': 0.2307830810546875} step=20\n",
      "2024-04-17 10:33:55 [info     ] Model parameters are saved to d3rlpy_logs\\DiscreteSAC_20240417103350\\model_20.pt\n"
     ]
    },
    {
     "data": {
      "application/vnd.jupyter.widget-view+json": {
       "model_id": "e1ab73cd72ee41cca05e868445be2cad",
       "version_major": 2,
       "version_minor": 0
      },
      "text/plain": [
       "Epoch 3/10:   0%|          | 0/10 [00:00<?, ?it/s]"
      ]
     },
     "metadata": {},
     "output_type": "display_data"
    },
    {
     "name": "stdout",
     "output_type": "stream",
     "text": [
      "2024-04-17 10:33:58 [info     ] DiscreteSAC_20240417103350: epoch=3 step=30 epoch=3 metrics={'time_sample_batch': 0.005864477157592774, 'time_algorithm_update': 0.22920596599578857, 'temp_loss': 0.02714497223496437, 'temp': 0.9924666345119476, 'critic_loss': 0.15643481090664862, 'actor_loss': -2.4118282556533814, 'time_step': 0.2352830648422241} step=30\n",
      "2024-04-17 10:33:58 [info     ] Model parameters are saved to d3rlpy_logs\\DiscreteSAC_20240417103350\\model_30.pt\n"
     ]
    },
    {
     "data": {
      "application/vnd.jupyter.widget-view+json": {
       "model_id": "19b091337f8f4449ad03392ac736f01e",
       "version_major": 2,
       "version_minor": 0
      },
      "text/plain": [
       "Epoch 4/10:   0%|          | 0/10 [00:00<?, ?it/s]"
      ]
     },
     "metadata": {},
     "output_type": "display_data"
    },
    {
     "name": "stdout",
     "output_type": "stream",
     "text": [
      "2024-04-17 10:34:00 [info     ] DiscreteSAC_20240417103350: epoch=4 step=40 epoch=4 metrics={'time_sample_batch': 0.005852270126342774, 'time_algorithm_update': 0.23538720607757568, 'temp_loss': 0.026983722858130933, 'temp': 0.989487475156784, 'critic_loss': 0.13894156590104104, 'actor_loss': -2.6257520437240602, 'time_step': 0.2413403034210205} step=40\n",
      "2024-04-17 10:34:00 [info     ] Model parameters are saved to d3rlpy_logs\\DiscreteSAC_20240417103350\\model_40.pt\n"
     ]
    },
    {
     "data": {
      "application/vnd.jupyter.widget-view+json": {
       "model_id": "6f97697521ad4c6a996439f9e85fa748",
       "version_major": 2,
       "version_minor": 0
      },
      "text/plain": [
       "Epoch 5/10:   0%|          | 0/10 [00:00<?, ?it/s]"
      ]
     },
     "metadata": {},
     "output_type": "display_data"
    },
    {
     "name": "stdout",
     "output_type": "stream",
     "text": [
      "2024-04-17 10:34:03 [info     ] DiscreteSAC_20240417103350: epoch=5 step=50 epoch=5 metrics={'time_sample_batch': 0.0059692621231079105, 'time_algorithm_update': 0.23470661640167237, 'temp_loss': 0.02703671008348465, 'temp': 0.9865061819553376, 'critic_loss': 0.10045485049486161, 'actor_loss': -2.591352605819702, 'time_step': 0.24067587852478028} step=50\n",
      "2024-04-17 10:34:03 [info     ] Model parameters are saved to d3rlpy_logs\\DiscreteSAC_20240417103350\\model_50.pt\n"
     ]
    },
    {
     "data": {
      "application/vnd.jupyter.widget-view+json": {
       "model_id": "2276f48e4974404ba54cd1c3494c36b4",
       "version_major": 2,
       "version_minor": 0
      },
      "text/plain": [
       "Epoch 6/10:   0%|          | 0/10 [00:00<?, ?it/s]"
      ]
     },
     "metadata": {},
     "output_type": "display_data"
    },
    {
     "name": "stdout",
     "output_type": "stream",
     "text": [
      "2024-04-17 10:34:05 [info     ] DiscreteSAC_20240417103350: epoch=6 step=60 epoch=6 metrics={'time_sample_batch': 0.0062035322189331055, 'time_algorithm_update': 0.23677313327789307, 'temp_loss': 0.02712097056210041, 'temp': 0.983530867099762, 'critic_loss': 0.09774958863854408, 'actor_loss': -2.6183969974517822, 'time_step': 0.24307751655578613} step=60\n",
      "2024-04-17 10:34:05 [info     ] Model parameters are saved to d3rlpy_logs\\DiscreteSAC_20240417103350\\model_60.pt\n"
     ]
    },
    {
     "data": {
      "application/vnd.jupyter.widget-view+json": {
       "model_id": "228742de796d46abb457cbe74fb11cb6",
       "version_major": 2,
       "version_minor": 0
      },
      "text/plain": [
       "Epoch 7/10:   0%|          | 0/10 [00:00<?, ?it/s]"
      ]
     },
     "metadata": {},
     "output_type": "display_data"
    },
    {
     "name": "stdout",
     "output_type": "stream",
     "text": [
      "2024-04-17 10:34:07 [info     ] DiscreteSAC_20240417103350: epoch=7 step=70 epoch=7 metrics={'time_sample_batch': 0.005910253524780274, 'time_algorithm_update': 0.23192906379699707, 'temp_loss': 0.027089320495724677, 'temp': 0.980563884973526, 'critic_loss': 0.09419217109680175, 'actor_loss': -2.636429238319397, 'time_step': 0.23794009685516357} step=70\n",
      "2024-04-17 10:34:07 [info     ] Model parameters are saved to d3rlpy_logs\\DiscreteSAC_20240417103350\\model_70.pt\n"
     ]
    },
    {
     "data": {
      "application/vnd.jupyter.widget-view+json": {
       "model_id": "3d3e8507608c45a98b7fd99af650d6d3",
       "version_major": 2,
       "version_minor": 0
      },
      "text/plain": [
       "Epoch 8/10:   0%|          | 0/10 [00:00<?, ?it/s]"
      ]
     },
     "metadata": {},
     "output_type": "display_data"
    },
    {
     "name": "stdout",
     "output_type": "stream",
     "text": [
      "2024-04-17 10:34:10 [info     ] DiscreteSAC_20240417103350: epoch=8 step=80 epoch=8 metrics={'time_sample_batch': 0.005995464324951172, 'time_algorithm_update': 0.22846226692199706, 'temp_loss': 0.027006246708333494, 'temp': 0.9776104688644409, 'critic_loss': 0.09001797437667847, 'actor_loss': -2.608212876319885, 'time_step': 0.23468232154846191} step=80\n",
      "2024-04-17 10:34:10 [info     ] Model parameters are saved to d3rlpy_logs\\DiscreteSAC_20240417103350\\model_80.pt\n"
     ]
    },
    {
     "data": {
      "application/vnd.jupyter.widget-view+json": {
       "model_id": "8b50993cb472459abe4ffc57eb1ddeed",
       "version_major": 2,
       "version_minor": 0
      },
      "text/plain": [
       "Epoch 9/10:   0%|          | 0/10 [00:00<?, ?it/s]"
      ]
     },
     "metadata": {},
     "output_type": "display_data"
    },
    {
     "name": "stdout",
     "output_type": "stream",
     "text": [
      "2024-04-17 10:34:12 [info     ] DiscreteSAC_20240417103350: epoch=9 step=90 epoch=9 metrics={'time_sample_batch': 0.005669045448303223, 'time_algorithm_update': 0.23254740238189697, 'temp_loss': 0.02688020244240761, 'temp': 0.9746748030185699, 'critic_loss': 0.08837411627173423, 'actor_loss': -2.6117326736450197, 'time_step': 0.23831825256347655} step=90\n",
      "2024-04-17 10:34:12 [info     ] Model parameters are saved to d3rlpy_logs\\DiscreteSAC_20240417103350\\model_90.pt\n"
     ]
    },
    {
     "data": {
      "application/vnd.jupyter.widget-view+json": {
       "model_id": "1ce5d210fc434a91ae89474b0fa22ece",
       "version_major": 2,
       "version_minor": 0
      },
      "text/plain": [
       "Epoch 10/10:   0%|          | 0/10 [00:00<?, ?it/s]"
      ]
     },
     "metadata": {},
     "output_type": "display_data"
    },
    {
     "name": "stdout",
     "output_type": "stream",
     "text": [
      "2024-04-17 10:34:15 [info     ] DiscreteSAC_20240417103350: epoch=10 step=100 epoch=10 metrics={'time_sample_batch': 0.005751848220825195, 'time_algorithm_update': 0.23080718517303467, 'temp_loss': 0.026779940724372862, 'temp': 0.9717591941356659, 'critic_loss': 0.08777923844754695, 'actor_loss': -2.613083815574646, 'time_step': 0.23655903339385986} step=100\n",
      "2024-04-17 10:34:15 [info     ] Model parameters are saved to d3rlpy_logs\\DiscreteSAC_20240417103350\\model_100.pt\n",
      "New model action:  [0]\n",
      "New model action value:  [1.2207109]\n",
      "Passing:  0 1.2207109\n",
      "New model action:  [0]\n",
      "New model action value:  [1.2357492]\n",
      "Passing:  0 1.2357492\n",
      "New model action:  [0]\n",
      "New model action value:  [1.2214825]\n",
      "Passing:  0 1.2214825\n",
      "New model action:  [0]\n",
      "New model action value:  [1.2261906]\n",
      "Passing:  0 1.2261906\n",
      "New model action:  [0]\n",
      "New model action value:  [1.2350333]\n",
      "Passing:  0 1.2350333\n",
      "New model action:  [0]\n",
      "New model action value:  [1.227526]\n",
      "Passing:  0 1.227526\n",
      "New model action:  [0]\n",
      "New model action value:  [1.2252373]\n",
      "Passing:  0 1.2252373\n",
      "New model action:  [0]\n",
      "New model action value:  [1.2347016]\n",
      "Passing:  0 1.2347016\n",
      "New model action:  [0]\n",
      "New model action value:  [1.2230068]\n",
      "Passing:  0 1.2230068\n",
      "----------------------------------------------------------------------------------------------------\n",
      "Cluster 3 has 1332 trajectories out of 8428\n",
      "----------------------------------------------------------------------------------------------------\n",
      "2024-04-17 10:34:15 [debug    ] RandomIterator is selected.\n",
      "2024-04-17 10:34:15 [info     ] Directory is created at d3rlpy_logs\\DiscreteSAC_20240417103415\n",
      "2024-04-17 10:34:15 [debug    ] Fitting scaler...              scaler=pixel\n",
      "2024-04-17 10:34:15 [debug    ] Building models...\n",
      "2024-04-17 10:34:15 [debug    ] Models have been built.\n",
      "2024-04-17 10:34:15 [info     ] Parameters are saved to d3rlpy_logs\\DiscreteSAC_20240417103415\\params.json params={'action_scaler': None, 'actor_encoder_factory': {'type': 'custom', 'params': {'feature_size': 128}}, 'actor_learning_rate': 0.0003, 'actor_optim_factory': {'optim_cls': 'Adam', 'betas': (0.9, 0.999), 'eps': 0.0001, 'weight_decay': 0, 'amsgrad': False}, 'batch_size': 256, 'critic_encoder_factory': {'type': 'custom', 'params': {'feature_size': 128}}, 'critic_learning_rate': 0.0003, 'critic_optim_factory': {'optim_cls': 'Adam', 'betas': (0.9, 0.999), 'eps': 0.0001, 'weight_decay': 0, 'amsgrad': False}, 'gamma': 0.99, 'generated_maxlen': 100000, 'initial_temperature': 1.0, 'n_critics': 2, 'n_frames': 1, 'n_steps': 1, 'q_func_factory': {'type': 'mean', 'params': {'share_encoder': False}}, 'real_ratio': 1.0, 'reward_scaler': None, 'scaler': {'type': 'pixel', 'params': {}}, 'target_update_interval': 8000, 'temp_learning_rate': 0.0003, 'temp_optim_factory': {'optim_cls': 'Adam', 'betas': (0.9, 0.999), 'eps': 0.0001, 'weight_decay': 0, 'amsgrad': False}, 'use_gpu': None, 'algorithm': 'DiscreteSAC', 'observation_shape': (4, 84, 84), 'action_size': 4}\n"
     ]
    },
    {
     "data": {
      "application/vnd.jupyter.widget-view+json": {
       "model_id": "38bca678d7af486ebb696b3c6beb690a",
       "version_major": 2,
       "version_minor": 0
      },
      "text/plain": [
       "Epoch 1/10:   0%|          | 0/10 [00:00<?, ?it/s]"
      ]
     },
     "metadata": {},
     "output_type": "display_data"
    },
    {
     "name": "stdout",
     "output_type": "stream",
     "text": [
      "2024-04-17 10:34:17 [info     ] DiscreteSAC_20240417103415: epoch=1 step=10 epoch=1 metrics={'time_sample_batch': 0.005425786972045899, 'time_algorithm_update': 0.23517913818359376, 'temp_loss': 0.026851133070886136, 'temp': 0.9983553290367126, 'critic_loss': 1.3799733996391297, 'actor_loss': -1.5556665897369384, 'time_step': 0.24070489406585693} step=10\n",
      "2024-04-17 10:34:17 [info     ] Model parameters are saved to d3rlpy_logs\\DiscreteSAC_20240417103415\\model_10.pt\n"
     ]
    },
    {
     "data": {
      "application/vnd.jupyter.widget-view+json": {
       "model_id": "b5e1b02d666540dd99a121b275d5b68c",
       "version_major": 2,
       "version_minor": 0
      },
      "text/plain": [
       "Epoch 2/10:   0%|          | 0/10 [00:00<?, ?it/s]"
      ]
     },
     "metadata": {},
     "output_type": "display_data"
    },
    {
     "name": "stdout",
     "output_type": "stream",
     "text": [
      "2024-04-17 10:34:20 [info     ] DiscreteSAC_20240417103415: epoch=2 step=20 epoch=2 metrics={'time_sample_batch': 0.005602574348449707, 'time_algorithm_update': 0.22411811351776123, 'temp_loss': 0.022189244255423547, 'temp': 0.995412927865982, 'critic_loss': 0.2815194815397263, 'actor_loss': -2.71629114151001, 'time_step': 0.23003876209259033} step=20\n",
      "2024-04-17 10:34:20 [info     ] Model parameters are saved to d3rlpy_logs\\DiscreteSAC_20240417103415\\model_20.pt\n"
     ]
    },
    {
     "data": {
      "application/vnd.jupyter.widget-view+json": {
       "model_id": "dbe35eea3df948e1bd40fff917a682e2",
       "version_major": 2,
       "version_minor": 0
      },
      "text/plain": [
       "Epoch 3/10:   0%|          | 0/10 [00:00<?, ?it/s]"
      ]
     },
     "metadata": {},
     "output_type": "display_data"
    },
    {
     "name": "stdout",
     "output_type": "stream",
     "text": [
      "2024-04-17 10:34:22 [info     ] DiscreteSAC_20240417103415: epoch=3 step=30 epoch=3 metrics={'time_sample_batch': 0.005652117729187012, 'time_algorithm_update': 0.23163068294525146, 'temp_loss': 0.02568253129720688, 'temp': 0.9925621092319489, 'critic_loss': 0.1561194248497486, 'actor_loss': -2.4700405836105346, 'time_step': 0.23739476203918458} step=30\n",
      "2024-04-17 10:34:22 [info     ] Model parameters are saved to d3rlpy_logs\\DiscreteSAC_20240417103415\\model_30.pt\n"
     ]
    },
    {
     "data": {
      "application/vnd.jupyter.widget-view+json": {
       "model_id": "5ea9b2334c014f5c94fa64b524424f6f",
       "version_major": 2,
       "version_minor": 0
      },
      "text/plain": [
       "Epoch 4/10:   0%|          | 0/10 [00:00<?, ?it/s]"
      ]
     },
     "metadata": {},
     "output_type": "display_data"
    },
    {
     "name": "stdout",
     "output_type": "stream",
     "text": [
      "2024-04-17 10:34:24 [info     ] DiscreteSAC_20240417103415: epoch=4 step=40 epoch=4 metrics={'time_sample_batch': 0.005814599990844727, 'time_algorithm_update': 0.22668373584747314, 'temp_loss': 0.026506276242434977, 'temp': 0.989597600698471, 'critic_loss': 0.12370531782507896, 'actor_loss': -2.726412463188171, 'time_step': 0.23259823322296141} step=40\n",
      "2024-04-17 10:34:24 [info     ] Model parameters are saved to d3rlpy_logs\\DiscreteSAC_20240417103415\\model_40.pt\n"
     ]
    },
    {
     "data": {
      "application/vnd.jupyter.widget-view+json": {
       "model_id": "29b4d7aea8fd47f3af0db359045c8062",
       "version_major": 2,
       "version_minor": 0
      },
      "text/plain": [
       "Epoch 5/10:   0%|          | 0/10 [00:00<?, ?it/s]"
      ]
     },
     "metadata": {},
     "output_type": "display_data"
    },
    {
     "name": "stdout",
     "output_type": "stream",
     "text": [
      "2024-04-17 10:34:27 [info     ] DiscreteSAC_20240417103415: epoch=5 step=50 epoch=5 metrics={'time_sample_batch': 0.005550694465637207, 'time_algorithm_update': 0.22771944999694824, 'temp_loss': 0.026676811277866364, 'temp': 0.9865747094154358, 'critic_loss': 0.10295042917132377, 'actor_loss': -2.6293378353118895, 'time_step': 0.23347001075744628} step=50\n",
      "2024-04-17 10:34:27 [info     ] Model parameters are saved to d3rlpy_logs\\DiscreteSAC_20240417103415\\model_50.pt\n"
     ]
    },
    {
     "data": {
      "application/vnd.jupyter.widget-view+json": {
       "model_id": "42f06699543d4f8085a2d44944992942",
       "version_major": 2,
       "version_minor": 0
      },
      "text/plain": [
       "Epoch 6/10:   0%|          | 0/10 [00:00<?, ?it/s]"
      ]
     },
     "metadata": {},
     "output_type": "display_data"
    },
    {
     "name": "stdout",
     "output_type": "stream",
     "text": [
      "2024-04-17 10:34:29 [info     ] DiscreteSAC_20240417103415: epoch=6 step=60 epoch=6 metrics={'time_sample_batch': 0.0057285547256469725, 'time_algorithm_update': 0.23007097244262695, 'temp_loss': 0.02685385923832655, 'temp': 0.983541077375412, 'critic_loss': 0.10700538903474807, 'actor_loss': -2.677020239830017, 'time_step': 0.2359003782272339} step=60\n",
      "2024-04-17 10:34:29 [info     ] Model parameters are saved to d3rlpy_logs\\DiscreteSAC_20240417103415\\model_60.pt\n"
     ]
    },
    {
     "data": {
      "application/vnd.jupyter.widget-view+json": {
       "model_id": "561284931f6c452ea2a0fe7028a8036b",
       "version_major": 2,
       "version_minor": 0
      },
      "text/plain": [
       "Epoch 7/10:   0%|          | 0/10 [00:00<?, ?it/s]"
      ]
     },
     "metadata": {},
     "output_type": "display_data"
    },
    {
     "name": "stdout",
     "output_type": "stream",
     "text": [
      "2024-04-17 10:34:32 [info     ] DiscreteSAC_20240417103415: epoch=7 step=70 epoch=7 metrics={'time_sample_batch': 0.005343198776245117, 'time_algorithm_update': 0.22802019119262695, 'temp_loss': 0.027011860348284244, 'temp': 0.9805104672908783, 'critic_loss': 0.09657211527228356, 'actor_loss': -2.680004668235779, 'time_step': 0.2334644079208374} step=70\n",
      "2024-04-17 10:34:32 [info     ] Model parameters are saved to d3rlpy_logs\\DiscreteSAC_20240417103415\\model_70.pt\n"
     ]
    },
    {
     "data": {
      "application/vnd.jupyter.widget-view+json": {
       "model_id": "8378f626e15646ccbe13f96c0e80dd93",
       "version_major": 2,
       "version_minor": 0
      },
      "text/plain": [
       "Epoch 8/10:   0%|          | 0/10 [00:00<?, ?it/s]"
      ]
     },
     "metadata": {},
     "output_type": "display_data"
    },
    {
     "name": "stdout",
     "output_type": "stream",
     "text": [
      "2024-04-17 10:34:34 [info     ] DiscreteSAC_20240417103415: epoch=8 step=80 epoch=8 metrics={'time_sample_batch': 0.005665397644042969, 'time_algorithm_update': 0.223868727684021, 'temp_loss': 0.027067856676876546, 'temp': 0.9774877548217773, 'critic_loss': 0.09371596798300744, 'actor_loss': -2.636703085899353, 'time_step': 0.229666805267334} step=80\n",
      "2024-04-17 10:34:34 [info     ] Model parameters are saved to d3rlpy_logs\\DiscreteSAC_20240417103415\\model_80.pt\n"
     ]
    },
    {
     "data": {
      "application/vnd.jupyter.widget-view+json": {
       "model_id": "184af0b9a59a4b339576ba32ef380bab",
       "version_major": 2,
       "version_minor": 0
      },
      "text/plain": [
       "Epoch 9/10:   0%|          | 0/10 [00:00<?, ?it/s]"
      ]
     },
     "metadata": {},
     "output_type": "display_data"
    },
    {
     "name": "stdout",
     "output_type": "stream",
     "text": [
      "2024-04-17 10:34:36 [info     ] DiscreteSAC_20240417103415: epoch=9 step=90 epoch=9 metrics={'time_sample_batch': 0.005584812164306641, 'time_algorithm_update': 0.23414371013641358, 'temp_loss': 0.0269839508458972, 'temp': 0.9744803249835968, 'critic_loss': 0.09189656972885132, 'actor_loss': -2.6720263004302978, 'time_step': 0.23982844352722169} step=90\n",
      "2024-04-17 10:34:36 [info     ] Model parameters are saved to d3rlpy_logs\\DiscreteSAC_20240417103415\\model_90.pt\n"
     ]
    },
    {
     "data": {
      "application/vnd.jupyter.widget-view+json": {
       "model_id": "4c8e1f0bc89b4a779702103434cd0d59",
       "version_major": 2,
       "version_minor": 0
      },
      "text/plain": [
       "Epoch 10/10:   0%|          | 0/10 [00:00<?, ?it/s]"
      ]
     },
     "metadata": {},
     "output_type": "display_data"
    },
    {
     "name": "stdout",
     "output_type": "stream",
     "text": [
      "2024-04-17 10:34:39 [info     ] DiscreteSAC_20240417103415: epoch=10 step=100 epoch=10 metrics={'time_sample_batch': 0.005571484565734863, 'time_algorithm_update': 0.22652721405029297, 'temp_loss': 0.026915791817009448, 'temp': 0.9714950859546662, 'critic_loss': 0.08699050471186638, 'actor_loss': -2.6448173046112062, 'time_step': 0.23220016956329345} step=100\n",
      "2024-04-17 10:34:39 [info     ] Model parameters are saved to d3rlpy_logs\\DiscreteSAC_20240417103415\\model_100.pt\n",
      "New model action:  [0]\n",
      "New model action value:  [1.2683322]\n",
      "Passing:  0 1.2683322\n",
      "New model action:  [0]\n",
      "New model action value:  [1.2797351]\n",
      "Passing:  0 1.2797351\n",
      "New model action:  [0]\n",
      "New model action value:  [1.2678324]\n",
      "Passing:  0 1.2678324\n",
      "New model action:  [0]\n",
      "New model action value:  [1.2744722]\n",
      "Passing:  0 1.2744722\n",
      "New model action:  [0]\n",
      "New model action value:  [1.2828037]\n",
      "Passing:  0 1.2828037\n",
      "New model action:  [0]\n",
      "New model action value:  [1.2745337]\n",
      "Passing:  0 1.2745337\n",
      "New model action:  [0]\n",
      "New model action value:  [1.2727563]\n",
      "Passing:  0 1.2727563\n",
      "New model action:  [0]\n",
      "New model action value:  [1.28185]\n",
      "Passing:  0 1.28185\n",
      "New model action:  [0]\n",
      "New model action value:  [1.2707508]\n",
      "Passing:  0 1.2707508\n",
      "----------------------------------------------------------------------------------------------------\n",
      "Cluster 4 has 857 trajectories out of 8428\n",
      "----------------------------------------------------------------------------------------------------\n",
      "2024-04-17 10:34:39 [debug    ] RandomIterator is selected.\n",
      "2024-04-17 10:34:39 [info     ] Directory is created at d3rlpy_logs\\DiscreteSAC_20240417103439\n",
      "2024-04-17 10:34:39 [debug    ] Fitting scaler...              scaler=pixel\n",
      "2024-04-17 10:34:39 [debug    ] Building models...\n",
      "2024-04-17 10:34:39 [debug    ] Models have been built.\n",
      "2024-04-17 10:34:39 [info     ] Parameters are saved to d3rlpy_logs\\DiscreteSAC_20240417103439\\params.json params={'action_scaler': None, 'actor_encoder_factory': {'type': 'custom', 'params': {'feature_size': 128}}, 'actor_learning_rate': 0.0003, 'actor_optim_factory': {'optim_cls': 'Adam', 'betas': (0.9, 0.999), 'eps': 0.0001, 'weight_decay': 0, 'amsgrad': False}, 'batch_size': 256, 'critic_encoder_factory': {'type': 'custom', 'params': {'feature_size': 128}}, 'critic_learning_rate': 0.0003, 'critic_optim_factory': {'optim_cls': 'Adam', 'betas': (0.9, 0.999), 'eps': 0.0001, 'weight_decay': 0, 'amsgrad': False}, 'gamma': 0.99, 'generated_maxlen': 100000, 'initial_temperature': 1.0, 'n_critics': 2, 'n_frames': 1, 'n_steps': 1, 'q_func_factory': {'type': 'mean', 'params': {'share_encoder': False}}, 'real_ratio': 1.0, 'reward_scaler': None, 'scaler': {'type': 'pixel', 'params': {}}, 'target_update_interval': 8000, 'temp_learning_rate': 0.0003, 'temp_optim_factory': {'optim_cls': 'Adam', 'betas': (0.9, 0.999), 'eps': 0.0001, 'weight_decay': 0, 'amsgrad': False}, 'use_gpu': None, 'algorithm': 'DiscreteSAC', 'observation_shape': (4, 84, 84), 'action_size': 4}\n"
     ]
    },
    {
     "data": {
      "application/vnd.jupyter.widget-view+json": {
       "model_id": "50046d8f3b8a4d88ac38039998167d90",
       "version_major": 2,
       "version_minor": 0
      },
      "text/plain": [
       "Epoch 1/10:   0%|          | 0/10 [00:00<?, ?it/s]"
      ]
     },
     "metadata": {},
     "output_type": "display_data"
    },
    {
     "name": "stdout",
     "output_type": "stream",
     "text": [
      "2024-04-17 10:34:42 [info     ] DiscreteSAC_20240417103439: epoch=1 step=10 epoch=1 metrics={'time_sample_batch': 0.005923032760620117, 'time_algorithm_update': 0.24259393215179442, 'temp_loss': 0.02705246564000845, 'temp': 0.9983574867248535, 'critic_loss': 1.3665852665901184, 'actor_loss': -1.5316457629203797, 'time_step': 0.2486194372177124} step=10\n",
      "2024-04-17 10:34:42 [info     ] Model parameters are saved to d3rlpy_logs\\DiscreteSAC_20240417103439\\model_10.pt\n"
     ]
    },
    {
     "data": {
      "application/vnd.jupyter.widget-view+json": {
       "model_id": "421c632fb0414148a8032d24b817c497",
       "version_major": 2,
       "version_minor": 0
      },
      "text/plain": [
       "Epoch 2/10:   0%|          | 0/10 [00:00<?, ?it/s]"
      ]
     },
     "metadata": {},
     "output_type": "display_data"
    },
    {
     "name": "stdout",
     "output_type": "stream",
     "text": [
      "2024-04-17 10:34:44 [info     ] DiscreteSAC_20240417103439: epoch=2 step=20 epoch=2 metrics={'time_sample_batch': 0.006140708923339844, 'time_algorithm_update': 0.23897848129272461, 'temp_loss': 0.019417191669344903, 'temp': 0.9954215824604035, 'critic_loss': 0.333871902525425, 'actor_loss': -2.487123489379883, 'time_step': 0.24523096084594725} step=20\n",
      "2024-04-17 10:34:44 [info     ] Model parameters are saved to d3rlpy_logs\\DiscreteSAC_20240417103439\\model_20.pt\n"
     ]
    },
    {
     "data": {
      "application/vnd.jupyter.widget-view+json": {
       "model_id": "11997312f7d44086b54c0164f740ede8",
       "version_major": 2,
       "version_minor": 0
      },
      "text/plain": [
       "Epoch 3/10:   0%|          | 0/10 [00:00<?, ?it/s]"
      ]
     },
     "metadata": {},
     "output_type": "display_data"
    },
    {
     "name": "stdout",
     "output_type": "stream",
     "text": [
      "2024-04-17 10:34:47 [info     ] DiscreteSAC_20240417103439: epoch=3 step=30 epoch=3 metrics={'time_sample_batch': 0.006046843528747558, 'time_algorithm_update': 0.23608851432800293, 'temp_loss': 0.019071864429861307, 'temp': 0.9928964912891388, 'critic_loss': 0.1636686146259308, 'actor_loss': -2.5083972930908205, 'time_step': 0.2423705577850342} step=30\n",
      "2024-04-17 10:34:47 [info     ] Model parameters are saved to d3rlpy_logs\\DiscreteSAC_20240417103439\\model_30.pt\n"
     ]
    },
    {
     "data": {
      "application/vnd.jupyter.widget-view+json": {
       "model_id": "2bcd791f413748859977bf1b81ef7e20",
       "version_major": 2,
       "version_minor": 0
      },
      "text/plain": [
       "Epoch 4/10:   0%|          | 0/10 [00:00<?, ?it/s]"
      ]
     },
     "metadata": {},
     "output_type": "display_data"
    },
    {
     "name": "stdout",
     "output_type": "stream",
     "text": [
      "2024-04-17 10:34:49 [info     ] DiscreteSAC_20240417103439: epoch=4 step=40 epoch=4 metrics={'time_sample_batch': 0.0057032108306884766, 'time_algorithm_update': 0.2344597101211548, 'temp_loss': 0.027030160650610924, 'temp': 0.9901870310306549, 'critic_loss': 0.129274445772171, 'actor_loss': -2.6463662147521974, 'time_step': 0.24027202129364014} step=40\n",
      "2024-04-17 10:34:49 [info     ] Model parameters are saved to d3rlpy_logs\\DiscreteSAC_20240417103439\\model_40.pt\n"
     ]
    },
    {
     "data": {
      "application/vnd.jupyter.widget-view+json": {
       "model_id": "281174eb922149bda39a4247769280d2",
       "version_major": 2,
       "version_minor": 0
      },
      "text/plain": [
       "Epoch 5/10:   0%|          | 0/10 [00:00<?, ?it/s]"
      ]
     },
     "metadata": {},
     "output_type": "display_data"
    },
    {
     "name": "stdout",
     "output_type": "stream",
     "text": [
      "2024-04-17 10:34:51 [info     ] DiscreteSAC_20240417103439: epoch=5 step=50 epoch=5 metrics={'time_sample_batch': 0.005595517158508301, 'time_algorithm_update': 0.23402934074401854, 'temp_loss': 0.027084716595709324, 'temp': 0.9871176958084107, 'critic_loss': 0.11148888468742371, 'actor_loss': -2.633081889152527, 'time_step': 0.23973219394683837} step=50\n",
      "2024-04-17 10:34:51 [info     ] Model parameters are saved to d3rlpy_logs\\DiscreteSAC_20240417103439\\model_50.pt\n"
     ]
    },
    {
     "data": {
      "application/vnd.jupyter.widget-view+json": {
       "model_id": "c260b0e0072b4a8099ea2990b419df24",
       "version_major": 2,
       "version_minor": 0
      },
      "text/plain": [
       "Epoch 6/10:   0%|          | 0/10 [00:00<?, ?it/s]"
      ]
     },
     "metadata": {},
     "output_type": "display_data"
    },
    {
     "name": "stdout",
     "output_type": "stream",
     "text": [
      "2024-04-17 10:34:54 [info     ] DiscreteSAC_20240417103439: epoch=6 step=60 epoch=6 metrics={'time_sample_batch': 0.0057689428329467775, 'time_algorithm_update': 0.23627903461456298, 'temp_loss': 0.027051774226129054, 'temp': 0.9839678347110749, 'critic_loss': 0.09383444637060165, 'actor_loss': -2.61886351108551, 'time_step': 0.2421485662460327} step=60\n",
      "2024-04-17 10:34:54 [info     ] Model parameters are saved to d3rlpy_logs\\DiscreteSAC_20240417103439\\model_60.pt\n"
     ]
    },
    {
     "data": {
      "application/vnd.jupyter.widget-view+json": {
       "model_id": "5e1a9b4bb237494b8e687f4f14532e4e",
       "version_major": 2,
       "version_minor": 0
      },
      "text/plain": [
       "Epoch 7/10:   0%|          | 0/10 [00:00<?, ?it/s]"
      ]
     },
     "metadata": {},
     "output_type": "display_data"
    },
    {
     "name": "stdout",
     "output_type": "stream",
     "text": [
      "2024-04-17 10:34:56 [info     ] DiscreteSAC_20240417103439: epoch=7 step=70 epoch=7 metrics={'time_sample_batch': 0.006001949310302734, 'time_algorithm_update': 0.23461802005767823, 'temp_loss': 0.027031242847442627, 'temp': 0.9808259606361389, 'critic_loss': 0.09011100567877292, 'actor_loss': -2.6497873067855835, 'time_step': 0.24061996936798097} step=70\n",
      "2024-04-17 10:34:56 [info     ] Model parameters are saved to d3rlpy_logs\\DiscreteSAC_20240417103439\\model_70.pt\n"
     ]
    },
    {
     "data": {
      "application/vnd.jupyter.widget-view+json": {
       "model_id": "1b618a1c95d6407ab52a87ed3bd5ccb9",
       "version_major": 2,
       "version_minor": 0
      },
      "text/plain": [
       "Epoch 8/10:   0%|          | 0/10 [00:00<?, ?it/s]"
      ]
     },
     "metadata": {},
     "output_type": "display_data"
    },
    {
     "name": "stdout",
     "output_type": "stream",
     "text": [
      "2024-04-17 10:34:59 [info     ] DiscreteSAC_20240417103439: epoch=8 step=80 epoch=8 metrics={'time_sample_batch': 0.006072425842285156, 'time_algorithm_update': 0.23033413887023926, 'temp_loss': 0.026974911242723464, 'temp': 0.9777142405509949, 'critic_loss': 0.09703924730420113, 'actor_loss': -2.66053729057312, 'time_step': 0.23651275634765626} step=80\n",
      "2024-04-17 10:34:59 [info     ] Model parameters are saved to d3rlpy_logs\\DiscreteSAC_20240417103439\\model_80.pt\n"
     ]
    },
    {
     "data": {
      "application/vnd.jupyter.widget-view+json": {
       "model_id": "a4c20ceee5874708b278b934b575f429",
       "version_major": 2,
       "version_minor": 0
      },
      "text/plain": [
       "Epoch 9/10:   0%|          | 0/10 [00:00<?, ?it/s]"
      ]
     },
     "metadata": {},
     "output_type": "display_data"
    },
    {
     "name": "stdout",
     "output_type": "stream",
     "text": [
      "2024-04-17 10:35:01 [info     ] DiscreteSAC_20240417103439: epoch=9 step=90 epoch=9 metrics={'time_sample_batch': 0.005936455726623535, 'time_algorithm_update': 0.23468394279479982, 'temp_loss': 0.026901305466890336, 'temp': 0.9746369957923889, 'critic_loss': 0.09699606448411942, 'actor_loss': -2.629241442680359, 'time_step': 0.24062039852142333} step=90\n",
      "2024-04-17 10:35:01 [info     ] Model parameters are saved to d3rlpy_logs\\DiscreteSAC_20240417103439\\model_90.pt\n"
     ]
    },
    {
     "data": {
      "application/vnd.jupyter.widget-view+json": {
       "model_id": "0cfc0993731247209cb66336ce690875",
       "version_major": 2,
       "version_minor": 0
      },
      "text/plain": [
       "Epoch 10/10:   0%|          | 0/10 [00:00<?, ?it/s]"
      ]
     },
     "metadata": {},
     "output_type": "display_data"
    },
    {
     "name": "stdout",
     "output_type": "stream",
     "text": [
      "2024-04-17 10:35:04 [info     ] DiscreteSAC_20240417103439: epoch=10 step=100 epoch=10 metrics={'time_sample_batch': 0.006149840354919433, 'time_algorithm_update': 0.23164000511169433, 'temp_loss': 0.026820973865687846, 'temp': 0.9715931832790374, 'critic_loss': 0.087068622559309, 'actor_loss': -2.636566662788391, 'time_step': 0.23788986206054688} step=100\n",
      "2024-04-17 10:35:04 [info     ] Model parameters are saved to d3rlpy_logs\\DiscreteSAC_20240417103439\\model_100.pt\n",
      "New model action:  [0]\n",
      "New model action value:  [1.2806368]\n",
      "Passing:  0 1.2806368\n",
      "New model action:  [0]\n",
      "New model action value:  [1.2914636]\n",
      "Passing:  0 1.2914636\n",
      "New model action:  [0]\n",
      "New model action value:  [1.282212]\n",
      "Passing:  0 1.282212\n",
      "New model action:  [0]\n",
      "New model action value:  [1.2831461]\n",
      "Passing:  0 1.2831461\n",
      "New model action:  [0]\n",
      "New model action value:  [1.2915776]\n",
      "Passing:  0 1.2915776\n",
      "New model action:  [0]\n",
      "New model action value:  [1.2859347]\n",
      "Passing:  0 1.2859347\n",
      "New model action:  [0]\n",
      "New model action value:  [1.2847252]\n",
      "Passing:  0 1.2847252\n",
      "New model action:  [0]\n",
      "New model action value:  [1.2905369]\n",
      "Passing:  0 1.2905369\n",
      "New model action:  [0]\n",
      "New model action value:  [1.2836246]\n",
      "Passing:  0 1.2836246\n",
      "----------------------------------------------------------------------------------------------------\n",
      "Cluster 5 has 1195 trajectories out of 8428\n",
      "----------------------------------------------------------------------------------------------------\n",
      "2024-04-17 10:35:04 [debug    ] RandomIterator is selected.\n",
      "2024-04-17 10:35:04 [info     ] Directory is created at d3rlpy_logs\\DiscreteSAC_20240417103504\n",
      "2024-04-17 10:35:04 [debug    ] Fitting scaler...              scaler=pixel\n",
      "2024-04-17 10:35:04 [debug    ] Building models...\n",
      "2024-04-17 10:35:04 [debug    ] Models have been built.\n",
      "2024-04-17 10:35:04 [info     ] Parameters are saved to d3rlpy_logs\\DiscreteSAC_20240417103504\\params.json params={'action_scaler': None, 'actor_encoder_factory': {'type': 'custom', 'params': {'feature_size': 128}}, 'actor_learning_rate': 0.0003, 'actor_optim_factory': {'optim_cls': 'Adam', 'betas': (0.9, 0.999), 'eps': 0.0001, 'weight_decay': 0, 'amsgrad': False}, 'batch_size': 256, 'critic_encoder_factory': {'type': 'custom', 'params': {'feature_size': 128}}, 'critic_learning_rate': 0.0003, 'critic_optim_factory': {'optim_cls': 'Adam', 'betas': (0.9, 0.999), 'eps': 0.0001, 'weight_decay': 0, 'amsgrad': False}, 'gamma': 0.99, 'generated_maxlen': 100000, 'initial_temperature': 1.0, 'n_critics': 2, 'n_frames': 1, 'n_steps': 1, 'q_func_factory': {'type': 'mean', 'params': {'share_encoder': False}}, 'real_ratio': 1.0, 'reward_scaler': None, 'scaler': {'type': 'pixel', 'params': {}}, 'target_update_interval': 8000, 'temp_learning_rate': 0.0003, 'temp_optim_factory': {'optim_cls': 'Adam', 'betas': (0.9, 0.999), 'eps': 0.0001, 'weight_decay': 0, 'amsgrad': False}, 'use_gpu': None, 'algorithm': 'DiscreteSAC', 'observation_shape': (4, 84, 84), 'action_size': 4}\n"
     ]
    },
    {
     "data": {
      "application/vnd.jupyter.widget-view+json": {
       "model_id": "fc5bb5c51423480f8aaf20f79f2bde7d",
       "version_major": 2,
       "version_minor": 0
      },
      "text/plain": [
       "Epoch 1/10:   0%|          | 0/10 [00:00<?, ?it/s]"
      ]
     },
     "metadata": {},
     "output_type": "display_data"
    },
    {
     "name": "stdout",
     "output_type": "stream",
     "text": [
      "2024-04-17 10:35:06 [info     ] DiscreteSAC_20240417103504: epoch=1 step=10 epoch=1 metrics={'time_sample_batch': 0.005724120140075684, 'time_algorithm_update': 0.23532729148864745, 'temp_loss': 0.02685471884906292, 'temp': 0.9983581304550171, 'critic_loss': 1.4338362336158752, 'actor_loss': -1.547540044784546, 'time_step': 0.24115190505981446} step=10\n",
      "2024-04-17 10:35:06 [info     ] Model parameters are saved to d3rlpy_logs\\DiscreteSAC_20240417103504\\model_10.pt\n"
     ]
    },
    {
     "data": {
      "application/vnd.jupyter.widget-view+json": {
       "model_id": "5700934219b64588a6a57aaeaf359852",
       "version_major": 2,
       "version_minor": 0
      },
      "text/plain": [
       "Epoch 2/10:   0%|          | 0/10 [00:00<?, ?it/s]"
      ]
     },
     "metadata": {},
     "output_type": "display_data"
    },
    {
     "name": "stdout",
     "output_type": "stream",
     "text": [
      "2024-04-17 10:35:09 [info     ] DiscreteSAC_20240417103504: epoch=2 step=20 epoch=2 metrics={'time_sample_batch': 0.005761194229125977, 'time_algorithm_update': 0.23831241130828856, 'temp_loss': 0.015711360657587648, 'temp': 0.9954625129699707, 'critic_loss': 0.31259443014860155, 'actor_loss': -2.642609167098999, 'time_step': 0.24430396556854247} step=20\n",
      "2024-04-17 10:35:09 [info     ] Model parameters are saved to d3rlpy_logs\\DiscreteSAC_20240417103504\\model_20.pt\n"
     ]
    },
    {
     "data": {
      "application/vnd.jupyter.widget-view+json": {
       "model_id": "3e72457c0fca4e9abf39e16a9b0851d9",
       "version_major": 2,
       "version_minor": 0
      },
      "text/plain": [
       "Epoch 3/10:   0%|          | 0/10 [00:00<?, ?it/s]"
      ]
     },
     "metadata": {},
     "output_type": "display_data"
    },
    {
     "name": "stdout",
     "output_type": "stream",
     "text": [
      "2024-04-17 10:35:11 [info     ] DiscreteSAC_20240417103504: epoch=3 step=30 epoch=3 metrics={'time_sample_batch': 0.005909132957458496, 'time_algorithm_update': 0.2319331169128418, 'temp_loss': 0.0231831768527627, 'temp': 0.9929937601089478, 'critic_loss': 0.16530347838997841, 'actor_loss': -2.4573797941207887, 'time_step': 0.23794400691986084} step=30\n",
      "2024-04-17 10:35:11 [info     ] Model parameters are saved to d3rlpy_logs\\DiscreteSAC_20240417103504\\model_30.pt\n"
     ]
    },
    {
     "data": {
      "application/vnd.jupyter.widget-view+json": {
       "model_id": "8464cd4025104c9aaf4477f42ca63d68",
       "version_major": 2,
       "version_minor": 0
      },
      "text/plain": [
       "Epoch 4/10:   0%|          | 0/10 [00:00<?, ?it/s]"
      ]
     },
     "metadata": {},
     "output_type": "display_data"
    },
    {
     "name": "stdout",
     "output_type": "stream",
     "text": [
      "2024-04-17 10:35:14 [info     ] DiscreteSAC_20240417103504: epoch=4 step=40 epoch=4 metrics={'time_sample_batch': 0.005945587158203125, 'time_algorithm_update': 0.2372708797454834, 'temp_loss': 0.027305949293076993, 'temp': 0.9901590287685395, 'critic_loss': 0.13522057980298996, 'actor_loss': -2.7153592109680176, 'time_step': 0.24321646690368653} step=40\n",
      "2024-04-17 10:35:14 [info     ] Model parameters are saved to d3rlpy_logs\\DiscreteSAC_20240417103504\\model_40.pt\n"
     ]
    },
    {
     "data": {
      "application/vnd.jupyter.widget-view+json": {
       "model_id": "d799aa99b73d4ea793b95e1614fe0050",
       "version_major": 2,
       "version_minor": 0
      },
      "text/plain": [
       "Epoch 5/10:   0%|          | 0/10 [00:00<?, ?it/s]"
      ]
     },
     "metadata": {},
     "output_type": "display_data"
    },
    {
     "name": "stdout",
     "output_type": "stream",
     "text": [
      "2024-04-17 10:35:16 [info     ] DiscreteSAC_20240417103504: epoch=5 step=50 epoch=5 metrics={'time_sample_batch': 0.005678915977478027, 'time_algorithm_update': 0.22867965698242188, 'temp_loss': 0.027294686809182168, 'temp': 0.987043035030365, 'critic_loss': 0.10584793016314506, 'actor_loss': -2.6482977628707887, 'time_step': 0.2343585729598999} step=50\n",
      "2024-04-17 10:35:16 [info     ] Model parameters are saved to d3rlpy_logs\\DiscreteSAC_20240417103504\\model_50.pt\n"
     ]
    },
    {
     "data": {
      "application/vnd.jupyter.widget-view+json": {
       "model_id": "c195e92b07994c919cadede1fa1e4475",
       "version_major": 2,
       "version_minor": 0
      },
      "text/plain": [
       "Epoch 6/10:   0%|          | 0/10 [00:00<?, ?it/s]"
      ]
     },
     "metadata": {},
     "output_type": "display_data"
    },
    {
     "name": "stdout",
     "output_type": "stream",
     "text": [
      "2024-04-17 10:35:19 [info     ] DiscreteSAC_20240417103504: epoch=6 step=60 epoch=6 metrics={'time_sample_batch': 0.005528712272644043, 'time_algorithm_update': 0.23645036220550536, 'temp_loss': 0.026984012313187124, 'temp': 0.9838846921920776, 'critic_loss': 0.09365238472819329, 'actor_loss': -2.656470799446106, 'time_step': 0.24219069480895997} step=60\n",
      "2024-04-17 10:35:19 [info     ] Model parameters are saved to d3rlpy_logs\\DiscreteSAC_20240417103504\\model_60.pt\n"
     ]
    },
    {
     "data": {
      "application/vnd.jupyter.widget-view+json": {
       "model_id": "dcb47413b6874e2a9958d1870db2ce17",
       "version_major": 2,
       "version_minor": 0
      },
      "text/plain": [
       "Epoch 7/10:   0%|          | 0/10 [00:00<?, ?it/s]"
      ]
     },
     "metadata": {},
     "output_type": "display_data"
    },
    {
     "name": "stdout",
     "output_type": "stream",
     "text": [
      "2024-04-17 10:35:21 [info     ] DiscreteSAC_20240417103504: epoch=7 step=70 epoch=7 metrics={'time_sample_batch': 0.0057982921600341795, 'time_algorithm_update': 0.23388278484344482, 'temp_loss': 0.026913459412753582, 'temp': 0.980757761001587, 'critic_loss': 0.09501364156603813, 'actor_loss': -2.669137120246887, 'time_step': 0.23981137275695802} step=70\n",
      "2024-04-17 10:35:21 [info     ] Model parameters are saved to d3rlpy_logs\\DiscreteSAC_20240417103504\\model_70.pt\n"
     ]
    },
    {
     "data": {
      "application/vnd.jupyter.widget-view+json": {
       "model_id": "c34b69949b7c4184b4d46fe65942280c",
       "version_major": 2,
       "version_minor": 0
      },
      "text/plain": [
       "Epoch 8/10:   0%|          | 0/10 [00:00<?, ?it/s]"
      ]
     },
     "metadata": {},
     "output_type": "display_data"
    },
    {
     "name": "stdout",
     "output_type": "stream",
     "text": [
      "2024-04-17 10:35:23 [info     ] DiscreteSAC_20240417103504: epoch=8 step=80 epoch=8 metrics={'time_sample_batch': 0.005670428276062012, 'time_algorithm_update': 0.23067967891693114, 'temp_loss': 0.02693498209118843, 'temp': 0.9776672542095184, 'critic_loss': 0.10919082313776016, 'actor_loss': -2.6496244430541993, 'time_step': 0.2364511013031006} step=80\n",
      "2024-04-17 10:35:23 [info     ] Model parameters are saved to d3rlpy_logs\\DiscreteSAC_20240417103504\\model_80.pt\n"
     ]
    },
    {
     "data": {
      "application/vnd.jupyter.widget-view+json": {
       "model_id": "39ca7cf80c1a4a76b7e556c9111304bf",
       "version_major": 2,
       "version_minor": 0
      },
      "text/plain": [
       "Epoch 9/10:   0%|          | 0/10 [00:00<?, ?it/s]"
      ]
     },
     "metadata": {},
     "output_type": "display_data"
    },
    {
     "name": "stdout",
     "output_type": "stream",
     "text": [
      "2024-04-17 10:35:26 [info     ] DiscreteSAC_20240417103504: epoch=9 step=90 epoch=9 metrics={'time_sample_batch': 0.005553245544433594, 'time_algorithm_update': 0.2324690818786621, 'temp_loss': 0.026929964125156403, 'temp': 0.9746068179607391, 'critic_loss': 0.09238029047846794, 'actor_loss': -2.6710575103759764, 'time_step': 0.23822898864746095} step=90\n",
      "2024-04-17 10:35:26 [info     ] Model parameters are saved to d3rlpy_logs\\DiscreteSAC_20240417103504\\model_90.pt\n"
     ]
    },
    {
     "data": {
      "application/vnd.jupyter.widget-view+json": {
       "model_id": "6378d285266b493f92675e24122fae69",
       "version_major": 2,
       "version_minor": 0
      },
      "text/plain": [
       "Epoch 10/10:   0%|          | 0/10 [00:00<?, ?it/s]"
      ]
     },
     "metadata": {},
     "output_type": "display_data"
    },
    {
     "name": "stdout",
     "output_type": "stream",
     "text": [
      "2024-04-17 10:35:28 [info     ] DiscreteSAC_20240417103504: epoch=10 step=100 epoch=10 metrics={'time_sample_batch': 0.005185365676879883, 'time_algorithm_update': 0.22414040565490723, 'temp_loss': 0.026876391470432283, 'temp': 0.9715736448764801, 'critic_loss': 0.0803519144654274, 'actor_loss': -2.655301833152771, 'time_step': 0.2294257640838623} step=100\n",
      "2024-04-17 10:35:28 [info     ] Model parameters are saved to d3rlpy_logs\\DiscreteSAC_20240417103504\\model_100.pt\n",
      "New model action:  [0]\n",
      "New model action value:  [1.2294487]\n",
      "Passing:  0 1.2294487\n",
      "New model action:  [0]\n",
      "New model action value:  [1.2416692]\n",
      "Passing:  0 1.2416692\n",
      "New model action:  [0]\n",
      "New model action value:  [1.2290294]\n",
      "Passing:  0 1.2290294\n",
      "New model action:  [0]\n",
      "New model action value:  [1.2320118]\n",
      "Passing:  0 1.2320118\n",
      "New model action:  [0]\n",
      "New model action value:  [1.2427802]\n",
      "Passing:  0 1.2427802\n",
      "New model action:  [0]\n",
      "New model action value:  [1.2333541]\n",
      "Passing:  0 1.2333541\n",
      "New model action:  [0]\n",
      "New model action value:  [1.2321126]\n",
      "Passing:  0 1.2321126\n",
      "New model action:  [0]\n",
      "New model action value:  [1.2420069]\n",
      "Passing:  0 1.2420069\n",
      "New model action:  [0]\n",
      "New model action value:  [1.232557]\n",
      "Passing:  0 1.232557\n",
      "----------------------------------------------------------------------------------------------------\n",
      "Cluster 6 has 1119 trajectories out of 8428\n",
      "----------------------------------------------------------------------------------------------------\n",
      "2024-04-17 10:35:28 [debug    ] RandomIterator is selected.\n",
      "2024-04-17 10:35:28 [info     ] Directory is created at d3rlpy_logs\\DiscreteSAC_20240417103528\n",
      "2024-04-17 10:35:28 [debug    ] Fitting scaler...              scaler=pixel\n",
      "2024-04-17 10:35:28 [debug    ] Building models...\n",
      "2024-04-17 10:35:28 [debug    ] Models have been built.\n",
      "2024-04-17 10:35:28 [info     ] Parameters are saved to d3rlpy_logs\\DiscreteSAC_20240417103528\\params.json params={'action_scaler': None, 'actor_encoder_factory': {'type': 'custom', 'params': {'feature_size': 128}}, 'actor_learning_rate': 0.0003, 'actor_optim_factory': {'optim_cls': 'Adam', 'betas': (0.9, 0.999), 'eps': 0.0001, 'weight_decay': 0, 'amsgrad': False}, 'batch_size': 256, 'critic_encoder_factory': {'type': 'custom', 'params': {'feature_size': 128}}, 'critic_learning_rate': 0.0003, 'critic_optim_factory': {'optim_cls': 'Adam', 'betas': (0.9, 0.999), 'eps': 0.0001, 'weight_decay': 0, 'amsgrad': False}, 'gamma': 0.99, 'generated_maxlen': 100000, 'initial_temperature': 1.0, 'n_critics': 2, 'n_frames': 1, 'n_steps': 1, 'q_func_factory': {'type': 'mean', 'params': {'share_encoder': False}}, 'real_ratio': 1.0, 'reward_scaler': None, 'scaler': {'type': 'pixel', 'params': {}}, 'target_update_interval': 8000, 'temp_learning_rate': 0.0003, 'temp_optim_factory': {'optim_cls': 'Adam', 'betas': (0.9, 0.999), 'eps': 0.0001, 'weight_decay': 0, 'amsgrad': False}, 'use_gpu': None, 'algorithm': 'DiscreteSAC', 'observation_shape': (4, 84, 84), 'action_size': 4}\n"
     ]
    },
    {
     "data": {
      "application/vnd.jupyter.widget-view+json": {
       "model_id": "dc0831cadd3f4a56a6fa535c4be32114",
       "version_major": 2,
       "version_minor": 0
      },
      "text/plain": [
       "Epoch 1/10:   0%|          | 0/10 [00:00<?, ?it/s]"
      ]
     },
     "metadata": {},
     "output_type": "display_data"
    },
    {
     "name": "stdout",
     "output_type": "stream",
     "text": [
      "2024-04-17 10:35:31 [info     ] DiscreteSAC_20240417103528: epoch=1 step=10 epoch=1 metrics={'time_sample_batch': 0.005608272552490234, 'time_algorithm_update': 0.23320724964141845, 'temp_loss': 0.027224321477115156, 'temp': 0.998358178138733, 'critic_loss': 1.3963431477546693, 'actor_loss': -1.5146482110023498, 'time_step': 0.23911433219909667} step=10\n",
      "2024-04-17 10:35:31 [info     ] Model parameters are saved to d3rlpy_logs\\DiscreteSAC_20240417103528\\model_10.pt\n"
     ]
    },
    {
     "data": {
      "application/vnd.jupyter.widget-view+json": {
       "model_id": "9ec1eb56fbaa404999ab23d875a4d0d4",
       "version_major": 2,
       "version_minor": 0
      },
      "text/plain": [
       "Epoch 2/10:   0%|          | 0/10 [00:00<?, ?it/s]"
      ]
     },
     "metadata": {},
     "output_type": "display_data"
    },
    {
     "name": "stdout",
     "output_type": "stream",
     "text": [
      "2024-04-17 10:35:33 [info     ] DiscreteSAC_20240417103528: epoch=2 step=20 epoch=2 metrics={'time_sample_batch': 0.005241847038269043, 'time_algorithm_update': 0.22803688049316406, 'temp_loss': 0.020817396230995655, 'temp': 0.9954380691051483, 'critic_loss': 0.3230395071208477, 'actor_loss': -2.501181125640869, 'time_step': 0.23337867259979247} step=20\n",
      "2024-04-17 10:35:33 [info     ] Model parameters are saved to d3rlpy_logs\\DiscreteSAC_20240417103528\\model_20.pt\n"
     ]
    },
    {
     "data": {
      "application/vnd.jupyter.widget-view+json": {
       "model_id": "659ede0e208a4067a47d5ea0a88d93b8",
       "version_major": 2,
       "version_minor": 0
      },
      "text/plain": [
       "Epoch 3/10:   0%|          | 0/10 [00:00<?, ?it/s]"
      ]
     },
     "metadata": {},
     "output_type": "display_data"
    },
    {
     "name": "stdout",
     "output_type": "stream",
     "text": [
      "2024-04-17 10:35:36 [info     ] DiscreteSAC_20240417103528: epoch=3 step=30 epoch=3 metrics={'time_sample_batch': 0.005519890785217285, 'time_algorithm_update': 0.22153778076171876, 'temp_loss': 0.026069517061114312, 'temp': 0.9926554381847381, 'critic_loss': 0.17429379671812056, 'actor_loss': -2.3881238222122194, 'time_step': 0.22715566158294678} step=30\n",
      "2024-04-17 10:35:36 [info     ] Model parameters are saved to d3rlpy_logs\\DiscreteSAC_20240417103528\\model_30.pt\n"
     ]
    },
    {
     "data": {
      "application/vnd.jupyter.widget-view+json": {
       "model_id": "bdf1dfe86546429aa48c6c016a1b4b45",
       "version_major": 2,
       "version_minor": 0
      },
      "text/plain": [
       "Epoch 4/10:   0%|          | 0/10 [00:00<?, ?it/s]"
      ]
     },
     "metadata": {},
     "output_type": "display_data"
    },
    {
     "name": "stdout",
     "output_type": "stream",
     "text": [
      "2024-04-17 10:35:38 [info     ] DiscreteSAC_20240417103528: epoch=4 step=40 epoch=4 metrics={'time_sample_batch': 0.005208635330200195, 'time_algorithm_update': 0.22042086124420165, 'temp_loss': 0.0269661832600832, 'temp': 0.9896917521953583, 'critic_loss': 0.11050574034452439, 'actor_loss': -2.6160964250564573, 'time_step': 0.22574732303619385} step=40\n",
      "2024-04-17 10:35:38 [info     ] Model parameters are saved to d3rlpy_logs\\DiscreteSAC_20240417103528\\model_40.pt\n"
     ]
    },
    {
     "data": {
      "application/vnd.jupyter.widget-view+json": {
       "model_id": "12ac7a08e1d24b7494353f037f3d3a8a",
       "version_major": 2,
       "version_minor": 0
      },
      "text/plain": [
       "Epoch 5/10:   0%|          | 0/10 [00:00<?, ?it/s]"
      ]
     },
     "metadata": {},
     "output_type": "display_data"
    },
    {
     "name": "stdout",
     "output_type": "stream",
     "text": [
      "2024-04-17 10:35:40 [info     ] DiscreteSAC_20240417103528: epoch=5 step=50 epoch=5 metrics={'time_sample_batch': 0.0054110527038574215, 'time_algorithm_update': 0.2203472375869751, 'temp_loss': 0.02700244840234518, 'temp': 0.9866452574729919, 'critic_loss': 0.09863099828362465, 'actor_loss': -2.5851733684539795, 'time_step': 0.22595860958099365} step=50\n",
      "2024-04-17 10:35:40 [info     ] Model parameters are saved to d3rlpy_logs\\DiscreteSAC_20240417103528\\model_50.pt\n"
     ]
    },
    {
     "data": {
      "application/vnd.jupyter.widget-view+json": {
       "model_id": "6295a43750c842ab89ede5d21fef695c",
       "version_major": 2,
       "version_minor": 0
      },
      "text/plain": [
       "Epoch 6/10:   0%|          | 0/10 [00:00<?, ?it/s]"
      ]
     },
     "metadata": {},
     "output_type": "display_data"
    },
    {
     "name": "stdout",
     "output_type": "stream",
     "text": [
      "2024-04-17 10:35:42 [info     ] DiscreteSAC_20240417103528: epoch=6 step=60 epoch=6 metrics={'time_sample_batch': 0.0056003093719482425, 'time_algorithm_update': 0.22394192218780518, 'temp_loss': 0.02705545797944069, 'temp': 0.9835916996002197, 'critic_loss': 0.09802915826439858, 'actor_loss': -2.6343738079071044, 'time_step': 0.22964260578155518} step=60\n",
      "2024-04-17 10:35:42 [info     ] Model parameters are saved to d3rlpy_logs\\DiscreteSAC_20240417103528\\model_60.pt\n"
     ]
    },
    {
     "data": {
      "application/vnd.jupyter.widget-view+json": {
       "model_id": "176d8efb28d1444687e6f605b00dcfc7",
       "version_major": 2,
       "version_minor": 0
      },
      "text/plain": [
       "Epoch 7/10:   0%|          | 0/10 [00:00<?, ?it/s]"
      ]
     },
     "metadata": {},
     "output_type": "display_data"
    },
    {
     "name": "stdout",
     "output_type": "stream",
     "text": [
      "2024-04-17 10:35:45 [info     ] DiscreteSAC_20240417103528: epoch=7 step=70 epoch=7 metrics={'time_sample_batch': 0.005413675308227539, 'time_algorithm_update': 0.21913535594940187, 'temp_loss': 0.027066438272595406, 'temp': 0.9805514752864838, 'critic_loss': 0.09603403806686402, 'actor_loss': -2.6328407287597657, 'time_step': 0.22467801570892335} step=70\n",
      "2024-04-17 10:35:45 [info     ] Model parameters are saved to d3rlpy_logs\\DiscreteSAC_20240417103528\\model_70.pt\n"
     ]
    },
    {
     "data": {
      "application/vnd.jupyter.widget-view+json": {
       "model_id": "0d58051cbbb245598df3603191381bc0",
       "version_major": 2,
       "version_minor": 0
      },
      "text/plain": [
       "Epoch 8/10:   0%|          | 0/10 [00:00<?, ?it/s]"
      ]
     },
     "metadata": {},
     "output_type": "display_data"
    },
    {
     "name": "stdout",
     "output_type": "stream",
     "text": [
      "2024-04-17 10:35:47 [info     ] DiscreteSAC_20240417103528: epoch=8 step=80 epoch=8 metrics={'time_sample_batch': 0.0055189371109008786, 'time_algorithm_update': 0.22520718574523926, 'temp_loss': 0.02705900203436613, 'temp': 0.9775306403636932, 'critic_loss': 0.0894825991243124, 'actor_loss': -2.6190923929214476, 'time_step': 0.23093092441558838} step=80\n",
      "2024-04-17 10:35:47 [info     ] Model parameters are saved to d3rlpy_logs\\DiscreteSAC_20240417103528\\model_80.pt\n"
     ]
    },
    {
     "data": {
      "application/vnd.jupyter.widget-view+json": {
       "model_id": "5216bd93d7904ba6b540e5c1fa609bfa",
       "version_major": 2,
       "version_minor": 0
      },
      "text/plain": [
       "Epoch 9/10:   0%|          | 0/10 [00:00<?, ?it/s]"
      ]
     },
     "metadata": {},
     "output_type": "display_data"
    },
    {
     "name": "stdout",
     "output_type": "stream",
     "text": [
      "2024-04-17 10:35:50 [info     ] DiscreteSAC_20240417103528: epoch=9 step=90 epoch=9 metrics={'time_sample_batch': 0.005385923385620117, 'time_algorithm_update': 0.2273793935775757, 'temp_loss': 0.027022424340248107, 'temp': 0.9745302557945251, 'critic_loss': 0.08767890706658363, 'actor_loss': -2.6168455600738527, 'time_step': 0.23287124633789064} step=90\n",
      "2024-04-17 10:35:50 [info     ] Model parameters are saved to d3rlpy_logs\\DiscreteSAC_20240417103528\\model_90.pt\n"
     ]
    },
    {
     "data": {
      "application/vnd.jupyter.widget-view+json": {
       "model_id": "01e39669d12a4d24a1d8522b81faf7f0",
       "version_major": 2,
       "version_minor": 0
      },
      "text/plain": [
       "Epoch 10/10:   0%|          | 0/10 [00:00<?, ?it/s]"
      ]
     },
     "metadata": {},
     "output_type": "display_data"
    },
    {
     "name": "stdout",
     "output_type": "stream",
     "text": [
      "2024-04-17 10:35:52 [info     ] DiscreteSAC_20240417103528: epoch=10 step=100 epoch=10 metrics={'time_sample_batch': 0.005558657646179199, 'time_algorithm_update': 0.21996142864227294, 'temp_loss': 0.026911346428096294, 'temp': 0.9715516209602356, 'critic_loss': 0.08633721917867661, 'actor_loss': -2.6179824829101563, 'time_step': 0.22552008628845216} step=100\n",
      "2024-04-17 10:35:52 [info     ] Model parameters are saved to d3rlpy_logs\\DiscreteSAC_20240417103528\\model_100.pt\n",
      "New model action:  [0]\n",
      "New model action value:  [1.2037554]\n",
      "Passing:  0 1.2037554\n",
      "New model action:  [0]\n",
      "New model action value:  [1.2149806]\n",
      "Passing:  0 1.2149806\n",
      "New model action:  [0]\n",
      "New model action value:  [1.2035494]\n",
      "Passing:  0 1.2035494\n",
      "New model action:  [0]\n",
      "New model action value:  [1.2095665]\n",
      "Passing:  0 1.2095665\n",
      "New model action:  [0]\n",
      "New model action value:  [1.2162647]\n",
      "Passing:  0 1.2162647\n",
      "New model action:  [0]\n",
      "New model action value:  [1.2115014]\n",
      "Passing:  0 1.2115014\n",
      "New model action:  [0]\n",
      "New model action value:  [1.2089581]\n",
      "Passing:  0 1.2089581\n",
      "New model action:  [0]\n",
      "New model action value:  [1.2163296]\n",
      "Passing:  0 1.2163296\n",
      "New model action:  [0]\n",
      "New model action value:  [1.2078729]\n",
      "Passing:  0 1.2078729\n",
      "----------------------------------------------------------------------------------------------------\n",
      "Cluster 7 has 994 trajectories out of 8428\n",
      "----------------------------------------------------------------------------------------------------\n",
      "2024-04-17 10:35:52 [debug    ] RandomIterator is selected.\n",
      "2024-04-17 10:35:52 [info     ] Directory is created at d3rlpy_logs\\DiscreteSAC_20240417103552\n",
      "2024-04-17 10:35:52 [debug    ] Fitting scaler...              scaler=pixel\n",
      "2024-04-17 10:35:52 [debug    ] Building models...\n",
      "2024-04-17 10:35:52 [debug    ] Models have been built.\n",
      "2024-04-17 10:35:52 [info     ] Parameters are saved to d3rlpy_logs\\DiscreteSAC_20240417103552\\params.json params={'action_scaler': None, 'actor_encoder_factory': {'type': 'custom', 'params': {'feature_size': 128}}, 'actor_learning_rate': 0.0003, 'actor_optim_factory': {'optim_cls': 'Adam', 'betas': (0.9, 0.999), 'eps': 0.0001, 'weight_decay': 0, 'amsgrad': False}, 'batch_size': 256, 'critic_encoder_factory': {'type': 'custom', 'params': {'feature_size': 128}}, 'critic_learning_rate': 0.0003, 'critic_optim_factory': {'optim_cls': 'Adam', 'betas': (0.9, 0.999), 'eps': 0.0001, 'weight_decay': 0, 'amsgrad': False}, 'gamma': 0.99, 'generated_maxlen': 100000, 'initial_temperature': 1.0, 'n_critics': 2, 'n_frames': 1, 'n_steps': 1, 'q_func_factory': {'type': 'mean', 'params': {'share_encoder': False}}, 'real_ratio': 1.0, 'reward_scaler': None, 'scaler': {'type': 'pixel', 'params': {}}, 'target_update_interval': 8000, 'temp_learning_rate': 0.0003, 'temp_optim_factory': {'optim_cls': 'Adam', 'betas': (0.9, 0.999), 'eps': 0.0001, 'weight_decay': 0, 'amsgrad': False}, 'use_gpu': None, 'algorithm': 'DiscreteSAC', 'observation_shape': (4, 84, 84), 'action_size': 4}\n"
     ]
    },
    {
     "data": {
      "application/vnd.jupyter.widget-view+json": {
       "model_id": "4faaaa9500af41d2b70d5da03e23e144",
       "version_major": 2,
       "version_minor": 0
      },
      "text/plain": [
       "Epoch 1/10:   0%|          | 0/10 [00:00<?, ?it/s]"
      ]
     },
     "metadata": {},
     "output_type": "display_data"
    },
    {
     "name": "stdout",
     "output_type": "stream",
     "text": [
      "2024-04-17 10:35:54 [info     ] DiscreteSAC_20240417103552: epoch=1 step=10 epoch=1 metrics={'time_sample_batch': 0.005159711837768555, 'time_algorithm_update': 0.21799910068511963, 'temp_loss': 0.02705027461051941, 'temp': 0.9983587920665741, 'critic_loss': 1.411981064081192, 'actor_loss': -1.5173487305641173, 'time_step': 0.2231588125228882} step=10\n",
      "2024-04-17 10:35:54 [info     ] Model parameters are saved to d3rlpy_logs\\DiscreteSAC_20240417103552\\model_10.pt\n"
     ]
    },
    {
     "data": {
      "application/vnd.jupyter.widget-view+json": {
       "model_id": "61363d10b57e468f83d56f132aa0c933",
       "version_major": 2,
       "version_minor": 0
      },
      "text/plain": [
       "Epoch 2/10:   0%|          | 0/10 [00:00<?, ?it/s]"
      ]
     },
     "metadata": {},
     "output_type": "display_data"
    },
    {
     "name": "stdout",
     "output_type": "stream",
     "text": [
      "2024-04-17 10:35:57 [info     ] DiscreteSAC_20240417103552: epoch=2 step=20 epoch=2 metrics={'time_sample_batch': 0.006049132347106934, 'time_algorithm_update': 0.22045547962188722, 'temp_loss': 0.026550329104065896, 'temp': 0.9953886330127716, 'critic_loss': 0.33931167870759965, 'actor_loss': -2.411595344543457, 'time_step': 0.22660586833953858} step=20\n",
      "2024-04-17 10:35:57 [info     ] Model parameters are saved to d3rlpy_logs\\DiscreteSAC_20240417103552\\model_20.pt\n"
     ]
    },
    {
     "data": {
      "application/vnd.jupyter.widget-view+json": {
       "model_id": "98849c9a7f3042dcacd2f7d07a9acea3",
       "version_major": 2,
       "version_minor": 0
      },
      "text/plain": [
       "Epoch 3/10:   0%|          | 0/10 [00:00<?, ?it/s]"
      ]
     },
     "metadata": {},
     "output_type": "display_data"
    },
    {
     "name": "stdout",
     "output_type": "stream",
     "text": [
      "2024-04-17 10:35:59 [info     ] DiscreteSAC_20240417103552: epoch=3 step=30 epoch=3 metrics={'time_sample_batch': 0.0052997350692749025, 'time_algorithm_update': 0.21862640380859374, 'temp_loss': 0.02542508989572525, 'temp': 0.9924441635608673, 'critic_loss': 0.16922064125537872, 'actor_loss': -2.4222609758377076, 'time_step': 0.224039626121521} step=30\n",
      "2024-04-17 10:35:59 [info     ] Model parameters are saved to d3rlpy_logs\\DiscreteSAC_20240417103552\\model_30.pt\n"
     ]
    },
    {
     "data": {
      "application/vnd.jupyter.widget-view+json": {
       "model_id": "47ce25434bac48f7b81ad6256b245932",
       "version_major": 2,
       "version_minor": 0
      },
      "text/plain": [
       "Epoch 4/10:   0%|          | 0/10 [00:00<?, ?it/s]"
      ]
     },
     "metadata": {},
     "output_type": "display_data"
    },
    {
     "name": "stdout",
     "output_type": "stream",
     "text": [
      "2024-04-17 10:36:01 [info     ] DiscreteSAC_20240417103552: epoch=4 step=40 epoch=4 metrics={'time_sample_batch': 0.005570077896118164, 'time_algorithm_update': 0.21825759410858153, 'temp_loss': 0.026655444502830507, 'temp': 0.9895304620265961, 'critic_loss': 0.1327453076839447, 'actor_loss': -2.6131516695022583, 'time_step': 0.22392873764038085} step=40\n",
      "2024-04-17 10:36:01 [info     ] Model parameters are saved to d3rlpy_logs\\DiscreteSAC_20240417103552\\model_40.pt\n"
     ]
    },
    {
     "data": {
      "application/vnd.jupyter.widget-view+json": {
       "model_id": "2a33f08b1f7245228e27a188065b0973",
       "version_major": 2,
       "version_minor": 0
      },
      "text/plain": [
       "Epoch 5/10:   0%|          | 0/10 [00:00<?, ?it/s]"
      ]
     },
     "metadata": {},
     "output_type": "display_data"
    },
    {
     "name": "stdout",
     "output_type": "stream",
     "text": [
      "2024-04-17 10:36:03 [info     ] DiscreteSAC_20240417103552: epoch=5 step=50 epoch=5 metrics={'time_sample_batch': 0.005483102798461914, 'time_algorithm_update': 0.21924409866333008, 'temp_loss': 0.027145307324826718, 'temp': 0.9865753889083863, 'critic_loss': 0.10482995510101319, 'actor_loss': -2.5906097412109377, 'time_step': 0.22472720146179198} step=50\n",
      "2024-04-17 10:36:03 [info     ] Model parameters are saved to d3rlpy_logs\\DiscreteSAC_20240417103552\\model_50.pt\n"
     ]
    },
    {
     "data": {
      "application/vnd.jupyter.widget-view+json": {
       "model_id": "49a0adc4f5fd4714b1f3b080f9a192bd",
       "version_major": 2,
       "version_minor": 0
      },
      "text/plain": [
       "Epoch 6/10:   0%|          | 0/10 [00:00<?, ?it/s]"
      ]
     },
     "metadata": {},
     "output_type": "display_data"
    },
    {
     "name": "stdout",
     "output_type": "stream",
     "text": [
      "2024-04-17 10:36:06 [info     ] DiscreteSAC_20240417103552: epoch=6 step=60 epoch=6 metrics={'time_sample_batch': 0.005417561531066895, 'time_algorithm_update': 0.2184840440750122, 'temp_loss': 0.027153557166457176, 'temp': 0.9835956156253814, 'critic_loss': 0.0965878002345562, 'actor_loss': -2.6712588548660277, 'time_step': 0.22400846481323242} step=60\n",
      "2024-04-17 10:36:06 [info     ] Model parameters are saved to d3rlpy_logs\\DiscreteSAC_20240417103552\\model_60.pt\n"
     ]
    },
    {
     "data": {
      "application/vnd.jupyter.widget-view+json": {
       "model_id": "caa8120bfa3b40e496efbe4f79408006",
       "version_major": 2,
       "version_minor": 0
      },
      "text/plain": [
       "Epoch 7/10:   0%|          | 0/10 [00:00<?, ?it/s]"
      ]
     },
     "metadata": {},
     "output_type": "display_data"
    },
    {
     "name": "stdout",
     "output_type": "stream",
     "text": [
      "2024-04-17 10:36:08 [info     ] DiscreteSAC_20240417103552: epoch=7 step=70 epoch=7 metrics={'time_sample_batch': 0.005579376220703125, 'time_algorithm_update': 0.21578581333160402, 'temp_loss': 0.027105446718633176, 'temp': 0.9806183457374573, 'critic_loss': 0.08860368430614471, 'actor_loss': -2.661804175376892, 'time_step': 0.221567964553833} step=70\n",
      "2024-04-17 10:36:08 [info     ] Model parameters are saved to d3rlpy_logs\\DiscreteSAC_20240417103552\\model_70.pt\n"
     ]
    },
    {
     "data": {
      "application/vnd.jupyter.widget-view+json": {
       "model_id": "e988276791874953a5a1f48a3de8cc63",
       "version_major": 2,
       "version_minor": 0
      },
      "text/plain": [
       "Epoch 8/10:   0%|          | 0/10 [00:00<?, ?it/s]"
      ]
     },
     "metadata": {},
     "output_type": "display_data"
    },
    {
     "name": "stdout",
     "output_type": "stream",
     "text": [
      "2024-04-17 10:36:10 [info     ] DiscreteSAC_20240417103552: epoch=8 step=80 epoch=8 metrics={'time_sample_batch': 0.005712532997131347, 'time_algorithm_update': 0.22046616077423095, 'temp_loss': 0.027035234868526457, 'temp': 0.9776546955108643, 'critic_loss': 0.09152048900723457, 'actor_loss': -2.6698641777038574, 'time_step': 0.226279616355896} step=80\n",
      "2024-04-17 10:36:10 [info     ] Model parameters are saved to d3rlpy_logs\\DiscreteSAC_20240417103552\\model_80.pt\n"
     ]
    },
    {
     "data": {
      "application/vnd.jupyter.widget-view+json": {
       "model_id": "d2d21e2165b7480c92479a4221a13695",
       "version_major": 2,
       "version_minor": 0
      },
      "text/plain": [
       "Epoch 9/10:   0%|          | 0/10 [00:00<?, ?it/s]"
      ]
     },
     "metadata": {},
     "output_type": "display_data"
    },
    {
     "name": "stdout",
     "output_type": "stream",
     "text": [
      "2024-04-17 10:36:13 [info     ] DiscreteSAC_20240417103552: epoch=9 step=90 epoch=9 metrics={'time_sample_batch': 0.0054579973220825195, 'time_algorithm_update': 0.21479215621948242, 'temp_loss': 0.026978372037410735, 'temp': 0.9747081458568573, 'critic_loss': 0.08921901136636734, 'actor_loss': -2.6585797548294066, 'time_step': 0.22035863399505615} step=90\n",
      "2024-04-17 10:36:13 [info     ] Model parameters are saved to d3rlpy_logs\\DiscreteSAC_20240417103552\\model_90.pt\n"
     ]
    },
    {
     "data": {
      "application/vnd.jupyter.widget-view+json": {
       "model_id": "eafed5c2b0f046d9bfdf1db5a8bc695c",
       "version_major": 2,
       "version_minor": 0
      },
      "text/plain": [
       "Epoch 10/10:   0%|          | 0/10 [00:00<?, ?it/s]"
      ]
     },
     "metadata": {},
     "output_type": "display_data"
    },
    {
     "name": "stdout",
     "output_type": "stream",
     "text": [
      "2024-04-17 10:36:15 [info     ] DiscreteSAC_20240417103552: epoch=10 step=100 epoch=10 metrics={'time_sample_batch': 0.00541996955871582, 'time_algorithm_update': 0.21679580211639404, 'temp_loss': 0.026935360953211786, 'temp': 0.9717780411243438, 'critic_loss': 0.08520633615553379, 'actor_loss': -2.6527692317962646, 'time_step': 0.22231705188751222} step=100\n",
      "2024-04-17 10:36:15 [info     ] Model parameters are saved to d3rlpy_logs\\DiscreteSAC_20240417103552\\model_100.pt\n",
      "New model action:  [0]\n",
      "New model action value:  [1.223011]\n",
      "Passing:  0 1.223011\n",
      "New model action:  [0]\n",
      "New model action value:  [1.2373517]\n",
      "Passing:  0 1.2373517\n",
      "New model action:  [0]\n",
      "New model action value:  [1.2234195]\n",
      "Passing:  0 1.2234195\n",
      "New model action:  [0]\n",
      "New model action value:  [1.2317218]\n",
      "Passing:  0 1.2317218\n",
      "New model action:  [0]\n",
      "New model action value:  [1.2394753]\n",
      "Passing:  0 1.2394753\n",
      "New model action:  [0]\n",
      "New model action value:  [1.2306445]\n",
      "Passing:  0 1.2306445\n",
      "New model action:  [0]\n",
      "New model action value:  [1.2294383]\n",
      "Passing:  0 1.2294383\n",
      "New model action:  [0]\n",
      "New model action value:  [1.2399764]\n",
      "Passing:  0 1.2399764\n",
      "New model action:  [0]\n",
      "New model action value:  [1.2282662]\n",
      "Passing:  0 1.2282662\n",
      "----------------------------------------------------------------------------------------------------\n",
      "Cluster 8 has 674 trajectories out of 8428\n",
      "----------------------------------------------------------------------------------------------------\n",
      "2024-04-17 10:36:15 [debug    ] RandomIterator is selected.\n",
      "2024-04-17 10:36:15 [info     ] Directory is created at d3rlpy_logs\\DiscreteSAC_20240417103615\n",
      "2024-04-17 10:36:15 [debug    ] Fitting scaler...              scaler=pixel\n",
      "2024-04-17 10:36:15 [debug    ] Building models...\n",
      "2024-04-17 10:36:15 [debug    ] Models have been built.\n",
      "2024-04-17 10:36:15 [info     ] Parameters are saved to d3rlpy_logs\\DiscreteSAC_20240417103615\\params.json params={'action_scaler': None, 'actor_encoder_factory': {'type': 'custom', 'params': {'feature_size': 128}}, 'actor_learning_rate': 0.0003, 'actor_optim_factory': {'optim_cls': 'Adam', 'betas': (0.9, 0.999), 'eps': 0.0001, 'weight_decay': 0, 'amsgrad': False}, 'batch_size': 256, 'critic_encoder_factory': {'type': 'custom', 'params': {'feature_size': 128}}, 'critic_learning_rate': 0.0003, 'critic_optim_factory': {'optim_cls': 'Adam', 'betas': (0.9, 0.999), 'eps': 0.0001, 'weight_decay': 0, 'amsgrad': False}, 'gamma': 0.99, 'generated_maxlen': 100000, 'initial_temperature': 1.0, 'n_critics': 2, 'n_frames': 1, 'n_steps': 1, 'q_func_factory': {'type': 'mean', 'params': {'share_encoder': False}}, 'real_ratio': 1.0, 'reward_scaler': None, 'scaler': {'type': 'pixel', 'params': {}}, 'target_update_interval': 8000, 'temp_learning_rate': 0.0003, 'temp_optim_factory': {'optim_cls': 'Adam', 'betas': (0.9, 0.999), 'eps': 0.0001, 'weight_decay': 0, 'amsgrad': False}, 'use_gpu': None, 'algorithm': 'DiscreteSAC', 'observation_shape': (4, 84, 84), 'action_size': 4}\n"
     ]
    },
    {
     "data": {
      "application/vnd.jupyter.widget-view+json": {
       "model_id": "c9e80b89a6a149d0a5ba0793c09542a4",
       "version_major": 2,
       "version_minor": 0
      },
      "text/plain": [
       "Epoch 1/10:   0%|          | 0/10 [00:00<?, ?it/s]"
      ]
     },
     "metadata": {},
     "output_type": "display_data"
    },
    {
     "name": "stdout",
     "output_type": "stream",
     "text": [
      "2024-04-17 10:36:17 [info     ] DiscreteSAC_20240417103615: epoch=1 step=10 epoch=1 metrics={'time_sample_batch': 0.0053696870803833004, 'time_algorithm_update': 0.22503235340118408, 'temp_loss': 0.026534164883196355, 'temp': 0.998357218503952, 'critic_loss': 1.351005631685257, 'actor_loss': -1.578602933883667, 'time_step': 0.23050324916839598} step=10\n",
      "2024-04-17 10:36:17 [info     ] Model parameters are saved to d3rlpy_logs\\DiscreteSAC_20240417103615\\model_10.pt\n"
     ]
    },
    {
     "data": {
      "application/vnd.jupyter.widget-view+json": {
       "model_id": "2c7e13b1369f418a9b65e7346c712c5a",
       "version_major": 2,
       "version_minor": 0
      },
      "text/plain": [
       "Epoch 2/10:   0%|          | 0/10 [00:00<?, ?it/s]"
      ]
     },
     "metadata": {},
     "output_type": "display_data"
    },
    {
     "name": "stdout",
     "output_type": "stream",
     "text": [
      "2024-04-17 10:36:20 [info     ] DiscreteSAC_20240417103615: epoch=2 step=20 epoch=2 metrics={'time_sample_batch': 0.005610537528991699, 'time_algorithm_update': 0.21617684364318848, 'temp_loss': 0.010742139807553031, 'temp': 0.9955147981643677, 'critic_loss': 0.27956198453903197, 'actor_loss': -2.6574615716934202, 'time_step': 0.22178738117218016} step=20\n",
      "2024-04-17 10:36:20 [info     ] Model parameters are saved to d3rlpy_logs\\DiscreteSAC_20240417103615\\model_20.pt\n"
     ]
    },
    {
     "data": {
      "application/vnd.jupyter.widget-view+json": {
       "model_id": "f4ff3ec61c534398bbf5431342f7156f",
       "version_major": 2,
       "version_minor": 0
      },
      "text/plain": [
       "Epoch 3/10:   0%|          | 0/10 [00:00<?, ?it/s]"
      ]
     },
     "metadata": {},
     "output_type": "display_data"
    },
    {
     "name": "stdout",
     "output_type": "stream",
     "text": [
      "2024-04-17 10:36:22 [info     ] DiscreteSAC_20240417103615: epoch=3 step=30 epoch=3 metrics={'time_sample_batch': 0.005555105209350586, 'time_algorithm_update': 0.2176302671432495, 'temp_loss': 0.02237116638571024, 'temp': 0.9933618187904358, 'critic_loss': 0.15785522162914276, 'actor_loss': -2.506632375717163, 'time_step': 0.2231853723526001} step=30\n",
      "2024-04-17 10:36:22 [info     ] Model parameters are saved to d3rlpy_logs\\DiscreteSAC_20240417103615\\model_30.pt\n"
     ]
    },
    {
     "data": {
      "application/vnd.jupyter.widget-view+json": {
       "model_id": "491bb480a1ae4c389b49e7b3ee74569a",
       "version_major": 2,
       "version_minor": 0
      },
      "text/plain": [
       "Epoch 4/10:   0%|          | 0/10 [00:00<?, ?it/s]"
      ]
     },
     "metadata": {},
     "output_type": "display_data"
    },
    {
     "name": "stdout",
     "output_type": "stream",
     "text": [
      "2024-04-17 10:36:24 [info     ] DiscreteSAC_20240417103615: epoch=4 step=40 epoch=4 metrics={'time_sample_batch': 0.005465507507324219, 'time_algorithm_update': 0.21654815673828126, 'temp_loss': 0.02653557788580656, 'temp': 0.9906489789485932, 'critic_loss': 0.12998932898044585, 'actor_loss': -2.6576749324798583, 'time_step': 0.22221462726593016} step=40\n",
      "2024-04-17 10:36:24 [info     ] Model parameters are saved to d3rlpy_logs\\DiscreteSAC_20240417103615\\model_40.pt\n"
     ]
    },
    {
     "data": {
      "application/vnd.jupyter.widget-view+json": {
       "model_id": "71b8911baf2644809f080fc8b2314eaa",
       "version_major": 2,
       "version_minor": 0
      },
      "text/plain": [
       "Epoch 5/10:   0%|          | 0/10 [00:00<?, ?it/s]"
      ]
     },
     "metadata": {},
     "output_type": "display_data"
    },
    {
     "name": "stdout",
     "output_type": "stream",
     "text": [
      "2024-04-17 10:36:26 [info     ] DiscreteSAC_20240417103615: epoch=5 step=50 epoch=5 metrics={'time_sample_batch': 0.005652165412902832, 'time_algorithm_update': 0.22302446365356446, 'temp_loss': 0.026543841138482092, 'temp': 0.987554258108139, 'critic_loss': 0.10279327929019928, 'actor_loss': -2.674587941169739, 'time_step': 0.22887811660766602} step=50\n",
      "2024-04-17 10:36:26 [info     ] Model parameters are saved to d3rlpy_logs\\DiscreteSAC_20240417103615\\model_50.pt\n"
     ]
    },
    {
     "data": {
      "application/vnd.jupyter.widget-view+json": {
       "model_id": "015b2880482348fca782da5f791ad063",
       "version_major": 2,
       "version_minor": 0
      },
      "text/plain": [
       "Epoch 6/10:   0%|          | 0/10 [00:00<?, ?it/s]"
      ]
     },
     "metadata": {},
     "output_type": "display_data"
    },
    {
     "name": "stdout",
     "output_type": "stream",
     "text": [
      "2024-04-17 10:36:29 [info     ] DiscreteSAC_20240417103615: epoch=6 step=60 epoch=6 metrics={'time_sample_batch': 0.005455207824707031, 'time_algorithm_update': 0.21966044902801513, 'temp_loss': 0.026720204576849937, 'temp': 0.9843824565410614, 'critic_loss': 0.09333842620253563, 'actor_loss': -2.6393154144287108, 'time_step': 0.2253251552581787} step=60\n",
      "2024-04-17 10:36:29 [info     ] Model parameters are saved to d3rlpy_logs\\DiscreteSAC_20240417103615\\model_60.pt\n"
     ]
    },
    {
     "data": {
      "application/vnd.jupyter.widget-view+json": {
       "model_id": "8950320bf1f14daead7dc5cb310cda89",
       "version_major": 2,
       "version_minor": 0
      },
      "text/plain": [
       "Epoch 7/10:   0%|          | 0/10 [00:00<?, ?it/s]"
      ]
     },
     "metadata": {},
     "output_type": "display_data"
    },
    {
     "name": "stdout",
     "output_type": "stream",
     "text": [
      "2024-04-17 10:36:31 [info     ] DiscreteSAC_20240417103615: epoch=7 step=70 epoch=7 metrics={'time_sample_batch': 0.00550389289855957, 'time_algorithm_update': 0.2196878671646118, 'temp_loss': 0.026802060939371587, 'temp': 0.9812123775482178, 'critic_loss': 0.09480977952480316, 'actor_loss': -2.6696860790252686, 'time_step': 0.22529194355010987} step=70\n",
      "2024-04-17 10:36:31 [info     ] Model parameters are saved to d3rlpy_logs\\DiscreteSAC_20240417103615\\model_70.pt\n"
     ]
    },
    {
     "data": {
      "application/vnd.jupyter.widget-view+json": {
       "model_id": "ea8462fde53049c087a58b8486a8cda1",
       "version_major": 2,
       "version_minor": 0
      },
      "text/plain": [
       "Epoch 8/10:   0%|          | 0/10 [00:00<?, ?it/s]"
      ]
     },
     "metadata": {},
     "output_type": "display_data"
    },
    {
     "name": "stdout",
     "output_type": "stream",
     "text": [
      "2024-04-17 10:36:33 [info     ] DiscreteSAC_20240417103615: epoch=8 step=80 epoch=8 metrics={'time_sample_batch': 0.005706405639648438, 'time_algorithm_update': 0.22693867683410646, 'temp_loss': 0.026843236573040486, 'temp': 0.9780676186084747, 'critic_loss': 0.09231442585587502, 'actor_loss': -2.651401495933533, 'time_step': 0.23274669647216797} step=80\n",
      "2024-04-17 10:36:33 [info     ] Model parameters are saved to d3rlpy_logs\\DiscreteSAC_20240417103615\\model_80.pt\n"
     ]
    },
    {
     "data": {
      "application/vnd.jupyter.widget-view+json": {
       "model_id": "d829396710864dadad3713ca3a1fb75f",
       "version_major": 2,
       "version_minor": 0
      },
      "text/plain": [
       "Epoch 9/10:   0%|          | 0/10 [00:00<?, ?it/s]"
      ]
     },
     "metadata": {},
     "output_type": "display_data"
    },
    {
     "name": "stdout",
     "output_type": "stream",
     "text": [
      "2024-04-17 10:36:36 [info     ] DiscreteSAC_20240417103615: epoch=9 step=90 epoch=9 metrics={'time_sample_batch': 0.005429911613464356, 'time_algorithm_update': 0.2210817813873291, 'temp_loss': 0.026896730437874793, 'temp': 0.9749526262283326, 'critic_loss': 0.0971265897154808, 'actor_loss': -2.6497467517852784, 'time_step': 0.2266097068786621} step=90\n",
      "2024-04-17 10:36:36 [info     ] Model parameters are saved to d3rlpy_logs\\DiscreteSAC_20240417103615\\model_90.pt\n"
     ]
    },
    {
     "data": {
      "application/vnd.jupyter.widget-view+json": {
       "model_id": "f887d4943e364961b05d02ea4a185d00",
       "version_major": 2,
       "version_minor": 0
      },
      "text/plain": [
       "Epoch 10/10:   0%|          | 0/10 [00:00<?, ?it/s]"
      ]
     },
     "metadata": {},
     "output_type": "display_data"
    },
    {
     "name": "stdout",
     "output_type": "stream",
     "text": [
      "2024-04-17 10:36:38 [info     ] DiscreteSAC_20240417103615: epoch=10 step=100 epoch=10 metrics={'time_sample_batch': 0.005430388450622559, 'time_algorithm_update': 0.2193457841873169, 'temp_loss': 0.026891469955444336, 'temp': 0.9718657016754151, 'critic_loss': 0.08868965283036231, 'actor_loss': -2.662273621559143, 'time_step': 0.22487752437591552} step=100\n",
      "2024-04-17 10:36:38 [info     ] Model parameters are saved to d3rlpy_logs\\DiscreteSAC_20240417103615\\model_100.pt\n",
      "New model action:  [0]\n",
      "New model action value:  [1.2323655]\n",
      "Passing:  0 1.2323655\n",
      "New model action:  [0]\n",
      "New model action value:  [1.2480128]\n",
      "Passing:  0 1.2480128\n",
      "New model action:  [0]\n",
      "New model action value:  [1.2323103]\n",
      "Passing:  0 1.2323103\n",
      "New model action:  [0]\n",
      "New model action value:  [1.2402169]\n",
      "Passing:  0 1.2402169\n",
      "New model action:  [0]\n",
      "New model action value:  [1.251015]\n",
      "Passing:  0 1.251015\n",
      "New model action:  [0]\n",
      "New model action value:  [1.2406905]\n",
      "Passing:  0 1.2406905\n",
      "New model action:  [0]\n",
      "New model action value:  [1.2379472]\n",
      "Passing:  0 1.2379472\n",
      "New model action:  [0]\n",
      "New model action value:  [1.2475965]\n",
      "Passing:  0 1.2475965\n",
      "New model action:  [0]\n",
      "New model action value:  [1.2343483]\n",
      "Passing:  0 1.2343483\n"
     ]
    }
   ],
   "source": [
    "models_sq, result_data_combinations_sq = fit_per_cluster(\n",
    "        model= sac_sq, \n",
    "        model_class = d3rlpy.algos.DiscreteSAC,\n",
    "        model_params=model_params_sq,\n",
    "        data_embedding=trajectory_embedding_seaquest,\n",
    "        list_episodes=list_episodes_sq,\n",
    "        clusters=clusters_seaquest,\n",
    "        trajectory_embedding=trajectory_embedding_seaquest,\n",
    "        test_observations=test_observations)"
   ]
  },
  {
   "cell_type": "code",
   "execution_count": 27,
   "metadata": {},
   "outputs": [],
   "source": [
    "def trajectory_attributions(test_observations, models, traj_embeddings, clusters):\n",
    "    attributions = []\n",
    "    data_embedding = get_data_embedding(traj_embeddings)\n",
    "    # First model is trained on full dataset\n",
    "    # Second model is trained on cluster 1\n",
    "    # Third model is trained on cluster 2 ...\n",
    "    original_model = models[0][0]\n",
    "    original_data_embedding = models[0][1]\n",
    "    for i in range (len(test_observations)):\n",
    "        print('#' * 100, f'Observation {i + 1}', '#' * 100)\n",
    "        print\n",
    "        t = test_observations[i]\n",
    "        print(t.shape)\n",
    "        plt.imshow(t[0][0], cmap='gray')\n",
    "        plt.savefig(f'test_observation_{i + 1}.png')\n",
    "        original_action = original_model.predict(t)\n",
    "        sub_dist = []\n",
    "        for k in models:\n",
    "            #v[0] # model\n",
    "            #v[1] # data_embedding\n",
    "            model = models[k][0]\n",
    "            data_embedding = models[k][1]\n",
    "\n",
    "            action = model.predict(t)\n",
    "            print(f\"{k}-th model predicted action:\", action)\n",
    "            print(\"Original model's action\", original_action)\n",
    "\n",
    "            if action != original_action:\n",
    "                w_d = wasserstein_distance(original_data_embedding, data_embedding)\n",
    "                print(\"Wasserstein distance: \", w_d)\n",
    "            else:\n",
    "                w_d = 1e9\n",
    "            \n",
    "            sub_dist.append(w_d)\n",
    "        \n",
    "        print(\"DEBUG: len(sub_dist)\", len(sub_dist))\n",
    "        print(\"DEBUG: sub_dist\", sub_dist)\n",
    "        print(\"DEBUG: np.argsort(sub_dist)\", np.argsort(sub_dist))\n",
    "        responsible_data_combination = np.argsort(sub_dist)[0] - 1\n",
    "        print(\"Responsible data combination: \", responsible_data_combination)\n",
    "\n",
    "        if sub_dist[responsible_data_combination] == 1e9 or sub_dist[responsible_data_combination] == 0:\n",
    "            print(\"No attribution found\")\n",
    "            continue\n",
    "    \n",
    "        attributions.append({\n",
    "                    'models': [v[0] for v in models.values()],\n",
    "                    'orig_act': original_action,\n",
    "                    'new_act': action,\n",
    "                    'attributed_trajs': clusters[responsible_data_combination],\n",
    "                    'responsible_cluster': responsible_data_combination\n",
    "                })\n",
    "    \n",
    "    return attributions"
   ]
  },
  {
   "cell_type": "code",
   "execution_count": 28,
   "metadata": {},
   "outputs": [
    {
     "name": "stdout",
     "output_type": "stream",
     "text": [
      "#################################################################################################### Observation 1 ####################################################################################################\n",
      "(1, 4, 84, 84)\n",
      "0-th model predicted action: [0]\n",
      "Original model's action [0]\n",
      "1-th model predicted action: [0]\n",
      "Original model's action [0]\n",
      "2-th model predicted action: [0]\n",
      "Original model's action [0]\n",
      "3-th model predicted action: [0]\n",
      "Original model's action [0]\n",
      "4-th model predicted action: [0]\n",
      "Original model's action [0]\n",
      "5-th model predicted action: [0]\n",
      "Original model's action [0]\n",
      "6-th model predicted action: [0]\n",
      "Original model's action [0]\n",
      "7-th model predicted action: [0]\n",
      "Original model's action [0]\n",
      "8-th model predicted action: [0]\n",
      "Original model's action [0]\n",
      "DEBUG: len(sub_dist) 9\n",
      "DEBUG: sub_dist [1000000000.0, 1000000000.0, 1000000000.0, 1000000000.0, 1000000000.0, 1000000000.0, 1000000000.0, 1000000000.0, 1000000000.0]\n",
      "DEBUG: np.argsort(sub_dist) [0 1 2 3 4 5 6 7 8]\n",
      "Responsible data combination:  -1\n",
      "No attribution found\n",
      "#################################################################################################### Observation 2 ####################################################################################################\n",
      "(1, 4, 84, 84)\n",
      "0-th model predicted action: [0]\n",
      "Original model's action [0]\n",
      "1-th model predicted action: [0]\n",
      "Original model's action [0]\n",
      "2-th model predicted action: [0]\n",
      "Original model's action [0]\n",
      "3-th model predicted action: [0]\n",
      "Original model's action [0]\n",
      "4-th model predicted action: [0]\n",
      "Original model's action [0]\n",
      "5-th model predicted action: [0]\n",
      "Original model's action [0]\n",
      "6-th model predicted action: [0]\n",
      "Original model's action [0]\n",
      "7-th model predicted action: [0]\n",
      "Original model's action [0]\n",
      "8-th model predicted action: [0]\n",
      "Original model's action [0]\n",
      "DEBUG: len(sub_dist) 9\n",
      "DEBUG: sub_dist [1000000000.0, 1000000000.0, 1000000000.0, 1000000000.0, 1000000000.0, 1000000000.0, 1000000000.0, 1000000000.0, 1000000000.0]\n",
      "DEBUG: np.argsort(sub_dist) [0 1 2 3 4 5 6 7 8]\n",
      "Responsible data combination:  -1\n",
      "No attribution found\n",
      "#################################################################################################### Observation 3 ####################################################################################################\n",
      "(1, 4, 84, 84)\n",
      "0-th model predicted action: [0]\n",
      "Original model's action [0]\n",
      "1-th model predicted action: [0]\n",
      "Original model's action [0]\n",
      "2-th model predicted action: [0]\n",
      "Original model's action [0]\n",
      "3-th model predicted action: [0]\n",
      "Original model's action [0]\n",
      "4-th model predicted action: [0]\n",
      "Original model's action [0]\n",
      "5-th model predicted action: [0]\n",
      "Original model's action [0]\n",
      "6-th model predicted action: [0]\n",
      "Original model's action [0]\n",
      "7-th model predicted action: [0]\n",
      "Original model's action [0]\n",
      "8-th model predicted action: [0]\n",
      "Original model's action [0]\n",
      "DEBUG: len(sub_dist) 9\n",
      "DEBUG: sub_dist [1000000000.0, 1000000000.0, 1000000000.0, 1000000000.0, 1000000000.0, 1000000000.0, 1000000000.0, 1000000000.0, 1000000000.0]\n",
      "DEBUG: np.argsort(sub_dist) [0 1 2 3 4 5 6 7 8]\n",
      "Responsible data combination:  -1\n",
      "No attribution found\n",
      "#################################################################################################### Observation 4 ####################################################################################################\n",
      "(1, 4, 84, 84)\n",
      "0-th model predicted action: [0]\n",
      "Original model's action [0]\n",
      "1-th model predicted action: [0]\n",
      "Original model's action [0]\n",
      "2-th model predicted action: [0]\n",
      "Original model's action [0]\n",
      "3-th model predicted action: [0]\n",
      "Original model's action [0]\n",
      "4-th model predicted action: [0]\n",
      "Original model's action [0]\n",
      "5-th model predicted action: [0]\n",
      "Original model's action [0]\n",
      "6-th model predicted action: [0]\n",
      "Original model's action [0]\n",
      "7-th model predicted action: [0]\n",
      "Original model's action [0]\n",
      "8-th model predicted action: [0]\n",
      "Original model's action [0]\n",
      "DEBUG: len(sub_dist) 9\n",
      "DEBUG: sub_dist [1000000000.0, 1000000000.0, 1000000000.0, 1000000000.0, 1000000000.0, 1000000000.0, 1000000000.0, 1000000000.0, 1000000000.0]\n",
      "DEBUG: np.argsort(sub_dist) [0 1 2 3 4 5 6 7 8]\n",
      "Responsible data combination:  -1\n",
      "No attribution found\n",
      "#################################################################################################### Observation 5 ####################################################################################################\n",
      "(1, 4, 84, 84)\n",
      "0-th model predicted action: [0]\n",
      "Original model's action [0]\n",
      "1-th model predicted action: [0]\n",
      "Original model's action [0]\n",
      "2-th model predicted action: [0]\n",
      "Original model's action [0]\n",
      "3-th model predicted action: [0]\n",
      "Original model's action [0]\n",
      "4-th model predicted action: [0]\n",
      "Original model's action [0]\n",
      "5-th model predicted action: [0]\n",
      "Original model's action [0]\n",
      "6-th model predicted action: [0]\n",
      "Original model's action [0]\n",
      "7-th model predicted action: [0]\n",
      "Original model's action [0]\n",
      "8-th model predicted action: [0]\n",
      "Original model's action [0]\n",
      "DEBUG: len(sub_dist) 9\n",
      "DEBUG: sub_dist [1000000000.0, 1000000000.0, 1000000000.0, 1000000000.0, 1000000000.0, 1000000000.0, 1000000000.0, 1000000000.0, 1000000000.0]\n",
      "DEBUG: np.argsort(sub_dist) [0 1 2 3 4 5 6 7 8]\n",
      "Responsible data combination:  -1\n",
      "No attribution found\n",
      "#################################################################################################### Observation 6 ####################################################################################################\n",
      "(1, 4, 84, 84)\n",
      "0-th model predicted action: [0]\n",
      "Original model's action [0]\n",
      "1-th model predicted action: [0]\n",
      "Original model's action [0]\n",
      "2-th model predicted action: [0]\n",
      "Original model's action [0]\n",
      "3-th model predicted action: [0]\n",
      "Original model's action [0]\n",
      "4-th model predicted action: [0]\n",
      "Original model's action [0]\n",
      "5-th model predicted action: [0]\n",
      "Original model's action [0]\n",
      "6-th model predicted action: [0]\n",
      "Original model's action [0]\n",
      "7-th model predicted action: [0]\n",
      "Original model's action [0]\n",
      "8-th model predicted action: [0]\n",
      "Original model's action [0]\n",
      "DEBUG: len(sub_dist) 9\n",
      "DEBUG: sub_dist [1000000000.0, 1000000000.0, 1000000000.0, 1000000000.0, 1000000000.0, 1000000000.0, 1000000000.0, 1000000000.0, 1000000000.0]\n",
      "DEBUG: np.argsort(sub_dist) [0 1 2 3 4 5 6 7 8]\n",
      "Responsible data combination:  -1\n",
      "No attribution found\n",
      "#################################################################################################### Observation 7 ####################################################################################################\n",
      "(1, 4, 84, 84)\n",
      "0-th model predicted action: [0]\n",
      "Original model's action [0]\n",
      "1-th model predicted action: [0]\n",
      "Original model's action [0]\n",
      "2-th model predicted action: [0]\n",
      "Original model's action [0]\n",
      "3-th model predicted action: [0]\n",
      "Original model's action [0]\n",
      "4-th model predicted action: [0]\n",
      "Original model's action [0]\n",
      "5-th model predicted action: [0]\n",
      "Original model's action [0]\n",
      "6-th model predicted action: [0]\n",
      "Original model's action [0]\n",
      "7-th model predicted action: [0]\n",
      "Original model's action [0]\n",
      "8-th model predicted action: [0]\n",
      "Original model's action [0]\n",
      "DEBUG: len(sub_dist) 9\n",
      "DEBUG: sub_dist [1000000000.0, 1000000000.0, 1000000000.0, 1000000000.0, 1000000000.0, 1000000000.0, 1000000000.0, 1000000000.0, 1000000000.0]\n",
      "DEBUG: np.argsort(sub_dist) [0 1 2 3 4 5 6 7 8]\n",
      "Responsible data combination:  -1\n",
      "No attribution found\n",
      "#################################################################################################### Observation 8 ####################################################################################################\n",
      "(1, 4, 84, 84)\n",
      "0-th model predicted action: [0]\n",
      "Original model's action [0]\n",
      "1-th model predicted action: [0]\n",
      "Original model's action [0]\n",
      "2-th model predicted action: [0]\n",
      "Original model's action [0]\n",
      "3-th model predicted action: [0]\n",
      "Original model's action [0]\n",
      "4-th model predicted action: [0]\n",
      "Original model's action [0]\n",
      "5-th model predicted action: [0]\n",
      "Original model's action [0]\n",
      "6-th model predicted action: [0]\n",
      "Original model's action [0]\n",
      "7-th model predicted action: [0]\n",
      "Original model's action [0]\n",
      "8-th model predicted action: [0]\n",
      "Original model's action [0]\n",
      "DEBUG: len(sub_dist) 9\n",
      "DEBUG: sub_dist [1000000000.0, 1000000000.0, 1000000000.0, 1000000000.0, 1000000000.0, 1000000000.0, 1000000000.0, 1000000000.0, 1000000000.0]\n",
      "DEBUG: np.argsort(sub_dist) [0 1 2 3 4 5 6 7 8]\n",
      "Responsible data combination:  -1\n",
      "No attribution found\n",
      "#################################################################################################### Observation 9 ####################################################################################################\n",
      "(1, 4, 84, 84)\n",
      "0-th model predicted action: [0]\n",
      "Original model's action [0]\n",
      "1-th model predicted action: [0]\n",
      "Original model's action [0]\n",
      "2-th model predicted action: [0]\n",
      "Original model's action [0]\n",
      "3-th model predicted action: [0]\n",
      "Original model's action [0]\n",
      "4-th model predicted action: [0]\n",
      "Original model's action [0]\n",
      "5-th model predicted action: [0]\n",
      "Original model's action [0]\n",
      "6-th model predicted action: [0]\n",
      "Original model's action [0]\n",
      "7-th model predicted action: [0]\n",
      "Original model's action [0]\n",
      "8-th model predicted action: [0]\n",
      "Original model's action [0]\n",
      "DEBUG: len(sub_dist) 9\n",
      "DEBUG: sub_dist [1000000000.0, 1000000000.0, 1000000000.0, 1000000000.0, 1000000000.0, 1000000000.0, 1000000000.0, 1000000000.0, 1000000000.0]\n",
      "DEBUG: np.argsort(sub_dist) [0 1 2 3 4 5 6 7 8]\n",
      "Responsible data combination:  -1\n",
      "No attribution found\n"
     ]
    },
    {
     "data": {
      "image/png": "[encoded data removed]",
      "text/plain": [
       "<Figure size 432x288 with 1 Axes>"
      ]
     },
     "metadata": {
      "needs_background": "light"
     },
     "output_type": "display_data"
    }
   ],
   "source": [
    "attributions_sq = trajectory_attributions(test_observations, models_sq, trajectory_embedding_seaquest, clusters_seaquest)"
   ]
  },
  {
   "cell_type": "code",
   "execution_count": 29,
   "metadata": {},
   "outputs": [
    {
     "data": {
      "text/plain": [
       "[]"
      ]
     },
     "execution_count": 29,
     "metadata": {},
     "output_type": "execute_result"
    }
   ],
   "source": [
    "attributions_sq"
   ]
  },
  {
   "cell_type": "code",
   "execution_count": 30,
   "metadata": {},
   "outputs": [
    {
     "name": "stdout",
     "output_type": "stream",
     "text": [
      "Data combination 0 has 9 actions\n",
      "Data combination 1 has 9 actions\n",
      "Data combination 2 has 9 actions\n",
      "Data combination 3 has 9 actions\n",
      "Data combination 4 has 9 actions\n",
      "Data combination 5 has 9 actions\n",
      "Data combination 6 has 9 actions\n",
      "Data combination 7 has 9 actions\n",
      "Data combination 8 has 9 actions\n"
     ]
    }
   ],
   "source": [
    "for data_combination_id in result_data_combinations_sq:\n",
    "    print(f\"Data combination {data_combination_id} has {len(result_data_combinations_sq[data_combination_id][0])} actions\")"
   ]
  },
  {
   "cell_type": "code",
   "execution_count": 31,
   "metadata": {},
   "outputs": [
    {
     "ename": "IndexError",
     "evalue": "list index out of range",
     "output_type": "error",
     "traceback": [
      "\u001b[1;31m---------------------------------------------------------------------------\u001b[0m",
      "\u001b[1;31mIndexError\u001b[0m                                Traceback (most recent call last)",
      "Input \u001b[1;32mIn [31]\u001b[0m, in \u001b[0;36m<cell line: 1>\u001b[1;34m()\u001b[0m\n\u001b[1;32m----> 1\u001b[0m trajectories \u001b[38;5;241m=\u001b[39m \u001b[43mattributions_sq\u001b[49m\u001b[43m[\u001b[49m\u001b[38;5;241;43m0\u001b[39;49m\u001b[43m]\u001b[49m[\u001b[38;5;124m'\u001b[39m\u001b[38;5;124mattributed_trajs\u001b[39m\u001b[38;5;124m'\u001b[39m]\n\u001b[0;32m      2\u001b[0m observation \u001b[38;5;241m=\u001b[39m test_observations[\u001b[38;5;241m0\u001b[39m]\n",
      "\u001b[1;31mIndexError\u001b[0m: list index out of range"
     ]
    }
   ],
   "source": [
    "trajectories = attributions_sq[0]['attributed_trajs']\n",
    "observation = test_observations[0]\n"
   ]
  },
  {
   "cell_type": "code",
   "execution_count": null,
   "metadata": {},
   "outputs": [
    {
     "name": "stdout",
     "output_type": "stream",
     "text": [
      "[0.         0.00000036 0.00000018 1.         0.00000235 0.01110129\n",
      " 0.00001413 0.00000417 0.00000054]\n"
     ]
    }
   ],
   "source": [
    "data_embedding_original = models_sq[0][1]\n",
    "data_distances = np.zeros(len(result_data_combinations_sq))\n",
    "for data_combination_id, (_, action_values_new, data_embedding_new) in result_data_combinations_sq.items(): \n",
    "    data_distances[data_combination_id] = wasserstein_distance(data_embedding_original, data_embedding_new)\n",
    "\n",
    "with np.printoptions(precision=8, suppress=True):\n",
    "    print((data_distances - data_distances.min()) / (data_distances.max() - data_distances.min()))"
   ]
  },
  {
   "cell_type": "code",
   "execution_count": null,
   "metadata": {},
   "outputs": [
    {
     "data": {
      "text/plain": [
       "[31,\n",
       " 151,\n",
       " 192,\n",
       " 202,\n",
       " 235,\n",
       " 241,\n",
       " 255,\n",
       " 257,\n",
       " 262,\n",
       " 263,\n",
       " 285,\n",
       " 316,\n",
       " 326,\n",
       " 327,\n",
       " 398,\n",
       " 461,\n",
       " 516,\n",
       " 551,\n",
       " 558,\n",
       " 559,\n",
       " 634,\n",
       " 671,\n",
       " 672,\n",
       " 675,\n",
       " 699,\n",
       " 700,\n",
       " 717,\n",
       " 751,\n",
       " 763,\n",
       " 764,\n",
       " 783,\n",
       " 795,\n",
       " 797,\n",
       " 800,\n",
       " 816,\n",
       " 859,\n",
       " 893,\n",
       " 894,\n",
       " 904,\n",
       " 934,\n",
       " 980,\n",
       " 981,\n",
       " 1034,\n",
       " 1056,\n",
       " 1063,\n",
       " 1106,\n",
       " 1154,\n",
       " 1155,\n",
       " 1156,\n",
       " 1175,\n",
       " 1204,\n",
       " 1207,\n",
       " 1220,\n",
       " 1243,\n",
       " 1288,\n",
       " 1326,\n",
       " 1333,\n",
       " 1376,\n",
       " 1506,\n",
       " 1566,\n",
       " 1567,\n",
       " 1568,\n",
       " 1582,\n",
       " 1583,\n",
       " 1589,\n",
       " 1640,\n",
       " 1675]"
      ]
     },
     "execution_count": 38,
     "metadata": {},
     "output_type": "execute_result"
    }
   ],
   "source": [
    "trajectories"
   ]
  },
  {
   "cell_type": "code",
   "execution_count": null,
   "metadata": {},
   "outputs": [
    {
     "name": "stdout",
     "output_type": "stream",
     "text": [
      "Trajectory Shape: torch.Size([30, 4, 84, 84])\n",
      "Trajectory Shape: torch.Size([30, 4, 84, 84])\n",
      "Trajectory Shape: torch.Size([30, 4, 84, 84])\n"
     ]
    },
    {
     "data": {
      "image/png": "[encoded data removed]",
      "text/plain": [
       "<Figure size 1500x1000 with 18 Axes>"
      ]
     },
     "metadata": {},
     "output_type": "display_data"
    }
   ],
   "source": [
    "plt.figure(figsize=(15, 10))\n",
    "\n",
    "for i, traj in enumerate([31, 151, 192]):\n",
    "    print(\"Trajectory Shape:\", final_obs_sq[traj].shape)\n",
    "    # We will plot only the first frame from each stack to avoid consecutive identical frames\n",
    "    # Assuming every 4th frame is the start of a new stack\n",
    "    for j in range(0, 30, 4):  # Skip every 4 frames to get to the start of the next stack\n",
    "        # Calculate the subplot index, but normalize j to reflect that we're skipping frames\n",
    "        subplot_index = i * (30 // 5) + (j // 5) + 1\n",
    "        plt.subplot(3, (30 // 5), subplot_index)  \n",
    "        \n",
    "        # Plot the first frame from the current stack\n",
    "        plt.imshow(final_obs_sq[traj][j][0], cmap='gray')\n",
    "\n",
    "        # Get tensor value as an integer and use it as a key to the action dictionary\n",
    "        corr_action = int(final_act_sq[traj][j].item())\n",
    "        # Print the action name on top of each sub-image\n",
    "        plt.title(action_dict[corr_action])\n",
    "        plt.axis('off')\n",
    "\n",
    "plt.tight_layout()\n",
    "plt.show()"
   ]
  }
 ],
 "metadata": {
  "kernelspec": {
   "display_name": "factAtari",
   "language": "python",
   "name": "factenv"
  },
  "language_info": {
   "codemirror_mode": {
    "name": "ipython",
    "version": 3
   },
   "file_extension": ".py",
   "mimetype": "text/x-python",
   "name": "python",
   "nbconvert_exporter": "python",
   "pygments_lexer": "ipython3",
   "version": "3.9.12"
  }
 },
 "nbformat": 4,
 "nbformat_minor": 2
}
